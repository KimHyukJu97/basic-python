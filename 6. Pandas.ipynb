{
 "cells": [
  {
   "cell_type": "markdown",
   "id": "0e7d0753",
   "metadata": {},
   "source": [
    "# Chapter 06 Pandas"
   ]
  },
  {
   "cell_type": "code",
   "execution_count": 1,
   "id": "3390747f",
   "metadata": {
    "ExecuteTime": {
     "end_time": "2022-03-09T05:46:04.034425Z",
     "start_time": "2022-03-09T05:46:03.705300Z"
    }
   },
   "outputs": [],
   "source": [
    "import numpy as np\n",
    "import pandas as pd # 가장 대중적인 Pandas 치환"
   ]
  },
  {
   "cell_type": "markdown",
   "id": "c5af15ef",
   "metadata": {},
   "source": [
    "## Series"
   ]
  },
  {
   "cell_type": "markdown",
   "id": "f4e002cf",
   "metadata": {},
   "source": [
    "data, index, name, dtype으로 구성된 1차원 자료 구조 (ndarray 객체에서 index와 name추가)"
   ]
  },
  {
   "cell_type": "markdown",
   "id": "2e595596",
   "metadata": {
    "ExecuteTime": {
     "end_time": "2022-03-07T10:42:43.309595Z",
     "start_time": "2022-03-07T10:42:43.295607Z"
    }
   },
   "source": [
    "### creation"
   ]
  },
  {
   "cell_type": "code",
   "execution_count": 2,
   "id": "0eeb5c2a",
   "metadata": {
    "ExecuteTime": {
     "end_time": "2022-03-09T05:46:04.049384Z",
     "start_time": "2022-03-09T05:46:04.035422Z"
    }
   },
   "outputs": [
    {
     "name": "stdout",
     "output_type": "stream",
     "text": [
      "0    1\n",
      "1    2\n",
      "2    3\n",
      "3    4\n",
      "4    5\n",
      "dtype: int64\n"
     ]
    }
   ],
   "source": [
    "data = [1, 2, 3, 4, 5]\n",
    "print(pd.Series(data)) # index의 default값은 0부터 1씩 증가"
   ]
  },
  {
   "cell_type": "code",
   "execution_count": 3,
   "id": "8c1d6e32",
   "metadata": {
    "ExecuteTime": {
     "end_time": "2022-03-09T05:46:04.064343Z",
     "start_time": "2022-03-09T05:46:04.050381Z"
    }
   },
   "outputs": [
    {
     "name": "stdout",
     "output_type": "stream",
     "text": [
      "0    1\n",
      "1    2\n",
      "2    3\n",
      "3    4\n",
      "4    5\n",
      "Name: Series, dtype: int64\n"
     ]
    }
   ],
   "source": [
    "print(pd.Series(data, name='Series')) # name 설정, default는 name 없음"
   ]
  },
  {
   "cell_type": "code",
   "execution_count": 4,
   "id": "5fea7bf6",
   "metadata": {
    "ExecuteTime": {
     "end_time": "2022-03-09T05:46:04.079303Z",
     "start_time": "2022-03-09T05:46:04.065342Z"
    }
   },
   "outputs": [
    {
     "name": "stdout",
     "output_type": "stream",
     "text": [
      "a    1\n",
      "b    2\n",
      "c    3\n",
      "d    4\n",
      "e    5\n",
      "dtype: int64\n"
     ]
    }
   ],
   "source": [
    "print(pd.Series(data, index=list('abcde'))) # index 설정 시 data 순서대로 할당"
   ]
  },
  {
   "cell_type": "code",
   "execution_count": 5,
   "id": "cd5078d8",
   "metadata": {
    "ExecuteTime": {
     "end_time": "2022-03-09T05:46:04.094264Z",
     "start_time": "2022-03-09T05:46:04.080302Z"
    }
   },
   "outputs": [
    {
     "name": "stdout",
     "output_type": "stream",
     "text": [
      "0    1.0\n",
      "1    2.0\n",
      "2    3.0\n",
      "3    4.0\n",
      "4    5.0\n",
      "dtype: float64\n"
     ]
    }
   ],
   "source": [
    "print(pd.Series(data, dtype=float)) # dtype 설정 시 data의 형태 변환"
   ]
  },
  {
   "cell_type": "code",
   "execution_count": 6,
   "id": "f70899a8",
   "metadata": {
    "ExecuteTime": {
     "end_time": "2022-03-09T05:46:04.109223Z",
     "start_time": "2022-03-09T05:46:04.095261Z"
    }
   },
   "outputs": [
    {
     "name": "stdout",
     "output_type": "stream",
     "text": [
      "a    10\n",
      "b    20\n",
      "c    30\n",
      "d    40\n",
      "dtype: int64\n"
     ]
    }
   ],
   "source": [
    "dict_data = {'a': 10, 'b': 20, 'c': 30, 'd': 40} # using dictionary for Series creation \n",
    "print(pd.Series(dict_data)) # key : index, value : data"
   ]
  },
  {
   "cell_type": "markdown",
   "id": "019d9869",
   "metadata": {
    "ExecuteTime": {
     "end_time": "2022-03-08T12:35:38.771565Z",
     "start_time": "2022-03-08T12:35:38.767575Z"
    }
   },
   "source": [
    "### component"
   ]
  },
  {
   "cell_type": "code",
   "execution_count": 7,
   "id": "1097dc37",
   "metadata": {
    "ExecuteTime": {
     "end_time": "2022-03-09T05:46:04.124183Z",
     "start_time": "2022-03-09T05:46:04.110221Z"
    }
   },
   "outputs": [
    {
     "name": "stdout",
     "output_type": "stream",
     "text": [
      "a    1\n",
      "b    2\n",
      "c    3\n",
      "d    4\n",
      "Name: Series, dtype: int64\n"
     ]
    }
   ],
   "source": [
    "sr = pd.Series([1, 2, 3, 4], index=list('abcd'), name='Series')\n",
    "print(sr)"
   ]
  },
  {
   "cell_type": "code",
   "execution_count": 8,
   "id": "644d1675",
   "metadata": {
    "ExecuteTime": {
     "end_time": "2022-03-09T05:46:04.139143Z",
     "start_time": "2022-03-09T05:46:04.126178Z"
    }
   },
   "outputs": [
    {
     "name": "stdout",
     "output_type": "stream",
     "text": [
      "[1 2 3 4]\n"
     ]
    }
   ],
   "source": [
    "print(sr.values)"
   ]
  },
  {
   "cell_type": "code",
   "execution_count": 9,
   "id": "a477a694",
   "metadata": {
    "ExecuteTime": {
     "end_time": "2022-03-09T05:46:04.154103Z",
     "start_time": "2022-03-09T05:46:04.140142Z"
    }
   },
   "outputs": [
    {
     "name": "stdout",
     "output_type": "stream",
     "text": [
      "Index(['a', 'b', 'c', 'd'], dtype='object')\n"
     ]
    }
   ],
   "source": [
    "print(sr.index)"
   ]
  },
  {
   "cell_type": "code",
   "execution_count": 10,
   "id": "60475172",
   "metadata": {
    "ExecuteTime": {
     "end_time": "2022-03-09T05:46:04.169064Z",
     "start_time": "2022-03-09T05:46:04.155100Z"
    }
   },
   "outputs": [
    {
     "name": "stdout",
     "output_type": "stream",
     "text": [
      "int64\n"
     ]
    }
   ],
   "source": [
    "print(sr.dtype)"
   ]
  },
  {
   "cell_type": "code",
   "execution_count": 11,
   "id": "1fff07ca",
   "metadata": {
    "ExecuteTime": {
     "end_time": "2022-03-09T05:46:04.184023Z",
     "start_time": "2022-03-09T05:46:04.170061Z"
    }
   },
   "outputs": [
    {
     "name": "stdout",
     "output_type": "stream",
     "text": [
      "Series\n"
     ]
    }
   ],
   "source": [
    "print(sr.name)"
   ]
  },
  {
   "cell_type": "code",
   "execution_count": 12,
   "id": "22453271",
   "metadata": {
    "ExecuteTime": {
     "end_time": "2022-03-09T05:46:04.198983Z",
     "start_time": "2022-03-09T05:46:04.185021Z"
    }
   },
   "outputs": [
    {
     "name": "stdout",
     "output_type": "stream",
     "text": [
      "e    1\n",
      "f    2\n",
      "g    3\n",
      "h    4\n",
      "Name: Series, dtype: int64\n"
     ]
    }
   ],
   "source": [
    "sr.index = list('efgh') # sr = sr.reindex(list('efgh'))\n",
    "print(sr)"
   ]
  },
  {
   "cell_type": "code",
   "execution_count": 13,
   "id": "8dc2c628",
   "metadata": {
    "ExecuteTime": {
     "end_time": "2022-03-09T05:46:04.213943Z",
     "start_time": "2022-03-09T05:46:04.199981Z"
    }
   },
   "outputs": [
    {
     "name": "stdout",
     "output_type": "stream",
     "text": [
      "e    1\n",
      "f    2\n",
      "g    3\n",
      "h    4\n",
      "Name: Series, dtype: int32\n"
     ]
    }
   ],
   "source": [
    "sr = sr.astype(int)\n",
    "print(sr)"
   ]
  },
  {
   "cell_type": "code",
   "execution_count": 14,
   "id": "31c6fd13",
   "metadata": {
    "ExecuteTime": {
     "end_time": "2022-03-09T05:46:04.228903Z",
     "start_time": "2022-03-09T05:46:04.214941Z"
    }
   },
   "outputs": [
    {
     "name": "stdout",
     "output_type": "stream",
     "text": [
      "e    1\n",
      "f    2\n",
      "g    3\n",
      "h    4\n",
      "Name: Series_2, dtype: int32\n"
     ]
    }
   ],
   "source": [
    "sr.name = 'Series_2'\n",
    "print(sr)"
   ]
  },
  {
   "cell_type": "code",
   "execution_count": 15,
   "id": "33123453",
   "metadata": {
    "ExecuteTime": {
     "end_time": "2022-03-09T05:46:04.243863Z",
     "start_time": "2022-03-09T05:46:04.229901Z"
    }
   },
   "outputs": [
    {
     "name": "stdout",
     "output_type": "stream",
     "text": [
      "alphabet\n",
      "e    1\n",
      "f    2\n",
      "g    3\n",
      "h    4\n",
      "Name: Series_2, dtype: int32\n"
     ]
    }
   ],
   "source": [
    "sr.index.name = 'alphabet'\n",
    "print(sr)"
   ]
  },
  {
   "cell_type": "markdown",
   "id": "37af9dfa",
   "metadata": {},
   "source": [
    "### indexing & slicing"
   ]
  },
  {
   "cell_type": "code",
   "execution_count": 16,
   "id": "b729b500",
   "metadata": {
    "ExecuteTime": {
     "end_time": "2022-03-09T05:46:04.258823Z",
     "start_time": "2022-03-09T05:46:04.244861Z"
    }
   },
   "outputs": [
    {
     "name": "stdout",
     "output_type": "stream",
     "text": [
      "a    1\n",
      "b    2\n",
      "c    3\n",
      "d    4\n",
      "dtype: int64\n"
     ]
    }
   ],
   "source": [
    "sr = pd.Series(range(1, 5), index=list('abcd'))\n",
    "print(sr)"
   ]
  },
  {
   "cell_type": "code",
   "execution_count": 17,
   "id": "c7e02f94",
   "metadata": {
    "ExecuteTime": {
     "end_time": "2022-03-09T05:46:04.273783Z",
     "start_time": "2022-03-09T05:46:04.259820Z"
    }
   },
   "outputs": [
    {
     "name": "stdout",
     "output_type": "stream",
     "text": [
      "2\n"
     ]
    }
   ],
   "source": [
    "print(sr[1])"
   ]
  },
  {
   "cell_type": "code",
   "execution_count": 18,
   "id": "f74c1a22",
   "metadata": {
    "ExecuteTime": {
     "end_time": "2022-03-09T05:46:04.288744Z",
     "start_time": "2022-03-09T05:46:04.274781Z"
    }
   },
   "outputs": [
    {
     "name": "stdout",
     "output_type": "stream",
     "text": [
      "b    2\n",
      "d    4\n",
      "dtype: int64\n"
     ]
    }
   ],
   "source": [
    "print(sr[[1, 3]])"
   ]
  },
  {
   "cell_type": "markdown",
   "id": "d658ef4b",
   "metadata": {},
   "source": [
    "- loc (location: series index의 이름으로 indexing)\n",
    "- iloc (index location: series index의 순서로 indexing)"
   ]
  },
  {
   "cell_type": "code",
   "execution_count": 19,
   "id": "55f23254",
   "metadata": {
    "ExecuteTime": {
     "end_time": "2022-03-09T05:46:04.303703Z",
     "start_time": "2022-03-09T05:46:04.289740Z"
    }
   },
   "outputs": [
    {
     "name": "stdout",
     "output_type": "stream",
     "text": [
      "3\n"
     ]
    }
   ],
   "source": [
    "print(sr.loc['c'])"
   ]
  },
  {
   "cell_type": "code",
   "execution_count": 20,
   "id": "eec312d4",
   "metadata": {
    "ExecuteTime": {
     "end_time": "2022-03-09T05:46:04.318663Z",
     "start_time": "2022-03-09T05:46:04.304701Z"
    }
   },
   "outputs": [
    {
     "name": "stdout",
     "output_type": "stream",
     "text": [
      "a    1\n",
      "b    2\n",
      "dtype: int64\n"
     ]
    }
   ],
   "source": [
    "print(sr.loc[['a', 'b']])"
   ]
  },
  {
   "cell_type": "code",
   "execution_count": 21,
   "id": "b9e90954",
   "metadata": {
    "ExecuteTime": {
     "end_time": "2022-03-09T05:46:04.333624Z",
     "start_time": "2022-03-09T05:46:04.319660Z"
    }
   },
   "outputs": [
    {
     "name": "stdout",
     "output_type": "stream",
     "text": [
      "3\n"
     ]
    }
   ],
   "source": [
    "print(sr.iloc[2])"
   ]
  },
  {
   "cell_type": "code",
   "execution_count": 22,
   "id": "b5a9f174",
   "metadata": {
    "ExecuteTime": {
     "end_time": "2022-03-09T05:46:04.348584Z",
     "start_time": "2022-03-09T05:46:04.334621Z"
    }
   },
   "outputs": [
    {
     "name": "stdout",
     "output_type": "stream",
     "text": [
      "a    1\n",
      "b    2\n",
      "dtype: int64\n"
     ]
    }
   ],
   "source": [
    "print(sr.iloc[[0, 1]])"
   ]
  },
  {
   "cell_type": "code",
   "execution_count": 23,
   "id": "6e14f507",
   "metadata": {
    "ExecuteTime": {
     "end_time": "2022-03-09T05:46:04.363543Z",
     "start_time": "2022-03-09T05:46:04.351576Z"
    }
   },
   "outputs": [
    {
     "name": "stdout",
     "output_type": "stream",
     "text": [
      "3    1\n",
      "7    2\n",
      "4    3\n",
      "5    4\n",
      "6    5\n",
      "dtype: int64\n"
     ]
    }
   ],
   "source": [
    "sr = pd.Series(range(1, 6), index=[3, 7, 4, 5, 6])\n",
    "print(sr)"
   ]
  },
  {
   "cell_type": "code",
   "execution_count": 24,
   "id": "bd736a1e",
   "metadata": {
    "ExecuteTime": {
     "end_time": "2022-03-09T05:46:04.378503Z",
     "start_time": "2022-03-09T05:46:04.365537Z"
    }
   },
   "outputs": [
    {
     "name": "stdout",
     "output_type": "stream",
     "text": [
      "1\n",
      "4\n"
     ]
    }
   ],
   "source": [
    "print(sr.loc[3])\n",
    "print(sr.iloc[3])"
   ]
  },
  {
   "cell_type": "code",
   "execution_count": 25,
   "id": "125906d7",
   "metadata": {
    "ExecuteTime": {
     "end_time": "2022-03-09T05:46:04.393464Z",
     "start_time": "2022-03-09T05:46:04.379500Z"
    }
   },
   "outputs": [
    {
     "name": "stdout",
     "output_type": "stream",
     "text": [
      "3    1\n",
      "7    2\n",
      "4    3\n",
      "5    4\n",
      "dtype: int64\n",
      "5    4\n",
      "6    5\n",
      "dtype: int64\n"
     ]
    }
   ],
   "source": [
    "print(sr.loc[3:5])\n",
    "print(sr.iloc[3:5])"
   ]
  },
  {
   "cell_type": "code",
   "execution_count": 26,
   "id": "cc623450",
   "metadata": {
    "ExecuteTime": {
     "end_time": "2022-03-09T05:46:04.410417Z",
     "start_time": "2022-03-09T05:46:04.394460Z"
    },
    "scrolled": true
   },
   "outputs": [
    {
     "name": "stdout",
     "output_type": "stream",
     "text": [
      "7    2\n",
      "5    4\n",
      "dtype: int64\n",
      "5    4\n",
      "dtype: int64\n"
     ]
    }
   ],
   "source": [
    "print(sr.loc[7::2])\n",
    "print(sr.iloc[3::2])"
   ]
  },
  {
   "cell_type": "markdown",
   "id": "240ed2ba",
   "metadata": {},
   "source": [
    "### add, remove, modify"
   ]
  },
  {
   "cell_type": "code",
   "execution_count": 27,
   "id": "542c5b32",
   "metadata": {
    "ExecuteTime": {
     "end_time": "2022-03-09T05:46:04.424380Z",
     "start_time": "2022-03-09T05:46:04.412412Z"
    }
   },
   "outputs": [
    {
     "name": "stdout",
     "output_type": "stream",
     "text": [
      "a    1\n",
      "b    2\n",
      "c    3\n",
      "d    4\n",
      "dtype: int64\n"
     ]
    }
   ],
   "source": [
    "sr = pd.Series(range(1, 5), index=list('abcd'))\n",
    "print(sr)"
   ]
  },
  {
   "cell_type": "code",
   "execution_count": 28,
   "id": "232abcc9",
   "metadata": {
    "ExecuteTime": {
     "end_time": "2022-03-09T05:46:04.439341Z",
     "start_time": "2022-03-09T05:46:04.425377Z"
    }
   },
   "outputs": [
    {
     "name": "stdout",
     "output_type": "stream",
     "text": [
      "a      1\n",
      "b      2\n",
      "c      3\n",
      "d      4\n",
      "e    100\n",
      "dtype: int64\n"
     ]
    }
   ],
   "source": [
    "sr['e'] = 100\n",
    "print(sr)"
   ]
  },
  {
   "cell_type": "code",
   "execution_count": 29,
   "id": "92366aca",
   "metadata": {
    "ExecuteTime": {
     "end_time": "2022-03-09T05:46:04.454299Z",
     "start_time": "2022-03-09T05:46:04.440338Z"
    }
   },
   "outputs": [
    {
     "name": "stdout",
     "output_type": "stream",
     "text": [
      "a     10\n",
      "b      2\n",
      "c      3\n",
      "d      4\n",
      "e    100\n",
      "dtype: int64\n"
     ]
    }
   ],
   "source": [
    "sr['a'] = 10\n",
    "print(sr)"
   ]
  },
  {
   "cell_type": "code",
   "execution_count": 30,
   "id": "0f972205",
   "metadata": {
    "ExecuteTime": {
     "end_time": "2022-03-09T05:46:04.469259Z",
     "start_time": "2022-03-09T05:46:04.455297Z"
    }
   },
   "outputs": [
    {
     "name": "stdout",
     "output_type": "stream",
     "text": [
      "a     10\n",
      "b     20\n",
      "c      3\n",
      "d      4\n",
      "e    100\n",
      "dtype: int64\n"
     ]
    }
   ],
   "source": [
    "sr.loc['b'] = 20\n",
    "print(sr)"
   ]
  },
  {
   "cell_type": "code",
   "execution_count": 31,
   "id": "1c0f1c19",
   "metadata": {
    "ExecuteTime": {
     "end_time": "2022-03-09T05:46:04.484220Z",
     "start_time": "2022-03-09T05:46:04.470260Z"
    }
   },
   "outputs": [
    {
     "name": "stdout",
     "output_type": "stream",
     "text": [
      "a     10\n",
      "b     20\n",
      "c     30\n",
      "d      4\n",
      "e    100\n",
      "dtype: int64\n"
     ]
    }
   ],
   "source": [
    "sr[2] = 30\n",
    "print(sr)"
   ]
  },
  {
   "cell_type": "code",
   "execution_count": 32,
   "id": "66bbbfe7",
   "metadata": {
    "ExecuteTime": {
     "end_time": "2022-03-09T05:46:04.499180Z",
     "start_time": "2022-03-09T05:46:04.485217Z"
    }
   },
   "outputs": [
    {
     "name": "stdout",
     "output_type": "stream",
     "text": [
      "a     10\n",
      "b     20\n",
      "c     30\n",
      "d     40\n",
      "e    100\n",
      "dtype: int64\n"
     ]
    }
   ],
   "source": [
    "sr.iloc[3] = 40\n",
    "print(sr)"
   ]
  },
  {
   "cell_type": "code",
   "execution_count": 33,
   "id": "d63c48bc",
   "metadata": {
    "ExecuteTime": {
     "end_time": "2022-03-09T05:46:04.514168Z",
     "start_time": "2022-03-09T05:46:04.500177Z"
    }
   },
   "outputs": [
    {
     "name": "stdout",
     "output_type": "stream",
     "text": [
      "b     20\n",
      "c     30\n",
      "d     40\n",
      "e    100\n",
      "dtype: int64\n"
     ]
    }
   ],
   "source": [
    "del sr['a']\n",
    "print(sr)"
   ]
  },
  {
   "cell_type": "markdown",
   "id": "fdb5a07a",
   "metadata": {},
   "source": [
    "### operation"
   ]
  },
  {
   "cell_type": "markdown",
   "id": "64ea7c2c",
   "metadata": {},
   "source": [
    "#### one series"
   ]
  },
  {
   "cell_type": "code",
   "execution_count": 34,
   "id": "d4dc860c",
   "metadata": {
    "ExecuteTime": {
     "end_time": "2022-03-09T05:46:04.529100Z",
     "start_time": "2022-03-09T05:46:04.515137Z"
    }
   },
   "outputs": [
    {
     "name": "stdout",
     "output_type": "stream",
     "text": [
      "0    1\n",
      "1    2\n",
      "2    5\n",
      "3    4\n",
      "4    3\n",
      "dtype: int64\n"
     ]
    }
   ],
   "source": [
    "sr = pd.Series([1, 2, 5, 4, 3])\n",
    "print(sr)"
   ]
  },
  {
   "cell_type": "code",
   "execution_count": 35,
   "id": "77fe829d",
   "metadata": {
    "ExecuteTime": {
     "end_time": "2022-03-09T05:46:04.559020Z",
     "start_time": "2022-03-09T05:46:04.530097Z"
    }
   },
   "outputs": [
    {
     "name": "stdout",
     "output_type": "stream",
     "text": [
      "True\n",
      "False\n",
      "5\n",
      "1\n",
      "15\n",
      "2\n",
      "3.0\n",
      "0      2.718282\n",
      "1      7.389056\n",
      "2    148.413159\n",
      "3     54.598150\n",
      "4     20.085537\n",
      "dtype: float64\n"
     ]
    }
   ],
   "source": [
    "print(np.any(sr > 2))\n",
    "print(np.all(sr > 2))\n",
    "print(np.max(sr))\n",
    "print(np.min(sr))\n",
    "print(np.sum(sr))\n",
    "print(np.argmax(sr)) # index of maximum value\n",
    "print(np.mean(sr))\n",
    "print(np.exp(sr))"
   ]
  },
  {
   "cell_type": "code",
   "execution_count": 36,
   "id": "ed516c5c",
   "metadata": {
    "ExecuteTime": {
     "end_time": "2022-03-09T05:46:04.573980Z",
     "start_time": "2022-03-09T05:46:04.560018Z"
    }
   },
   "outputs": [
    {
     "name": "stdout",
     "output_type": "stream",
     "text": [
      "0    1\n",
      "1    2\n",
      "2    5\n",
      "3    4\n",
      "4    3\n",
      "dtype: int64\n"
     ]
    }
   ],
   "source": [
    "print(sr.sort_index())"
   ]
  },
  {
   "cell_type": "code",
   "execution_count": 37,
   "id": "5f05801d",
   "metadata": {
    "ExecuteTime": {
     "end_time": "2022-03-09T05:46:04.588940Z",
     "start_time": "2022-03-09T05:46:04.574978Z"
    }
   },
   "outputs": [
    {
     "name": "stdout",
     "output_type": "stream",
     "text": [
      "0    1\n",
      "1    2\n",
      "4    3\n",
      "3    4\n",
      "2    5\n",
      "dtype: int64\n"
     ]
    }
   ],
   "source": [
    "print(sr.sort_values())"
   ]
  },
  {
   "cell_type": "markdown",
   "id": "229f8bfa",
   "metadata": {},
   "source": [
    "#### two series"
   ]
  },
  {
   "cell_type": "code",
   "execution_count": 38,
   "id": "b0130d34",
   "metadata": {
    "ExecuteTime": {
     "end_time": "2022-03-09T05:46:04.603901Z",
     "start_time": "2022-03-09T05:46:04.589937Z"
    }
   },
   "outputs": [
    {
     "name": "stdout",
     "output_type": "stream",
     "text": [
      "c    1\n",
      "e    2\n",
      "a    3\n",
      "b    4\n",
      "d    5\n",
      "Name: sr1, dtype: int64\n"
     ]
    }
   ],
   "source": [
    "sr1 = pd.Series(range(1, 6), index=list('ceabd'), name='sr1')\n",
    "print(sr1)"
   ]
  },
  {
   "cell_type": "code",
   "execution_count": 39,
   "id": "bc43143b",
   "metadata": {
    "ExecuteTime": {
     "end_time": "2022-03-09T05:46:04.618860Z",
     "start_time": "2022-03-09T05:46:04.604898Z"
    }
   },
   "outputs": [
    {
     "name": "stdout",
     "output_type": "stream",
     "text": [
      "d    11\n",
      "a    12\n",
      "e    13\n",
      "c    14\n",
      "b    15\n",
      "z    16\n",
      "Name: sr2, dtype: int64\n"
     ]
    }
   ],
   "source": [
    "sr2 = pd.Series(range(11, 17), index=list('daecbz'), name='sr2')\n",
    "print(sr2)"
   ]
  },
  {
   "cell_type": "code",
   "execution_count": 40,
   "id": "c1b6e9ce",
   "metadata": {
    "ExecuteTime": {
     "end_time": "2022-03-09T05:46:04.633821Z",
     "start_time": "2022-03-09T05:46:04.619858Z"
    }
   },
   "outputs": [
    {
     "name": "stdout",
     "output_type": "stream",
     "text": [
      "c    False\n",
      "e    False\n",
      "a    False\n",
      "b     True\n",
      "d     True\n",
      "Name: sr1, dtype: bool\n"
     ]
    }
   ],
   "source": [
    "print(sr1 > 3)"
   ]
  },
  {
   "cell_type": "code",
   "execution_count": 41,
   "id": "df3105cc",
   "metadata": {
    "ExecuteTime": {
     "end_time": "2022-03-09T05:46:04.648779Z",
     "start_time": "2022-03-09T05:46:04.634819Z"
    }
   },
   "outputs": [
    {
     "name": "stdout",
     "output_type": "stream",
     "text": [
      "b    4\n",
      "d    5\n",
      "Name: sr1, dtype: int64\n"
     ]
    }
   ],
   "source": [
    "print(sr1[sr1 > 3])"
   ]
  },
  {
   "cell_type": "code",
   "execution_count": 42,
   "id": "d120977a",
   "metadata": {
    "ExecuteTime": {
     "end_time": "2022-03-09T05:46:04.663740Z",
     "start_time": "2022-03-09T05:46:04.649777Z"
    }
   },
   "outputs": [
    {
     "name": "stdout",
     "output_type": "stream",
     "text": [
      "a    15.0\n",
      "b    19.0\n",
      "c    15.0\n",
      "d    16.0\n",
      "e    15.0\n",
      "z     NaN\n",
      "dtype: float64\n"
     ]
    }
   ],
   "source": [
    "print(sr1 + sr2) # = sr1.add(sr2)"
   ]
  },
  {
   "cell_type": "code",
   "execution_count": 43,
   "id": "388ab0e6",
   "metadata": {
    "ExecuteTime": {
     "end_time": "2022-03-09T05:46:04.678700Z",
     "start_time": "2022-03-09T05:46:04.664737Z"
    }
   },
   "outputs": [
    {
     "name": "stdout",
     "output_type": "stream",
     "text": [
      "a    -9.0\n",
      "b   -11.0\n",
      "c   -13.0\n",
      "d    -6.0\n",
      "e   -11.0\n",
      "z     NaN\n",
      "dtype: float64\n"
     ]
    }
   ],
   "source": [
    "print(sr1 - sr2) # = sr1.sub(sr2)"
   ]
  },
  {
   "cell_type": "code",
   "execution_count": 44,
   "id": "2841cff9",
   "metadata": {
    "ExecuteTime": {
     "end_time": "2022-03-09T05:46:04.693661Z",
     "start_time": "2022-03-09T05:46:04.679697Z"
    }
   },
   "outputs": [
    {
     "name": "stdout",
     "output_type": "stream",
     "text": [
      "a    36.0\n",
      "b    60.0\n",
      "c    14.0\n",
      "d    55.0\n",
      "e    26.0\n",
      "z     NaN\n",
      "dtype: float64\n"
     ]
    }
   ],
   "source": [
    "print(sr1 * sr2) # = sr1.mul(sr2)"
   ]
  },
  {
   "cell_type": "code",
   "execution_count": 45,
   "id": "c52538d4",
   "metadata": {
    "ExecuteTime": {
     "end_time": "2022-03-09T05:46:04.708619Z",
     "start_time": "2022-03-09T05:46:04.694658Z"
    }
   },
   "outputs": [
    {
     "name": "stdout",
     "output_type": "stream",
     "text": [
      "a    0.250000\n",
      "b    0.266667\n",
      "c    0.071429\n",
      "d    0.454545\n",
      "e    0.153846\n",
      "z         NaN\n",
      "dtype: float64\n"
     ]
    }
   ],
   "source": [
    "print(sr1 / sr2) # = sr1.div(sr2)"
   ]
  },
  {
   "cell_type": "code",
   "execution_count": 46,
   "id": "18b9848a",
   "metadata": {
    "ExecuteTime": {
     "end_time": "2022-03-09T05:46:04.723580Z",
     "start_time": "2022-03-09T05:46:04.709617Z"
    },
    "scrolled": true
   },
   "outputs": [
    {
     "name": "stdout",
     "output_type": "stream",
     "text": [
      "a     15.0\n",
      "b     19.0\n",
      "c     15.0\n",
      "d     16.0\n",
      "e     15.0\n",
      "z    116.0\n",
      "dtype: float64\n"
     ]
    }
   ],
   "source": [
    "print(sr1.add(sr2, fill_value=100))"
   ]
  },
  {
   "cell_type": "code",
   "execution_count": 47,
   "id": "9f7f59fb",
   "metadata": {
    "ExecuteTime": {
     "end_time": "2022-03-09T05:46:04.738539Z",
     "start_time": "2022-03-09T05:46:04.724578Z"
    }
   },
   "outputs": [
    {
     "name": "stdout",
     "output_type": "stream",
     "text": [
      "a    NaN\n",
      "b    3.0\n",
      "c    4.0\n",
      "d    6.0\n",
      "e    9.0\n",
      "f    NaN\n",
      "dtype: float64\n"
     ]
    }
   ],
   "source": [
    "sr1 = pd.Series([3, 2, 1, 4, 5], index=list('cdbef'), name='sr1')\n",
    "sr2 = pd.Series([3, 2, 1, 4, 5], index=list('abcde'), name='sr2')\n",
    "sr3 = sr1 + sr2\n",
    "print(sr3)"
   ]
  },
  {
   "cell_type": "code",
   "execution_count": 48,
   "id": "829869a5",
   "metadata": {
    "ExecuteTime": {
     "end_time": "2022-03-09T05:46:04.753501Z",
     "start_time": "2022-03-09T05:46:04.739538Z"
    }
   },
   "outputs": [
    {
     "name": "stdout",
     "output_type": "stream",
     "text": [
      "a     True\n",
      "b    False\n",
      "c    False\n",
      "d    False\n",
      "e    False\n",
      "f     True\n",
      "dtype: bool\n"
     ]
    }
   ],
   "source": [
    "print(sr3.isnull())"
   ]
  },
  {
   "cell_type": "code",
   "execution_count": 49,
   "id": "54b221e8",
   "metadata": {
    "ExecuteTime": {
     "end_time": "2022-03-09T05:46:04.768461Z",
     "start_time": "2022-03-09T05:46:04.754497Z"
    }
   },
   "outputs": [
    {
     "name": "stdout",
     "output_type": "stream",
     "text": [
      "a    False\n",
      "b     True\n",
      "c     True\n",
      "d     True\n",
      "e     True\n",
      "f    False\n",
      "dtype: bool\n"
     ]
    }
   ],
   "source": [
    "print(sr3.notnull())"
   ]
  },
  {
   "cell_type": "code",
   "execution_count": 50,
   "id": "586a9f07",
   "metadata": {
    "ExecuteTime": {
     "end_time": "2022-03-09T05:46:04.783420Z",
     "start_time": "2022-03-09T05:46:04.769458Z"
    }
   },
   "outputs": [
    {
     "name": "stdout",
     "output_type": "stream",
     "text": [
      "2\n"
     ]
    }
   ],
   "source": [
    "print(np.sum(sr3.isnull())) # sr3에서 Null(NaN)의 수"
   ]
  },
  {
   "cell_type": "code",
   "execution_count": 51,
   "id": "8bb61912",
   "metadata": {
    "ExecuteTime": {
     "end_time": "2022-03-09T05:46:04.798380Z",
     "start_time": "2022-03-09T05:46:04.784417Z"
    }
   },
   "outputs": [
    {
     "name": "stdout",
     "output_type": "stream",
     "text": [
      "4\n"
     ]
    }
   ],
   "source": [
    "print(np.sum(sr3.notnull())) # sr3에서 Null(NaN)이 아닌 값의 수"
   ]
  },
  {
   "cell_type": "markdown",
   "id": "077d65ad",
   "metadata": {},
   "source": [
    "#### map"
   ]
  },
  {
   "cell_type": "code",
   "execution_count": 52,
   "id": "6a3b47a9",
   "metadata": {
    "ExecuteTime": {
     "end_time": "2022-03-09T05:46:04.813340Z",
     "start_time": "2022-03-09T05:46:04.799377Z"
    }
   },
   "outputs": [],
   "source": [
    "sr = pd.Series(np.arange(7))"
   ]
  },
  {
   "cell_type": "code",
   "execution_count": 53,
   "id": "b2be9f3a",
   "metadata": {
    "ExecuteTime": {
     "end_time": "2022-03-09T05:46:04.828300Z",
     "start_time": "2022-03-09T05:46:04.814337Z"
    }
   },
   "outputs": [
    {
     "name": "stdout",
     "output_type": "stream",
     "text": [
      "0     0\n",
      "1     1\n",
      "2     4\n",
      "3     9\n",
      "4    16\n",
      "5    25\n",
      "6    36\n",
      "dtype: int64\n"
     ]
    }
   ],
   "source": [
    "def f1(x):\n",
    "    return x**2\n",
    "\n",
    "print(sr.map(f1))"
   ]
  },
  {
   "cell_type": "code",
   "execution_count": 54,
   "id": "78390bde",
   "metadata": {
    "ExecuteTime": {
     "end_time": "2022-03-09T05:46:04.843259Z",
     "start_time": "2022-03-09T05:46:04.829297Z"
    }
   },
   "outputs": [
    {
     "name": "stdout",
     "output_type": "stream",
     "text": [
      "0     Small\n",
      "1     Small\n",
      "2     Small\n",
      "3    MIddle\n",
      "4    MIddle\n",
      "5       Big\n",
      "6       Big\n",
      "dtype: object\n"
     ]
    }
   ],
   "source": [
    "def f2(x):\n",
    "    if x > 4:\n",
    "        return 'Big'\n",
    "    elif x > 2:\n",
    "        return 'MIddle'\n",
    "    else:\n",
    "        return 'Small'\n",
    "    \n",
    "print(sr.map(f2))"
   ]
  },
  {
   "cell_type": "code",
   "execution_count": 55,
   "id": "9e5b6a77",
   "metadata": {
    "ExecuteTime": {
     "end_time": "2022-03-09T05:46:04.858220Z",
     "start_time": "2022-03-09T05:46:04.844258Z"
    }
   },
   "outputs": [
    {
     "name": "stdout",
     "output_type": "stream",
     "text": [
      "0    2\n",
      "1    3\n",
      "2    4\n",
      "3    5\n",
      "4    6\n",
      "5    7\n",
      "6    8\n",
      "dtype: int64\n"
     ]
    }
   ],
   "source": [
    "def f3(x):\n",
    "    return x + 2\n",
    "\n",
    "print(sr.map(f3)) # 1\n",
    "# print(sr.map(lambda x: x + 2)) # 2\n",
    "# print(sr + 2) # 3"
   ]
  },
  {
   "cell_type": "code",
   "execution_count": 56,
   "id": "6bae0f26",
   "metadata": {
    "ExecuteTime": {
     "end_time": "2022-03-09T05:46:04.873180Z",
     "start_time": "2022-03-09T05:46:04.859218Z"
    }
   },
   "outputs": [
    {
     "name": "stdout",
     "output_type": "stream",
     "text": [
      "0    NaN\n",
      "1      a\n",
      "2      b\n",
      "3    NaN\n",
      "4    NaN\n",
      "5    NaN\n",
      "6    NaN\n",
      "dtype: object\n"
     ]
    }
   ],
   "source": [
    "print(sr.map({1: 'a', 2: 'b'}))"
   ]
  },
  {
   "cell_type": "code",
   "execution_count": 57,
   "id": "5697277a",
   "metadata": {
    "ExecuteTime": {
     "end_time": "2022-03-09T05:46:04.888140Z",
     "start_time": "2022-03-09T05:46:04.874179Z"
    }
   },
   "outputs": [
    {
     "name": "stdout",
     "output_type": "stream",
     "text": [
      "0    0\n",
      "1    a\n",
      "2    b\n",
      "3    3\n",
      "4    4\n",
      "5    5\n",
      "6    6\n",
      "dtype: object\n"
     ]
    }
   ],
   "source": [
    "print(sr.replace({1: 'a', 2: 'b'}))"
   ]
  },
  {
   "cell_type": "markdown",
   "id": "78315c44",
   "metadata": {
    "ExecuteTime": {
     "end_time": "2022-03-08T11:54:14.860063Z",
     "start_time": "2022-03-08T11:54:14.853082Z"
    }
   },
   "source": [
    "## DataFrame"
   ]
  },
  {
   "cell_type": "markdown",
   "id": "cb725a69",
   "metadata": {},
   "source": [
    "data, index, columns(Series들의 name모음), dtype으로 구성된 2차원 자료 구조  \n",
    "※ DataFrame 챕터에서는 출력물의 형태를 가시적으로 인식하기 편하게 print문 사용 x"
   ]
  },
  {
   "cell_type": "markdown",
   "id": "5f0d20f7",
   "metadata": {},
   "source": [
    "### creation"
   ]
  },
  {
   "cell_type": "code",
   "execution_count": 58,
   "id": "10b82565",
   "metadata": {
    "ExecuteTime": {
     "end_time": "2022-03-09T05:46:04.903100Z",
     "start_time": "2022-03-09T05:46:04.889136Z"
    }
   },
   "outputs": [
    {
     "data": {
      "text/html": [
       "<div>\n",
       "<style scoped>\n",
       "    .dataframe tbody tr th:only-of-type {\n",
       "        vertical-align: middle;\n",
       "    }\n",
       "\n",
       "    .dataframe tbody tr th {\n",
       "        vertical-align: top;\n",
       "    }\n",
       "\n",
       "    .dataframe thead th {\n",
       "        text-align: right;\n",
       "    }\n",
       "</style>\n",
       "<table border=\"1\" class=\"dataframe\">\n",
       "  <thead>\n",
       "    <tr style=\"text-align: right;\">\n",
       "      <th></th>\n",
       "      <th>0</th>\n",
       "      <th>1</th>\n",
       "      <th>2</th>\n",
       "      <th>3</th>\n",
       "    </tr>\n",
       "  </thead>\n",
       "  <tbody>\n",
       "    <tr>\n",
       "      <th>0</th>\n",
       "      <td>1</td>\n",
       "      <td>2</td>\n",
       "      <td>3</td>\n",
       "      <td>4</td>\n",
       "    </tr>\n",
       "    <tr>\n",
       "      <th>1</th>\n",
       "      <td>a</td>\n",
       "      <td>6</td>\n",
       "      <td>7</td>\n",
       "      <td>8</td>\n",
       "    </tr>\n",
       "    <tr>\n",
       "      <th>2</th>\n",
       "      <td>9</td>\n",
       "      <td>10</td>\n",
       "      <td>11</td>\n",
       "      <td>12</td>\n",
       "    </tr>\n",
       "  </tbody>\n",
       "</table>\n",
       "</div>"
      ],
      "text/plain": [
       "   0   1   2   3\n",
       "0  1   2   3   4\n",
       "1  a   6   7   8\n",
       "2  9  10  11  12"
      ]
     },
     "execution_count": 58,
     "metadata": {},
     "output_type": "execute_result"
    }
   ],
   "source": [
    "data = [[1, 2, 3, 4], ['a', 6, 7, 8], [9, 10, '11', 12]]\n",
    "pd.DataFrame(data) # index, column의 default값은 0부터 1씩 증가"
   ]
  },
  {
   "cell_type": "code",
   "execution_count": 59,
   "id": "c36d39ae",
   "metadata": {
    "ExecuteTime": {
     "end_time": "2022-03-09T05:46:04.918060Z",
     "start_time": "2022-03-09T05:46:04.904097Z"
    }
   },
   "outputs": [
    {
     "data": {
      "text/html": [
       "<div>\n",
       "<style scoped>\n",
       "    .dataframe tbody tr th:only-of-type {\n",
       "        vertical-align: middle;\n",
       "    }\n",
       "\n",
       "    .dataframe tbody tr th {\n",
       "        vertical-align: top;\n",
       "    }\n",
       "\n",
       "    .dataframe thead th {\n",
       "        text-align: right;\n",
       "    }\n",
       "</style>\n",
       "<table border=\"1\" class=\"dataframe\">\n",
       "  <thead>\n",
       "    <tr style=\"text-align: right;\">\n",
       "      <th></th>\n",
       "      <th>0</th>\n",
       "      <th>1</th>\n",
       "      <th>2</th>\n",
       "      <th>3</th>\n",
       "    </tr>\n",
       "  </thead>\n",
       "  <tbody>\n",
       "    <tr>\n",
       "      <th>a</th>\n",
       "      <td>1</td>\n",
       "      <td>2</td>\n",
       "      <td>3</td>\n",
       "      <td>4</td>\n",
       "    </tr>\n",
       "    <tr>\n",
       "      <th>b</th>\n",
       "      <td>a</td>\n",
       "      <td>6</td>\n",
       "      <td>7</td>\n",
       "      <td>8</td>\n",
       "    </tr>\n",
       "    <tr>\n",
       "      <th>c</th>\n",
       "      <td>9</td>\n",
       "      <td>10</td>\n",
       "      <td>11</td>\n",
       "      <td>12</td>\n",
       "    </tr>\n",
       "  </tbody>\n",
       "</table>\n",
       "</div>"
      ],
      "text/plain": [
       "   0   1   2   3\n",
       "a  1   2   3   4\n",
       "b  a   6   7   8\n",
       "c  9  10  11  12"
      ]
     },
     "execution_count": 59,
     "metadata": {},
     "output_type": "execute_result"
    }
   ],
   "source": [
    "pd.DataFrame(data, index=list('abc')) # index 설정 시 data 순서대로 할당"
   ]
  },
  {
   "cell_type": "code",
   "execution_count": 60,
   "id": "797843e3",
   "metadata": {
    "ExecuteTime": {
     "end_time": "2022-03-09T05:46:04.933020Z",
     "start_time": "2022-03-09T05:46:04.919058Z"
    }
   },
   "outputs": [
    {
     "data": {
      "text/html": [
       "<div>\n",
       "<style scoped>\n",
       "    .dataframe tbody tr th:only-of-type {\n",
       "        vertical-align: middle;\n",
       "    }\n",
       "\n",
       "    .dataframe tbody tr th {\n",
       "        vertical-align: top;\n",
       "    }\n",
       "\n",
       "    .dataframe thead th {\n",
       "        text-align: right;\n",
       "    }\n",
       "</style>\n",
       "<table border=\"1\" class=\"dataframe\">\n",
       "  <thead>\n",
       "    <tr style=\"text-align: right;\">\n",
       "      <th></th>\n",
       "      <th>A</th>\n",
       "      <th>B</th>\n",
       "      <th>C</th>\n",
       "      <th>D</th>\n",
       "    </tr>\n",
       "  </thead>\n",
       "  <tbody>\n",
       "    <tr>\n",
       "      <th>0</th>\n",
       "      <td>1</td>\n",
       "      <td>2</td>\n",
       "      <td>3</td>\n",
       "      <td>4</td>\n",
       "    </tr>\n",
       "    <tr>\n",
       "      <th>1</th>\n",
       "      <td>a</td>\n",
       "      <td>6</td>\n",
       "      <td>7</td>\n",
       "      <td>8</td>\n",
       "    </tr>\n",
       "    <tr>\n",
       "      <th>2</th>\n",
       "      <td>9</td>\n",
       "      <td>10</td>\n",
       "      <td>11</td>\n",
       "      <td>12</td>\n",
       "    </tr>\n",
       "  </tbody>\n",
       "</table>\n",
       "</div>"
      ],
      "text/plain": [
       "   A   B   C   D\n",
       "0  1   2   3   4\n",
       "1  a   6   7   8\n",
       "2  9  10  11  12"
      ]
     },
     "execution_count": 60,
     "metadata": {},
     "output_type": "execute_result"
    }
   ],
   "source": [
    "pd.DataFrame(data, columns=list('ABCD')) # column 설정 시 data 순서대로 할당"
   ]
  },
  {
   "cell_type": "code",
   "execution_count": 61,
   "id": "2f8f1823",
   "metadata": {
    "ExecuteTime": {
     "end_time": "2022-03-09T05:46:04.947980Z",
     "start_time": "2022-03-09T05:46:04.934016Z"
    }
   },
   "outputs": [
    {
     "data": {
      "text/html": [
       "<div>\n",
       "<style scoped>\n",
       "    .dataframe tbody tr th:only-of-type {\n",
       "        vertical-align: middle;\n",
       "    }\n",
       "\n",
       "    .dataframe tbody tr th {\n",
       "        vertical-align: top;\n",
       "    }\n",
       "\n",
       "    .dataframe thead th {\n",
       "        text-align: right;\n",
       "    }\n",
       "</style>\n",
       "<table border=\"1\" class=\"dataframe\">\n",
       "  <thead>\n",
       "    <tr style=\"text-align: right;\">\n",
       "      <th></th>\n",
       "      <th>0</th>\n",
       "      <th>1</th>\n",
       "      <th>2</th>\n",
       "      <th>3</th>\n",
       "    </tr>\n",
       "  </thead>\n",
       "  <tbody>\n",
       "    <tr>\n",
       "      <th>0</th>\n",
       "      <td>1</td>\n",
       "      <td>2.0</td>\n",
       "      <td>3.0</td>\n",
       "      <td>4.0</td>\n",
       "    </tr>\n",
       "    <tr>\n",
       "      <th>1</th>\n",
       "      <td>a</td>\n",
       "      <td>6.0</td>\n",
       "      <td>7.0</td>\n",
       "      <td>8.0</td>\n",
       "    </tr>\n",
       "    <tr>\n",
       "      <th>2</th>\n",
       "      <td>9</td>\n",
       "      <td>10.0</td>\n",
       "      <td>11.0</td>\n",
       "      <td>12.0</td>\n",
       "    </tr>\n",
       "  </tbody>\n",
       "</table>\n",
       "</div>"
      ],
      "text/plain": [
       "   0     1     2     3\n",
       "0  1   2.0   3.0   4.0\n",
       "1  a   6.0   7.0   8.0\n",
       "2  9  10.0  11.0  12.0"
      ]
     },
     "execution_count": 61,
     "metadata": {},
     "output_type": "execute_result"
    }
   ],
   "source": [
    "pd.DataFrame(data, dtype=float) # column 별로 형태 변환"
   ]
  },
  {
   "cell_type": "code",
   "execution_count": 62,
   "id": "9db68b36",
   "metadata": {
    "ExecuteTime": {
     "end_time": "2022-03-09T05:46:04.962939Z",
     "start_time": "2022-03-09T05:46:04.948978Z"
    }
   },
   "outputs": [
    {
     "data": {
      "text/html": [
       "<div>\n",
       "<style scoped>\n",
       "    .dataframe tbody tr th:only-of-type {\n",
       "        vertical-align: middle;\n",
       "    }\n",
       "\n",
       "    .dataframe tbody tr th {\n",
       "        vertical-align: top;\n",
       "    }\n",
       "\n",
       "    .dataframe thead th {\n",
       "        text-align: right;\n",
       "    }\n",
       "</style>\n",
       "<table border=\"1\" class=\"dataframe\">\n",
       "  <thead>\n",
       "    <tr style=\"text-align: right;\">\n",
       "      <th></th>\n",
       "      <th>a</th>\n",
       "      <th>b</th>\n",
       "      <th>c</th>\n",
       "    </tr>\n",
       "  </thead>\n",
       "  <tbody>\n",
       "    <tr>\n",
       "      <th>A</th>\n",
       "      <td>1</td>\n",
       "      <td>2</td>\n",
       "      <td>3</td>\n",
       "    </tr>\n",
       "    <tr>\n",
       "      <th>B</th>\n",
       "      <td>2</td>\n",
       "      <td>3</td>\n",
       "      <td>4</td>\n",
       "    </tr>\n",
       "    <tr>\n",
       "      <th>C</th>\n",
       "      <td>3</td>\n",
       "      <td>4</td>\n",
       "      <td>5</td>\n",
       "    </tr>\n",
       "  </tbody>\n",
       "</table>\n",
       "</div>"
      ],
      "text/plain": [
       "   a  b  c\n",
       "A  1  2  3\n",
       "B  2  3  4\n",
       "C  3  4  5"
      ]
     },
     "execution_count": 62,
     "metadata": {},
     "output_type": "execute_result"
    }
   ],
   "source": [
    "dict_data = {'a': [1, 2, 3], 'b': [2, 3, 4], 'c': [3, 4, 5]} # using dictionary for DataFrame creation \n",
    "pd.DataFrame(dict_data, index=list('ABC')) # key: column, value: data"
   ]
  },
  {
   "cell_type": "code",
   "execution_count": 63,
   "id": "390f1a2d",
   "metadata": {
    "ExecuteTime": {
     "end_time": "2022-03-09T05:46:04.977905Z",
     "start_time": "2022-03-09T05:46:04.963937Z"
    }
   },
   "outputs": [
    {
     "data": {
      "text/html": [
       "<div>\n",
       "<style scoped>\n",
       "    .dataframe tbody tr th:only-of-type {\n",
       "        vertical-align: middle;\n",
       "    }\n",
       "\n",
       "    .dataframe tbody tr th {\n",
       "        vertical-align: top;\n",
       "    }\n",
       "\n",
       "    .dataframe thead th {\n",
       "        text-align: right;\n",
       "    }\n",
       "</style>\n",
       "<table border=\"1\" class=\"dataframe\">\n",
       "  <thead>\n",
       "    <tr style=\"text-align: right;\">\n",
       "      <th></th>\n",
       "      <th>a</th>\n",
       "      <th>b</th>\n",
       "      <th>c</th>\n",
       "    </tr>\n",
       "  </thead>\n",
       "  <tbody>\n",
       "    <tr>\n",
       "      <th>d</th>\n",
       "      <td>1.0</td>\n",
       "      <td>10.0</td>\n",
       "      <td>100</td>\n",
       "    </tr>\n",
       "    <tr>\n",
       "      <th>e</th>\n",
       "      <td>2.0</td>\n",
       "      <td>20.0</td>\n",
       "      <td>200</td>\n",
       "    </tr>\n",
       "    <tr>\n",
       "      <th>f</th>\n",
       "      <td>NaN</td>\n",
       "      <td>NaN</td>\n",
       "      <td>300</td>\n",
       "    </tr>\n",
       "  </tbody>\n",
       "</table>\n",
       "</div>"
      ],
      "text/plain": [
       "     a     b    c\n",
       "d  1.0  10.0  100\n",
       "e  2.0  20.0  200\n",
       "f  NaN   NaN  300"
      ]
     },
     "execution_count": 63,
     "metadata": {},
     "output_type": "execute_result"
    }
   ],
   "source": [
    "dict_data = {'a': {'d': 1, 'e': 2}, 'b': {'d': 10, 'e': 20}, 'c': {'d': 100, 'e': 200, 'f': 300}}\n",
    "pd.DataFrame(dict_data) # key: column, nested key: index, nested value: data"
   ]
  },
  {
   "cell_type": "markdown",
   "id": "9b52db24",
   "metadata": {},
   "source": [
    "file load"
   ]
  },
  {
   "cell_type": "code",
   "execution_count": 64,
   "id": "8ab6d87b",
   "metadata": {
    "ExecuteTime": {
     "end_time": "2022-03-09T05:46:04.992866Z",
     "start_time": "2022-03-09T05:46:04.978904Z"
    }
   },
   "outputs": [
    {
     "data": {
      "text/html": [
       "<div>\n",
       "<style scoped>\n",
       "    .dataframe tbody tr th:only-of-type {\n",
       "        vertical-align: middle;\n",
       "    }\n",
       "\n",
       "    .dataframe tbody tr th {\n",
       "        vertical-align: top;\n",
       "    }\n",
       "\n",
       "    .dataframe thead th {\n",
       "        text-align: right;\n",
       "    }\n",
       "</style>\n",
       "<table border=\"1\" class=\"dataframe\">\n",
       "  <thead>\n",
       "    <tr style=\"text-align: right;\">\n",
       "      <th></th>\n",
       "      <th>이름</th>\n",
       "      <th>성별</th>\n",
       "      <th>학년</th>\n",
       "      <th>출석</th>\n",
       "      <th>과제</th>\n",
       "      <th>중간</th>\n",
       "      <th>기말</th>\n",
       "    </tr>\n",
       "  </thead>\n",
       "  <tbody>\n",
       "    <tr>\n",
       "      <th>0</th>\n",
       "      <td>김혁주</td>\n",
       "      <td>남</td>\n",
       "      <td>4</td>\n",
       "      <td>85</td>\n",
       "      <td>75</td>\n",
       "      <td>90</td>\n",
       "      <td>95</td>\n",
       "    </tr>\n",
       "    <tr>\n",
       "      <th>1</th>\n",
       "      <td>홍길동</td>\n",
       "      <td>남</td>\n",
       "      <td>3</td>\n",
       "      <td>85</td>\n",
       "      <td>90</td>\n",
       "      <td>85</td>\n",
       "      <td>88</td>\n",
       "    </tr>\n",
       "    <tr>\n",
       "      <th>2</th>\n",
       "      <td>유재석</td>\n",
       "      <td>남</td>\n",
       "      <td>3</td>\n",
       "      <td>100</td>\n",
       "      <td>100</td>\n",
       "      <td>100</td>\n",
       "      <td>100</td>\n",
       "    </tr>\n",
       "    <tr>\n",
       "      <th>3</th>\n",
       "      <td>장미란</td>\n",
       "      <td>여</td>\n",
       "      <td>4</td>\n",
       "      <td>90</td>\n",
       "      <td>85</td>\n",
       "      <td>80</td>\n",
       "      <td>78</td>\n",
       "    </tr>\n",
       "    <tr>\n",
       "      <th>4</th>\n",
       "      <td>박명수</td>\n",
       "      <td>남</td>\n",
       "      <td>4</td>\n",
       "      <td>90</td>\n",
       "      <td>80</td>\n",
       "      <td>80</td>\n",
       "      <td>80</td>\n",
       "    </tr>\n",
       "  </tbody>\n",
       "</table>\n",
       "</div>"
      ],
      "text/plain": [
       "    이름 성별  학년   출석   과제   중간   기말\n",
       "0  김혁주  남   4   85   75   90   95\n",
       "1  홍길동  남   3   85   90   85   88\n",
       "2  유재석  남   3  100  100  100  100\n",
       "3  장미란  여   4   90   85   80   78\n",
       "4  박명수  남   4   90   80   80   80"
      ]
     },
     "execution_count": 64,
     "metadata": {},
     "output_type": "execute_result"
    }
   ],
   "source": [
    "df = pd.read_table('table_data.txt', sep='\\t')\n",
    "df.head() # head=첫 5행, tail=마지막 5행"
   ]
  },
  {
   "cell_type": "code",
   "execution_count": 65,
   "id": "de285b5b",
   "metadata": {
    "ExecuteTime": {
     "end_time": "2022-03-09T05:46:05.007825Z",
     "start_time": "2022-03-09T05:46:04.993862Z"
    }
   },
   "outputs": [
    {
     "data": {
      "text/html": [
       "<div>\n",
       "<style scoped>\n",
       "    .dataframe tbody tr th:only-of-type {\n",
       "        vertical-align: middle;\n",
       "    }\n",
       "\n",
       "    .dataframe tbody tr th {\n",
       "        vertical-align: top;\n",
       "    }\n",
       "\n",
       "    .dataframe thead th {\n",
       "        text-align: right;\n",
       "    }\n",
       "</style>\n",
       "<table border=\"1\" class=\"dataframe\">\n",
       "  <thead>\n",
       "    <tr style=\"text-align: right;\">\n",
       "      <th></th>\n",
       "      <th>0</th>\n",
       "      <th>1</th>\n",
       "      <th>2</th>\n",
       "      <th>3</th>\n",
       "      <th>4</th>\n",
       "      <th>5</th>\n",
       "      <th>6</th>\n",
       "    </tr>\n",
       "  </thead>\n",
       "  <tbody>\n",
       "    <tr>\n",
       "      <th>0</th>\n",
       "      <td>이름</td>\n",
       "      <td>성별</td>\n",
       "      <td>학년</td>\n",
       "      <td>출석</td>\n",
       "      <td>과제</td>\n",
       "      <td>중간</td>\n",
       "      <td>기말</td>\n",
       "    </tr>\n",
       "    <tr>\n",
       "      <th>1</th>\n",
       "      <td>김혁주</td>\n",
       "      <td>남</td>\n",
       "      <td>4</td>\n",
       "      <td>85</td>\n",
       "      <td>75</td>\n",
       "      <td>90</td>\n",
       "      <td>95</td>\n",
       "    </tr>\n",
       "    <tr>\n",
       "      <th>2</th>\n",
       "      <td>홍길동</td>\n",
       "      <td>남</td>\n",
       "      <td>3</td>\n",
       "      <td>85</td>\n",
       "      <td>90</td>\n",
       "      <td>85</td>\n",
       "      <td>88</td>\n",
       "    </tr>\n",
       "    <tr>\n",
       "      <th>3</th>\n",
       "      <td>유재석</td>\n",
       "      <td>남</td>\n",
       "      <td>3</td>\n",
       "      <td>100</td>\n",
       "      <td>100</td>\n",
       "      <td>100</td>\n",
       "      <td>100</td>\n",
       "    </tr>\n",
       "    <tr>\n",
       "      <th>4</th>\n",
       "      <td>장미란</td>\n",
       "      <td>여</td>\n",
       "      <td>4</td>\n",
       "      <td>90</td>\n",
       "      <td>85</td>\n",
       "      <td>80</td>\n",
       "      <td>78</td>\n",
       "    </tr>\n",
       "  </tbody>\n",
       "</table>\n",
       "</div>"
      ],
      "text/plain": [
       "     0   1   2    3    4    5    6\n",
       "0   이름  성별  학년   출석   과제   중간   기말\n",
       "1  김혁주   남   4   85   75   90   95\n",
       "2  홍길동   남   3   85   90   85   88\n",
       "3  유재석   남   3  100  100  100  100\n",
       "4  장미란   여   4   90   85   80   78"
      ]
     },
     "execution_count": 65,
     "metadata": {},
     "output_type": "execute_result"
    }
   ],
   "source": [
    "df = pd.read_table('table_data.txt', header=None, sep='\\t')\n",
    "df.head()"
   ]
  },
  {
   "cell_type": "code",
   "execution_count": 66,
   "id": "6e8e5540",
   "metadata": {
    "ExecuteTime": {
     "end_time": "2022-03-09T05:46:05.022785Z",
     "start_time": "2022-03-09T05:46:05.008823Z"
    }
   },
   "outputs": [
    {
     "data": {
      "text/html": [
       "<div>\n",
       "<style scoped>\n",
       "    .dataframe tbody tr th:only-of-type {\n",
       "        vertical-align: middle;\n",
       "    }\n",
       "\n",
       "    .dataframe tbody tr th {\n",
       "        vertical-align: top;\n",
       "    }\n",
       "\n",
       "    .dataframe thead th {\n",
       "        text-align: right;\n",
       "    }\n",
       "</style>\n",
       "<table border=\"1\" class=\"dataframe\">\n",
       "  <thead>\n",
       "    <tr style=\"text-align: right;\">\n",
       "      <th></th>\n",
       "      <th>성별</th>\n",
       "      <th>학년</th>\n",
       "      <th>출석</th>\n",
       "      <th>과제</th>\n",
       "      <th>중간</th>\n",
       "      <th>기말</th>\n",
       "    </tr>\n",
       "    <tr>\n",
       "      <th>이름</th>\n",
       "      <th></th>\n",
       "      <th></th>\n",
       "      <th></th>\n",
       "      <th></th>\n",
       "      <th></th>\n",
       "      <th></th>\n",
       "    </tr>\n",
       "  </thead>\n",
       "  <tbody>\n",
       "    <tr>\n",
       "      <th>김혁주</th>\n",
       "      <td>남</td>\n",
       "      <td>4</td>\n",
       "      <td>85</td>\n",
       "      <td>75</td>\n",
       "      <td>90</td>\n",
       "      <td>95</td>\n",
       "    </tr>\n",
       "    <tr>\n",
       "      <th>홍길동</th>\n",
       "      <td>남</td>\n",
       "      <td>3</td>\n",
       "      <td>85</td>\n",
       "      <td>90</td>\n",
       "      <td>85</td>\n",
       "      <td>88</td>\n",
       "    </tr>\n",
       "    <tr>\n",
       "      <th>유재석</th>\n",
       "      <td>남</td>\n",
       "      <td>3</td>\n",
       "      <td>100</td>\n",
       "      <td>100</td>\n",
       "      <td>100</td>\n",
       "      <td>100</td>\n",
       "    </tr>\n",
       "    <tr>\n",
       "      <th>장미란</th>\n",
       "      <td>여</td>\n",
       "      <td>4</td>\n",
       "      <td>90</td>\n",
       "      <td>85</td>\n",
       "      <td>80</td>\n",
       "      <td>78</td>\n",
       "    </tr>\n",
       "    <tr>\n",
       "      <th>박명수</th>\n",
       "      <td>남</td>\n",
       "      <td>4</td>\n",
       "      <td>90</td>\n",
       "      <td>80</td>\n",
       "      <td>80</td>\n",
       "      <td>80</td>\n",
       "    </tr>\n",
       "  </tbody>\n",
       "</table>\n",
       "</div>"
      ],
      "text/plain": [
       "    성별  학년   출석   과제   중간   기말\n",
       "이름                            \n",
       "김혁주  남   4   85   75   90   95\n",
       "홍길동  남   3   85   90   85   88\n",
       "유재석  남   3  100  100  100  100\n",
       "장미란  여   4   90   85   80   78\n",
       "박명수  남   4   90   80   80   80"
      ]
     },
     "execution_count": 66,
     "metadata": {},
     "output_type": "execute_result"
    }
   ],
   "source": [
    "df = pd.read_table('table_data.txt', index_col='이름', sep='\\t')\n",
    "df.head() # column 중에 index로 사용할 column 지정"
   ]
  },
  {
   "cell_type": "code",
   "execution_count": 67,
   "id": "3238476d",
   "metadata": {
    "ExecuteTime": {
     "end_time": "2022-03-09T05:46:05.037745Z",
     "start_time": "2022-03-09T05:46:05.023782Z"
    }
   },
   "outputs": [
    {
     "data": {
      "text/html": [
       "<div>\n",
       "<style scoped>\n",
       "    .dataframe tbody tr th:only-of-type {\n",
       "        vertical-align: middle;\n",
       "    }\n",
       "\n",
       "    .dataframe tbody tr th {\n",
       "        vertical-align: top;\n",
       "    }\n",
       "\n",
       "    .dataframe thead th {\n",
       "        text-align: right;\n",
       "    }\n",
       "</style>\n",
       "<table border=\"1\" class=\"dataframe\">\n",
       "  <thead>\n",
       "    <tr style=\"text-align: right;\">\n",
       "      <th></th>\n",
       "      <th>성별</th>\n",
       "      <th>학년</th>\n",
       "      <th>출석</th>\n",
       "      <th>과제</th>\n",
       "      <th>중간</th>\n",
       "      <th>기말</th>\n",
       "    </tr>\n",
       "  </thead>\n",
       "  <tbody>\n",
       "    <tr>\n",
       "      <th>김혁주</th>\n",
       "      <td>남</td>\n",
       "      <td>4</td>\n",
       "      <td>85</td>\n",
       "      <td>75</td>\n",
       "      <td>90</td>\n",
       "      <td>95</td>\n",
       "    </tr>\n",
       "    <tr>\n",
       "      <th>홍길동</th>\n",
       "      <td>남</td>\n",
       "      <td>3</td>\n",
       "      <td>85</td>\n",
       "      <td>90</td>\n",
       "      <td>85</td>\n",
       "      <td>88</td>\n",
       "    </tr>\n",
       "    <tr>\n",
       "      <th>유재석</th>\n",
       "      <td>남</td>\n",
       "      <td>3</td>\n",
       "      <td>100</td>\n",
       "      <td>100</td>\n",
       "      <td>100</td>\n",
       "      <td>100</td>\n",
       "    </tr>\n",
       "    <tr>\n",
       "      <th>장미란</th>\n",
       "      <td>여</td>\n",
       "      <td>4</td>\n",
       "      <td>90</td>\n",
       "      <td>85</td>\n",
       "      <td>80</td>\n",
       "      <td>78</td>\n",
       "    </tr>\n",
       "    <tr>\n",
       "      <th>박명수</th>\n",
       "      <td>남</td>\n",
       "      <td>4</td>\n",
       "      <td>90</td>\n",
       "      <td>80</td>\n",
       "      <td>80</td>\n",
       "      <td>80</td>\n",
       "    </tr>\n",
       "  </tbody>\n",
       "</table>\n",
       "</div>"
      ],
      "text/plain": [
       "    성별  학년   출석   과제   중간   기말\n",
       "김혁주  남   4   85   75   90   95\n",
       "홍길동  남   3   85   90   85   88\n",
       "유재석  남   3  100  100  100  100\n",
       "장미란  여   4   90   85   80   78\n",
       "박명수  남   4   90   80   80   80"
      ]
     },
     "execution_count": 67,
     "metadata": {},
     "output_type": "execute_result"
    }
   ],
   "source": [
    "df.index.name = None\n",
    "df.head()"
   ]
  },
  {
   "cell_type": "code",
   "execution_count": 68,
   "id": "4a5ad1cd",
   "metadata": {
    "ExecuteTime": {
     "end_time": "2022-03-09T05:46:05.067665Z",
     "start_time": "2022-03-09T05:46:05.044726Z"
    }
   },
   "outputs": [
    {
     "data": {
      "text/html": [
       "<div>\n",
       "<style scoped>\n",
       "    .dataframe tbody tr th:only-of-type {\n",
       "        vertical-align: middle;\n",
       "    }\n",
       "\n",
       "    .dataframe tbody tr th {\n",
       "        vertical-align: top;\n",
       "    }\n",
       "\n",
       "    .dataframe thead th {\n",
       "        text-align: right;\n",
       "    }\n",
       "</style>\n",
       "<table border=\"1\" class=\"dataframe\">\n",
       "  <thead>\n",
       "    <tr style=\"text-align: right;\">\n",
       "      <th></th>\n",
       "      <th>출석</th>\n",
       "      <th>과제</th>\n",
       "    </tr>\n",
       "    <tr>\n",
       "      <th>이름</th>\n",
       "      <th></th>\n",
       "      <th></th>\n",
       "    </tr>\n",
       "  </thead>\n",
       "  <tbody>\n",
       "    <tr>\n",
       "      <th>김혁주</th>\n",
       "      <td>85</td>\n",
       "      <td>75</td>\n",
       "    </tr>\n",
       "    <tr>\n",
       "      <th>홍길동</th>\n",
       "      <td>85</td>\n",
       "      <td>90</td>\n",
       "    </tr>\n",
       "    <tr>\n",
       "      <th>유재석</th>\n",
       "      <td>100</td>\n",
       "      <td>100</td>\n",
       "    </tr>\n",
       "    <tr>\n",
       "      <th>장미란</th>\n",
       "      <td>90</td>\n",
       "      <td>85</td>\n",
       "    </tr>\n",
       "    <tr>\n",
       "      <th>박명수</th>\n",
       "      <td>90</td>\n",
       "      <td>80</td>\n",
       "    </tr>\n",
       "  </tbody>\n",
       "</table>\n",
       "</div>"
      ],
      "text/plain": [
       "      출석   과제\n",
       "이름           \n",
       "김혁주   85   75\n",
       "홍길동   85   90\n",
       "유재석  100  100\n",
       "장미란   90   85\n",
       "박명수   90   80"
      ]
     },
     "execution_count": 68,
     "metadata": {},
     "output_type": "execute_result"
    }
   ],
   "source": [
    "df = pd.read_table('table_data.txt', index_col='이름', usecols=['이름', '출석', '과제'], sep='\\t')\n",
    "df.head() # 출력할 column 지정"
   ]
  },
  {
   "cell_type": "markdown",
   "id": "715d9302",
   "metadata": {},
   "source": [
    "### component"
   ]
  },
  {
   "cell_type": "code",
   "execution_count": 69,
   "id": "7ad8626d",
   "metadata": {
    "ExecuteTime": {
     "end_time": "2022-03-09T05:46:05.082625Z",
     "start_time": "2022-03-09T05:46:05.071654Z"
    }
   },
   "outputs": [
    {
     "data": {
      "text/html": [
       "<div>\n",
       "<style scoped>\n",
       "    .dataframe tbody tr th:only-of-type {\n",
       "        vertical-align: middle;\n",
       "    }\n",
       "\n",
       "    .dataframe tbody tr th {\n",
       "        vertical-align: top;\n",
       "    }\n",
       "\n",
       "    .dataframe thead th {\n",
       "        text-align: right;\n",
       "    }\n",
       "</style>\n",
       "<table border=\"1\" class=\"dataframe\">\n",
       "  <thead>\n",
       "    <tr style=\"text-align: right;\">\n",
       "      <th></th>\n",
       "      <th>a</th>\n",
       "      <th>b</th>\n",
       "      <th>c</th>\n",
       "      <th>d</th>\n",
       "    </tr>\n",
       "  </thead>\n",
       "  <tbody>\n",
       "    <tr>\n",
       "      <th>1</th>\n",
       "      <td>0</td>\n",
       "      <td>1</td>\n",
       "      <td>2</td>\n",
       "      <td>3</td>\n",
       "    </tr>\n",
       "    <tr>\n",
       "      <th>2</th>\n",
       "      <td>4</td>\n",
       "      <td>5</td>\n",
       "      <td>6</td>\n",
       "      <td>7</td>\n",
       "    </tr>\n",
       "    <tr>\n",
       "      <th>3</th>\n",
       "      <td>8</td>\n",
       "      <td>9</td>\n",
       "      <td>10</td>\n",
       "      <td>11</td>\n",
       "    </tr>\n",
       "  </tbody>\n",
       "</table>\n",
       "</div>"
      ],
      "text/plain": [
       "   a  b   c   d\n",
       "1  0  1   2   3\n",
       "2  4  5   6   7\n",
       "3  8  9  10  11"
      ]
     },
     "execution_count": 69,
     "metadata": {},
     "output_type": "execute_result"
    }
   ],
   "source": [
    "data = np.arange(12).reshape(3, 4)\n",
    "df = pd.DataFrame(data, index=[1, 2, 3], columns=list('abcd'))\n",
    "df"
   ]
  },
  {
   "cell_type": "code",
   "execution_count": 70,
   "id": "26d4daf4",
   "metadata": {
    "ExecuteTime": {
     "end_time": "2022-03-09T05:46:05.097584Z",
     "start_time": "2022-03-09T05:46:05.083624Z"
    }
   },
   "outputs": [
    {
     "data": {
      "text/plain": [
       "array([[ 0,  1,  2,  3],\n",
       "       [ 4,  5,  6,  7],\n",
       "       [ 8,  9, 10, 11]])"
      ]
     },
     "execution_count": 70,
     "metadata": {},
     "output_type": "execute_result"
    }
   ],
   "source": [
    "df.values"
   ]
  },
  {
   "cell_type": "code",
   "execution_count": 71,
   "id": "8a3c3b64",
   "metadata": {
    "ExecuteTime": {
     "end_time": "2022-03-09T05:46:05.112544Z",
     "start_time": "2022-03-09T05:46:05.098582Z"
    }
   },
   "outputs": [
    {
     "data": {
      "text/plain": [
       "Int64Index([1, 2, 3], dtype='int64')"
      ]
     },
     "execution_count": 71,
     "metadata": {},
     "output_type": "execute_result"
    }
   ],
   "source": [
    "df.index"
   ]
  },
  {
   "cell_type": "code",
   "execution_count": 72,
   "id": "6910863c",
   "metadata": {
    "ExecuteTime": {
     "end_time": "2022-03-09T05:46:05.127505Z",
     "start_time": "2022-03-09T05:46:05.113542Z"
    }
   },
   "outputs": [
    {
     "data": {
      "text/plain": [
       "Index(['a', 'b', 'c', 'd'], dtype='object')"
      ]
     },
     "execution_count": 72,
     "metadata": {},
     "output_type": "execute_result"
    }
   ],
   "source": [
    "df.columns"
   ]
  },
  {
   "cell_type": "code",
   "execution_count": 73,
   "id": "1e02111d",
   "metadata": {
    "ExecuteTime": {
     "end_time": "2022-03-09T05:46:05.142464Z",
     "start_time": "2022-03-09T05:46:05.128502Z"
    }
   },
   "outputs": [
    {
     "data": {
      "text/plain": [
       "a    int32\n",
       "b    int32\n",
       "c    int32\n",
       "d    int32\n",
       "dtype: object"
      ]
     },
     "execution_count": 73,
     "metadata": {},
     "output_type": "execute_result"
    }
   ],
   "source": [
    "df.dtypes"
   ]
  },
  {
   "cell_type": "code",
   "execution_count": 74,
   "id": "0946e178",
   "metadata": {
    "ExecuteTime": {
     "end_time": "2022-03-09T05:46:05.157424Z",
     "start_time": "2022-03-09T05:46:05.143462Z"
    }
   },
   "outputs": [
    {
     "data": {
      "text/html": [
       "<div>\n",
       "<style scoped>\n",
       "    .dataframe tbody tr th:only-of-type {\n",
       "        vertical-align: middle;\n",
       "    }\n",
       "\n",
       "    .dataframe tbody tr th {\n",
       "        vertical-align: top;\n",
       "    }\n",
       "\n",
       "    .dataframe thead th {\n",
       "        text-align: right;\n",
       "    }\n",
       "</style>\n",
       "<table border=\"1\" class=\"dataframe\">\n",
       "  <thead>\n",
       "    <tr style=\"text-align: right;\">\n",
       "      <th></th>\n",
       "      <th>a</th>\n",
       "      <th>b</th>\n",
       "      <th>c</th>\n",
       "      <th>d</th>\n",
       "    </tr>\n",
       "    <tr>\n",
       "      <th>Numeric</th>\n",
       "      <th></th>\n",
       "      <th></th>\n",
       "      <th></th>\n",
       "      <th></th>\n",
       "    </tr>\n",
       "  </thead>\n",
       "  <tbody>\n",
       "    <tr>\n",
       "      <th>1</th>\n",
       "      <td>0</td>\n",
       "      <td>1</td>\n",
       "      <td>2</td>\n",
       "      <td>3</td>\n",
       "    </tr>\n",
       "    <tr>\n",
       "      <th>2</th>\n",
       "      <td>4</td>\n",
       "      <td>5</td>\n",
       "      <td>6</td>\n",
       "      <td>7</td>\n",
       "    </tr>\n",
       "    <tr>\n",
       "      <th>3</th>\n",
       "      <td>8</td>\n",
       "      <td>9</td>\n",
       "      <td>10</td>\n",
       "      <td>11</td>\n",
       "    </tr>\n",
       "  </tbody>\n",
       "</table>\n",
       "</div>"
      ],
      "text/plain": [
       "         a  b   c   d\n",
       "Numeric              \n",
       "1        0  1   2   3\n",
       "2        4  5   6   7\n",
       "3        8  9  10  11"
      ]
     },
     "execution_count": 74,
     "metadata": {},
     "output_type": "execute_result"
    }
   ],
   "source": [
    "df.index.name = 'Numeric'\n",
    "df"
   ]
  },
  {
   "cell_type": "code",
   "execution_count": 75,
   "id": "465928c2",
   "metadata": {
    "ExecuteTime": {
     "end_time": "2022-03-09T05:46:05.172387Z",
     "start_time": "2022-03-09T05:46:05.158423Z"
    }
   },
   "outputs": [
    {
     "data": {
      "text/html": [
       "<div>\n",
       "<style scoped>\n",
       "    .dataframe tbody tr th:only-of-type {\n",
       "        vertical-align: middle;\n",
       "    }\n",
       "\n",
       "    .dataframe tbody tr th {\n",
       "        vertical-align: top;\n",
       "    }\n",
       "\n",
       "    .dataframe thead th {\n",
       "        text-align: right;\n",
       "    }\n",
       "</style>\n",
       "<table border=\"1\" class=\"dataframe\">\n",
       "  <thead>\n",
       "    <tr style=\"text-align: right;\">\n",
       "      <th>Alphabet</th>\n",
       "      <th>a</th>\n",
       "      <th>b</th>\n",
       "      <th>c</th>\n",
       "      <th>d</th>\n",
       "    </tr>\n",
       "    <tr>\n",
       "      <th>Numeric</th>\n",
       "      <th></th>\n",
       "      <th></th>\n",
       "      <th></th>\n",
       "      <th></th>\n",
       "    </tr>\n",
       "  </thead>\n",
       "  <tbody>\n",
       "    <tr>\n",
       "      <th>1</th>\n",
       "      <td>0</td>\n",
       "      <td>1</td>\n",
       "      <td>2</td>\n",
       "      <td>3</td>\n",
       "    </tr>\n",
       "    <tr>\n",
       "      <th>2</th>\n",
       "      <td>4</td>\n",
       "      <td>5</td>\n",
       "      <td>6</td>\n",
       "      <td>7</td>\n",
       "    </tr>\n",
       "    <tr>\n",
       "      <th>3</th>\n",
       "      <td>8</td>\n",
       "      <td>9</td>\n",
       "      <td>10</td>\n",
       "      <td>11</td>\n",
       "    </tr>\n",
       "  </tbody>\n",
       "</table>\n",
       "</div>"
      ],
      "text/plain": [
       "Alphabet  a  b   c   d\n",
       "Numeric               \n",
       "1         0  1   2   3\n",
       "2         4  5   6   7\n",
       "3         8  9  10  11"
      ]
     },
     "execution_count": 75,
     "metadata": {},
     "output_type": "execute_result"
    }
   ],
   "source": [
    "df.columns.name = 'Alphabet'\n",
    "df"
   ]
  },
  {
   "cell_type": "code",
   "execution_count": 76,
   "id": "4600f6f0",
   "metadata": {
    "ExecuteTime": {
     "end_time": "2022-03-09T05:46:05.187347Z",
     "start_time": "2022-03-09T05:46:05.173384Z"
    }
   },
   "outputs": [
    {
     "data": {
      "text/html": [
       "<div>\n",
       "<style scoped>\n",
       "    .dataframe tbody tr th:only-of-type {\n",
       "        vertical-align: middle;\n",
       "    }\n",
       "\n",
       "    .dataframe tbody tr th {\n",
       "        vertical-align: top;\n",
       "    }\n",
       "\n",
       "    .dataframe thead th {\n",
       "        text-align: right;\n",
       "    }\n",
       "</style>\n",
       "<table border=\"1\" class=\"dataframe\">\n",
       "  <thead>\n",
       "    <tr style=\"text-align: right;\">\n",
       "      <th>Alphabet</th>\n",
       "      <th>a</th>\n",
       "      <th>b</th>\n",
       "      <th>c</th>\n",
       "      <th>d</th>\n",
       "    </tr>\n",
       "    <tr>\n",
       "      <th>Numeric</th>\n",
       "      <th></th>\n",
       "      <th></th>\n",
       "      <th></th>\n",
       "      <th></th>\n",
       "    </tr>\n",
       "  </thead>\n",
       "  <tbody>\n",
       "    <tr>\n",
       "      <th>1</th>\n",
       "      <td>50</td>\n",
       "      <td>51</td>\n",
       "      <td>52</td>\n",
       "      <td>53</td>\n",
       "    </tr>\n",
       "    <tr>\n",
       "      <th>2</th>\n",
       "      <td>4</td>\n",
       "      <td>5</td>\n",
       "      <td>6</td>\n",
       "      <td>7</td>\n",
       "    </tr>\n",
       "    <tr>\n",
       "      <th>3</th>\n",
       "      <td>8</td>\n",
       "      <td>9</td>\n",
       "      <td>10</td>\n",
       "      <td>11</td>\n",
       "    </tr>\n",
       "  </tbody>\n",
       "</table>\n",
       "</div>"
      ],
      "text/plain": [
       "Alphabet   a   b   c   d\n",
       "Numeric                 \n",
       "1         50  51  52  53\n",
       "2          4   5   6   7\n",
       "3          8   9  10  11"
      ]
     },
     "execution_count": 76,
     "metadata": {},
     "output_type": "execute_result"
    }
   ],
   "source": [
    "df.loc[1] = np.arange(50, 54).reshape(1, 4)\n",
    "df"
   ]
  },
  {
   "cell_type": "code",
   "execution_count": 77,
   "id": "41f552d2",
   "metadata": {
    "ExecuteTime": {
     "end_time": "2022-03-09T05:46:05.202307Z",
     "start_time": "2022-03-09T05:46:05.188344Z"
    }
   },
   "outputs": [
    {
     "data": {
      "text/html": [
       "<div>\n",
       "<style scoped>\n",
       "    .dataframe tbody tr th:only-of-type {\n",
       "        vertical-align: middle;\n",
       "    }\n",
       "\n",
       "    .dataframe tbody tr th {\n",
       "        vertical-align: top;\n",
       "    }\n",
       "\n",
       "    .dataframe thead th {\n",
       "        text-align: right;\n",
       "    }\n",
       "</style>\n",
       "<table border=\"1\" class=\"dataframe\">\n",
       "  <thead>\n",
       "    <tr style=\"text-align: right;\">\n",
       "      <th>Alphabet</th>\n",
       "      <th>a</th>\n",
       "      <th>b</th>\n",
       "      <th>c</th>\n",
       "      <th>d</th>\n",
       "    </tr>\n",
       "    <tr>\n",
       "      <th>Numeric</th>\n",
       "      <th></th>\n",
       "      <th></th>\n",
       "      <th></th>\n",
       "      <th></th>\n",
       "    </tr>\n",
       "  </thead>\n",
       "  <tbody>\n",
       "    <tr>\n",
       "      <th>1</th>\n",
       "      <td>50</td>\n",
       "      <td>51</td>\n",
       "      <td>10</td>\n",
       "      <td>53</td>\n",
       "    </tr>\n",
       "    <tr>\n",
       "      <th>2</th>\n",
       "      <td>4</td>\n",
       "      <td>5</td>\n",
       "      <td>20</td>\n",
       "      <td>7</td>\n",
       "    </tr>\n",
       "    <tr>\n",
       "      <th>3</th>\n",
       "      <td>8</td>\n",
       "      <td>9</td>\n",
       "      <td>30</td>\n",
       "      <td>11</td>\n",
       "    </tr>\n",
       "  </tbody>\n",
       "</table>\n",
       "</div>"
      ],
      "text/plain": [
       "Alphabet   a   b   c   d\n",
       "Numeric                 \n",
       "1         50  51  10  53\n",
       "2          4   5  20   7\n",
       "3          8   9  30  11"
      ]
     },
     "execution_count": 77,
     "metadata": {},
     "output_type": "execute_result"
    }
   ],
   "source": [
    "df['c'] = [10, 20, 30]\n",
    "df"
   ]
  },
  {
   "cell_type": "code",
   "execution_count": 78,
   "id": "44131e33",
   "metadata": {
    "ExecuteTime": {
     "end_time": "2022-03-09T05:46:05.217268Z",
     "start_time": "2022-03-09T05:46:05.203305Z"
    }
   },
   "outputs": [
    {
     "data": {
      "text/html": [
       "<div>\n",
       "<style scoped>\n",
       "    .dataframe tbody tr th:only-of-type {\n",
       "        vertical-align: middle;\n",
       "    }\n",
       "\n",
       "    .dataframe tbody tr th {\n",
       "        vertical-align: top;\n",
       "    }\n",
       "\n",
       "    .dataframe thead th {\n",
       "        text-align: right;\n",
       "    }\n",
       "</style>\n",
       "<table border=\"1\" class=\"dataframe\">\n",
       "  <thead>\n",
       "    <tr style=\"text-align: right;\">\n",
       "      <th>Alphabet</th>\n",
       "      <th>a</th>\n",
       "      <th>b</th>\n",
       "      <th>c</th>\n",
       "      <th>d</th>\n",
       "    </tr>\n",
       "    <tr>\n",
       "      <th>Numeric</th>\n",
       "      <th></th>\n",
       "      <th></th>\n",
       "      <th></th>\n",
       "      <th></th>\n",
       "    </tr>\n",
       "  </thead>\n",
       "  <tbody>\n",
       "    <tr>\n",
       "      <th>1</th>\n",
       "      <td>100</td>\n",
       "      <td>101</td>\n",
       "      <td>102</td>\n",
       "      <td>103</td>\n",
       "    </tr>\n",
       "    <tr>\n",
       "      <th>2</th>\n",
       "      <td>104</td>\n",
       "      <td>105</td>\n",
       "      <td>106</td>\n",
       "      <td>107</td>\n",
       "    </tr>\n",
       "    <tr>\n",
       "      <th>3</th>\n",
       "      <td>108</td>\n",
       "      <td>109</td>\n",
       "      <td>110</td>\n",
       "      <td>111</td>\n",
       "    </tr>\n",
       "  </tbody>\n",
       "</table>\n",
       "</div>"
      ],
      "text/plain": [
       "Alphabet    a    b    c    d\n",
       "Numeric                     \n",
       "1         100  101  102  103\n",
       "2         104  105  106  107\n",
       "3         108  109  110  111"
      ]
     },
     "execution_count": 78,
     "metadata": {},
     "output_type": "execute_result"
    }
   ],
   "source": [
    "df[:] = np.arange(100, 112).reshape(3, 4)\n",
    "df"
   ]
  },
  {
   "cell_type": "code",
   "execution_count": 79,
   "id": "891ccb35",
   "metadata": {
    "ExecuteTime": {
     "end_time": "2022-03-09T05:46:05.232227Z",
     "start_time": "2022-03-09T05:46:05.218266Z"
    }
   },
   "outputs": [
    {
     "data": {
      "text/html": [
       "<div>\n",
       "<style scoped>\n",
       "    .dataframe tbody tr th:only-of-type {\n",
       "        vertical-align: middle;\n",
       "    }\n",
       "\n",
       "    .dataframe tbody tr th {\n",
       "        vertical-align: top;\n",
       "    }\n",
       "\n",
       "    .dataframe thead th {\n",
       "        text-align: right;\n",
       "    }\n",
       "</style>\n",
       "<table border=\"1\" class=\"dataframe\">\n",
       "  <thead>\n",
       "    <tr style=\"text-align: right;\">\n",
       "      <th>Alphabet</th>\n",
       "      <th>a</th>\n",
       "      <th>b</th>\n",
       "      <th>c</th>\n",
       "      <th>d</th>\n",
       "    </tr>\n",
       "  </thead>\n",
       "  <tbody>\n",
       "    <tr>\n",
       "      <th>A</th>\n",
       "      <td>100</td>\n",
       "      <td>101</td>\n",
       "      <td>102</td>\n",
       "      <td>103</td>\n",
       "    </tr>\n",
       "    <tr>\n",
       "      <th>B</th>\n",
       "      <td>104</td>\n",
       "      <td>105</td>\n",
       "      <td>106</td>\n",
       "      <td>107</td>\n",
       "    </tr>\n",
       "    <tr>\n",
       "      <th>C</th>\n",
       "      <td>108</td>\n",
       "      <td>109</td>\n",
       "      <td>110</td>\n",
       "      <td>111</td>\n",
       "    </tr>\n",
       "  </tbody>\n",
       "</table>\n",
       "</div>"
      ],
      "text/plain": [
       "Alphabet    a    b    c    d\n",
       "A         100  101  102  103\n",
       "B         104  105  106  107\n",
       "C         108  109  110  111"
      ]
     },
     "execution_count": 79,
     "metadata": {},
     "output_type": "execute_result"
    }
   ],
   "source": [
    "df.index = list('ABC')\n",
    "df"
   ]
  },
  {
   "cell_type": "code",
   "execution_count": 80,
   "id": "9917f4ca",
   "metadata": {
    "ExecuteTime": {
     "end_time": "2022-03-09T05:46:05.247187Z",
     "start_time": "2022-03-09T05:46:05.233225Z"
    }
   },
   "outputs": [
    {
     "data": {
      "text/html": [
       "<div>\n",
       "<style scoped>\n",
       "    .dataframe tbody tr th:only-of-type {\n",
       "        vertical-align: middle;\n",
       "    }\n",
       "\n",
       "    .dataframe tbody tr th {\n",
       "        vertical-align: top;\n",
       "    }\n",
       "\n",
       "    .dataframe thead th {\n",
       "        text-align: right;\n",
       "    }\n",
       "</style>\n",
       "<table border=\"1\" class=\"dataframe\">\n",
       "  <thead>\n",
       "    <tr style=\"text-align: right;\">\n",
       "      <th>Alphabet</th>\n",
       "      <th>a</th>\n",
       "      <th>b</th>\n",
       "      <th>c</th>\n",
       "      <th>d</th>\n",
       "    </tr>\n",
       "  </thead>\n",
       "  <tbody>\n",
       "    <tr>\n",
       "      <th>A</th>\n",
       "      <td>100</td>\n",
       "      <td>101</td>\n",
       "      <td>102</td>\n",
       "      <td>103</td>\n",
       "    </tr>\n",
       "    <tr>\n",
       "      <th>B</th>\n",
       "      <td>104</td>\n",
       "      <td>105</td>\n",
       "      <td>106</td>\n",
       "      <td>107</td>\n",
       "    </tr>\n",
       "    <tr>\n",
       "      <th>C</th>\n",
       "      <td>108</td>\n",
       "      <td>109</td>\n",
       "      <td>110</td>\n",
       "      <td>111</td>\n",
       "    </tr>\n",
       "  </tbody>\n",
       "</table>\n",
       "</div>"
      ],
      "text/plain": [
       "Alphabet    a    b    c    d\n",
       "A         100  101  102  103\n",
       "B         104  105  106  107\n",
       "C         108  109  110  111"
      ]
     },
     "execution_count": 80,
     "metadata": {},
     "output_type": "execute_result"
    }
   ],
   "source": [
    "df['b'] = df['b'].astype(int)\n",
    "df"
   ]
  },
  {
   "cell_type": "code",
   "execution_count": 81,
   "id": "fc4d5ffd",
   "metadata": {
    "ExecuteTime": {
     "end_time": "2022-03-09T05:46:05.262147Z",
     "start_time": "2022-03-09T05:46:05.248186Z"
    }
   },
   "outputs": [
    {
     "data": {
      "text/html": [
       "<div>\n",
       "<style scoped>\n",
       "    .dataframe tbody tr th:only-of-type {\n",
       "        vertical-align: middle;\n",
       "    }\n",
       "\n",
       "    .dataframe tbody tr th {\n",
       "        vertical-align: top;\n",
       "    }\n",
       "\n",
       "    .dataframe thead th {\n",
       "        text-align: right;\n",
       "    }\n",
       "</style>\n",
       "<table border=\"1\" class=\"dataframe\">\n",
       "  <thead>\n",
       "    <tr style=\"text-align: right;\">\n",
       "      <th>Alphabet</th>\n",
       "      <th>a</th>\n",
       "      <th>b</th>\n",
       "      <th>c</th>\n",
       "      <th>d</th>\n",
       "    </tr>\n",
       "  </thead>\n",
       "  <tbody>\n",
       "    <tr>\n",
       "      <th>A</th>\n",
       "      <td>100.0</td>\n",
       "      <td>101.0</td>\n",
       "      <td>102.0</td>\n",
       "      <td>103.0</td>\n",
       "    </tr>\n",
       "    <tr>\n",
       "      <th>B</th>\n",
       "      <td>104.0</td>\n",
       "      <td>105.0</td>\n",
       "      <td>106.0</td>\n",
       "      <td>107.0</td>\n",
       "    </tr>\n",
       "    <tr>\n",
       "      <th>C</th>\n",
       "      <td>108.0</td>\n",
       "      <td>109.0</td>\n",
       "      <td>110.0</td>\n",
       "      <td>111.0</td>\n",
       "    </tr>\n",
       "  </tbody>\n",
       "</table>\n",
       "</div>"
      ],
      "text/plain": [
       "Alphabet      a      b      c      d\n",
       "A         100.0  101.0  102.0  103.0\n",
       "B         104.0  105.0  106.0  107.0\n",
       "C         108.0  109.0  110.0  111.0"
      ]
     },
     "execution_count": 81,
     "metadata": {},
     "output_type": "execute_result"
    }
   ],
   "source": [
    "df = df.astype(float)\n",
    "df"
   ]
  },
  {
   "cell_type": "markdown",
   "id": "1658d3f7",
   "metadata": {},
   "source": [
    "### indexing & slicing"
   ]
  },
  {
   "cell_type": "markdown",
   "id": "686778df",
   "metadata": {},
   "source": [
    "#### row indexing"
   ]
  },
  {
   "cell_type": "code",
   "execution_count": 82,
   "id": "e7604a7d",
   "metadata": {
    "ExecuteTime": {
     "end_time": "2022-03-09T05:46:05.277645Z",
     "start_time": "2022-03-09T05:46:05.263145Z"
    }
   },
   "outputs": [
    {
     "data": {
      "text/html": [
       "<div>\n",
       "<style scoped>\n",
       "    .dataframe tbody tr th:only-of-type {\n",
       "        vertical-align: middle;\n",
       "    }\n",
       "\n",
       "    .dataframe tbody tr th {\n",
       "        vertical-align: top;\n",
       "    }\n",
       "\n",
       "    .dataframe thead th {\n",
       "        text-align: right;\n",
       "    }\n",
       "</style>\n",
       "<table border=\"1\" class=\"dataframe\">\n",
       "  <thead>\n",
       "    <tr style=\"text-align: right;\">\n",
       "      <th></th>\n",
       "      <th>a</th>\n",
       "      <th>b</th>\n",
       "      <th>c</th>\n",
       "      <th>d</th>\n",
       "    </tr>\n",
       "  </thead>\n",
       "  <tbody>\n",
       "    <tr>\n",
       "      <th>10</th>\n",
       "      <td>0</td>\n",
       "      <td>1</td>\n",
       "      <td>2</td>\n",
       "      <td>3</td>\n",
       "    </tr>\n",
       "    <tr>\n",
       "      <th>20</th>\n",
       "      <td>4</td>\n",
       "      <td>5</td>\n",
       "      <td>6</td>\n",
       "      <td>7</td>\n",
       "    </tr>\n",
       "    <tr>\n",
       "      <th>30</th>\n",
       "      <td>8</td>\n",
       "      <td>9</td>\n",
       "      <td>10</td>\n",
       "      <td>11</td>\n",
       "    </tr>\n",
       "    <tr>\n",
       "      <th>40</th>\n",
       "      <td>12</td>\n",
       "      <td>13</td>\n",
       "      <td>14</td>\n",
       "      <td>15</td>\n",
       "    </tr>\n",
       "  </tbody>\n",
       "</table>\n",
       "</div>"
      ],
      "text/plain": [
       "     a   b   c   d\n",
       "10   0   1   2   3\n",
       "20   4   5   6   7\n",
       "30   8   9  10  11\n",
       "40  12  13  14  15"
      ]
     },
     "execution_count": 82,
     "metadata": {},
     "output_type": "execute_result"
    }
   ],
   "source": [
    "data = np.arange(16).reshape(4, 4)\n",
    "df = pd.DataFrame(data, index=[10, 20, 30, 40], columns=list('abcd'))\n",
    "df"
   ]
  },
  {
   "cell_type": "code",
   "execution_count": 83,
   "id": "533b4f9a",
   "metadata": {
    "ExecuteTime": {
     "end_time": "2022-03-09T05:46:05.292605Z",
     "start_time": "2022-03-09T05:46:05.278643Z"
    }
   },
   "outputs": [
    {
     "data": {
      "text/plain": [
       "a    0\n",
       "b    1\n",
       "c    2\n",
       "d    3\n",
       "Name: 10, dtype: int32"
      ]
     },
     "execution_count": 83,
     "metadata": {},
     "output_type": "execute_result"
    }
   ],
   "source": [
    "df.loc[10] # Series 형태로 반환"
   ]
  },
  {
   "cell_type": "code",
   "execution_count": 84,
   "id": "9f1a713b",
   "metadata": {
    "ExecuteTime": {
     "end_time": "2022-03-09T05:46:05.307566Z",
     "start_time": "2022-03-09T05:46:05.293603Z"
    }
   },
   "outputs": [
    {
     "data": {
      "text/html": [
       "<div>\n",
       "<style scoped>\n",
       "    .dataframe tbody tr th:only-of-type {\n",
       "        vertical-align: middle;\n",
       "    }\n",
       "\n",
       "    .dataframe tbody tr th {\n",
       "        vertical-align: top;\n",
       "    }\n",
       "\n",
       "    .dataframe thead th {\n",
       "        text-align: right;\n",
       "    }\n",
       "</style>\n",
       "<table border=\"1\" class=\"dataframe\">\n",
       "  <thead>\n",
       "    <tr style=\"text-align: right;\">\n",
       "      <th></th>\n",
       "      <th>a</th>\n",
       "      <th>b</th>\n",
       "      <th>c</th>\n",
       "      <th>d</th>\n",
       "    </tr>\n",
       "  </thead>\n",
       "  <tbody>\n",
       "    <tr>\n",
       "      <th>10</th>\n",
       "      <td>0</td>\n",
       "      <td>1</td>\n",
       "      <td>2</td>\n",
       "      <td>3</td>\n",
       "    </tr>\n",
       "  </tbody>\n",
       "</table>\n",
       "</div>"
      ],
      "text/plain": [
       "    a  b  c  d\n",
       "10  0  1  2  3"
      ]
     },
     "execution_count": 84,
     "metadata": {},
     "output_type": "execute_result"
    }
   ],
   "source": [
    "df.loc[[10]] # DataFrame 형태로 반환"
   ]
  },
  {
   "cell_type": "code",
   "execution_count": 85,
   "id": "56d653b3",
   "metadata": {
    "ExecuteTime": {
     "end_time": "2022-03-09T05:46:05.322525Z",
     "start_time": "2022-03-09T05:46:05.308562Z"
    }
   },
   "outputs": [
    {
     "data": {
      "text/html": [
       "<div>\n",
       "<style scoped>\n",
       "    .dataframe tbody tr th:only-of-type {\n",
       "        vertical-align: middle;\n",
       "    }\n",
       "\n",
       "    .dataframe tbody tr th {\n",
       "        vertical-align: top;\n",
       "    }\n",
       "\n",
       "    .dataframe thead th {\n",
       "        text-align: right;\n",
       "    }\n",
       "</style>\n",
       "<table border=\"1\" class=\"dataframe\">\n",
       "  <thead>\n",
       "    <tr style=\"text-align: right;\">\n",
       "      <th></th>\n",
       "      <th>a</th>\n",
       "      <th>b</th>\n",
       "      <th>c</th>\n",
       "      <th>d</th>\n",
       "    </tr>\n",
       "  </thead>\n",
       "  <tbody>\n",
       "    <tr>\n",
       "      <th>10</th>\n",
       "      <td>0</td>\n",
       "      <td>1</td>\n",
       "      <td>2</td>\n",
       "      <td>3</td>\n",
       "    </tr>\n",
       "    <tr>\n",
       "      <th>20</th>\n",
       "      <td>4</td>\n",
       "      <td>5</td>\n",
       "      <td>6</td>\n",
       "      <td>7</td>\n",
       "    </tr>\n",
       "    <tr>\n",
       "      <th>40</th>\n",
       "      <td>12</td>\n",
       "      <td>13</td>\n",
       "      <td>14</td>\n",
       "      <td>15</td>\n",
       "    </tr>\n",
       "  </tbody>\n",
       "</table>\n",
       "</div>"
      ],
      "text/plain": [
       "     a   b   c   d\n",
       "10   0   1   2   3\n",
       "20   4   5   6   7\n",
       "40  12  13  14  15"
      ]
     },
     "execution_count": 85,
     "metadata": {},
     "output_type": "execute_result"
    }
   ],
   "source": [
    "df.loc[[10, 20, 40]]"
   ]
  },
  {
   "cell_type": "code",
   "execution_count": 86,
   "id": "623204f3",
   "metadata": {
    "ExecuteTime": {
     "end_time": "2022-03-09T05:46:05.337485Z",
     "start_time": "2022-03-09T05:46:05.323522Z"
    }
   },
   "outputs": [
    {
     "data": {
      "text/html": [
       "<div>\n",
       "<style scoped>\n",
       "    .dataframe tbody tr th:only-of-type {\n",
       "        vertical-align: middle;\n",
       "    }\n",
       "\n",
       "    .dataframe tbody tr th {\n",
       "        vertical-align: top;\n",
       "    }\n",
       "\n",
       "    .dataframe thead th {\n",
       "        text-align: right;\n",
       "    }\n",
       "</style>\n",
       "<table border=\"1\" class=\"dataframe\">\n",
       "  <thead>\n",
       "    <tr style=\"text-align: right;\">\n",
       "      <th></th>\n",
       "      <th>a</th>\n",
       "      <th>b</th>\n",
       "      <th>c</th>\n",
       "      <th>d</th>\n",
       "    </tr>\n",
       "  </thead>\n",
       "  <tbody>\n",
       "    <tr>\n",
       "      <th>10</th>\n",
       "      <td>0</td>\n",
       "      <td>1</td>\n",
       "      <td>2</td>\n",
       "      <td>3</td>\n",
       "    </tr>\n",
       "    <tr>\n",
       "      <th>20</th>\n",
       "      <td>4</td>\n",
       "      <td>5</td>\n",
       "      <td>6</td>\n",
       "      <td>7</td>\n",
       "    </tr>\n",
       "    <tr>\n",
       "      <th>30</th>\n",
       "      <td>8</td>\n",
       "      <td>9</td>\n",
       "      <td>10</td>\n",
       "      <td>11</td>\n",
       "    </tr>\n",
       "  </tbody>\n",
       "</table>\n",
       "</div>"
      ],
      "text/plain": [
       "    a  b   c   d\n",
       "10  0  1   2   3\n",
       "20  4  5   6   7\n",
       "30  8  9  10  11"
      ]
     },
     "execution_count": 86,
     "metadata": {},
     "output_type": "execute_result"
    }
   ],
   "source": [
    "df.loc[10:30]"
   ]
  },
  {
   "cell_type": "code",
   "execution_count": 87,
   "id": "350634ed",
   "metadata": {
    "ExecuteTime": {
     "end_time": "2022-03-09T05:46:05.352445Z",
     "start_time": "2022-03-09T05:46:05.338483Z"
    }
   },
   "outputs": [
    {
     "data": {
      "text/plain": [
       "a     8\n",
       "b     9\n",
       "c    10\n",
       "d    11\n",
       "Name: 30, dtype: int32"
      ]
     },
     "execution_count": 87,
     "metadata": {},
     "output_type": "execute_result"
    }
   ],
   "source": [
    "df.iloc[2] # Series 형태로 반환"
   ]
  },
  {
   "cell_type": "code",
   "execution_count": 88,
   "id": "e4ade093",
   "metadata": {
    "ExecuteTime": {
     "end_time": "2022-03-09T05:46:05.367405Z",
     "start_time": "2022-03-09T05:46:05.353444Z"
    }
   },
   "outputs": [
    {
     "data": {
      "text/html": [
       "<div>\n",
       "<style scoped>\n",
       "    .dataframe tbody tr th:only-of-type {\n",
       "        vertical-align: middle;\n",
       "    }\n",
       "\n",
       "    .dataframe tbody tr th {\n",
       "        vertical-align: top;\n",
       "    }\n",
       "\n",
       "    .dataframe thead th {\n",
       "        text-align: right;\n",
       "    }\n",
       "</style>\n",
       "<table border=\"1\" class=\"dataframe\">\n",
       "  <thead>\n",
       "    <tr style=\"text-align: right;\">\n",
       "      <th></th>\n",
       "      <th>a</th>\n",
       "      <th>b</th>\n",
       "      <th>c</th>\n",
       "      <th>d</th>\n",
       "    </tr>\n",
       "  </thead>\n",
       "  <tbody>\n",
       "    <tr>\n",
       "      <th>30</th>\n",
       "      <td>8</td>\n",
       "      <td>9</td>\n",
       "      <td>10</td>\n",
       "      <td>11</td>\n",
       "    </tr>\n",
       "  </tbody>\n",
       "</table>\n",
       "</div>"
      ],
      "text/plain": [
       "    a  b   c   d\n",
       "30  8  9  10  11"
      ]
     },
     "execution_count": 88,
     "metadata": {},
     "output_type": "execute_result"
    }
   ],
   "source": [
    "df.iloc[[2]] # DataFrame 형태로 반환"
   ]
  },
  {
   "cell_type": "code",
   "execution_count": 89,
   "id": "b73b243d",
   "metadata": {
    "ExecuteTime": {
     "end_time": "2022-03-09T05:46:05.382365Z",
     "start_time": "2022-03-09T05:46:05.368402Z"
    }
   },
   "outputs": [
    {
     "data": {
      "text/html": [
       "<div>\n",
       "<style scoped>\n",
       "    .dataframe tbody tr th:only-of-type {\n",
       "        vertical-align: middle;\n",
       "    }\n",
       "\n",
       "    .dataframe tbody tr th {\n",
       "        vertical-align: top;\n",
       "    }\n",
       "\n",
       "    .dataframe thead th {\n",
       "        text-align: right;\n",
       "    }\n",
       "</style>\n",
       "<table border=\"1\" class=\"dataframe\">\n",
       "  <thead>\n",
       "    <tr style=\"text-align: right;\">\n",
       "      <th></th>\n",
       "      <th>a</th>\n",
       "      <th>b</th>\n",
       "      <th>c</th>\n",
       "      <th>d</th>\n",
       "    </tr>\n",
       "  </thead>\n",
       "  <tbody>\n",
       "    <tr>\n",
       "      <th>10</th>\n",
       "      <td>0</td>\n",
       "      <td>1</td>\n",
       "      <td>2</td>\n",
       "      <td>3</td>\n",
       "    </tr>\n",
       "    <tr>\n",
       "      <th>30</th>\n",
       "      <td>8</td>\n",
       "      <td>9</td>\n",
       "      <td>10</td>\n",
       "      <td>11</td>\n",
       "    </tr>\n",
       "  </tbody>\n",
       "</table>\n",
       "</div>"
      ],
      "text/plain": [
       "    a  b   c   d\n",
       "10  0  1   2   3\n",
       "30  8  9  10  11"
      ]
     },
     "execution_count": 89,
     "metadata": {},
     "output_type": "execute_result"
    }
   ],
   "source": [
    "df.iloc[[0, 2]]"
   ]
  },
  {
   "cell_type": "code",
   "execution_count": 90,
   "id": "22bb99c9",
   "metadata": {
    "ExecuteTime": {
     "end_time": "2022-03-09T05:46:05.397326Z",
     "start_time": "2022-03-09T05:46:05.383362Z"
    }
   },
   "outputs": [
    {
     "data": {
      "text/html": [
       "<div>\n",
       "<style scoped>\n",
       "    .dataframe tbody tr th:only-of-type {\n",
       "        vertical-align: middle;\n",
       "    }\n",
       "\n",
       "    .dataframe tbody tr th {\n",
       "        vertical-align: top;\n",
       "    }\n",
       "\n",
       "    .dataframe thead th {\n",
       "        text-align: right;\n",
       "    }\n",
       "</style>\n",
       "<table border=\"1\" class=\"dataframe\">\n",
       "  <thead>\n",
       "    <tr style=\"text-align: right;\">\n",
       "      <th></th>\n",
       "      <th>a</th>\n",
       "      <th>b</th>\n",
       "      <th>c</th>\n",
       "      <th>d</th>\n",
       "    </tr>\n",
       "  </thead>\n",
       "  <tbody>\n",
       "    <tr>\n",
       "      <th>10</th>\n",
       "      <td>0</td>\n",
       "      <td>1</td>\n",
       "      <td>2</td>\n",
       "      <td>3</td>\n",
       "    </tr>\n",
       "    <tr>\n",
       "      <th>20</th>\n",
       "      <td>4</td>\n",
       "      <td>5</td>\n",
       "      <td>6</td>\n",
       "      <td>7</td>\n",
       "    </tr>\n",
       "    <tr>\n",
       "      <th>30</th>\n",
       "      <td>8</td>\n",
       "      <td>9</td>\n",
       "      <td>10</td>\n",
       "      <td>11</td>\n",
       "    </tr>\n",
       "  </tbody>\n",
       "</table>\n",
       "</div>"
      ],
      "text/plain": [
       "    a  b   c   d\n",
       "10  0  1   2   3\n",
       "20  4  5   6   7\n",
       "30  8  9  10  11"
      ]
     },
     "execution_count": 90,
     "metadata": {},
     "output_type": "execute_result"
    }
   ],
   "source": [
    "df.iloc[:3] # = df.head(3)"
   ]
  },
  {
   "cell_type": "code",
   "execution_count": 91,
   "id": "7ab85583",
   "metadata": {
    "ExecuteTime": {
     "end_time": "2022-03-09T05:46:05.412285Z",
     "start_time": "2022-03-09T05:46:05.398323Z"
    }
   },
   "outputs": [
    {
     "data": {
      "text/html": [
       "<div>\n",
       "<style scoped>\n",
       "    .dataframe tbody tr th:only-of-type {\n",
       "        vertical-align: middle;\n",
       "    }\n",
       "\n",
       "    .dataframe tbody tr th {\n",
       "        vertical-align: top;\n",
       "    }\n",
       "\n",
       "    .dataframe thead th {\n",
       "        text-align: right;\n",
       "    }\n",
       "</style>\n",
       "<table border=\"1\" class=\"dataframe\">\n",
       "  <thead>\n",
       "    <tr style=\"text-align: right;\">\n",
       "      <th></th>\n",
       "      <th>a</th>\n",
       "      <th>b</th>\n",
       "      <th>c</th>\n",
       "      <th>d</th>\n",
       "    </tr>\n",
       "  </thead>\n",
       "  <tbody>\n",
       "    <tr>\n",
       "      <th>20</th>\n",
       "      <td>4</td>\n",
       "      <td>5</td>\n",
       "      <td>6</td>\n",
       "      <td>7</td>\n",
       "    </tr>\n",
       "    <tr>\n",
       "      <th>30</th>\n",
       "      <td>8</td>\n",
       "      <td>9</td>\n",
       "      <td>10</td>\n",
       "      <td>11</td>\n",
       "    </tr>\n",
       "    <tr>\n",
       "      <th>40</th>\n",
       "      <td>12</td>\n",
       "      <td>13</td>\n",
       "      <td>14</td>\n",
       "      <td>15</td>\n",
       "    </tr>\n",
       "  </tbody>\n",
       "</table>\n",
       "</div>"
      ],
      "text/plain": [
       "     a   b   c   d\n",
       "20   4   5   6   7\n",
       "30   8   9  10  11\n",
       "40  12  13  14  15"
      ]
     },
     "execution_count": 91,
     "metadata": {},
     "output_type": "execute_result"
    }
   ],
   "source": [
    "df.iloc[-3:] # = df.tail(3)"
   ]
  },
  {
   "cell_type": "markdown",
   "id": "8d312341",
   "metadata": {},
   "source": [
    "#### column indexing"
   ]
  },
  {
   "cell_type": "code",
   "execution_count": 92,
   "id": "dfc89ad9",
   "metadata": {
    "ExecuteTime": {
     "end_time": "2022-03-09T05:46:05.427245Z",
     "start_time": "2022-03-09T05:46:05.413282Z"
    }
   },
   "outputs": [
    {
     "data": {
      "text/html": [
       "<div>\n",
       "<style scoped>\n",
       "    .dataframe tbody tr th:only-of-type {\n",
       "        vertical-align: middle;\n",
       "    }\n",
       "\n",
       "    .dataframe tbody tr th {\n",
       "        vertical-align: top;\n",
       "    }\n",
       "\n",
       "    .dataframe thead th {\n",
       "        text-align: right;\n",
       "    }\n",
       "</style>\n",
       "<table border=\"1\" class=\"dataframe\">\n",
       "  <thead>\n",
       "    <tr style=\"text-align: right;\">\n",
       "      <th></th>\n",
       "      <th>성별</th>\n",
       "      <th>학년</th>\n",
       "      <th>출석</th>\n",
       "      <th>과제</th>\n",
       "      <th>중간</th>\n",
       "      <th>기말</th>\n",
       "    </tr>\n",
       "  </thead>\n",
       "  <tbody>\n",
       "    <tr>\n",
       "      <th>김혁주</th>\n",
       "      <td>남</td>\n",
       "      <td>4</td>\n",
       "      <td>85</td>\n",
       "      <td>75</td>\n",
       "      <td>90</td>\n",
       "      <td>95</td>\n",
       "    </tr>\n",
       "    <tr>\n",
       "      <th>홍길동</th>\n",
       "      <td>남</td>\n",
       "      <td>3</td>\n",
       "      <td>85</td>\n",
       "      <td>90</td>\n",
       "      <td>85</td>\n",
       "      <td>88</td>\n",
       "    </tr>\n",
       "    <tr>\n",
       "      <th>유재석</th>\n",
       "      <td>남</td>\n",
       "      <td>3</td>\n",
       "      <td>100</td>\n",
       "      <td>100</td>\n",
       "      <td>100</td>\n",
       "      <td>100</td>\n",
       "    </tr>\n",
       "    <tr>\n",
       "      <th>장미란</th>\n",
       "      <td>여</td>\n",
       "      <td>4</td>\n",
       "      <td>90</td>\n",
       "      <td>85</td>\n",
       "      <td>80</td>\n",
       "      <td>78</td>\n",
       "    </tr>\n",
       "    <tr>\n",
       "      <th>박명수</th>\n",
       "      <td>남</td>\n",
       "      <td>4</td>\n",
       "      <td>90</td>\n",
       "      <td>80</td>\n",
       "      <td>80</td>\n",
       "      <td>80</td>\n",
       "    </tr>\n",
       "    <tr>\n",
       "      <th>정형돈</th>\n",
       "      <td>남</td>\n",
       "      <td>2</td>\n",
       "      <td>80</td>\n",
       "      <td>99</td>\n",
       "      <td>88</td>\n",
       "      <td>90</td>\n",
       "    </tr>\n",
       "    <tr>\n",
       "      <th>김연아</th>\n",
       "      <td>여</td>\n",
       "      <td>1</td>\n",
       "      <td>75</td>\n",
       "      <td>80</td>\n",
       "      <td>100</td>\n",
       "      <td>100</td>\n",
       "    </tr>\n",
       "    <tr>\n",
       "      <th>조유리</th>\n",
       "      <td>여</td>\n",
       "      <td>2</td>\n",
       "      <td>85</td>\n",
       "      <td>90</td>\n",
       "      <td>90</td>\n",
       "      <td>89</td>\n",
       "    </tr>\n",
       "    <tr>\n",
       "      <th>하동훈</th>\n",
       "      <td>남</td>\n",
       "      <td>1</td>\n",
       "      <td>75</td>\n",
       "      <td>85</td>\n",
       "      <td>100</td>\n",
       "      <td>85</td>\n",
       "    </tr>\n",
       "  </tbody>\n",
       "</table>\n",
       "</div>"
      ],
      "text/plain": [
       "    성별  학년   출석   과제   중간   기말\n",
       "김혁주  남   4   85   75   90   95\n",
       "홍길동  남   3   85   90   85   88\n",
       "유재석  남   3  100  100  100  100\n",
       "장미란  여   4   90   85   80   78\n",
       "박명수  남   4   90   80   80   80\n",
       "정형돈  남   2   80   99   88   90\n",
       "김연아  여   1   75   80  100  100\n",
       "조유리  여   2   85   90   90   89\n",
       "하동훈  남   1   75   85  100   85"
      ]
     },
     "execution_count": 92,
     "metadata": {},
     "output_type": "execute_result"
    }
   ],
   "source": [
    "df = pd.read_table('table_data.txt', index_col='이름', sep='\\t')\n",
    "df.index.name = None\n",
    "df"
   ]
  },
  {
   "cell_type": "code",
   "execution_count": 93,
   "id": "704f2157",
   "metadata": {
    "ExecuteTime": {
     "end_time": "2022-03-09T05:46:05.442205Z",
     "start_time": "2022-03-09T05:46:05.428243Z"
    }
   },
   "outputs": [
    {
     "data": {
      "text/plain": [
       "김혁주     85\n",
       "홍길동     85\n",
       "유재석    100\n",
       "장미란     90\n",
       "박명수     90\n",
       "정형돈     80\n",
       "김연아     75\n",
       "조유리     85\n",
       "하동훈     75\n",
       "Name: 출석, dtype: int64"
      ]
     },
     "execution_count": 93,
     "metadata": {},
     "output_type": "execute_result"
    }
   ],
   "source": [
    "df['출석'] # Series 형태로 반환"
   ]
  },
  {
   "cell_type": "code",
   "execution_count": 94,
   "id": "f6f070d3",
   "metadata": {
    "ExecuteTime": {
     "end_time": "2022-03-09T05:46:05.457165Z",
     "start_time": "2022-03-09T05:46:05.443202Z"
    }
   },
   "outputs": [
    {
     "data": {
      "text/html": [
       "<div>\n",
       "<style scoped>\n",
       "    .dataframe tbody tr th:only-of-type {\n",
       "        vertical-align: middle;\n",
       "    }\n",
       "\n",
       "    .dataframe tbody tr th {\n",
       "        vertical-align: top;\n",
       "    }\n",
       "\n",
       "    .dataframe thead th {\n",
       "        text-align: right;\n",
       "    }\n",
       "</style>\n",
       "<table border=\"1\" class=\"dataframe\">\n",
       "  <thead>\n",
       "    <tr style=\"text-align: right;\">\n",
       "      <th></th>\n",
       "      <th>출석</th>\n",
       "    </tr>\n",
       "  </thead>\n",
       "  <tbody>\n",
       "    <tr>\n",
       "      <th>김혁주</th>\n",
       "      <td>85</td>\n",
       "    </tr>\n",
       "    <tr>\n",
       "      <th>홍길동</th>\n",
       "      <td>85</td>\n",
       "    </tr>\n",
       "    <tr>\n",
       "      <th>유재석</th>\n",
       "      <td>100</td>\n",
       "    </tr>\n",
       "    <tr>\n",
       "      <th>장미란</th>\n",
       "      <td>90</td>\n",
       "    </tr>\n",
       "    <tr>\n",
       "      <th>박명수</th>\n",
       "      <td>90</td>\n",
       "    </tr>\n",
       "    <tr>\n",
       "      <th>정형돈</th>\n",
       "      <td>80</td>\n",
       "    </tr>\n",
       "    <tr>\n",
       "      <th>김연아</th>\n",
       "      <td>75</td>\n",
       "    </tr>\n",
       "    <tr>\n",
       "      <th>조유리</th>\n",
       "      <td>85</td>\n",
       "    </tr>\n",
       "    <tr>\n",
       "      <th>하동훈</th>\n",
       "      <td>75</td>\n",
       "    </tr>\n",
       "  </tbody>\n",
       "</table>\n",
       "</div>"
      ],
      "text/plain": [
       "      출석\n",
       "김혁주   85\n",
       "홍길동   85\n",
       "유재석  100\n",
       "장미란   90\n",
       "박명수   90\n",
       "정형돈   80\n",
       "김연아   75\n",
       "조유리   85\n",
       "하동훈   75"
      ]
     },
     "execution_count": 94,
     "metadata": {},
     "output_type": "execute_result"
    }
   ],
   "source": [
    "df[['출석']] # DataFrame 형태로 반환"
   ]
  },
  {
   "cell_type": "code",
   "execution_count": 95,
   "id": "8908f6c1",
   "metadata": {
    "ExecuteTime": {
     "end_time": "2022-03-09T05:46:05.472125Z",
     "start_time": "2022-03-09T05:46:05.458162Z"
    }
   },
   "outputs": [
    {
     "data": {
      "text/plain": [
       "김혁주     90\n",
       "홍길동     85\n",
       "유재석    100\n",
       "장미란     80\n",
       "박명수     80\n",
       "정형돈     88\n",
       "김연아    100\n",
       "조유리     90\n",
       "하동훈    100\n",
       "Name: 중간, dtype: int64"
      ]
     },
     "execution_count": 95,
     "metadata": {},
     "output_type": "execute_result"
    }
   ],
   "source": [
    "df.loc[:, '중간'] # = df.iloc[:, 2]"
   ]
  },
  {
   "cell_type": "code",
   "execution_count": 96,
   "id": "7bec4e6f",
   "metadata": {
    "ExecuteTime": {
     "end_time": "2022-03-09T05:46:05.487085Z",
     "start_time": "2022-03-09T05:46:05.473123Z"
    }
   },
   "outputs": [
    {
     "data": {
      "text/html": [
       "<div>\n",
       "<style scoped>\n",
       "    .dataframe tbody tr th:only-of-type {\n",
       "        vertical-align: middle;\n",
       "    }\n",
       "\n",
       "    .dataframe tbody tr th {\n",
       "        vertical-align: top;\n",
       "    }\n",
       "\n",
       "    .dataframe thead th {\n",
       "        text-align: right;\n",
       "    }\n",
       "</style>\n",
       "<table border=\"1\" class=\"dataframe\">\n",
       "  <thead>\n",
       "    <tr style=\"text-align: right;\">\n",
       "      <th></th>\n",
       "      <th>과제</th>\n",
       "      <th>중간</th>\n",
       "    </tr>\n",
       "  </thead>\n",
       "  <tbody>\n",
       "    <tr>\n",
       "      <th>김혁주</th>\n",
       "      <td>75</td>\n",
       "      <td>90</td>\n",
       "    </tr>\n",
       "    <tr>\n",
       "      <th>홍길동</th>\n",
       "      <td>90</td>\n",
       "      <td>85</td>\n",
       "    </tr>\n",
       "    <tr>\n",
       "      <th>유재석</th>\n",
       "      <td>100</td>\n",
       "      <td>100</td>\n",
       "    </tr>\n",
       "    <tr>\n",
       "      <th>장미란</th>\n",
       "      <td>85</td>\n",
       "      <td>80</td>\n",
       "    </tr>\n",
       "    <tr>\n",
       "      <th>박명수</th>\n",
       "      <td>80</td>\n",
       "      <td>80</td>\n",
       "    </tr>\n",
       "    <tr>\n",
       "      <th>정형돈</th>\n",
       "      <td>99</td>\n",
       "      <td>88</td>\n",
       "    </tr>\n",
       "    <tr>\n",
       "      <th>김연아</th>\n",
       "      <td>80</td>\n",
       "      <td>100</td>\n",
       "    </tr>\n",
       "    <tr>\n",
       "      <th>조유리</th>\n",
       "      <td>90</td>\n",
       "      <td>90</td>\n",
       "    </tr>\n",
       "    <tr>\n",
       "      <th>하동훈</th>\n",
       "      <td>85</td>\n",
       "      <td>100</td>\n",
       "    </tr>\n",
       "  </tbody>\n",
       "</table>\n",
       "</div>"
      ],
      "text/plain": [
       "      과제   중간\n",
       "김혁주   75   90\n",
       "홍길동   90   85\n",
       "유재석  100  100\n",
       "장미란   85   80\n",
       "박명수   80   80\n",
       "정형돈   99   88\n",
       "김연아   80  100\n",
       "조유리   90   90\n",
       "하동훈   85  100"
      ]
     },
     "execution_count": 96,
     "metadata": {},
     "output_type": "execute_result"
    }
   ],
   "source": [
    "df.loc[:, '과제':'중간']"
   ]
  },
  {
   "cell_type": "code",
   "execution_count": 97,
   "id": "9629daa3",
   "metadata": {
    "ExecuteTime": {
     "end_time": "2022-03-09T05:46:05.502045Z",
     "start_time": "2022-03-09T05:46:05.488083Z"
    }
   },
   "outputs": [
    {
     "data": {
      "text/plain": [
       "김혁주     75\n",
       "홍길동     90\n",
       "유재석    100\n",
       "장미란     85\n",
       "박명수     80\n",
       "정형돈     99\n",
       "김연아     80\n",
       "조유리     90\n",
       "하동훈     85\n",
       "Name: 과제, dtype: int64"
      ]
     },
     "execution_count": 97,
     "metadata": {},
     "output_type": "execute_result"
    }
   ],
   "source": [
    "df.iloc[:, 3] # = df.loc[:, '기말']"
   ]
  },
  {
   "cell_type": "code",
   "execution_count": 98,
   "id": "aa52d72b",
   "metadata": {
    "ExecuteTime": {
     "end_time": "2022-03-09T05:46:05.517005Z",
     "start_time": "2022-03-09T05:46:05.503042Z"
    }
   },
   "outputs": [
    {
     "data": {
      "text/html": [
       "<div>\n",
       "<style scoped>\n",
       "    .dataframe tbody tr th:only-of-type {\n",
       "        vertical-align: middle;\n",
       "    }\n",
       "\n",
       "    .dataframe tbody tr th {\n",
       "        vertical-align: top;\n",
       "    }\n",
       "\n",
       "    .dataframe thead th {\n",
       "        text-align: right;\n",
       "    }\n",
       "</style>\n",
       "<table border=\"1\" class=\"dataframe\">\n",
       "  <thead>\n",
       "    <tr style=\"text-align: right;\">\n",
       "      <th></th>\n",
       "      <th>성별</th>\n",
       "      <th>학년</th>\n",
       "    </tr>\n",
       "  </thead>\n",
       "  <tbody>\n",
       "    <tr>\n",
       "      <th>김혁주</th>\n",
       "      <td>남</td>\n",
       "      <td>4</td>\n",
       "    </tr>\n",
       "    <tr>\n",
       "      <th>홍길동</th>\n",
       "      <td>남</td>\n",
       "      <td>3</td>\n",
       "    </tr>\n",
       "    <tr>\n",
       "      <th>유재석</th>\n",
       "      <td>남</td>\n",
       "      <td>3</td>\n",
       "    </tr>\n",
       "    <tr>\n",
       "      <th>장미란</th>\n",
       "      <td>여</td>\n",
       "      <td>4</td>\n",
       "    </tr>\n",
       "    <tr>\n",
       "      <th>박명수</th>\n",
       "      <td>남</td>\n",
       "      <td>4</td>\n",
       "    </tr>\n",
       "    <tr>\n",
       "      <th>정형돈</th>\n",
       "      <td>남</td>\n",
       "      <td>2</td>\n",
       "    </tr>\n",
       "    <tr>\n",
       "      <th>김연아</th>\n",
       "      <td>여</td>\n",
       "      <td>1</td>\n",
       "    </tr>\n",
       "    <tr>\n",
       "      <th>조유리</th>\n",
       "      <td>여</td>\n",
       "      <td>2</td>\n",
       "    </tr>\n",
       "    <tr>\n",
       "      <th>하동훈</th>\n",
       "      <td>남</td>\n",
       "      <td>1</td>\n",
       "    </tr>\n",
       "  </tbody>\n",
       "</table>\n",
       "</div>"
      ],
      "text/plain": [
       "    성별  학년\n",
       "김혁주  남   4\n",
       "홍길동  남   3\n",
       "유재석  남   3\n",
       "장미란  여   4\n",
       "박명수  남   4\n",
       "정형돈  남   2\n",
       "김연아  여   1\n",
       "조유리  여   2\n",
       "하동훈  남   1"
      ]
     },
     "execution_count": 98,
     "metadata": {},
     "output_type": "execute_result"
    }
   ],
   "source": [
    "df.iloc[:, :2]"
   ]
  },
  {
   "cell_type": "markdown",
   "id": "890c5fe2",
   "metadata": {},
   "source": [
    "#### element indexing"
   ]
  },
  {
   "cell_type": "code",
   "execution_count": 99,
   "id": "8b0937da",
   "metadata": {
    "ExecuteTime": {
     "end_time": "2022-03-09T05:46:05.531965Z",
     "start_time": "2022-03-09T05:46:05.518002Z"
    }
   },
   "outputs": [
    {
     "data": {
      "text/html": [
       "<div>\n",
       "<style scoped>\n",
       "    .dataframe tbody tr th:only-of-type {\n",
       "        vertical-align: middle;\n",
       "    }\n",
       "\n",
       "    .dataframe tbody tr th {\n",
       "        vertical-align: top;\n",
       "    }\n",
       "\n",
       "    .dataframe thead th {\n",
       "        text-align: right;\n",
       "    }\n",
       "</style>\n",
       "<table border=\"1\" class=\"dataframe\">\n",
       "  <thead>\n",
       "    <tr style=\"text-align: right;\">\n",
       "      <th></th>\n",
       "      <th>성별</th>\n",
       "      <th>학년</th>\n",
       "      <th>출석</th>\n",
       "      <th>과제</th>\n",
       "      <th>중간</th>\n",
       "      <th>기말</th>\n",
       "    </tr>\n",
       "  </thead>\n",
       "  <tbody>\n",
       "    <tr>\n",
       "      <th>김혁주</th>\n",
       "      <td>남</td>\n",
       "      <td>4</td>\n",
       "      <td>85</td>\n",
       "      <td>75</td>\n",
       "      <td>90</td>\n",
       "      <td>95</td>\n",
       "    </tr>\n",
       "    <tr>\n",
       "      <th>홍길동</th>\n",
       "      <td>남</td>\n",
       "      <td>3</td>\n",
       "      <td>85</td>\n",
       "      <td>90</td>\n",
       "      <td>85</td>\n",
       "      <td>88</td>\n",
       "    </tr>\n",
       "    <tr>\n",
       "      <th>유재석</th>\n",
       "      <td>남</td>\n",
       "      <td>3</td>\n",
       "      <td>100</td>\n",
       "      <td>100</td>\n",
       "      <td>100</td>\n",
       "      <td>100</td>\n",
       "    </tr>\n",
       "    <tr>\n",
       "      <th>장미란</th>\n",
       "      <td>여</td>\n",
       "      <td>4</td>\n",
       "      <td>90</td>\n",
       "      <td>85</td>\n",
       "      <td>80</td>\n",
       "      <td>78</td>\n",
       "    </tr>\n",
       "    <tr>\n",
       "      <th>박명수</th>\n",
       "      <td>남</td>\n",
       "      <td>4</td>\n",
       "      <td>90</td>\n",
       "      <td>80</td>\n",
       "      <td>80</td>\n",
       "      <td>80</td>\n",
       "    </tr>\n",
       "    <tr>\n",
       "      <th>정형돈</th>\n",
       "      <td>남</td>\n",
       "      <td>2</td>\n",
       "      <td>80</td>\n",
       "      <td>99</td>\n",
       "      <td>88</td>\n",
       "      <td>90</td>\n",
       "    </tr>\n",
       "    <tr>\n",
       "      <th>김연아</th>\n",
       "      <td>여</td>\n",
       "      <td>1</td>\n",
       "      <td>75</td>\n",
       "      <td>80</td>\n",
       "      <td>100</td>\n",
       "      <td>100</td>\n",
       "    </tr>\n",
       "    <tr>\n",
       "      <th>조유리</th>\n",
       "      <td>여</td>\n",
       "      <td>2</td>\n",
       "      <td>85</td>\n",
       "      <td>90</td>\n",
       "      <td>90</td>\n",
       "      <td>89</td>\n",
       "    </tr>\n",
       "    <tr>\n",
       "      <th>하동훈</th>\n",
       "      <td>남</td>\n",
       "      <td>1</td>\n",
       "      <td>75</td>\n",
       "      <td>85</td>\n",
       "      <td>100</td>\n",
       "      <td>85</td>\n",
       "    </tr>\n",
       "  </tbody>\n",
       "</table>\n",
       "</div>"
      ],
      "text/plain": [
       "    성별  학년   출석   과제   중간   기말\n",
       "김혁주  남   4   85   75   90   95\n",
       "홍길동  남   3   85   90   85   88\n",
       "유재석  남   3  100  100  100  100\n",
       "장미란  여   4   90   85   80   78\n",
       "박명수  남   4   90   80   80   80\n",
       "정형돈  남   2   80   99   88   90\n",
       "김연아  여   1   75   80  100  100\n",
       "조유리  여   2   85   90   90   89\n",
       "하동훈  남   1   75   85  100   85"
      ]
     },
     "execution_count": 99,
     "metadata": {},
     "output_type": "execute_result"
    }
   ],
   "source": [
    "df = pd.read_table('table_data.txt', index_col='이름', sep='\\t')\n",
    "df.index.name = None\n",
    "df"
   ]
  },
  {
   "cell_type": "code",
   "execution_count": 100,
   "id": "72262396",
   "metadata": {
    "ExecuteTime": {
     "end_time": "2022-03-09T05:46:05.546925Z",
     "start_time": "2022-03-09T05:46:05.532962Z"
    }
   },
   "outputs": [
    {
     "data": {
      "text/plain": [
       "85"
      ]
     },
     "execution_count": 100,
     "metadata": {},
     "output_type": "execute_result"
    }
   ],
   "source": [
    "df.loc['홍길동', '출석'] # Scalar 형태로 반환"
   ]
  },
  {
   "cell_type": "code",
   "execution_count": 101,
   "id": "042c9263",
   "metadata": {
    "ExecuteTime": {
     "end_time": "2022-03-09T05:46:05.561885Z",
     "start_time": "2022-03-09T05:46:05.547922Z"
    }
   },
   "outputs": [
    {
     "data": {
      "text/plain": [
       "홍길동    85\n",
       "Name: 출석, dtype: int64"
      ]
     },
     "execution_count": 101,
     "metadata": {},
     "output_type": "execute_result"
    }
   ],
   "source": [
    "df.loc[['홍길동'], '출석'] # Series 형태로 반환"
   ]
  },
  {
   "cell_type": "code",
   "execution_count": 102,
   "id": "baad4648",
   "metadata": {
    "ExecuteTime": {
     "end_time": "2022-03-09T05:46:05.576845Z",
     "start_time": "2022-03-09T05:46:05.562883Z"
    }
   },
   "outputs": [
    {
     "data": {
      "text/plain": [
       "출석    85\n",
       "Name: 홍길동, dtype: object"
      ]
     },
     "execution_count": 102,
     "metadata": {},
     "output_type": "execute_result"
    }
   ],
   "source": [
    "df.loc['홍길동', ['출석']] # Series 형태로 반환"
   ]
  },
  {
   "cell_type": "code",
   "execution_count": 103,
   "id": "3ddf59bb",
   "metadata": {
    "ExecuteTime": {
     "end_time": "2022-03-09T05:46:05.591805Z",
     "start_time": "2022-03-09T05:46:05.577842Z"
    }
   },
   "outputs": [
    {
     "data": {
      "text/html": [
       "<div>\n",
       "<style scoped>\n",
       "    .dataframe tbody tr th:only-of-type {\n",
       "        vertical-align: middle;\n",
       "    }\n",
       "\n",
       "    .dataframe tbody tr th {\n",
       "        vertical-align: top;\n",
       "    }\n",
       "\n",
       "    .dataframe thead th {\n",
       "        text-align: right;\n",
       "    }\n",
       "</style>\n",
       "<table border=\"1\" class=\"dataframe\">\n",
       "  <thead>\n",
       "    <tr style=\"text-align: right;\">\n",
       "      <th></th>\n",
       "      <th>출석</th>\n",
       "    </tr>\n",
       "  </thead>\n",
       "  <tbody>\n",
       "    <tr>\n",
       "      <th>홍길동</th>\n",
       "      <td>85</td>\n",
       "    </tr>\n",
       "  </tbody>\n",
       "</table>\n",
       "</div>"
      ],
      "text/plain": [
       "     출석\n",
       "홍길동  85"
      ]
     },
     "execution_count": 103,
     "metadata": {},
     "output_type": "execute_result"
    }
   ],
   "source": [
    "df.loc[['홍길동'], ['출석']] # DataFrame 형태로 반환"
   ]
  },
  {
   "cell_type": "code",
   "execution_count": 104,
   "id": "0452d4b5",
   "metadata": {
    "ExecuteTime": {
     "end_time": "2022-03-09T05:46:05.606765Z",
     "start_time": "2022-03-09T05:46:05.592802Z"
    }
   },
   "outputs": [
    {
     "data": {
      "text/plain": [
       "출석    90\n",
       "과제    85\n",
       "Name: 장미란, dtype: object"
      ]
     },
     "execution_count": 104,
     "metadata": {},
     "output_type": "execute_result"
    }
   ],
   "source": [
    "df.iloc[3, [2, 3]]"
   ]
  },
  {
   "cell_type": "code",
   "execution_count": 105,
   "id": "4ed02dd1",
   "metadata": {
    "ExecuteTime": {
     "end_time": "2022-03-09T05:46:05.621726Z",
     "start_time": "2022-03-09T05:46:05.607762Z"
    }
   },
   "outputs": [
    {
     "data": {
      "text/html": [
       "<div>\n",
       "<style scoped>\n",
       "    .dataframe tbody tr th:only-of-type {\n",
       "        vertical-align: middle;\n",
       "    }\n",
       "\n",
       "    .dataframe tbody tr th {\n",
       "        vertical-align: top;\n",
       "    }\n",
       "\n",
       "    .dataframe thead th {\n",
       "        text-align: right;\n",
       "    }\n",
       "</style>\n",
       "<table border=\"1\" class=\"dataframe\">\n",
       "  <thead>\n",
       "    <tr style=\"text-align: right;\">\n",
       "      <th></th>\n",
       "      <th>출석</th>\n",
       "      <th>과제</th>\n",
       "    </tr>\n",
       "  </thead>\n",
       "  <tbody>\n",
       "    <tr>\n",
       "      <th>장미란</th>\n",
       "      <td>90</td>\n",
       "      <td>85</td>\n",
       "    </tr>\n",
       "  </tbody>\n",
       "</table>\n",
       "</div>"
      ],
      "text/plain": [
       "     출석  과제\n",
       "장미란  90  85"
      ]
     },
     "execution_count": 105,
     "metadata": {},
     "output_type": "execute_result"
    }
   ],
   "source": [
    "df.iloc[[3], [2, 3]] # DataFrame 형태로 반환"
   ]
  },
  {
   "cell_type": "code",
   "execution_count": 106,
   "id": "a025e4b8",
   "metadata": {
    "ExecuteTime": {
     "end_time": "2022-03-09T05:46:05.636685Z",
     "start_time": "2022-03-09T05:46:05.622722Z"
    }
   },
   "outputs": [
    {
     "data": {
      "text/html": [
       "<div>\n",
       "<style scoped>\n",
       "    .dataframe tbody tr th:only-of-type {\n",
       "        vertical-align: middle;\n",
       "    }\n",
       "\n",
       "    .dataframe tbody tr th {\n",
       "        vertical-align: top;\n",
       "    }\n",
       "\n",
       "    .dataframe thead th {\n",
       "        text-align: right;\n",
       "    }\n",
       "</style>\n",
       "<table border=\"1\" class=\"dataframe\">\n",
       "  <thead>\n",
       "    <tr style=\"text-align: right;\">\n",
       "      <th></th>\n",
       "      <th>성별</th>\n",
       "      <th>학년</th>\n",
       "    </tr>\n",
       "  </thead>\n",
       "  <tbody>\n",
       "    <tr>\n",
       "      <th>홍길동</th>\n",
       "      <td>남</td>\n",
       "      <td>3</td>\n",
       "    </tr>\n",
       "    <tr>\n",
       "      <th>유재석</th>\n",
       "      <td>남</td>\n",
       "      <td>3</td>\n",
       "    </tr>\n",
       "    <tr>\n",
       "      <th>장미란</th>\n",
       "      <td>여</td>\n",
       "      <td>4</td>\n",
       "    </tr>\n",
       "  </tbody>\n",
       "</table>\n",
       "</div>"
      ],
      "text/plain": [
       "    성별  학년\n",
       "홍길동  남   3\n",
       "유재석  남   3\n",
       "장미란  여   4"
      ]
     },
     "execution_count": 106,
     "metadata": {},
     "output_type": "execute_result"
    }
   ],
   "source": [
    "df.iloc[[1, 2, 3], :2]"
   ]
  },
  {
   "cell_type": "code",
   "execution_count": 107,
   "id": "bc328ec7",
   "metadata": {
    "ExecuteTime": {
     "end_time": "2022-03-09T05:46:05.651644Z",
     "start_time": "2022-03-09T05:46:05.637684Z"
    }
   },
   "outputs": [
    {
     "data": {
      "text/html": [
       "<div>\n",
       "<style scoped>\n",
       "    .dataframe tbody tr th:only-of-type {\n",
       "        vertical-align: middle;\n",
       "    }\n",
       "\n",
       "    .dataframe tbody tr th {\n",
       "        vertical-align: top;\n",
       "    }\n",
       "\n",
       "    .dataframe thead th {\n",
       "        text-align: right;\n",
       "    }\n",
       "</style>\n",
       "<table border=\"1\" class=\"dataframe\">\n",
       "  <thead>\n",
       "    <tr style=\"text-align: right;\">\n",
       "      <th></th>\n",
       "      <th>성별</th>\n",
       "      <th>출석</th>\n",
       "      <th>중간</th>\n",
       "    </tr>\n",
       "  </thead>\n",
       "  <tbody>\n",
       "    <tr>\n",
       "      <th>김연아</th>\n",
       "      <td>여</td>\n",
       "      <td>75</td>\n",
       "      <td>100</td>\n",
       "    </tr>\n",
       "    <tr>\n",
       "      <th>조유리</th>\n",
       "      <td>여</td>\n",
       "      <td>85</td>\n",
       "      <td>90</td>\n",
       "    </tr>\n",
       "    <tr>\n",
       "      <th>하동훈</th>\n",
       "      <td>남</td>\n",
       "      <td>75</td>\n",
       "      <td>100</td>\n",
       "    </tr>\n",
       "  </tbody>\n",
       "</table>\n",
       "</div>"
      ],
      "text/plain": [
       "    성별  출석   중간\n",
       "김연아  여  75  100\n",
       "조유리  여  85   90\n",
       "하동훈  남  75  100"
      ]
     },
     "execution_count": 107,
     "metadata": {},
     "output_type": "execute_result"
    }
   ],
   "source": [
    "df.iloc[-3:, :7:2]"
   ]
  },
  {
   "cell_type": "markdown",
   "id": "d64be5f8",
   "metadata": {},
   "source": [
    "#### boolean indexing"
   ]
  },
  {
   "cell_type": "code",
   "execution_count": 108,
   "id": "9e6428c1",
   "metadata": {
    "ExecuteTime": {
     "end_time": "2022-03-09T05:46:05.666604Z",
     "start_time": "2022-03-09T05:46:05.652642Z"
    }
   },
   "outputs": [
    {
     "data": {
      "text/html": [
       "<div>\n",
       "<style scoped>\n",
       "    .dataframe tbody tr th:only-of-type {\n",
       "        vertical-align: middle;\n",
       "    }\n",
       "\n",
       "    .dataframe tbody tr th {\n",
       "        vertical-align: top;\n",
       "    }\n",
       "\n",
       "    .dataframe thead th {\n",
       "        text-align: right;\n",
       "    }\n",
       "</style>\n",
       "<table border=\"1\" class=\"dataframe\">\n",
       "  <thead>\n",
       "    <tr style=\"text-align: right;\">\n",
       "      <th></th>\n",
       "      <th>a</th>\n",
       "      <th>b</th>\n",
       "      <th>c</th>\n",
       "      <th>d</th>\n",
       "    </tr>\n",
       "  </thead>\n",
       "  <tbody>\n",
       "    <tr>\n",
       "      <th>10</th>\n",
       "      <td>0.0</td>\n",
       "      <td>1.0</td>\n",
       "      <td>2.0</td>\n",
       "      <td>3.0</td>\n",
       "    </tr>\n",
       "    <tr>\n",
       "      <th>20</th>\n",
       "      <td>4.0</td>\n",
       "      <td>5.0</td>\n",
       "      <td>6.0</td>\n",
       "      <td>7.0</td>\n",
       "    </tr>\n",
       "    <tr>\n",
       "      <th>30</th>\n",
       "      <td>8.0</td>\n",
       "      <td>9.0</td>\n",
       "      <td>10.0</td>\n",
       "      <td>11.0</td>\n",
       "    </tr>\n",
       "    <tr>\n",
       "      <th>40</th>\n",
       "      <td>12.0</td>\n",
       "      <td>13.0</td>\n",
       "      <td>14.0</td>\n",
       "      <td>15.0</td>\n",
       "    </tr>\n",
       "  </tbody>\n",
       "</table>\n",
       "</div>"
      ],
      "text/plain": [
       "       a     b     c     d\n",
       "10   0.0   1.0   2.0   3.0\n",
       "20   4.0   5.0   6.0   7.0\n",
       "30   8.0   9.0  10.0  11.0\n",
       "40  12.0  13.0  14.0  15.0"
      ]
     },
     "execution_count": 108,
     "metadata": {},
     "output_type": "execute_result"
    }
   ],
   "source": [
    "data = np.arange(16).reshape(4, 4)\n",
    "df = pd.DataFrame(data, index=[10, 20, 30, 40], columns=list('abcd'), dtype=float)\n",
    "df"
   ]
  },
  {
   "cell_type": "code",
   "execution_count": 109,
   "id": "fd17378a",
   "metadata": {
    "ExecuteTime": {
     "end_time": "2022-03-09T05:46:05.681564Z",
     "start_time": "2022-03-09T05:46:05.667603Z"
    }
   },
   "outputs": [
    {
     "data": {
      "text/html": [
       "<div>\n",
       "<style scoped>\n",
       "    .dataframe tbody tr th:only-of-type {\n",
       "        vertical-align: middle;\n",
       "    }\n",
       "\n",
       "    .dataframe tbody tr th {\n",
       "        vertical-align: top;\n",
       "    }\n",
       "\n",
       "    .dataframe thead th {\n",
       "        text-align: right;\n",
       "    }\n",
       "</style>\n",
       "<table border=\"1\" class=\"dataframe\">\n",
       "  <thead>\n",
       "    <tr style=\"text-align: right;\">\n",
       "      <th></th>\n",
       "      <th>a</th>\n",
       "      <th>b</th>\n",
       "    </tr>\n",
       "  </thead>\n",
       "  <tbody>\n",
       "    <tr>\n",
       "      <th>10</th>\n",
       "      <td>0.0</td>\n",
       "      <td>1.0</td>\n",
       "    </tr>\n",
       "    <tr>\n",
       "      <th>20</th>\n",
       "      <td>4.0</td>\n",
       "      <td>5.0</td>\n",
       "    </tr>\n",
       "    <tr>\n",
       "      <th>40</th>\n",
       "      <td>12.0</td>\n",
       "      <td>13.0</td>\n",
       "    </tr>\n",
       "  </tbody>\n",
       "</table>\n",
       "</div>"
      ],
      "text/plain": [
       "       a     b\n",
       "10   0.0   1.0\n",
       "20   4.0   5.0\n",
       "40  12.0  13.0"
      ]
     },
     "execution_count": 109,
     "metadata": {},
     "output_type": "execute_result"
    }
   ],
   "source": [
    "df.loc[[True, True, False, True], ['a', 'b']]"
   ]
  },
  {
   "cell_type": "code",
   "execution_count": 110,
   "id": "65b3c686",
   "metadata": {
    "ExecuteTime": {
     "end_time": "2022-03-09T05:46:05.696525Z",
     "start_time": "2022-03-09T05:46:05.682562Z"
    }
   },
   "outputs": [
    {
     "data": {
      "text/html": [
       "<div>\n",
       "<style scoped>\n",
       "    .dataframe tbody tr th:only-of-type {\n",
       "        vertical-align: middle;\n",
       "    }\n",
       "\n",
       "    .dataframe tbody tr th {\n",
       "        vertical-align: top;\n",
       "    }\n",
       "\n",
       "    .dataframe thead th {\n",
       "        text-align: right;\n",
       "    }\n",
       "</style>\n",
       "<table border=\"1\" class=\"dataframe\">\n",
       "  <thead>\n",
       "    <tr style=\"text-align: right;\">\n",
       "      <th></th>\n",
       "      <th>a</th>\n",
       "      <th>b</th>\n",
       "      <th>d</th>\n",
       "    </tr>\n",
       "  </thead>\n",
       "  <tbody>\n",
       "    <tr>\n",
       "      <th>10</th>\n",
       "      <td>0.0</td>\n",
       "      <td>1.0</td>\n",
       "      <td>3.0</td>\n",
       "    </tr>\n",
       "    <tr>\n",
       "      <th>30</th>\n",
       "      <td>8.0</td>\n",
       "      <td>9.0</td>\n",
       "      <td>11.0</td>\n",
       "    </tr>\n",
       "  </tbody>\n",
       "</table>\n",
       "</div>"
      ],
      "text/plain": [
       "      a    b     d\n",
       "10  0.0  1.0   3.0\n",
       "30  8.0  9.0  11.0"
      ]
     },
     "execution_count": 110,
     "metadata": {},
     "output_type": "execute_result"
    }
   ],
   "source": [
    "df.loc[[10, 30], [True, True, False, True]]"
   ]
  },
  {
   "cell_type": "code",
   "execution_count": 111,
   "id": "a33a0967",
   "metadata": {
    "ExecuteTime": {
     "end_time": "2022-03-09T05:46:05.711485Z",
     "start_time": "2022-03-09T05:46:05.697522Z"
    }
   },
   "outputs": [
    {
     "data": {
      "text/html": [
       "<div>\n",
       "<style scoped>\n",
       "    .dataframe tbody tr th:only-of-type {\n",
       "        vertical-align: middle;\n",
       "    }\n",
       "\n",
       "    .dataframe tbody tr th {\n",
       "        vertical-align: top;\n",
       "    }\n",
       "\n",
       "    .dataframe thead th {\n",
       "        text-align: right;\n",
       "    }\n",
       "</style>\n",
       "<table border=\"1\" class=\"dataframe\">\n",
       "  <thead>\n",
       "    <tr style=\"text-align: right;\">\n",
       "      <th></th>\n",
       "      <th>a</th>\n",
       "      <th>b</th>\n",
       "      <th>d</th>\n",
       "    </tr>\n",
       "  </thead>\n",
       "  <tbody>\n",
       "    <tr>\n",
       "      <th>10</th>\n",
       "      <td>0.0</td>\n",
       "      <td>1.0</td>\n",
       "      <td>3.0</td>\n",
       "    </tr>\n",
       "    <tr>\n",
       "      <th>40</th>\n",
       "      <td>12.0</td>\n",
       "      <td>13.0</td>\n",
       "      <td>15.0</td>\n",
       "    </tr>\n",
       "  </tbody>\n",
       "</table>\n",
       "</div>"
      ],
      "text/plain": [
       "       a     b     d\n",
       "10   0.0   1.0   3.0\n",
       "40  12.0  13.0  15.0"
      ]
     },
     "execution_count": 111,
     "metadata": {},
     "output_type": "execute_result"
    }
   ],
   "source": [
    "df.loc[[True, False, False, True], [True, True, False, True]]"
   ]
  },
  {
   "cell_type": "code",
   "execution_count": 112,
   "id": "48b87983",
   "metadata": {
    "ExecuteTime": {
     "end_time": "2022-03-09T05:46:05.726445Z",
     "start_time": "2022-03-09T05:46:05.712483Z"
    }
   },
   "outputs": [
    {
     "data": {
      "text/html": [
       "<div>\n",
       "<style scoped>\n",
       "    .dataframe tbody tr th:only-of-type {\n",
       "        vertical-align: middle;\n",
       "    }\n",
       "\n",
       "    .dataframe tbody tr th {\n",
       "        vertical-align: top;\n",
       "    }\n",
       "\n",
       "    .dataframe thead th {\n",
       "        text-align: right;\n",
       "    }\n",
       "</style>\n",
       "<table border=\"1\" class=\"dataframe\">\n",
       "  <thead>\n",
       "    <tr style=\"text-align: right;\">\n",
       "      <th></th>\n",
       "      <th>b</th>\n",
       "      <th>d</th>\n",
       "    </tr>\n",
       "  </thead>\n",
       "  <tbody>\n",
       "    <tr>\n",
       "      <th>20</th>\n",
       "      <td>5.0</td>\n",
       "      <td>7.0</td>\n",
       "    </tr>\n",
       "    <tr>\n",
       "      <th>40</th>\n",
       "      <td>13.0</td>\n",
       "      <td>15.0</td>\n",
       "    </tr>\n",
       "  </tbody>\n",
       "</table>\n",
       "</div>"
      ],
      "text/plain": [
       "       b     d\n",
       "20   5.0   7.0\n",
       "40  13.0  15.0"
      ]
     },
     "execution_count": 112,
     "metadata": {},
     "output_type": "execute_result"
    }
   ],
   "source": [
    "df.iloc[[False, True, False, True], [1, 3]]"
   ]
  },
  {
   "cell_type": "code",
   "execution_count": 113,
   "id": "33259dec",
   "metadata": {
    "ExecuteTime": {
     "end_time": "2022-03-09T05:46:05.741404Z",
     "start_time": "2022-03-09T05:46:05.727441Z"
    }
   },
   "outputs": [
    {
     "data": {
      "text/html": [
       "<div>\n",
       "<style scoped>\n",
       "    .dataframe tbody tr th:only-of-type {\n",
       "        vertical-align: middle;\n",
       "    }\n",
       "\n",
       "    .dataframe tbody tr th {\n",
       "        vertical-align: top;\n",
       "    }\n",
       "\n",
       "    .dataframe thead th {\n",
       "        text-align: right;\n",
       "    }\n",
       "</style>\n",
       "<table border=\"1\" class=\"dataframe\">\n",
       "  <thead>\n",
       "    <tr style=\"text-align: right;\">\n",
       "      <th></th>\n",
       "      <th>a</th>\n",
       "      <th>d</th>\n",
       "    </tr>\n",
       "  </thead>\n",
       "  <tbody>\n",
       "    <tr>\n",
       "      <th>10</th>\n",
       "      <td>0.0</td>\n",
       "      <td>3.0</td>\n",
       "    </tr>\n",
       "  </tbody>\n",
       "</table>\n",
       "</div>"
      ],
      "text/plain": [
       "      a    d\n",
       "10  0.0  3.0"
      ]
     },
     "execution_count": 113,
     "metadata": {},
     "output_type": "execute_result"
    }
   ],
   "source": [
    "df.iloc[[0], [True, False, False, True]]"
   ]
  },
  {
   "cell_type": "code",
   "execution_count": 114,
   "id": "d06c55f3",
   "metadata": {
    "ExecuteTime": {
     "end_time": "2022-03-09T05:46:05.756364Z",
     "start_time": "2022-03-09T05:46:05.742403Z"
    }
   },
   "outputs": [
    {
     "data": {
      "text/html": [
       "<div>\n",
       "<style scoped>\n",
       "    .dataframe tbody tr th:only-of-type {\n",
       "        vertical-align: middle;\n",
       "    }\n",
       "\n",
       "    .dataframe tbody tr th {\n",
       "        vertical-align: top;\n",
       "    }\n",
       "\n",
       "    .dataframe thead th {\n",
       "        text-align: right;\n",
       "    }\n",
       "</style>\n",
       "<table border=\"1\" class=\"dataframe\">\n",
       "  <thead>\n",
       "    <tr style=\"text-align: right;\">\n",
       "      <th></th>\n",
       "      <th>a</th>\n",
       "      <th>d</th>\n",
       "    </tr>\n",
       "  </thead>\n",
       "  <tbody>\n",
       "    <tr>\n",
       "      <th>20</th>\n",
       "      <td>4.0</td>\n",
       "      <td>7.0</td>\n",
       "    </tr>\n",
       "    <tr>\n",
       "      <th>40</th>\n",
       "      <td>12.0</td>\n",
       "      <td>15.0</td>\n",
       "    </tr>\n",
       "  </tbody>\n",
       "</table>\n",
       "</div>"
      ],
      "text/plain": [
       "       a     d\n",
       "20   4.0   7.0\n",
       "40  12.0  15.0"
      ]
     },
     "execution_count": 114,
     "metadata": {},
     "output_type": "execute_result"
    }
   ],
   "source": [
    "df.iloc[[False, True, False, True], [True, False, False, True]]"
   ]
  },
  {
   "cell_type": "code",
   "execution_count": 115,
   "id": "ef084492",
   "metadata": {
    "ExecuteTime": {
     "end_time": "2022-03-09T05:46:05.771324Z",
     "start_time": "2022-03-09T05:46:05.757362Z"
    },
    "scrolled": true
   },
   "outputs": [
    {
     "data": {
      "text/html": [
       "<div>\n",
       "<style scoped>\n",
       "    .dataframe tbody tr th:only-of-type {\n",
       "        vertical-align: middle;\n",
       "    }\n",
       "\n",
       "    .dataframe tbody tr th {\n",
       "        vertical-align: top;\n",
       "    }\n",
       "\n",
       "    .dataframe thead th {\n",
       "        text-align: right;\n",
       "    }\n",
       "</style>\n",
       "<table border=\"1\" class=\"dataframe\">\n",
       "  <thead>\n",
       "    <tr style=\"text-align: right;\">\n",
       "      <th></th>\n",
       "      <th>a</th>\n",
       "      <th>d</th>\n",
       "    </tr>\n",
       "  </thead>\n",
       "  <tbody>\n",
       "    <tr>\n",
       "      <th>30</th>\n",
       "      <td>8.0</td>\n",
       "      <td>11.0</td>\n",
       "    </tr>\n",
       "    <tr>\n",
       "      <th>40</th>\n",
       "      <td>12.0</td>\n",
       "      <td>15.0</td>\n",
       "    </tr>\n",
       "  </tbody>\n",
       "</table>\n",
       "</div>"
      ],
      "text/plain": [
       "       a     d\n",
       "30   8.0  11.0\n",
       "40  12.0  15.0"
      ]
     },
     "execution_count": 115,
     "metadata": {},
     "output_type": "execute_result"
    }
   ],
   "source": [
    "df.loc[df['c'] > 9, ['a', 'd']]"
   ]
  },
  {
   "cell_type": "markdown",
   "id": "283dff8d",
   "metadata": {},
   "source": [
    "### add, remove, modify"
   ]
  },
  {
   "cell_type": "code",
   "execution_count": 116,
   "id": "d090394a",
   "metadata": {
    "ExecuteTime": {
     "end_time": "2022-03-09T05:46:05.786284Z",
     "start_time": "2022-03-09T05:46:05.772322Z"
    }
   },
   "outputs": [
    {
     "data": {
      "text/html": [
       "<div>\n",
       "<style scoped>\n",
       "    .dataframe tbody tr th:only-of-type {\n",
       "        vertical-align: middle;\n",
       "    }\n",
       "\n",
       "    .dataframe tbody tr th {\n",
       "        vertical-align: top;\n",
       "    }\n",
       "\n",
       "    .dataframe thead th {\n",
       "        text-align: right;\n",
       "    }\n",
       "</style>\n",
       "<table border=\"1\" class=\"dataframe\">\n",
       "  <thead>\n",
       "    <tr style=\"text-align: right;\">\n",
       "      <th></th>\n",
       "      <th>a</th>\n",
       "      <th>b</th>\n",
       "      <th>c</th>\n",
       "      <th>d</th>\n",
       "    </tr>\n",
       "  </thead>\n",
       "  <tbody>\n",
       "    <tr>\n",
       "      <th>10</th>\n",
       "      <td>0.0</td>\n",
       "      <td>1.0</td>\n",
       "      <td>2.0</td>\n",
       "      <td>3.0</td>\n",
       "    </tr>\n",
       "    <tr>\n",
       "      <th>20</th>\n",
       "      <td>4.0</td>\n",
       "      <td>5.0</td>\n",
       "      <td>6.0</td>\n",
       "      <td>7.0</td>\n",
       "    </tr>\n",
       "    <tr>\n",
       "      <th>30</th>\n",
       "      <td>8.0</td>\n",
       "      <td>9.0</td>\n",
       "      <td>10.0</td>\n",
       "      <td>11.0</td>\n",
       "    </tr>\n",
       "    <tr>\n",
       "      <th>40</th>\n",
       "      <td>12.0</td>\n",
       "      <td>13.0</td>\n",
       "      <td>14.0</td>\n",
       "      <td>15.0</td>\n",
       "    </tr>\n",
       "  </tbody>\n",
       "</table>\n",
       "</div>"
      ],
      "text/plain": [
       "       a     b     c     d\n",
       "10   0.0   1.0   2.0   3.0\n",
       "20   4.0   5.0   6.0   7.0\n",
       "30   8.0   9.0  10.0  11.0\n",
       "40  12.0  13.0  14.0  15.0"
      ]
     },
     "execution_count": 116,
     "metadata": {},
     "output_type": "execute_result"
    }
   ],
   "source": [
    "data = np.arange(16).reshape(4, 4)\n",
    "df = pd.DataFrame(data, index=[10, 20, 30, 40], columns=list('abcd'), dtype=float)\n",
    "df"
   ]
  },
  {
   "cell_type": "code",
   "execution_count": 117,
   "id": "f93dd926",
   "metadata": {
    "ExecuteTime": {
     "end_time": "2022-03-09T05:46:05.801245Z",
     "start_time": "2022-03-09T05:46:05.787282Z"
    }
   },
   "outputs": [
    {
     "data": {
      "text/html": [
       "<div>\n",
       "<style scoped>\n",
       "    .dataframe tbody tr th:only-of-type {\n",
       "        vertical-align: middle;\n",
       "    }\n",
       "\n",
       "    .dataframe tbody tr th {\n",
       "        vertical-align: top;\n",
       "    }\n",
       "\n",
       "    .dataframe thead th {\n",
       "        text-align: right;\n",
       "    }\n",
       "</style>\n",
       "<table border=\"1\" class=\"dataframe\">\n",
       "  <thead>\n",
       "    <tr style=\"text-align: right;\">\n",
       "      <th></th>\n",
       "      <th>a</th>\n",
       "      <th>b</th>\n",
       "      <th>c</th>\n",
       "      <th>d</th>\n",
       "    </tr>\n",
       "  </thead>\n",
       "  <tbody>\n",
       "    <tr>\n",
       "      <th>10</th>\n",
       "      <td>0.0</td>\n",
       "      <td>1.0</td>\n",
       "      <td>2.0</td>\n",
       "      <td>3.0</td>\n",
       "    </tr>\n",
       "    <tr>\n",
       "      <th>20</th>\n",
       "      <td>4.0</td>\n",
       "      <td>5.0</td>\n",
       "      <td>6.0</td>\n",
       "      <td>7.0</td>\n",
       "    </tr>\n",
       "    <tr>\n",
       "      <th>30</th>\n",
       "      <td>8.0</td>\n",
       "      <td>9.0</td>\n",
       "      <td>10.0</td>\n",
       "      <td>11.0</td>\n",
       "    </tr>\n",
       "    <tr>\n",
       "      <th>40</th>\n",
       "      <td>12.0</td>\n",
       "      <td>13.0</td>\n",
       "      <td>14.0</td>\n",
       "      <td>15.0</td>\n",
       "    </tr>\n",
       "    <tr>\n",
       "      <th>50</th>\n",
       "      <td>1.0</td>\n",
       "      <td>2.0</td>\n",
       "      <td>3.0</td>\n",
       "      <td>4.0</td>\n",
       "    </tr>\n",
       "  </tbody>\n",
       "</table>\n",
       "</div>"
      ],
      "text/plain": [
       "       a     b     c     d\n",
       "10   0.0   1.0   2.0   3.0\n",
       "20   4.0   5.0   6.0   7.0\n",
       "30   8.0   9.0  10.0  11.0\n",
       "40  12.0  13.0  14.0  15.0\n",
       "50   1.0   2.0   3.0   4.0"
      ]
     },
     "execution_count": 117,
     "metadata": {},
     "output_type": "execute_result"
    }
   ],
   "source": [
    "df.loc[50] = [1, 2, 3, 4]\n",
    "df"
   ]
  },
  {
   "cell_type": "code",
   "execution_count": 118,
   "id": "ad444d14",
   "metadata": {
    "ExecuteTime": {
     "end_time": "2022-03-09T05:46:05.816205Z",
     "start_time": "2022-03-09T05:46:05.802241Z"
    }
   },
   "outputs": [
    {
     "data": {
      "text/html": [
       "<div>\n",
       "<style scoped>\n",
       "    .dataframe tbody tr th:only-of-type {\n",
       "        vertical-align: middle;\n",
       "    }\n",
       "\n",
       "    .dataframe tbody tr th {\n",
       "        vertical-align: top;\n",
       "    }\n",
       "\n",
       "    .dataframe thead th {\n",
       "        text-align: right;\n",
       "    }\n",
       "</style>\n",
       "<table border=\"1\" class=\"dataframe\">\n",
       "  <thead>\n",
       "    <tr style=\"text-align: right;\">\n",
       "      <th></th>\n",
       "      <th>a</th>\n",
       "      <th>b</th>\n",
       "      <th>c</th>\n",
       "      <th>d</th>\n",
       "      <th>e</th>\n",
       "    </tr>\n",
       "  </thead>\n",
       "  <tbody>\n",
       "    <tr>\n",
       "      <th>10</th>\n",
       "      <td>0.0</td>\n",
       "      <td>1.0</td>\n",
       "      <td>2.0</td>\n",
       "      <td>3.0</td>\n",
       "      <td>1</td>\n",
       "    </tr>\n",
       "    <tr>\n",
       "      <th>20</th>\n",
       "      <td>4.0</td>\n",
       "      <td>5.0</td>\n",
       "      <td>6.0</td>\n",
       "      <td>7.0</td>\n",
       "      <td>2</td>\n",
       "    </tr>\n",
       "    <tr>\n",
       "      <th>30</th>\n",
       "      <td>8.0</td>\n",
       "      <td>9.0</td>\n",
       "      <td>10.0</td>\n",
       "      <td>11.0</td>\n",
       "      <td>3</td>\n",
       "    </tr>\n",
       "    <tr>\n",
       "      <th>40</th>\n",
       "      <td>12.0</td>\n",
       "      <td>13.0</td>\n",
       "      <td>14.0</td>\n",
       "      <td>15.0</td>\n",
       "      <td>4</td>\n",
       "    </tr>\n",
       "    <tr>\n",
       "      <th>50</th>\n",
       "      <td>1.0</td>\n",
       "      <td>2.0</td>\n",
       "      <td>3.0</td>\n",
       "      <td>4.0</td>\n",
       "      <td>5</td>\n",
       "    </tr>\n",
       "  </tbody>\n",
       "</table>\n",
       "</div>"
      ],
      "text/plain": [
       "       a     b     c     d  e\n",
       "10   0.0   1.0   2.0   3.0  1\n",
       "20   4.0   5.0   6.0   7.0  2\n",
       "30   8.0   9.0  10.0  11.0  3\n",
       "40  12.0  13.0  14.0  15.0  4\n",
       "50   1.0   2.0   3.0   4.0  5"
      ]
     },
     "execution_count": 118,
     "metadata": {},
     "output_type": "execute_result"
    }
   ],
   "source": [
    "df['e'] = [1, 2, 3, 4, 5]\n",
    "df"
   ]
  },
  {
   "cell_type": "code",
   "execution_count": 119,
   "id": "c75fd258",
   "metadata": {
    "ExecuteTime": {
     "end_time": "2022-03-09T05:46:05.831165Z",
     "start_time": "2022-03-09T05:46:05.817202Z"
    }
   },
   "outputs": [
    {
     "data": {
      "text/html": [
       "<div>\n",
       "<style scoped>\n",
       "    .dataframe tbody tr th:only-of-type {\n",
       "        vertical-align: middle;\n",
       "    }\n",
       "\n",
       "    .dataframe tbody tr th {\n",
       "        vertical-align: top;\n",
       "    }\n",
       "\n",
       "    .dataframe thead th {\n",
       "        text-align: right;\n",
       "    }\n",
       "</style>\n",
       "<table border=\"1\" class=\"dataframe\">\n",
       "  <thead>\n",
       "    <tr style=\"text-align: right;\">\n",
       "      <th></th>\n",
       "      <th>a</th>\n",
       "      <th>b</th>\n",
       "      <th>c</th>\n",
       "      <th>d</th>\n",
       "      <th>e</th>\n",
       "      <th>f</th>\n",
       "    </tr>\n",
       "  </thead>\n",
       "  <tbody>\n",
       "    <tr>\n",
       "      <th>10</th>\n",
       "      <td>0.0</td>\n",
       "      <td>1.0</td>\n",
       "      <td>2.0</td>\n",
       "      <td>3.0</td>\n",
       "      <td>1</td>\n",
       "      <td>False</td>\n",
       "    </tr>\n",
       "    <tr>\n",
       "      <th>20</th>\n",
       "      <td>4.0</td>\n",
       "      <td>5.0</td>\n",
       "      <td>6.0</td>\n",
       "      <td>7.0</td>\n",
       "      <td>2</td>\n",
       "      <td>True</td>\n",
       "    </tr>\n",
       "    <tr>\n",
       "      <th>30</th>\n",
       "      <td>8.0</td>\n",
       "      <td>9.0</td>\n",
       "      <td>10.0</td>\n",
       "      <td>11.0</td>\n",
       "      <td>3</td>\n",
       "      <td>True</td>\n",
       "    </tr>\n",
       "    <tr>\n",
       "      <th>40</th>\n",
       "      <td>12.0</td>\n",
       "      <td>13.0</td>\n",
       "      <td>14.0</td>\n",
       "      <td>15.0</td>\n",
       "      <td>4</td>\n",
       "      <td>True</td>\n",
       "    </tr>\n",
       "    <tr>\n",
       "      <th>50</th>\n",
       "      <td>1.0</td>\n",
       "      <td>2.0</td>\n",
       "      <td>3.0</td>\n",
       "      <td>4.0</td>\n",
       "      <td>5</td>\n",
       "      <td>False</td>\n",
       "    </tr>\n",
       "  </tbody>\n",
       "</table>\n",
       "</div>"
      ],
      "text/plain": [
       "       a     b     c     d  e      f\n",
       "10   0.0   1.0   2.0   3.0  1  False\n",
       "20   4.0   5.0   6.0   7.0  2   True\n",
       "30   8.0   9.0  10.0  11.0  3   True\n",
       "40  12.0  13.0  14.0  15.0  4   True\n",
       "50   1.0   2.0   3.0   4.0  5  False"
      ]
     },
     "execution_count": 119,
     "metadata": {},
     "output_type": "execute_result"
    }
   ],
   "source": [
    "df['f'] = df['c'] > 5\n",
    "df"
   ]
  },
  {
   "cell_type": "code",
   "execution_count": 120,
   "id": "b240b9a4",
   "metadata": {
    "ExecuteTime": {
     "end_time": "2022-03-09T05:46:05.846124Z",
     "start_time": "2022-03-09T05:46:05.832162Z"
    },
    "scrolled": true
   },
   "outputs": [
    {
     "data": {
      "text/html": [
       "<div>\n",
       "<style scoped>\n",
       "    .dataframe tbody tr th:only-of-type {\n",
       "        vertical-align: middle;\n",
       "    }\n",
       "\n",
       "    .dataframe tbody tr th {\n",
       "        vertical-align: top;\n",
       "    }\n",
       "\n",
       "    .dataframe thead th {\n",
       "        text-align: right;\n",
       "    }\n",
       "</style>\n",
       "<table border=\"1\" class=\"dataframe\">\n",
       "  <thead>\n",
       "    <tr style=\"text-align: right;\">\n",
       "      <th></th>\n",
       "      <th>a</th>\n",
       "      <th>b</th>\n",
       "      <th>c</th>\n",
       "      <th>d</th>\n",
       "      <th>e</th>\n",
       "      <th>f</th>\n",
       "      <th>g</th>\n",
       "    </tr>\n",
       "  </thead>\n",
       "  <tbody>\n",
       "    <tr>\n",
       "      <th>10</th>\n",
       "      <td>0.0</td>\n",
       "      <td>1.0</td>\n",
       "      <td>2.0</td>\n",
       "      <td>3.0</td>\n",
       "      <td>1</td>\n",
       "      <td>False</td>\n",
       "      <td>1</td>\n",
       "    </tr>\n",
       "    <tr>\n",
       "      <th>20</th>\n",
       "      <td>4.0</td>\n",
       "      <td>5.0</td>\n",
       "      <td>6.0</td>\n",
       "      <td>7.0</td>\n",
       "      <td>2</td>\n",
       "      <td>True</td>\n",
       "      <td>10</td>\n",
       "    </tr>\n",
       "    <tr>\n",
       "      <th>30</th>\n",
       "      <td>8.0</td>\n",
       "      <td>9.0</td>\n",
       "      <td>10.0</td>\n",
       "      <td>11.0</td>\n",
       "      <td>3</td>\n",
       "      <td>True</td>\n",
       "      <td>10</td>\n",
       "    </tr>\n",
       "    <tr>\n",
       "      <th>40</th>\n",
       "      <td>12.0</td>\n",
       "      <td>13.0</td>\n",
       "      <td>14.0</td>\n",
       "      <td>15.0</td>\n",
       "      <td>4</td>\n",
       "      <td>True</td>\n",
       "      <td>1</td>\n",
       "    </tr>\n",
       "    <tr>\n",
       "      <th>50</th>\n",
       "      <td>1.0</td>\n",
       "      <td>2.0</td>\n",
       "      <td>3.0</td>\n",
       "      <td>4.0</td>\n",
       "      <td>5</td>\n",
       "      <td>False</td>\n",
       "      <td>10</td>\n",
       "    </tr>\n",
       "  </tbody>\n",
       "</table>\n",
       "</div>"
      ],
      "text/plain": [
       "       a     b     c     d  e      f   g\n",
       "10   0.0   1.0   2.0   3.0  1  False   1\n",
       "20   4.0   5.0   6.0   7.0  2   True  10\n",
       "30   8.0   9.0  10.0  11.0  3   True  10\n",
       "40  12.0  13.0  14.0  15.0  4   True   1\n",
       "50   1.0   2.0   3.0   4.0  5  False  10"
      ]
     },
     "execution_count": 120,
     "metadata": {},
     "output_type": "execute_result"
    }
   ],
   "source": [
    "df['g'] = np.where(df['a']%3 == 0, 1, 10)\n",
    "df"
   ]
  },
  {
   "cell_type": "code",
   "execution_count": 121,
   "id": "7fc91134",
   "metadata": {
    "ExecuteTime": {
     "end_time": "2022-03-09T05:46:05.861084Z",
     "start_time": "2022-03-09T05:46:05.847122Z"
    }
   },
   "outputs": [
    {
     "data": {
      "text/html": [
       "<div>\n",
       "<style scoped>\n",
       "    .dataframe tbody tr th:only-of-type {\n",
       "        vertical-align: middle;\n",
       "    }\n",
       "\n",
       "    .dataframe tbody tr th {\n",
       "        vertical-align: top;\n",
       "    }\n",
       "\n",
       "    .dataframe thead th {\n",
       "        text-align: right;\n",
       "    }\n",
       "</style>\n",
       "<table border=\"1\" class=\"dataframe\">\n",
       "  <thead>\n",
       "    <tr style=\"text-align: right;\">\n",
       "      <th></th>\n",
       "      <th>b</th>\n",
       "      <th>c</th>\n",
       "      <th>d</th>\n",
       "      <th>e</th>\n",
       "      <th>f</th>\n",
       "      <th>g</th>\n",
       "    </tr>\n",
       "  </thead>\n",
       "  <tbody>\n",
       "    <tr>\n",
       "      <th>10</th>\n",
       "      <td>1.0</td>\n",
       "      <td>2.0</td>\n",
       "      <td>3.0</td>\n",
       "      <td>1</td>\n",
       "      <td>False</td>\n",
       "      <td>1</td>\n",
       "    </tr>\n",
       "    <tr>\n",
       "      <th>20</th>\n",
       "      <td>5.0</td>\n",
       "      <td>6.0</td>\n",
       "      <td>7.0</td>\n",
       "      <td>2</td>\n",
       "      <td>True</td>\n",
       "      <td>10</td>\n",
       "    </tr>\n",
       "    <tr>\n",
       "      <th>30</th>\n",
       "      <td>9.0</td>\n",
       "      <td>10.0</td>\n",
       "      <td>11.0</td>\n",
       "      <td>3</td>\n",
       "      <td>True</td>\n",
       "      <td>10</td>\n",
       "    </tr>\n",
       "    <tr>\n",
       "      <th>40</th>\n",
       "      <td>13.0</td>\n",
       "      <td>14.0</td>\n",
       "      <td>15.0</td>\n",
       "      <td>4</td>\n",
       "      <td>True</td>\n",
       "      <td>1</td>\n",
       "    </tr>\n",
       "    <tr>\n",
       "      <th>50</th>\n",
       "      <td>2.0</td>\n",
       "      <td>3.0</td>\n",
       "      <td>4.0</td>\n",
       "      <td>5</td>\n",
       "      <td>False</td>\n",
       "      <td>10</td>\n",
       "    </tr>\n",
       "  </tbody>\n",
       "</table>\n",
       "</div>"
      ],
      "text/plain": [
       "       b     c     d  e      f   g\n",
       "10   1.0   2.0   3.0  1  False   1\n",
       "20   5.0   6.0   7.0  2   True  10\n",
       "30   9.0  10.0  11.0  3   True  10\n",
       "40  13.0  14.0  15.0  4   True   1\n",
       "50   2.0   3.0   4.0  5  False  10"
      ]
     },
     "execution_count": 121,
     "metadata": {},
     "output_type": "execute_result"
    }
   ],
   "source": [
    "del df['a']\n",
    "df"
   ]
  },
  {
   "cell_type": "code",
   "execution_count": 122,
   "id": "eb1d2d75",
   "metadata": {
    "ExecuteTime": {
     "end_time": "2022-03-09T05:46:05.876044Z",
     "start_time": "2022-03-09T05:46:05.862083Z"
    }
   },
   "outputs": [
    {
     "data": {
      "text/html": [
       "<div>\n",
       "<style scoped>\n",
       "    .dataframe tbody tr th:only-of-type {\n",
       "        vertical-align: middle;\n",
       "    }\n",
       "\n",
       "    .dataframe tbody tr th {\n",
       "        vertical-align: top;\n",
       "    }\n",
       "\n",
       "    .dataframe thead th {\n",
       "        text-align: right;\n",
       "    }\n",
       "</style>\n",
       "<table border=\"1\" class=\"dataframe\">\n",
       "  <thead>\n",
       "    <tr style=\"text-align: right;\">\n",
       "      <th></th>\n",
       "      <th>d</th>\n",
       "      <th>e</th>\n",
       "      <th>f</th>\n",
       "      <th>g</th>\n",
       "    </tr>\n",
       "  </thead>\n",
       "  <tbody>\n",
       "    <tr>\n",
       "      <th>10</th>\n",
       "      <td>3.0</td>\n",
       "      <td>1</td>\n",
       "      <td>False</td>\n",
       "      <td>1</td>\n",
       "    </tr>\n",
       "    <tr>\n",
       "      <th>20</th>\n",
       "      <td>7.0</td>\n",
       "      <td>2</td>\n",
       "      <td>True</td>\n",
       "      <td>10</td>\n",
       "    </tr>\n",
       "    <tr>\n",
       "      <th>30</th>\n",
       "      <td>11.0</td>\n",
       "      <td>3</td>\n",
       "      <td>True</td>\n",
       "      <td>10</td>\n",
       "    </tr>\n",
       "    <tr>\n",
       "      <th>40</th>\n",
       "      <td>15.0</td>\n",
       "      <td>4</td>\n",
       "      <td>True</td>\n",
       "      <td>1</td>\n",
       "    </tr>\n",
       "    <tr>\n",
       "      <th>50</th>\n",
       "      <td>4.0</td>\n",
       "      <td>5</td>\n",
       "      <td>False</td>\n",
       "      <td>10</td>\n",
       "    </tr>\n",
       "  </tbody>\n",
       "</table>\n",
       "</div>"
      ],
      "text/plain": [
       "       d  e      f   g\n",
       "10   3.0  1  False   1\n",
       "20   7.0  2   True  10\n",
       "30  11.0  3   True  10\n",
       "40  15.0  4   True   1\n",
       "50   4.0  5  False  10"
      ]
     },
     "execution_count": 122,
     "metadata": {},
     "output_type": "execute_result"
    }
   ],
   "source": [
    "df.drop(['b', 'c'], axis=1, inplace=True)\n",
    "df"
   ]
  },
  {
   "cell_type": "code",
   "execution_count": 123,
   "id": "ceaef560",
   "metadata": {
    "ExecuteTime": {
     "end_time": "2022-03-09T05:46:05.891005Z",
     "start_time": "2022-03-09T05:46:05.877042Z"
    }
   },
   "outputs": [
    {
     "data": {
      "text/html": [
       "<div>\n",
       "<style scoped>\n",
       "    .dataframe tbody tr th:only-of-type {\n",
       "        vertical-align: middle;\n",
       "    }\n",
       "\n",
       "    .dataframe tbody tr th {\n",
       "        vertical-align: top;\n",
       "    }\n",
       "\n",
       "    .dataframe thead th {\n",
       "        text-align: right;\n",
       "    }\n",
       "</style>\n",
       "<table border=\"1\" class=\"dataframe\">\n",
       "  <thead>\n",
       "    <tr style=\"text-align: right;\">\n",
       "      <th></th>\n",
       "      <th>d</th>\n",
       "      <th>e</th>\n",
       "      <th>f</th>\n",
       "      <th>g</th>\n",
       "    </tr>\n",
       "  </thead>\n",
       "  <tbody>\n",
       "    <tr>\n",
       "      <th>20</th>\n",
       "      <td>7.0</td>\n",
       "      <td>2</td>\n",
       "      <td>True</td>\n",
       "      <td>10</td>\n",
       "    </tr>\n",
       "    <tr>\n",
       "      <th>40</th>\n",
       "      <td>15.0</td>\n",
       "      <td>4</td>\n",
       "      <td>True</td>\n",
       "      <td>1</td>\n",
       "    </tr>\n",
       "    <tr>\n",
       "      <th>50</th>\n",
       "      <td>4.0</td>\n",
       "      <td>5</td>\n",
       "      <td>False</td>\n",
       "      <td>10</td>\n",
       "    </tr>\n",
       "  </tbody>\n",
       "</table>\n",
       "</div>"
      ],
      "text/plain": [
       "       d  e      f   g\n",
       "20   7.0  2   True  10\n",
       "40  15.0  4   True   1\n",
       "50   4.0  5  False  10"
      ]
     },
     "execution_count": 123,
     "metadata": {},
     "output_type": "execute_result"
    }
   ],
   "source": [
    "df.drop([10, 30], axis=0, inplace=True)\n",
    "df"
   ]
  },
  {
   "cell_type": "code",
   "execution_count": 124,
   "id": "5fd4c760",
   "metadata": {
    "ExecuteTime": {
     "end_time": "2022-03-09T05:46:05.905965Z",
     "start_time": "2022-03-09T05:46:05.892002Z"
    },
    "scrolled": true
   },
   "outputs": [
    {
     "data": {
      "text/html": [
       "<div>\n",
       "<style scoped>\n",
       "    .dataframe tbody tr th:only-of-type {\n",
       "        vertical-align: middle;\n",
       "    }\n",
       "\n",
       "    .dataframe tbody tr th {\n",
       "        vertical-align: top;\n",
       "    }\n",
       "\n",
       "    .dataframe thead th {\n",
       "        text-align: right;\n",
       "    }\n",
       "</style>\n",
       "<table border=\"1\" class=\"dataframe\">\n",
       "  <thead>\n",
       "    <tr style=\"text-align: right;\">\n",
       "      <th></th>\n",
       "      <th>d</th>\n",
       "      <th>e</th>\n",
       "      <th>f</th>\n",
       "      <th>g</th>\n",
       "    </tr>\n",
       "  </thead>\n",
       "  <tbody>\n",
       "    <tr>\n",
       "      <th>20</th>\n",
       "      <td>7.0</td>\n",
       "      <td>2</td>\n",
       "      <td>True</td>\n",
       "      <td>10</td>\n",
       "    </tr>\n",
       "    <tr>\n",
       "      <th>40</th>\n",
       "      <td>1.0</td>\n",
       "      <td>2</td>\n",
       "      <td>3</td>\n",
       "      <td>4</td>\n",
       "    </tr>\n",
       "    <tr>\n",
       "      <th>50</th>\n",
       "      <td>4.0</td>\n",
       "      <td>5</td>\n",
       "      <td>False</td>\n",
       "      <td>10</td>\n",
       "    </tr>\n",
       "  </tbody>\n",
       "</table>\n",
       "</div>"
      ],
      "text/plain": [
       "      d  e      f   g\n",
       "20  7.0  2   True  10\n",
       "40  1.0  2      3   4\n",
       "50  4.0  5  False  10"
      ]
     },
     "execution_count": 124,
     "metadata": {},
     "output_type": "execute_result"
    }
   ],
   "source": [
    "df.loc[40] = [1, 2, 3, 4]\n",
    "df"
   ]
  },
  {
   "cell_type": "markdown",
   "id": "e322c513",
   "metadata": {},
   "source": [
    "### operation"
   ]
  },
  {
   "cell_type": "markdown",
   "id": "ef0ee8a1",
   "metadata": {
    "ExecuteTime": {
     "end_time": "2022-03-09T04:16:31.315306Z",
     "start_time": "2022-03-09T04:16:31.304352Z"
    }
   },
   "source": [
    "#### one dataframe"
   ]
  },
  {
   "cell_type": "code",
   "execution_count": 125,
   "id": "a3f4b870",
   "metadata": {
    "ExecuteTime": {
     "end_time": "2022-03-09T05:46:05.920924Z",
     "start_time": "2022-03-09T05:46:05.906961Z"
    }
   },
   "outputs": [
    {
     "data": {
      "text/html": [
       "<div>\n",
       "<style scoped>\n",
       "    .dataframe tbody tr th:only-of-type {\n",
       "        vertical-align: middle;\n",
       "    }\n",
       "\n",
       "    .dataframe tbody tr th {\n",
       "        vertical-align: top;\n",
       "    }\n",
       "\n",
       "    .dataframe thead th {\n",
       "        text-align: right;\n",
       "    }\n",
       "</style>\n",
       "<table border=\"1\" class=\"dataframe\">\n",
       "  <thead>\n",
       "    <tr style=\"text-align: right;\">\n",
       "      <th></th>\n",
       "      <th>성별</th>\n",
       "      <th>학년</th>\n",
       "      <th>출석</th>\n",
       "      <th>과제</th>\n",
       "      <th>중간</th>\n",
       "      <th>기말</th>\n",
       "    </tr>\n",
       "  </thead>\n",
       "  <tbody>\n",
       "    <tr>\n",
       "      <th>김혁주</th>\n",
       "      <td>남</td>\n",
       "      <td>4</td>\n",
       "      <td>85</td>\n",
       "      <td>75</td>\n",
       "      <td>90</td>\n",
       "      <td>95</td>\n",
       "    </tr>\n",
       "    <tr>\n",
       "      <th>홍길동</th>\n",
       "      <td>남</td>\n",
       "      <td>3</td>\n",
       "      <td>85</td>\n",
       "      <td>90</td>\n",
       "      <td>85</td>\n",
       "      <td>88</td>\n",
       "    </tr>\n",
       "    <tr>\n",
       "      <th>유재석</th>\n",
       "      <td>남</td>\n",
       "      <td>3</td>\n",
       "      <td>100</td>\n",
       "      <td>100</td>\n",
       "      <td>100</td>\n",
       "      <td>100</td>\n",
       "    </tr>\n",
       "    <tr>\n",
       "      <th>장미란</th>\n",
       "      <td>여</td>\n",
       "      <td>4</td>\n",
       "      <td>90</td>\n",
       "      <td>85</td>\n",
       "      <td>80</td>\n",
       "      <td>78</td>\n",
       "    </tr>\n",
       "    <tr>\n",
       "      <th>박명수</th>\n",
       "      <td>남</td>\n",
       "      <td>4</td>\n",
       "      <td>90</td>\n",
       "      <td>80</td>\n",
       "      <td>80</td>\n",
       "      <td>80</td>\n",
       "    </tr>\n",
       "    <tr>\n",
       "      <th>정형돈</th>\n",
       "      <td>남</td>\n",
       "      <td>2</td>\n",
       "      <td>80</td>\n",
       "      <td>99</td>\n",
       "      <td>88</td>\n",
       "      <td>90</td>\n",
       "    </tr>\n",
       "    <tr>\n",
       "      <th>김연아</th>\n",
       "      <td>여</td>\n",
       "      <td>1</td>\n",
       "      <td>75</td>\n",
       "      <td>80</td>\n",
       "      <td>100</td>\n",
       "      <td>100</td>\n",
       "    </tr>\n",
       "    <tr>\n",
       "      <th>조유리</th>\n",
       "      <td>여</td>\n",
       "      <td>2</td>\n",
       "      <td>85</td>\n",
       "      <td>90</td>\n",
       "      <td>90</td>\n",
       "      <td>89</td>\n",
       "    </tr>\n",
       "    <tr>\n",
       "      <th>하동훈</th>\n",
       "      <td>남</td>\n",
       "      <td>1</td>\n",
       "      <td>75</td>\n",
       "      <td>85</td>\n",
       "      <td>100</td>\n",
       "      <td>85</td>\n",
       "    </tr>\n",
       "  </tbody>\n",
       "</table>\n",
       "</div>"
      ],
      "text/plain": [
       "    성별  학년   출석   과제   중간   기말\n",
       "김혁주  남   4   85   75   90   95\n",
       "홍길동  남   3   85   90   85   88\n",
       "유재석  남   3  100  100  100  100\n",
       "장미란  여   4   90   85   80   78\n",
       "박명수  남   4   90   80   80   80\n",
       "정형돈  남   2   80   99   88   90\n",
       "김연아  여   1   75   80  100  100\n",
       "조유리  여   2   85   90   90   89\n",
       "하동훈  남   1   75   85  100   85"
      ]
     },
     "execution_count": 125,
     "metadata": {},
     "output_type": "execute_result"
    }
   ],
   "source": [
    "df = pd.read_table('table_data.txt', index_col='이름', sep='\\t')\n",
    "df.index.name = None\n",
    "df"
   ]
  },
  {
   "cell_type": "code",
   "execution_count": 126,
   "id": "12532a6f",
   "metadata": {
    "ExecuteTime": {
     "end_time": "2022-03-09T05:46:05.950845Z",
     "start_time": "2022-03-09T05:46:05.921923Z"
    }
   },
   "outputs": [
    {
     "data": {
      "text/html": [
       "<div>\n",
       "<style scoped>\n",
       "    .dataframe tbody tr th:only-of-type {\n",
       "        vertical-align: middle;\n",
       "    }\n",
       "\n",
       "    .dataframe tbody tr th {\n",
       "        vertical-align: top;\n",
       "    }\n",
       "\n",
       "    .dataframe thead th {\n",
       "        text-align: right;\n",
       "    }\n",
       "</style>\n",
       "<table border=\"1\" class=\"dataframe\">\n",
       "  <thead>\n",
       "    <tr style=\"text-align: right;\">\n",
       "      <th></th>\n",
       "      <th>학년</th>\n",
       "      <th>출석</th>\n",
       "      <th>과제</th>\n",
       "      <th>중간</th>\n",
       "      <th>기말</th>\n",
       "    </tr>\n",
       "  </thead>\n",
       "  <tbody>\n",
       "    <tr>\n",
       "      <th>count</th>\n",
       "      <td>9.000000</td>\n",
       "      <td>9.000000</td>\n",
       "      <td>9.000000</td>\n",
       "      <td>9.000000</td>\n",
       "      <td>9.000000</td>\n",
       "    </tr>\n",
       "    <tr>\n",
       "      <th>mean</th>\n",
       "      <td>2.666667</td>\n",
       "      <td>85.000000</td>\n",
       "      <td>87.111111</td>\n",
       "      <td>90.333333</td>\n",
       "      <td>89.444444</td>\n",
       "    </tr>\n",
       "    <tr>\n",
       "      <th>std</th>\n",
       "      <td>1.224745</td>\n",
       "      <td>7.905694</td>\n",
       "      <td>8.521215</td>\n",
       "      <td>8.124038</td>\n",
       "      <td>7.875772</td>\n",
       "    </tr>\n",
       "    <tr>\n",
       "      <th>min</th>\n",
       "      <td>1.000000</td>\n",
       "      <td>75.000000</td>\n",
       "      <td>75.000000</td>\n",
       "      <td>80.000000</td>\n",
       "      <td>78.000000</td>\n",
       "    </tr>\n",
       "    <tr>\n",
       "      <th>25%</th>\n",
       "      <td>2.000000</td>\n",
       "      <td>80.000000</td>\n",
       "      <td>80.000000</td>\n",
       "      <td>85.000000</td>\n",
       "      <td>85.000000</td>\n",
       "    </tr>\n",
       "    <tr>\n",
       "      <th>50%</th>\n",
       "      <td>3.000000</td>\n",
       "      <td>85.000000</td>\n",
       "      <td>85.000000</td>\n",
       "      <td>90.000000</td>\n",
       "      <td>89.000000</td>\n",
       "    </tr>\n",
       "    <tr>\n",
       "      <th>75%</th>\n",
       "      <td>4.000000</td>\n",
       "      <td>90.000000</td>\n",
       "      <td>90.000000</td>\n",
       "      <td>100.000000</td>\n",
       "      <td>95.000000</td>\n",
       "    </tr>\n",
       "    <tr>\n",
       "      <th>max</th>\n",
       "      <td>4.000000</td>\n",
       "      <td>100.000000</td>\n",
       "      <td>100.000000</td>\n",
       "      <td>100.000000</td>\n",
       "      <td>100.000000</td>\n",
       "    </tr>\n",
       "  </tbody>\n",
       "</table>\n",
       "</div>"
      ],
      "text/plain": [
       "             학년          출석          과제          중간          기말\n",
       "count  9.000000    9.000000    9.000000    9.000000    9.000000\n",
       "mean   2.666667   85.000000   87.111111   90.333333   89.444444\n",
       "std    1.224745    7.905694    8.521215    8.124038    7.875772\n",
       "min    1.000000   75.000000   75.000000   80.000000   78.000000\n",
       "25%    2.000000   80.000000   80.000000   85.000000   85.000000\n",
       "50%    3.000000   85.000000   85.000000   90.000000   89.000000\n",
       "75%    4.000000   90.000000   90.000000  100.000000   95.000000\n",
       "max    4.000000  100.000000  100.000000  100.000000  100.000000"
      ]
     },
     "execution_count": 126,
     "metadata": {},
     "output_type": "execute_result"
    }
   ],
   "source": [
    "df.describe() # std : ddof = 1"
   ]
  },
  {
   "cell_type": "code",
   "execution_count": 127,
   "id": "cb45ea35",
   "metadata": {
    "ExecuteTime": {
     "end_time": "2022-03-09T05:46:05.965804Z",
     "start_time": "2022-03-09T05:46:05.951843Z"
    }
   },
   "outputs": [
    {
     "data": {
      "text/plain": [
       "학년    1.224745\n",
       "출석    7.905694\n",
       "과제    8.521215\n",
       "중간    8.124038\n",
       "기말    7.875772\n",
       "dtype: float64"
      ]
     },
     "execution_count": 127,
     "metadata": {},
     "output_type": "execute_result"
    }
   ],
   "source": [
    "df.std() # std : ddof = 1"
   ]
  },
  {
   "cell_type": "code",
   "execution_count": 128,
   "id": "74039f16",
   "metadata": {
    "ExecuteTime": {
     "end_time": "2022-03-09T05:46:05.980764Z",
     "start_time": "2022-03-09T05:46:05.966802Z"
    }
   },
   "outputs": [
    {
     "data": {
      "text/plain": [
       "학년    1.154701\n",
       "출석    7.453560\n",
       "과제    8.033879\n",
       "중간    7.659417\n",
       "기말    7.425349\n",
       "dtype: float64"
      ]
     },
     "execution_count": 128,
     "metadata": {},
     "output_type": "execute_result"
    }
   ],
   "source": [
    "df.std(ddof = 0) # std : ddof = 0"
   ]
  },
  {
   "cell_type": "code",
   "execution_count": 129,
   "id": "98f2971f",
   "metadata": {
    "ExecuteTime": {
     "end_time": "2022-03-09T05:46:05.995724Z",
     "start_time": "2022-03-09T05:46:05.981762Z"
    }
   },
   "outputs": [
    {
     "data": {
      "text/plain": [
       "학년    1.154701\n",
       "출석    7.453560\n",
       "과제    8.033879\n",
       "중간    7.659417\n",
       "기말    7.425349\n",
       "dtype: float64"
      ]
     },
     "execution_count": 129,
     "metadata": {},
     "output_type": "execute_result"
    }
   ],
   "source": [
    "np.std(df) # std : ddof = 0"
   ]
  },
  {
   "cell_type": "code",
   "execution_count": 130,
   "id": "03f5513a",
   "metadata": {
    "ExecuteTime": {
     "end_time": "2022-03-09T05:46:06.010684Z",
     "start_time": "2022-03-09T05:46:05.996721Z"
    }
   },
   "outputs": [
    {
     "data": {
      "text/html": [
       "<div>\n",
       "<style scoped>\n",
       "    .dataframe tbody tr th:only-of-type {\n",
       "        vertical-align: middle;\n",
       "    }\n",
       "\n",
       "    .dataframe tbody tr th {\n",
       "        vertical-align: top;\n",
       "    }\n",
       "\n",
       "    .dataframe thead th {\n",
       "        text-align: right;\n",
       "    }\n",
       "</style>\n",
       "<table border=\"1\" class=\"dataframe\">\n",
       "  <thead>\n",
       "    <tr style=\"text-align: right;\">\n",
       "      <th></th>\n",
       "      <th>성별</th>\n",
       "      <th>학년</th>\n",
       "      <th>출석</th>\n",
       "      <th>과제</th>\n",
       "      <th>중간</th>\n",
       "      <th>기말</th>\n",
       "    </tr>\n",
       "  </thead>\n",
       "  <tbody>\n",
       "    <tr>\n",
       "      <th>홍길동</th>\n",
       "      <td>남</td>\n",
       "      <td>3</td>\n",
       "      <td>85</td>\n",
       "      <td>90</td>\n",
       "      <td>85</td>\n",
       "      <td>88</td>\n",
       "    </tr>\n",
       "    <tr>\n",
       "      <th>하동훈</th>\n",
       "      <td>남</td>\n",
       "      <td>1</td>\n",
       "      <td>75</td>\n",
       "      <td>85</td>\n",
       "      <td>100</td>\n",
       "      <td>85</td>\n",
       "    </tr>\n",
       "    <tr>\n",
       "      <th>조유리</th>\n",
       "      <td>여</td>\n",
       "      <td>2</td>\n",
       "      <td>85</td>\n",
       "      <td>90</td>\n",
       "      <td>90</td>\n",
       "      <td>89</td>\n",
       "    </tr>\n",
       "    <tr>\n",
       "      <th>정형돈</th>\n",
       "      <td>남</td>\n",
       "      <td>2</td>\n",
       "      <td>80</td>\n",
       "      <td>99</td>\n",
       "      <td>88</td>\n",
       "      <td>90</td>\n",
       "    </tr>\n",
       "    <tr>\n",
       "      <th>장미란</th>\n",
       "      <td>여</td>\n",
       "      <td>4</td>\n",
       "      <td>90</td>\n",
       "      <td>85</td>\n",
       "      <td>80</td>\n",
       "      <td>78</td>\n",
       "    </tr>\n",
       "    <tr>\n",
       "      <th>유재석</th>\n",
       "      <td>남</td>\n",
       "      <td>3</td>\n",
       "      <td>100</td>\n",
       "      <td>100</td>\n",
       "      <td>100</td>\n",
       "      <td>100</td>\n",
       "    </tr>\n",
       "    <tr>\n",
       "      <th>박명수</th>\n",
       "      <td>남</td>\n",
       "      <td>4</td>\n",
       "      <td>90</td>\n",
       "      <td>80</td>\n",
       "      <td>80</td>\n",
       "      <td>80</td>\n",
       "    </tr>\n",
       "    <tr>\n",
       "      <th>김혁주</th>\n",
       "      <td>남</td>\n",
       "      <td>4</td>\n",
       "      <td>85</td>\n",
       "      <td>75</td>\n",
       "      <td>90</td>\n",
       "      <td>95</td>\n",
       "    </tr>\n",
       "    <tr>\n",
       "      <th>김연아</th>\n",
       "      <td>여</td>\n",
       "      <td>1</td>\n",
       "      <td>75</td>\n",
       "      <td>80</td>\n",
       "      <td>100</td>\n",
       "      <td>100</td>\n",
       "    </tr>\n",
       "  </tbody>\n",
       "</table>\n",
       "</div>"
      ],
      "text/plain": [
       "    성별  학년   출석   과제   중간   기말\n",
       "홍길동  남   3   85   90   85   88\n",
       "하동훈  남   1   75   85  100   85\n",
       "조유리  여   2   85   90   90   89\n",
       "정형돈  남   2   80   99   88   90\n",
       "장미란  여   4   90   85   80   78\n",
       "유재석  남   3  100  100  100  100\n",
       "박명수  남   4   90   80   80   80\n",
       "김혁주  남   4   85   75   90   95\n",
       "김연아  여   1   75   80  100  100"
      ]
     },
     "execution_count": 130,
     "metadata": {},
     "output_type": "execute_result"
    }
   ],
   "source": [
    "df.sort_index(ascending=False)"
   ]
  },
  {
   "cell_type": "code",
   "execution_count": 131,
   "id": "a93ffb03",
   "metadata": {
    "ExecuteTime": {
     "end_time": "2022-03-09T05:46:06.025644Z",
     "start_time": "2022-03-09T05:46:06.011681Z"
    }
   },
   "outputs": [
    {
     "data": {
      "text/html": [
       "<div>\n",
       "<style scoped>\n",
       "    .dataframe tbody tr th:only-of-type {\n",
       "        vertical-align: middle;\n",
       "    }\n",
       "\n",
       "    .dataframe tbody tr th {\n",
       "        vertical-align: top;\n",
       "    }\n",
       "\n",
       "    .dataframe thead th {\n",
       "        text-align: right;\n",
       "    }\n",
       "</style>\n",
       "<table border=\"1\" class=\"dataframe\">\n",
       "  <thead>\n",
       "    <tr style=\"text-align: right;\">\n",
       "      <th></th>\n",
       "      <th>과제</th>\n",
       "      <th>기말</th>\n",
       "      <th>성별</th>\n",
       "      <th>중간</th>\n",
       "      <th>출석</th>\n",
       "      <th>학년</th>\n",
       "    </tr>\n",
       "  </thead>\n",
       "  <tbody>\n",
       "    <tr>\n",
       "      <th>김혁주</th>\n",
       "      <td>75</td>\n",
       "      <td>95</td>\n",
       "      <td>남</td>\n",
       "      <td>90</td>\n",
       "      <td>85</td>\n",
       "      <td>4</td>\n",
       "    </tr>\n",
       "    <tr>\n",
       "      <th>홍길동</th>\n",
       "      <td>90</td>\n",
       "      <td>88</td>\n",
       "      <td>남</td>\n",
       "      <td>85</td>\n",
       "      <td>85</td>\n",
       "      <td>3</td>\n",
       "    </tr>\n",
       "    <tr>\n",
       "      <th>유재석</th>\n",
       "      <td>100</td>\n",
       "      <td>100</td>\n",
       "      <td>남</td>\n",
       "      <td>100</td>\n",
       "      <td>100</td>\n",
       "      <td>3</td>\n",
       "    </tr>\n",
       "    <tr>\n",
       "      <th>장미란</th>\n",
       "      <td>85</td>\n",
       "      <td>78</td>\n",
       "      <td>여</td>\n",
       "      <td>80</td>\n",
       "      <td>90</td>\n",
       "      <td>4</td>\n",
       "    </tr>\n",
       "    <tr>\n",
       "      <th>박명수</th>\n",
       "      <td>80</td>\n",
       "      <td>80</td>\n",
       "      <td>남</td>\n",
       "      <td>80</td>\n",
       "      <td>90</td>\n",
       "      <td>4</td>\n",
       "    </tr>\n",
       "    <tr>\n",
       "      <th>정형돈</th>\n",
       "      <td>99</td>\n",
       "      <td>90</td>\n",
       "      <td>남</td>\n",
       "      <td>88</td>\n",
       "      <td>80</td>\n",
       "      <td>2</td>\n",
       "    </tr>\n",
       "    <tr>\n",
       "      <th>김연아</th>\n",
       "      <td>80</td>\n",
       "      <td>100</td>\n",
       "      <td>여</td>\n",
       "      <td>100</td>\n",
       "      <td>75</td>\n",
       "      <td>1</td>\n",
       "    </tr>\n",
       "    <tr>\n",
       "      <th>조유리</th>\n",
       "      <td>90</td>\n",
       "      <td>89</td>\n",
       "      <td>여</td>\n",
       "      <td>90</td>\n",
       "      <td>85</td>\n",
       "      <td>2</td>\n",
       "    </tr>\n",
       "    <tr>\n",
       "      <th>하동훈</th>\n",
       "      <td>85</td>\n",
       "      <td>85</td>\n",
       "      <td>남</td>\n",
       "      <td>100</td>\n",
       "      <td>75</td>\n",
       "      <td>1</td>\n",
       "    </tr>\n",
       "  </tbody>\n",
       "</table>\n",
       "</div>"
      ],
      "text/plain": [
       "      과제   기말 성별   중간   출석  학년\n",
       "김혁주   75   95  남   90   85   4\n",
       "홍길동   90   88  남   85   85   3\n",
       "유재석  100  100  남  100  100   3\n",
       "장미란   85   78  여   80   90   4\n",
       "박명수   80   80  남   80   90   4\n",
       "정형돈   99   90  남   88   80   2\n",
       "김연아   80  100  여  100   75   1\n",
       "조유리   90   89  여   90   85   2\n",
       "하동훈   85   85  남  100   75   1"
      ]
     },
     "execution_count": 131,
     "metadata": {},
     "output_type": "execute_result"
    }
   ],
   "source": [
    "df.sort_index(axis=1)"
   ]
  },
  {
   "cell_type": "code",
   "execution_count": 132,
   "id": "57df64b7",
   "metadata": {
    "ExecuteTime": {
     "end_time": "2022-03-09T05:46:06.040604Z",
     "start_time": "2022-03-09T05:46:06.026643Z"
    }
   },
   "outputs": [
    {
     "data": {
      "text/html": [
       "<div>\n",
       "<style scoped>\n",
       "    .dataframe tbody tr th:only-of-type {\n",
       "        vertical-align: middle;\n",
       "    }\n",
       "\n",
       "    .dataframe tbody tr th {\n",
       "        vertical-align: top;\n",
       "    }\n",
       "\n",
       "    .dataframe thead th {\n",
       "        text-align: right;\n",
       "    }\n",
       "</style>\n",
       "<table border=\"1\" class=\"dataframe\">\n",
       "  <thead>\n",
       "    <tr style=\"text-align: right;\">\n",
       "      <th></th>\n",
       "      <th>성별</th>\n",
       "      <th>학년</th>\n",
       "      <th>출석</th>\n",
       "      <th>과제</th>\n",
       "      <th>중간</th>\n",
       "      <th>기말</th>\n",
       "    </tr>\n",
       "  </thead>\n",
       "  <tbody>\n",
       "    <tr>\n",
       "      <th>장미란</th>\n",
       "      <td>여</td>\n",
       "      <td>4</td>\n",
       "      <td>90</td>\n",
       "      <td>85</td>\n",
       "      <td>80</td>\n",
       "      <td>78</td>\n",
       "    </tr>\n",
       "    <tr>\n",
       "      <th>박명수</th>\n",
       "      <td>남</td>\n",
       "      <td>4</td>\n",
       "      <td>90</td>\n",
       "      <td>80</td>\n",
       "      <td>80</td>\n",
       "      <td>80</td>\n",
       "    </tr>\n",
       "    <tr>\n",
       "      <th>하동훈</th>\n",
       "      <td>남</td>\n",
       "      <td>1</td>\n",
       "      <td>75</td>\n",
       "      <td>85</td>\n",
       "      <td>100</td>\n",
       "      <td>85</td>\n",
       "    </tr>\n",
       "    <tr>\n",
       "      <th>홍길동</th>\n",
       "      <td>남</td>\n",
       "      <td>3</td>\n",
       "      <td>85</td>\n",
       "      <td>90</td>\n",
       "      <td>85</td>\n",
       "      <td>88</td>\n",
       "    </tr>\n",
       "    <tr>\n",
       "      <th>조유리</th>\n",
       "      <td>여</td>\n",
       "      <td>2</td>\n",
       "      <td>85</td>\n",
       "      <td>90</td>\n",
       "      <td>90</td>\n",
       "      <td>89</td>\n",
       "    </tr>\n",
       "    <tr>\n",
       "      <th>정형돈</th>\n",
       "      <td>남</td>\n",
       "      <td>2</td>\n",
       "      <td>80</td>\n",
       "      <td>99</td>\n",
       "      <td>88</td>\n",
       "      <td>90</td>\n",
       "    </tr>\n",
       "    <tr>\n",
       "      <th>김혁주</th>\n",
       "      <td>남</td>\n",
       "      <td>4</td>\n",
       "      <td>85</td>\n",
       "      <td>75</td>\n",
       "      <td>90</td>\n",
       "      <td>95</td>\n",
       "    </tr>\n",
       "    <tr>\n",
       "      <th>유재석</th>\n",
       "      <td>남</td>\n",
       "      <td>3</td>\n",
       "      <td>100</td>\n",
       "      <td>100</td>\n",
       "      <td>100</td>\n",
       "      <td>100</td>\n",
       "    </tr>\n",
       "    <tr>\n",
       "      <th>김연아</th>\n",
       "      <td>여</td>\n",
       "      <td>1</td>\n",
       "      <td>75</td>\n",
       "      <td>80</td>\n",
       "      <td>100</td>\n",
       "      <td>100</td>\n",
       "    </tr>\n",
       "  </tbody>\n",
       "</table>\n",
       "</div>"
      ],
      "text/plain": [
       "    성별  학년   출석   과제   중간   기말\n",
       "장미란  여   4   90   85   80   78\n",
       "박명수  남   4   90   80   80   80\n",
       "하동훈  남   1   75   85  100   85\n",
       "홍길동  남   3   85   90   85   88\n",
       "조유리  여   2   85   90   90   89\n",
       "정형돈  남   2   80   99   88   90\n",
       "김혁주  남   4   85   75   90   95\n",
       "유재석  남   3  100  100  100  100\n",
       "김연아  여   1   75   80  100  100"
      ]
     },
     "execution_count": 132,
     "metadata": {},
     "output_type": "execute_result"
    }
   ],
   "source": [
    "df.sort_values('기말')"
   ]
  },
  {
   "cell_type": "code",
   "execution_count": 133,
   "id": "3b73bfbf",
   "metadata": {
    "ExecuteTime": {
     "end_time": "2022-03-09T05:46:06.055565Z",
     "start_time": "2022-03-09T05:46:06.041603Z"
    }
   },
   "outputs": [
    {
     "data": {
      "text/html": [
       "<div>\n",
       "<style scoped>\n",
       "    .dataframe tbody tr th:only-of-type {\n",
       "        vertical-align: middle;\n",
       "    }\n",
       "\n",
       "    .dataframe tbody tr th {\n",
       "        vertical-align: top;\n",
       "    }\n",
       "\n",
       "    .dataframe thead th {\n",
       "        text-align: right;\n",
       "    }\n",
       "</style>\n",
       "<table border=\"1\" class=\"dataframe\">\n",
       "  <thead>\n",
       "    <tr style=\"text-align: right;\">\n",
       "      <th></th>\n",
       "      <th>성별</th>\n",
       "      <th>학년</th>\n",
       "      <th>출석</th>\n",
       "      <th>과제</th>\n",
       "      <th>중간</th>\n",
       "      <th>기말</th>\n",
       "    </tr>\n",
       "  </thead>\n",
       "  <tbody>\n",
       "    <tr>\n",
       "      <th>장미란</th>\n",
       "      <td>여</td>\n",
       "      <td>4</td>\n",
       "      <td>90</td>\n",
       "      <td>85</td>\n",
       "      <td>80</td>\n",
       "      <td>78</td>\n",
       "    </tr>\n",
       "    <tr>\n",
       "      <th>박명수</th>\n",
       "      <td>남</td>\n",
       "      <td>4</td>\n",
       "      <td>90</td>\n",
       "      <td>80</td>\n",
       "      <td>80</td>\n",
       "      <td>80</td>\n",
       "    </tr>\n",
       "    <tr>\n",
       "      <th>하동훈</th>\n",
       "      <td>남</td>\n",
       "      <td>1</td>\n",
       "      <td>75</td>\n",
       "      <td>85</td>\n",
       "      <td>100</td>\n",
       "      <td>85</td>\n",
       "    </tr>\n",
       "    <tr>\n",
       "      <th>홍길동</th>\n",
       "      <td>남</td>\n",
       "      <td>3</td>\n",
       "      <td>85</td>\n",
       "      <td>90</td>\n",
       "      <td>85</td>\n",
       "      <td>88</td>\n",
       "    </tr>\n",
       "    <tr>\n",
       "      <th>조유리</th>\n",
       "      <td>여</td>\n",
       "      <td>2</td>\n",
       "      <td>85</td>\n",
       "      <td>90</td>\n",
       "      <td>90</td>\n",
       "      <td>89</td>\n",
       "    </tr>\n",
       "    <tr>\n",
       "      <th>정형돈</th>\n",
       "      <td>남</td>\n",
       "      <td>2</td>\n",
       "      <td>80</td>\n",
       "      <td>99</td>\n",
       "      <td>88</td>\n",
       "      <td>90</td>\n",
       "    </tr>\n",
       "    <tr>\n",
       "      <th>김혁주</th>\n",
       "      <td>남</td>\n",
       "      <td>4</td>\n",
       "      <td>85</td>\n",
       "      <td>75</td>\n",
       "      <td>90</td>\n",
       "      <td>95</td>\n",
       "    </tr>\n",
       "    <tr>\n",
       "      <th>유재석</th>\n",
       "      <td>남</td>\n",
       "      <td>3</td>\n",
       "      <td>100</td>\n",
       "      <td>100</td>\n",
       "      <td>100</td>\n",
       "      <td>100</td>\n",
       "    </tr>\n",
       "    <tr>\n",
       "      <th>김연아</th>\n",
       "      <td>여</td>\n",
       "      <td>1</td>\n",
       "      <td>75</td>\n",
       "      <td>80</td>\n",
       "      <td>100</td>\n",
       "      <td>100</td>\n",
       "    </tr>\n",
       "  </tbody>\n",
       "</table>\n",
       "</div>"
      ],
      "text/plain": [
       "    성별  학년   출석   과제   중간   기말\n",
       "장미란  여   4   90   85   80   78\n",
       "박명수  남   4   90   80   80   80\n",
       "하동훈  남   1   75   85  100   85\n",
       "홍길동  남   3   85   90   85   88\n",
       "조유리  여   2   85   90   90   89\n",
       "정형돈  남   2   80   99   88   90\n",
       "김혁주  남   4   85   75   90   95\n",
       "유재석  남   3  100  100  100  100\n",
       "김연아  여   1   75   80  100  100"
      ]
     },
     "execution_count": 133,
     "metadata": {},
     "output_type": "execute_result"
    }
   ],
   "source": [
    "df.sort_values(['기말', '중간'])"
   ]
  },
  {
   "cell_type": "code",
   "execution_count": 134,
   "id": "6da5f5df",
   "metadata": {
    "ExecuteTime": {
     "end_time": "2022-03-09T05:46:06.070525Z",
     "start_time": "2022-03-09T05:46:06.056563Z"
    }
   },
   "outputs": [
    {
     "data": {
      "text/html": [
       "<div>\n",
       "<style scoped>\n",
       "    .dataframe tbody tr th:only-of-type {\n",
       "        vertical-align: middle;\n",
       "    }\n",
       "\n",
       "    .dataframe tbody tr th {\n",
       "        vertical-align: top;\n",
       "    }\n",
       "\n",
       "    .dataframe thead th {\n",
       "        text-align: right;\n",
       "    }\n",
       "</style>\n",
       "<table border=\"1\" class=\"dataframe\">\n",
       "  <thead>\n",
       "    <tr style=\"text-align: right;\">\n",
       "      <th></th>\n",
       "      <th>성별</th>\n",
       "      <th>학년</th>\n",
       "      <th>출석</th>\n",
       "      <th>과제</th>\n",
       "      <th>중간</th>\n",
       "      <th>기말</th>\n",
       "    </tr>\n",
       "  </thead>\n",
       "  <tbody>\n",
       "    <tr>\n",
       "      <th>김혁주</th>\n",
       "      <td>3.5</td>\n",
       "      <td>8.0</td>\n",
       "      <td>5.0</td>\n",
       "      <td>1.0</td>\n",
       "      <td>5.5</td>\n",
       "      <td>7.0</td>\n",
       "    </tr>\n",
       "    <tr>\n",
       "      <th>홍길동</th>\n",
       "      <td>3.5</td>\n",
       "      <td>5.5</td>\n",
       "      <td>5.0</td>\n",
       "      <td>6.5</td>\n",
       "      <td>3.0</td>\n",
       "      <td>4.0</td>\n",
       "    </tr>\n",
       "    <tr>\n",
       "      <th>유재석</th>\n",
       "      <td>3.5</td>\n",
       "      <td>5.5</td>\n",
       "      <td>9.0</td>\n",
       "      <td>9.0</td>\n",
       "      <td>8.0</td>\n",
       "      <td>8.5</td>\n",
       "    </tr>\n",
       "    <tr>\n",
       "      <th>장미란</th>\n",
       "      <td>8.0</td>\n",
       "      <td>8.0</td>\n",
       "      <td>7.5</td>\n",
       "      <td>4.5</td>\n",
       "      <td>1.5</td>\n",
       "      <td>1.0</td>\n",
       "    </tr>\n",
       "    <tr>\n",
       "      <th>박명수</th>\n",
       "      <td>3.5</td>\n",
       "      <td>8.0</td>\n",
       "      <td>7.5</td>\n",
       "      <td>2.5</td>\n",
       "      <td>1.5</td>\n",
       "      <td>2.0</td>\n",
       "    </tr>\n",
       "    <tr>\n",
       "      <th>정형돈</th>\n",
       "      <td>3.5</td>\n",
       "      <td>3.5</td>\n",
       "      <td>3.0</td>\n",
       "      <td>8.0</td>\n",
       "      <td>4.0</td>\n",
       "      <td>6.0</td>\n",
       "    </tr>\n",
       "    <tr>\n",
       "      <th>김연아</th>\n",
       "      <td>8.0</td>\n",
       "      <td>1.5</td>\n",
       "      <td>1.5</td>\n",
       "      <td>2.5</td>\n",
       "      <td>8.0</td>\n",
       "      <td>8.5</td>\n",
       "    </tr>\n",
       "    <tr>\n",
       "      <th>조유리</th>\n",
       "      <td>8.0</td>\n",
       "      <td>3.5</td>\n",
       "      <td>5.0</td>\n",
       "      <td>6.5</td>\n",
       "      <td>5.5</td>\n",
       "      <td>5.0</td>\n",
       "    </tr>\n",
       "    <tr>\n",
       "      <th>하동훈</th>\n",
       "      <td>3.5</td>\n",
       "      <td>1.5</td>\n",
       "      <td>1.5</td>\n",
       "      <td>4.5</td>\n",
       "      <td>8.0</td>\n",
       "      <td>3.0</td>\n",
       "    </tr>\n",
       "  </tbody>\n",
       "</table>\n",
       "</div>"
      ],
      "text/plain": [
       "      성별   학년   출석   과제   중간   기말\n",
       "김혁주  3.5  8.0  5.0  1.0  5.5  7.0\n",
       "홍길동  3.5  5.5  5.0  6.5  3.0  4.0\n",
       "유재석  3.5  5.5  9.0  9.0  8.0  8.5\n",
       "장미란  8.0  8.0  7.5  4.5  1.5  1.0\n",
       "박명수  3.5  8.0  7.5  2.5  1.5  2.0\n",
       "정형돈  3.5  3.5  3.0  8.0  4.0  6.0\n",
       "김연아  8.0  1.5  1.5  2.5  8.0  8.5\n",
       "조유리  8.0  3.5  5.0  6.5  5.5  5.0\n",
       "하동훈  3.5  1.5  1.5  4.5  8.0  3.0"
      ]
     },
     "execution_count": 134,
     "metadata": {},
     "output_type": "execute_result"
    }
   ],
   "source": [
    "df.rank()"
   ]
  },
  {
   "cell_type": "code",
   "execution_count": 135,
   "id": "e4ad8464",
   "metadata": {
    "ExecuteTime": {
     "end_time": "2022-03-09T05:46:06.085484Z",
     "start_time": "2022-03-09T05:46:06.071545Z"
    }
   },
   "outputs": [
    {
     "data": {
      "text/html": [
       "<div>\n",
       "<style scoped>\n",
       "    .dataframe tbody tr th:only-of-type {\n",
       "        vertical-align: middle;\n",
       "    }\n",
       "\n",
       "    .dataframe tbody tr th {\n",
       "        vertical-align: top;\n",
       "    }\n",
       "\n",
       "    .dataframe thead th {\n",
       "        text-align: right;\n",
       "    }\n",
       "</style>\n",
       "<table border=\"1\" class=\"dataframe\">\n",
       "  <thead>\n",
       "    <tr style=\"text-align: right;\">\n",
       "      <th></th>\n",
       "      <th>학년</th>\n",
       "      <th>출석</th>\n",
       "      <th>과제</th>\n",
       "      <th>중간</th>\n",
       "      <th>기말</th>\n",
       "    </tr>\n",
       "  </thead>\n",
       "  <tbody>\n",
       "    <tr>\n",
       "      <th>김혁주</th>\n",
       "      <td>1.0</td>\n",
       "      <td>3.0</td>\n",
       "      <td>2.0</td>\n",
       "      <td>4.0</td>\n",
       "      <td>5.0</td>\n",
       "    </tr>\n",
       "    <tr>\n",
       "      <th>홍길동</th>\n",
       "      <td>1.0</td>\n",
       "      <td>2.5</td>\n",
       "      <td>5.0</td>\n",
       "      <td>2.5</td>\n",
       "      <td>4.0</td>\n",
       "    </tr>\n",
       "    <tr>\n",
       "      <th>유재석</th>\n",
       "      <td>1.0</td>\n",
       "      <td>3.5</td>\n",
       "      <td>3.5</td>\n",
       "      <td>3.5</td>\n",
       "      <td>3.5</td>\n",
       "    </tr>\n",
       "    <tr>\n",
       "      <th>장미란</th>\n",
       "      <td>1.0</td>\n",
       "      <td>5.0</td>\n",
       "      <td>4.0</td>\n",
       "      <td>3.0</td>\n",
       "      <td>2.0</td>\n",
       "    </tr>\n",
       "    <tr>\n",
       "      <th>박명수</th>\n",
       "      <td>1.0</td>\n",
       "      <td>5.0</td>\n",
       "      <td>3.0</td>\n",
       "      <td>3.0</td>\n",
       "      <td>3.0</td>\n",
       "    </tr>\n",
       "    <tr>\n",
       "      <th>정형돈</th>\n",
       "      <td>1.0</td>\n",
       "      <td>2.0</td>\n",
       "      <td>5.0</td>\n",
       "      <td>3.0</td>\n",
       "      <td>4.0</td>\n",
       "    </tr>\n",
       "    <tr>\n",
       "      <th>김연아</th>\n",
       "      <td>1.0</td>\n",
       "      <td>2.0</td>\n",
       "      <td>3.0</td>\n",
       "      <td>4.5</td>\n",
       "      <td>4.5</td>\n",
       "    </tr>\n",
       "    <tr>\n",
       "      <th>조유리</th>\n",
       "      <td>1.0</td>\n",
       "      <td>2.0</td>\n",
       "      <td>4.5</td>\n",
       "      <td>4.5</td>\n",
       "      <td>3.0</td>\n",
       "    </tr>\n",
       "    <tr>\n",
       "      <th>하동훈</th>\n",
       "      <td>1.0</td>\n",
       "      <td>2.0</td>\n",
       "      <td>3.5</td>\n",
       "      <td>5.0</td>\n",
       "      <td>3.5</td>\n",
       "    </tr>\n",
       "  </tbody>\n",
       "</table>\n",
       "</div>"
      ],
      "text/plain": [
       "      학년   출석   과제   중간   기말\n",
       "김혁주  1.0  3.0  2.0  4.0  5.0\n",
       "홍길동  1.0  2.5  5.0  2.5  4.0\n",
       "유재석  1.0  3.5  3.5  3.5  3.5\n",
       "장미란  1.0  5.0  4.0  3.0  2.0\n",
       "박명수  1.0  5.0  3.0  3.0  3.0\n",
       "정형돈  1.0  2.0  5.0  3.0  4.0\n",
       "김연아  1.0  2.0  3.0  4.5  4.5\n",
       "조유리  1.0  2.0  4.5  4.5  3.0\n",
       "하동훈  1.0  2.0  3.5  5.0  3.5"
      ]
     },
     "execution_count": 135,
     "metadata": {},
     "output_type": "execute_result"
    }
   ],
   "source": [
    "df.rank(axis=1)"
   ]
  },
  {
   "cell_type": "code",
   "execution_count": 136,
   "id": "38001173",
   "metadata": {
    "ExecuteTime": {
     "end_time": "2022-03-09T05:46:06.100444Z",
     "start_time": "2022-03-09T05:46:06.086481Z"
    }
   },
   "outputs": [
    {
     "data": {
      "text/plain": [
       "array([ 90,  85, 100,  80,  88], dtype=int64)"
      ]
     },
     "execution_count": 136,
     "metadata": {},
     "output_type": "execute_result"
    }
   ],
   "source": [
    "df['중간'].unique()"
   ]
  },
  {
   "cell_type": "code",
   "execution_count": 137,
   "id": "43feaa2d",
   "metadata": {
    "ExecuteTime": {
     "end_time": "2022-03-09T05:46:06.115404Z",
     "start_time": "2022-03-09T05:46:06.101441Z"
    }
   },
   "outputs": [
    {
     "data": {
      "text/plain": [
       "array([4, 3, 2, 1], dtype=int64)"
      ]
     },
     "execution_count": 137,
     "metadata": {},
     "output_type": "execute_result"
    }
   ],
   "source": [
    "df['학년'].unique()"
   ]
  },
  {
   "cell_type": "code",
   "execution_count": 138,
   "id": "bda82d2c",
   "metadata": {
    "ExecuteTime": {
     "end_time": "2022-03-09T05:46:06.130365Z",
     "start_time": "2022-03-09T05:46:06.116402Z"
    }
   },
   "outputs": [
    {
     "data": {
      "text/html": [
       "<div>\n",
       "<style scoped>\n",
       "    .dataframe tbody tr th:only-of-type {\n",
       "        vertical-align: middle;\n",
       "    }\n",
       "\n",
       "    .dataframe tbody tr th {\n",
       "        vertical-align: top;\n",
       "    }\n",
       "\n",
       "    .dataframe thead th {\n",
       "        text-align: right;\n",
       "    }\n",
       "</style>\n",
       "<table border=\"1\" class=\"dataframe\">\n",
       "  <thead>\n",
       "    <tr style=\"text-align: right;\">\n",
       "      <th></th>\n",
       "      <th>성별</th>\n",
       "      <th>학년</th>\n",
       "      <th>출석</th>\n",
       "      <th>과제</th>\n",
       "      <th>중간</th>\n",
       "      <th>기말</th>\n",
       "    </tr>\n",
       "  </thead>\n",
       "  <tbody>\n",
       "    <tr>\n",
       "      <th>김혁주</th>\n",
       "      <td>남</td>\n",
       "      <td>4</td>\n",
       "      <td>85</td>\n",
       "      <td>75</td>\n",
       "      <td>90</td>\n",
       "      <td>95</td>\n",
       "    </tr>\n",
       "    <tr>\n",
       "      <th>홍길동</th>\n",
       "      <td>남</td>\n",
       "      <td>3</td>\n",
       "      <td>85</td>\n",
       "      <td>90</td>\n",
       "      <td>85</td>\n",
       "      <td>88</td>\n",
       "    </tr>\n",
       "    <tr>\n",
       "      <th>유재석</th>\n",
       "      <td>남</td>\n",
       "      <td>3</td>\n",
       "      <td>100</td>\n",
       "      <td>100</td>\n",
       "      <td>100</td>\n",
       "      <td>100</td>\n",
       "    </tr>\n",
       "    <tr>\n",
       "      <th>장미란</th>\n",
       "      <td>여</td>\n",
       "      <td>4</td>\n",
       "      <td>90</td>\n",
       "      <td>85</td>\n",
       "      <td>80</td>\n",
       "      <td>78</td>\n",
       "    </tr>\n",
       "    <tr>\n",
       "      <th>박명수</th>\n",
       "      <td>남</td>\n",
       "      <td>4</td>\n",
       "      <td>90</td>\n",
       "      <td>80</td>\n",
       "      <td>80</td>\n",
       "      <td>80</td>\n",
       "    </tr>\n",
       "    <tr>\n",
       "      <th>정형돈</th>\n",
       "      <td>남</td>\n",
       "      <td>2</td>\n",
       "      <td>80</td>\n",
       "      <td>99</td>\n",
       "      <td>88</td>\n",
       "      <td>90</td>\n",
       "    </tr>\n",
       "    <tr>\n",
       "      <th>김연아</th>\n",
       "      <td>여</td>\n",
       "      <td>1</td>\n",
       "      <td>75</td>\n",
       "      <td>80</td>\n",
       "      <td>100</td>\n",
       "      <td>100</td>\n",
       "    </tr>\n",
       "    <tr>\n",
       "      <th>조유리</th>\n",
       "      <td>여</td>\n",
       "      <td>2</td>\n",
       "      <td>85</td>\n",
       "      <td>90</td>\n",
       "      <td>90</td>\n",
       "      <td>89</td>\n",
       "    </tr>\n",
       "    <tr>\n",
       "      <th>하동훈</th>\n",
       "      <td>남</td>\n",
       "      <td>1</td>\n",
       "      <td>75</td>\n",
       "      <td>85</td>\n",
       "      <td>100</td>\n",
       "      <td>85</td>\n",
       "    </tr>\n",
       "  </tbody>\n",
       "</table>\n",
       "</div>"
      ],
      "text/plain": [
       "    성별  학년   출석   과제   중간   기말\n",
       "김혁주  남   4   85   75   90   95\n",
       "홍길동  남   3   85   90   85   88\n",
       "유재석  남   3  100  100  100  100\n",
       "장미란  여   4   90   85   80   78\n",
       "박명수  남   4   90   80   80   80\n",
       "정형돈  남   2   80   99   88   90\n",
       "김연아  여   1   75   80  100  100\n",
       "조유리  여   2   85   90   90   89\n",
       "하동훈  남   1   75   85  100   85"
      ]
     },
     "execution_count": 138,
     "metadata": {},
     "output_type": "execute_result"
    }
   ],
   "source": [
    "data = {'a': [1, 2, np.nan], 'b': [10, np.nan, np.nan], 'c': [1, 2, np.nan]}\n",
    "df"
   ]
  },
  {
   "cell_type": "code",
   "execution_count": 139,
   "id": "a33c4047",
   "metadata": {
    "ExecuteTime": {
     "end_time": "2022-03-09T05:46:06.145324Z",
     "start_time": "2022-03-09T05:46:06.131362Z"
    }
   },
   "outputs": [
    {
     "data": {
      "text/html": [
       "<div>\n",
       "<style scoped>\n",
       "    .dataframe tbody tr th:only-of-type {\n",
       "        vertical-align: middle;\n",
       "    }\n",
       "\n",
       "    .dataframe tbody tr th {\n",
       "        vertical-align: top;\n",
       "    }\n",
       "\n",
       "    .dataframe thead th {\n",
       "        text-align: right;\n",
       "    }\n",
       "</style>\n",
       "<table border=\"1\" class=\"dataframe\">\n",
       "  <thead>\n",
       "    <tr style=\"text-align: right;\">\n",
       "      <th></th>\n",
       "      <th>성별</th>\n",
       "      <th>학년</th>\n",
       "      <th>출석</th>\n",
       "      <th>과제</th>\n",
       "      <th>중간</th>\n",
       "      <th>기말</th>\n",
       "    </tr>\n",
       "  </thead>\n",
       "  <tbody>\n",
       "    <tr>\n",
       "      <th>김혁주</th>\n",
       "      <td>False</td>\n",
       "      <td>False</td>\n",
       "      <td>False</td>\n",
       "      <td>False</td>\n",
       "      <td>False</td>\n",
       "      <td>False</td>\n",
       "    </tr>\n",
       "    <tr>\n",
       "      <th>홍길동</th>\n",
       "      <td>False</td>\n",
       "      <td>False</td>\n",
       "      <td>False</td>\n",
       "      <td>False</td>\n",
       "      <td>False</td>\n",
       "      <td>False</td>\n",
       "    </tr>\n",
       "    <tr>\n",
       "      <th>유재석</th>\n",
       "      <td>False</td>\n",
       "      <td>False</td>\n",
       "      <td>False</td>\n",
       "      <td>False</td>\n",
       "      <td>False</td>\n",
       "      <td>False</td>\n",
       "    </tr>\n",
       "    <tr>\n",
       "      <th>장미란</th>\n",
       "      <td>False</td>\n",
       "      <td>False</td>\n",
       "      <td>False</td>\n",
       "      <td>False</td>\n",
       "      <td>False</td>\n",
       "      <td>False</td>\n",
       "    </tr>\n",
       "    <tr>\n",
       "      <th>박명수</th>\n",
       "      <td>False</td>\n",
       "      <td>False</td>\n",
       "      <td>False</td>\n",
       "      <td>False</td>\n",
       "      <td>False</td>\n",
       "      <td>False</td>\n",
       "    </tr>\n",
       "    <tr>\n",
       "      <th>정형돈</th>\n",
       "      <td>False</td>\n",
       "      <td>False</td>\n",
       "      <td>False</td>\n",
       "      <td>False</td>\n",
       "      <td>False</td>\n",
       "      <td>False</td>\n",
       "    </tr>\n",
       "    <tr>\n",
       "      <th>김연아</th>\n",
       "      <td>False</td>\n",
       "      <td>False</td>\n",
       "      <td>False</td>\n",
       "      <td>False</td>\n",
       "      <td>False</td>\n",
       "      <td>False</td>\n",
       "    </tr>\n",
       "    <tr>\n",
       "      <th>조유리</th>\n",
       "      <td>False</td>\n",
       "      <td>False</td>\n",
       "      <td>False</td>\n",
       "      <td>False</td>\n",
       "      <td>False</td>\n",
       "      <td>False</td>\n",
       "    </tr>\n",
       "    <tr>\n",
       "      <th>하동훈</th>\n",
       "      <td>False</td>\n",
       "      <td>False</td>\n",
       "      <td>False</td>\n",
       "      <td>False</td>\n",
       "      <td>False</td>\n",
       "      <td>False</td>\n",
       "    </tr>\n",
       "  </tbody>\n",
       "</table>\n",
       "</div>"
      ],
      "text/plain": [
       "        성별     학년     출석     과제     중간     기말\n",
       "김혁주  False  False  False  False  False  False\n",
       "홍길동  False  False  False  False  False  False\n",
       "유재석  False  False  False  False  False  False\n",
       "장미란  False  False  False  False  False  False\n",
       "박명수  False  False  False  False  False  False\n",
       "정형돈  False  False  False  False  False  False\n",
       "김연아  False  False  False  False  False  False\n",
       "조유리  False  False  False  False  False  False\n",
       "하동훈  False  False  False  False  False  False"
      ]
     },
     "execution_count": 139,
     "metadata": {},
     "output_type": "execute_result"
    }
   ],
   "source": [
    "df.isnull()"
   ]
  },
  {
   "cell_type": "code",
   "execution_count": 140,
   "id": "95f7b4ad",
   "metadata": {
    "ExecuteTime": {
     "end_time": "2022-03-09T05:46:06.160284Z",
     "start_time": "2022-03-09T05:46:06.146322Z"
    }
   },
   "outputs": [
    {
     "data": {
      "text/plain": [
       "성별    0\n",
       "학년    0\n",
       "출석    0\n",
       "과제    0\n",
       "중간    0\n",
       "기말    0\n",
       "dtype: int64"
      ]
     },
     "execution_count": 140,
     "metadata": {},
     "output_type": "execute_result"
    }
   ],
   "source": [
    "df.isnull().sum()"
   ]
  },
  {
   "cell_type": "code",
   "execution_count": 141,
   "id": "3a6dfb82",
   "metadata": {
    "ExecuteTime": {
     "end_time": "2022-03-09T05:46:06.175244Z",
     "start_time": "2022-03-09T05:46:06.161283Z"
    }
   },
   "outputs": [
    {
     "data": {
      "text/plain": [
       "김혁주    0\n",
       "홍길동    0\n",
       "유재석    0\n",
       "장미란    0\n",
       "박명수    0\n",
       "정형돈    0\n",
       "김연아    0\n",
       "조유리    0\n",
       "하동훈    0\n",
       "dtype: int64"
      ]
     },
     "execution_count": 141,
     "metadata": {},
     "output_type": "execute_result"
    }
   ],
   "source": [
    "df.isnull().sum(axis=1)"
   ]
  },
  {
   "cell_type": "code",
   "execution_count": 142,
   "id": "826f9d04",
   "metadata": {
    "ExecuteTime": {
     "end_time": "2022-03-09T05:46:06.190205Z",
     "start_time": "2022-03-09T05:46:06.176241Z"
    }
   },
   "outputs": [
    {
     "data": {
      "text/plain": [
       "0"
      ]
     },
     "execution_count": 142,
     "metadata": {},
     "output_type": "execute_result"
    }
   ],
   "source": [
    "df.isnull().sum().sum()"
   ]
  },
  {
   "cell_type": "code",
   "execution_count": 143,
   "id": "318881cf",
   "metadata": {
    "ExecuteTime": {
     "end_time": "2022-03-09T05:46:06.205164Z",
     "start_time": "2022-03-09T05:46:06.191202Z"
    }
   },
   "outputs": [
    {
     "data": {
      "text/html": [
       "<div>\n",
       "<style scoped>\n",
       "    .dataframe tbody tr th:only-of-type {\n",
       "        vertical-align: middle;\n",
       "    }\n",
       "\n",
       "    .dataframe tbody tr th {\n",
       "        vertical-align: top;\n",
       "    }\n",
       "\n",
       "    .dataframe thead th {\n",
       "        text-align: right;\n",
       "    }\n",
       "</style>\n",
       "<table border=\"1\" class=\"dataframe\">\n",
       "  <thead>\n",
       "    <tr style=\"text-align: right;\">\n",
       "      <th></th>\n",
       "      <th>성별</th>\n",
       "      <th>학년</th>\n",
       "      <th>출석</th>\n",
       "      <th>과제</th>\n",
       "      <th>중간</th>\n",
       "      <th>기말</th>\n",
       "    </tr>\n",
       "  </thead>\n",
       "  <tbody>\n",
       "    <tr>\n",
       "      <th>김혁주</th>\n",
       "      <td>남</td>\n",
       "      <td>4</td>\n",
       "      <td>85</td>\n",
       "      <td>75</td>\n",
       "      <td>90</td>\n",
       "      <td>95</td>\n",
       "    </tr>\n",
       "    <tr>\n",
       "      <th>홍길동</th>\n",
       "      <td>남</td>\n",
       "      <td>3</td>\n",
       "      <td>85</td>\n",
       "      <td>90</td>\n",
       "      <td>85</td>\n",
       "      <td>88</td>\n",
       "    </tr>\n",
       "    <tr>\n",
       "      <th>유재석</th>\n",
       "      <td>남</td>\n",
       "      <td>3</td>\n",
       "      <td>100</td>\n",
       "      <td>100</td>\n",
       "      <td>100</td>\n",
       "      <td>100</td>\n",
       "    </tr>\n",
       "    <tr>\n",
       "      <th>장미란</th>\n",
       "      <td>여</td>\n",
       "      <td>4</td>\n",
       "      <td>90</td>\n",
       "      <td>85</td>\n",
       "      <td>80</td>\n",
       "      <td>78</td>\n",
       "    </tr>\n",
       "    <tr>\n",
       "      <th>박명수</th>\n",
       "      <td>남</td>\n",
       "      <td>4</td>\n",
       "      <td>90</td>\n",
       "      <td>80</td>\n",
       "      <td>80</td>\n",
       "      <td>80</td>\n",
       "    </tr>\n",
       "    <tr>\n",
       "      <th>정형돈</th>\n",
       "      <td>남</td>\n",
       "      <td>2</td>\n",
       "      <td>80</td>\n",
       "      <td>99</td>\n",
       "      <td>88</td>\n",
       "      <td>90</td>\n",
       "    </tr>\n",
       "    <tr>\n",
       "      <th>김연아</th>\n",
       "      <td>여</td>\n",
       "      <td>1</td>\n",
       "      <td>75</td>\n",
       "      <td>80</td>\n",
       "      <td>100</td>\n",
       "      <td>100</td>\n",
       "    </tr>\n",
       "    <tr>\n",
       "      <th>조유리</th>\n",
       "      <td>여</td>\n",
       "      <td>2</td>\n",
       "      <td>85</td>\n",
       "      <td>90</td>\n",
       "      <td>90</td>\n",
       "      <td>89</td>\n",
       "    </tr>\n",
       "    <tr>\n",
       "      <th>하동훈</th>\n",
       "      <td>남</td>\n",
       "      <td>1</td>\n",
       "      <td>75</td>\n",
       "      <td>85</td>\n",
       "      <td>100</td>\n",
       "      <td>85</td>\n",
       "    </tr>\n",
       "  </tbody>\n",
       "</table>\n",
       "</div>"
      ],
      "text/plain": [
       "    성별  학년   출석   과제   중간   기말\n",
       "김혁주  남   4   85   75   90   95\n",
       "홍길동  남   3   85   90   85   88\n",
       "유재석  남   3  100  100  100  100\n",
       "장미란  여   4   90   85   80   78\n",
       "박명수  남   4   90   80   80   80\n",
       "정형돈  남   2   80   99   88   90\n",
       "김연아  여   1   75   80  100  100\n",
       "조유리  여   2   85   90   90   89\n",
       "하동훈  남   1   75   85  100   85"
      ]
     },
     "execution_count": 143,
     "metadata": {},
     "output_type": "execute_result"
    }
   ],
   "source": [
    "df.fillna(-10)"
   ]
  },
  {
   "cell_type": "code",
   "execution_count": 144,
   "id": "70a2d9ed",
   "metadata": {
    "ExecuteTime": {
     "end_time": "2022-03-09T05:46:06.220125Z",
     "start_time": "2022-03-09T05:46:06.206162Z"
    }
   },
   "outputs": [
    {
     "data": {
      "text/html": [
       "<div>\n",
       "<style scoped>\n",
       "    .dataframe tbody tr th:only-of-type {\n",
       "        vertical-align: middle;\n",
       "    }\n",
       "\n",
       "    .dataframe tbody tr th {\n",
       "        vertical-align: top;\n",
       "    }\n",
       "\n",
       "    .dataframe thead th {\n",
       "        text-align: right;\n",
       "    }\n",
       "</style>\n",
       "<table border=\"1\" class=\"dataframe\">\n",
       "  <thead>\n",
       "    <tr style=\"text-align: right;\">\n",
       "      <th></th>\n",
       "      <th>성별</th>\n",
       "      <th>학년</th>\n",
       "      <th>출석</th>\n",
       "      <th>과제</th>\n",
       "      <th>중간</th>\n",
       "      <th>기말</th>\n",
       "    </tr>\n",
       "  </thead>\n",
       "  <tbody>\n",
       "    <tr>\n",
       "      <th>김혁주</th>\n",
       "      <td>남</td>\n",
       "      <td>4</td>\n",
       "      <td>85</td>\n",
       "      <td>75</td>\n",
       "      <td>90</td>\n",
       "      <td>95</td>\n",
       "    </tr>\n",
       "    <tr>\n",
       "      <th>홍길동</th>\n",
       "      <td>남</td>\n",
       "      <td>3</td>\n",
       "      <td>85</td>\n",
       "      <td>90</td>\n",
       "      <td>85</td>\n",
       "      <td>88</td>\n",
       "    </tr>\n",
       "    <tr>\n",
       "      <th>유재석</th>\n",
       "      <td>남</td>\n",
       "      <td>3</td>\n",
       "      <td>100</td>\n",
       "      <td>100</td>\n",
       "      <td>100</td>\n",
       "      <td>100</td>\n",
       "    </tr>\n",
       "    <tr>\n",
       "      <th>장미란</th>\n",
       "      <td>여</td>\n",
       "      <td>4</td>\n",
       "      <td>90</td>\n",
       "      <td>85</td>\n",
       "      <td>80</td>\n",
       "      <td>78</td>\n",
       "    </tr>\n",
       "    <tr>\n",
       "      <th>박명수</th>\n",
       "      <td>남</td>\n",
       "      <td>4</td>\n",
       "      <td>90</td>\n",
       "      <td>80</td>\n",
       "      <td>80</td>\n",
       "      <td>80</td>\n",
       "    </tr>\n",
       "    <tr>\n",
       "      <th>정형돈</th>\n",
       "      <td>남</td>\n",
       "      <td>2</td>\n",
       "      <td>80</td>\n",
       "      <td>99</td>\n",
       "      <td>88</td>\n",
       "      <td>90</td>\n",
       "    </tr>\n",
       "    <tr>\n",
       "      <th>김연아</th>\n",
       "      <td>여</td>\n",
       "      <td>1</td>\n",
       "      <td>75</td>\n",
       "      <td>80</td>\n",
       "      <td>100</td>\n",
       "      <td>100</td>\n",
       "    </tr>\n",
       "    <tr>\n",
       "      <th>조유리</th>\n",
       "      <td>여</td>\n",
       "      <td>2</td>\n",
       "      <td>85</td>\n",
       "      <td>90</td>\n",
       "      <td>90</td>\n",
       "      <td>89</td>\n",
       "    </tr>\n",
       "    <tr>\n",
       "      <th>하동훈</th>\n",
       "      <td>남</td>\n",
       "      <td>1</td>\n",
       "      <td>75</td>\n",
       "      <td>85</td>\n",
       "      <td>100</td>\n",
       "      <td>85</td>\n",
       "    </tr>\n",
       "  </tbody>\n",
       "</table>\n",
       "</div>"
      ],
      "text/plain": [
       "    성별  학년   출석   과제   중간   기말\n",
       "김혁주  남   4   85   75   90   95\n",
       "홍길동  남   3   85   90   85   88\n",
       "유재석  남   3  100  100  100  100\n",
       "장미란  여   4   90   85   80   78\n",
       "박명수  남   4   90   80   80   80\n",
       "정형돈  남   2   80   99   88   90\n",
       "김연아  여   1   75   80  100  100\n",
       "조유리  여   2   85   90   90   89\n",
       "하동훈  남   1   75   85  100   85"
      ]
     },
     "execution_count": 144,
     "metadata": {},
     "output_type": "execute_result"
    }
   ],
   "source": [
    "df.fillna({'a': 100, 'b': 200, 'c': 300})"
   ]
  },
  {
   "cell_type": "code",
   "execution_count": 145,
   "id": "b2726fa4",
   "metadata": {
    "ExecuteTime": {
     "end_time": "2022-03-09T05:46:06.235084Z",
     "start_time": "2022-03-09T05:46:06.221122Z"
    }
   },
   "outputs": [
    {
     "data": {
      "text/html": [
       "<div>\n",
       "<style scoped>\n",
       "    .dataframe tbody tr th:only-of-type {\n",
       "        vertical-align: middle;\n",
       "    }\n",
       "\n",
       "    .dataframe tbody tr th {\n",
       "        vertical-align: top;\n",
       "    }\n",
       "\n",
       "    .dataframe thead th {\n",
       "        text-align: right;\n",
       "    }\n",
       "</style>\n",
       "<table border=\"1\" class=\"dataframe\">\n",
       "  <thead>\n",
       "    <tr style=\"text-align: right;\">\n",
       "      <th></th>\n",
       "      <th>이름</th>\n",
       "      <th>성별</th>\n",
       "      <th>학년</th>\n",
       "      <th>출석</th>\n",
       "      <th>과제</th>\n",
       "      <th>중간</th>\n",
       "      <th>기말</th>\n",
       "    </tr>\n",
       "  </thead>\n",
       "  <tbody>\n",
       "    <tr>\n",
       "      <th>0</th>\n",
       "      <td>김혁주</td>\n",
       "      <td>남</td>\n",
       "      <td>4</td>\n",
       "      <td>85</td>\n",
       "      <td>75</td>\n",
       "      <td>90</td>\n",
       "      <td>95</td>\n",
       "    </tr>\n",
       "    <tr>\n",
       "      <th>1</th>\n",
       "      <td>홍길동</td>\n",
       "      <td>남</td>\n",
       "      <td>3</td>\n",
       "      <td>85</td>\n",
       "      <td>90</td>\n",
       "      <td>85</td>\n",
       "      <td>88</td>\n",
       "    </tr>\n",
       "    <tr>\n",
       "      <th>2</th>\n",
       "      <td>유재석</td>\n",
       "      <td>남</td>\n",
       "      <td>3</td>\n",
       "      <td>100</td>\n",
       "      <td>100</td>\n",
       "      <td>100</td>\n",
       "      <td>100</td>\n",
       "    </tr>\n",
       "    <tr>\n",
       "      <th>3</th>\n",
       "      <td>장미란</td>\n",
       "      <td>여</td>\n",
       "      <td>4</td>\n",
       "      <td>90</td>\n",
       "      <td>85</td>\n",
       "      <td>80</td>\n",
       "      <td>78</td>\n",
       "    </tr>\n",
       "    <tr>\n",
       "      <th>4</th>\n",
       "      <td>박명수</td>\n",
       "      <td>남</td>\n",
       "      <td>4</td>\n",
       "      <td>90</td>\n",
       "      <td>80</td>\n",
       "      <td>80</td>\n",
       "      <td>80</td>\n",
       "    </tr>\n",
       "    <tr>\n",
       "      <th>5</th>\n",
       "      <td>정형돈</td>\n",
       "      <td>남</td>\n",
       "      <td>2</td>\n",
       "      <td>80</td>\n",
       "      <td>99</td>\n",
       "      <td>88</td>\n",
       "      <td>90</td>\n",
       "    </tr>\n",
       "    <tr>\n",
       "      <th>6</th>\n",
       "      <td>김연아</td>\n",
       "      <td>여</td>\n",
       "      <td>1</td>\n",
       "      <td>75</td>\n",
       "      <td>80</td>\n",
       "      <td>100</td>\n",
       "      <td>100</td>\n",
       "    </tr>\n",
       "    <tr>\n",
       "      <th>7</th>\n",
       "      <td>조유리</td>\n",
       "      <td>여</td>\n",
       "      <td>2</td>\n",
       "      <td>85</td>\n",
       "      <td>90</td>\n",
       "      <td>90</td>\n",
       "      <td>89</td>\n",
       "    </tr>\n",
       "    <tr>\n",
       "      <th>8</th>\n",
       "      <td>하동훈</td>\n",
       "      <td>남</td>\n",
       "      <td>1</td>\n",
       "      <td>75</td>\n",
       "      <td>85</td>\n",
       "      <td>100</td>\n",
       "      <td>85</td>\n",
       "    </tr>\n",
       "  </tbody>\n",
       "</table>\n",
       "</div>"
      ],
      "text/plain": [
       "    이름 성별  학년   출석   과제   중간   기말\n",
       "0  김혁주  남   4   85   75   90   95\n",
       "1  홍길동  남   3   85   90   85   88\n",
       "2  유재석  남   3  100  100  100  100\n",
       "3  장미란  여   4   90   85   80   78\n",
       "4  박명수  남   4   90   80   80   80\n",
       "5  정형돈  남   2   80   99   88   90\n",
       "6  김연아  여   1   75   80  100  100\n",
       "7  조유리  여   2   85   90   90   89\n",
       "8  하동훈  남   1   75   85  100   85"
      ]
     },
     "execution_count": 145,
     "metadata": {},
     "output_type": "execute_result"
    }
   ],
   "source": [
    "df = pd.read_table('table_data.txt', sep='\\t')\n",
    "df"
   ]
  },
  {
   "cell_type": "code",
   "execution_count": 146,
   "id": "045d2519",
   "metadata": {
    "ExecuteTime": {
     "end_time": "2022-03-09T05:46:06.250044Z",
     "start_time": "2022-03-09T05:46:06.236082Z"
    }
   },
   "outputs": [
    {
     "data": {
      "text/html": [
       "<div>\n",
       "<style scoped>\n",
       "    .dataframe tbody tr th:only-of-type {\n",
       "        vertical-align: middle;\n",
       "    }\n",
       "\n",
       "    .dataframe tbody tr th {\n",
       "        vertical-align: top;\n",
       "    }\n",
       "\n",
       "    .dataframe thead th {\n",
       "        text-align: right;\n",
       "    }\n",
       "</style>\n",
       "<table border=\"1\" class=\"dataframe\">\n",
       "  <thead>\n",
       "    <tr style=\"text-align: right;\">\n",
       "      <th></th>\n",
       "      <th>성별</th>\n",
       "      <th>학년</th>\n",
       "      <th>출석</th>\n",
       "      <th>과제</th>\n",
       "      <th>중간</th>\n",
       "      <th>기말</th>\n",
       "    </tr>\n",
       "    <tr>\n",
       "      <th>이름</th>\n",
       "      <th></th>\n",
       "      <th></th>\n",
       "      <th></th>\n",
       "      <th></th>\n",
       "      <th></th>\n",
       "      <th></th>\n",
       "    </tr>\n",
       "  </thead>\n",
       "  <tbody>\n",
       "    <tr>\n",
       "      <th>김혁주</th>\n",
       "      <td>남</td>\n",
       "      <td>4</td>\n",
       "      <td>85</td>\n",
       "      <td>75</td>\n",
       "      <td>90</td>\n",
       "      <td>95</td>\n",
       "    </tr>\n",
       "    <tr>\n",
       "      <th>홍길동</th>\n",
       "      <td>남</td>\n",
       "      <td>3</td>\n",
       "      <td>85</td>\n",
       "      <td>90</td>\n",
       "      <td>85</td>\n",
       "      <td>88</td>\n",
       "    </tr>\n",
       "    <tr>\n",
       "      <th>유재석</th>\n",
       "      <td>남</td>\n",
       "      <td>3</td>\n",
       "      <td>100</td>\n",
       "      <td>100</td>\n",
       "      <td>100</td>\n",
       "      <td>100</td>\n",
       "    </tr>\n",
       "    <tr>\n",
       "      <th>장미란</th>\n",
       "      <td>여</td>\n",
       "      <td>4</td>\n",
       "      <td>90</td>\n",
       "      <td>85</td>\n",
       "      <td>80</td>\n",
       "      <td>78</td>\n",
       "    </tr>\n",
       "    <tr>\n",
       "      <th>박명수</th>\n",
       "      <td>남</td>\n",
       "      <td>4</td>\n",
       "      <td>90</td>\n",
       "      <td>80</td>\n",
       "      <td>80</td>\n",
       "      <td>80</td>\n",
       "    </tr>\n",
       "    <tr>\n",
       "      <th>정형돈</th>\n",
       "      <td>남</td>\n",
       "      <td>2</td>\n",
       "      <td>80</td>\n",
       "      <td>99</td>\n",
       "      <td>88</td>\n",
       "      <td>90</td>\n",
       "    </tr>\n",
       "    <tr>\n",
       "      <th>김연아</th>\n",
       "      <td>여</td>\n",
       "      <td>1</td>\n",
       "      <td>75</td>\n",
       "      <td>80</td>\n",
       "      <td>100</td>\n",
       "      <td>100</td>\n",
       "    </tr>\n",
       "    <tr>\n",
       "      <th>조유리</th>\n",
       "      <td>여</td>\n",
       "      <td>2</td>\n",
       "      <td>85</td>\n",
       "      <td>90</td>\n",
       "      <td>90</td>\n",
       "      <td>89</td>\n",
       "    </tr>\n",
       "    <tr>\n",
       "      <th>하동훈</th>\n",
       "      <td>남</td>\n",
       "      <td>1</td>\n",
       "      <td>75</td>\n",
       "      <td>85</td>\n",
       "      <td>100</td>\n",
       "      <td>85</td>\n",
       "    </tr>\n",
       "  </tbody>\n",
       "</table>\n",
       "</div>"
      ],
      "text/plain": [
       "    성별  학년   출석   과제   중간   기말\n",
       "이름                            \n",
       "김혁주  남   4   85   75   90   95\n",
       "홍길동  남   3   85   90   85   88\n",
       "유재석  남   3  100  100  100  100\n",
       "장미란  여   4   90   85   80   78\n",
       "박명수  남   4   90   80   80   80\n",
       "정형돈  남   2   80   99   88   90\n",
       "김연아  여   1   75   80  100  100\n",
       "조유리  여   2   85   90   90   89\n",
       "하동훈  남   1   75   85  100   85"
      ]
     },
     "execution_count": 146,
     "metadata": {},
     "output_type": "execute_result"
    }
   ],
   "source": [
    "df.set_index('이름', inplace=True)\n",
    "df"
   ]
  },
  {
   "cell_type": "code",
   "execution_count": 147,
   "id": "be335145",
   "metadata": {
    "ExecuteTime": {
     "end_time": "2022-03-09T05:46:06.265003Z",
     "start_time": "2022-03-09T05:46:06.251042Z"
    }
   },
   "outputs": [
    {
     "data": {
      "text/html": [
       "<div>\n",
       "<style scoped>\n",
       "    .dataframe tbody tr th:only-of-type {\n",
       "        vertical-align: middle;\n",
       "    }\n",
       "\n",
       "    .dataframe tbody tr th {\n",
       "        vertical-align: top;\n",
       "    }\n",
       "\n",
       "    .dataframe thead th {\n",
       "        text-align: right;\n",
       "    }\n",
       "</style>\n",
       "<table border=\"1\" class=\"dataframe\">\n",
       "  <thead>\n",
       "    <tr style=\"text-align: right;\">\n",
       "      <th></th>\n",
       "      <th>이름</th>\n",
       "      <th>성별</th>\n",
       "      <th>학년</th>\n",
       "      <th>출석</th>\n",
       "      <th>과제</th>\n",
       "      <th>중간</th>\n",
       "      <th>기말</th>\n",
       "    </tr>\n",
       "  </thead>\n",
       "  <tbody>\n",
       "    <tr>\n",
       "      <th>0</th>\n",
       "      <td>김혁주</td>\n",
       "      <td>남</td>\n",
       "      <td>4</td>\n",
       "      <td>85</td>\n",
       "      <td>75</td>\n",
       "      <td>90</td>\n",
       "      <td>95</td>\n",
       "    </tr>\n",
       "    <tr>\n",
       "      <th>1</th>\n",
       "      <td>홍길동</td>\n",
       "      <td>남</td>\n",
       "      <td>3</td>\n",
       "      <td>85</td>\n",
       "      <td>90</td>\n",
       "      <td>85</td>\n",
       "      <td>88</td>\n",
       "    </tr>\n",
       "    <tr>\n",
       "      <th>2</th>\n",
       "      <td>유재석</td>\n",
       "      <td>남</td>\n",
       "      <td>3</td>\n",
       "      <td>100</td>\n",
       "      <td>100</td>\n",
       "      <td>100</td>\n",
       "      <td>100</td>\n",
       "    </tr>\n",
       "    <tr>\n",
       "      <th>3</th>\n",
       "      <td>장미란</td>\n",
       "      <td>여</td>\n",
       "      <td>4</td>\n",
       "      <td>90</td>\n",
       "      <td>85</td>\n",
       "      <td>80</td>\n",
       "      <td>78</td>\n",
       "    </tr>\n",
       "    <tr>\n",
       "      <th>4</th>\n",
       "      <td>박명수</td>\n",
       "      <td>남</td>\n",
       "      <td>4</td>\n",
       "      <td>90</td>\n",
       "      <td>80</td>\n",
       "      <td>80</td>\n",
       "      <td>80</td>\n",
       "    </tr>\n",
       "    <tr>\n",
       "      <th>5</th>\n",
       "      <td>정형돈</td>\n",
       "      <td>남</td>\n",
       "      <td>2</td>\n",
       "      <td>80</td>\n",
       "      <td>99</td>\n",
       "      <td>88</td>\n",
       "      <td>90</td>\n",
       "    </tr>\n",
       "    <tr>\n",
       "      <th>6</th>\n",
       "      <td>김연아</td>\n",
       "      <td>여</td>\n",
       "      <td>1</td>\n",
       "      <td>75</td>\n",
       "      <td>80</td>\n",
       "      <td>100</td>\n",
       "      <td>100</td>\n",
       "    </tr>\n",
       "    <tr>\n",
       "      <th>7</th>\n",
       "      <td>조유리</td>\n",
       "      <td>여</td>\n",
       "      <td>2</td>\n",
       "      <td>85</td>\n",
       "      <td>90</td>\n",
       "      <td>90</td>\n",
       "      <td>89</td>\n",
       "    </tr>\n",
       "    <tr>\n",
       "      <th>8</th>\n",
       "      <td>하동훈</td>\n",
       "      <td>남</td>\n",
       "      <td>1</td>\n",
       "      <td>75</td>\n",
       "      <td>85</td>\n",
       "      <td>100</td>\n",
       "      <td>85</td>\n",
       "    </tr>\n",
       "  </tbody>\n",
       "</table>\n",
       "</div>"
      ],
      "text/plain": [
       "    이름 성별  학년   출석   과제   중간   기말\n",
       "0  김혁주  남   4   85   75   90   95\n",
       "1  홍길동  남   3   85   90   85   88\n",
       "2  유재석  남   3  100  100  100  100\n",
       "3  장미란  여   4   90   85   80   78\n",
       "4  박명수  남   4   90   80   80   80\n",
       "5  정형돈  남   2   80   99   88   90\n",
       "6  김연아  여   1   75   80  100  100\n",
       "7  조유리  여   2   85   90   90   89\n",
       "8  하동훈  남   1   75   85  100   85"
      ]
     },
     "execution_count": 147,
     "metadata": {},
     "output_type": "execute_result"
    }
   ],
   "source": [
    "df.reset_index(inplace=True)\n",
    "df"
   ]
  },
  {
   "cell_type": "markdown",
   "id": "25ddcb84",
   "metadata": {},
   "source": [
    "#### two dataframe"
   ]
  },
  {
   "cell_type": "code",
   "execution_count": 148,
   "id": "6c2c685b",
   "metadata": {
    "ExecuteTime": {
     "end_time": "2022-03-09T05:46:06.280470Z",
     "start_time": "2022-03-09T05:46:06.266002Z"
    }
   },
   "outputs": [],
   "source": [
    "data = {'a': [1, 2, 3], 'b': [4, 5, 6], 'c': [1, 2, 3]}"
   ]
  },
  {
   "cell_type": "code",
   "execution_count": 149,
   "id": "a3f956f0",
   "metadata": {
    "ExecuteTime": {
     "end_time": "2022-03-09T05:46:06.295429Z",
     "start_time": "2022-03-09T05:46:06.281468Z"
    }
   },
   "outputs": [
    {
     "data": {
      "text/html": [
       "<div>\n",
       "<style scoped>\n",
       "    .dataframe tbody tr th:only-of-type {\n",
       "        vertical-align: middle;\n",
       "    }\n",
       "\n",
       "    .dataframe tbody tr th {\n",
       "        vertical-align: top;\n",
       "    }\n",
       "\n",
       "    .dataframe thead th {\n",
       "        text-align: right;\n",
       "    }\n",
       "</style>\n",
       "<table border=\"1\" class=\"dataframe\">\n",
       "  <thead>\n",
       "    <tr style=\"text-align: right;\">\n",
       "      <th></th>\n",
       "      <th>a</th>\n",
       "      <th>b</th>\n",
       "      <th>c</th>\n",
       "    </tr>\n",
       "  </thead>\n",
       "  <tbody>\n",
       "    <tr>\n",
       "      <th>a1</th>\n",
       "      <td>1</td>\n",
       "      <td>4</td>\n",
       "      <td>1</td>\n",
       "    </tr>\n",
       "    <tr>\n",
       "      <th>a2</th>\n",
       "      <td>2</td>\n",
       "      <td>5</td>\n",
       "      <td>2</td>\n",
       "    </tr>\n",
       "    <tr>\n",
       "      <th>a3</th>\n",
       "      <td>3</td>\n",
       "      <td>6</td>\n",
       "      <td>3</td>\n",
       "    </tr>\n",
       "  </tbody>\n",
       "</table>\n",
       "</div>"
      ],
      "text/plain": [
       "    a  b  c\n",
       "a1  1  4  1\n",
       "a2  2  5  2\n",
       "a3  3  6  3"
      ]
     },
     "execution_count": 149,
     "metadata": {},
     "output_type": "execute_result"
    }
   ],
   "source": [
    "df1 = pd.DataFrame(data, index=['a1', 'a2', 'a3'])\n",
    "df1"
   ]
  },
  {
   "cell_type": "code",
   "execution_count": 150,
   "id": "16f28a20",
   "metadata": {
    "ExecuteTime": {
     "end_time": "2022-03-09T05:46:06.310390Z",
     "start_time": "2022-03-09T05:46:06.296427Z"
    }
   },
   "outputs": [
    {
     "data": {
      "text/html": [
       "<div>\n",
       "<style scoped>\n",
       "    .dataframe tbody tr th:only-of-type {\n",
       "        vertical-align: middle;\n",
       "    }\n",
       "\n",
       "    .dataframe tbody tr th {\n",
       "        vertical-align: top;\n",
       "    }\n",
       "\n",
       "    .dataframe thead th {\n",
       "        text-align: right;\n",
       "    }\n",
       "</style>\n",
       "<table border=\"1\" class=\"dataframe\">\n",
       "  <thead>\n",
       "    <tr style=\"text-align: right;\">\n",
       "      <th></th>\n",
       "      <th>a</th>\n",
       "      <th>b</th>\n",
       "      <th>c</th>\n",
       "    </tr>\n",
       "  </thead>\n",
       "  <tbody>\n",
       "    <tr>\n",
       "      <th>a1</th>\n",
       "      <td>1</td>\n",
       "      <td>4</td>\n",
       "      <td>1</td>\n",
       "    </tr>\n",
       "    <tr>\n",
       "      <th>a2</th>\n",
       "      <td>2</td>\n",
       "      <td>5</td>\n",
       "      <td>2</td>\n",
       "    </tr>\n",
       "    <tr>\n",
       "      <th>a4</th>\n",
       "      <td>3</td>\n",
       "      <td>6</td>\n",
       "      <td>3</td>\n",
       "    </tr>\n",
       "  </tbody>\n",
       "</table>\n",
       "</div>"
      ],
      "text/plain": [
       "    a  b  c\n",
       "a1  1  4  1\n",
       "a2  2  5  2\n",
       "a4  3  6  3"
      ]
     },
     "execution_count": 150,
     "metadata": {},
     "output_type": "execute_result"
    }
   ],
   "source": [
    "df2 = pd.DataFrame(data, index=['a1', 'a2', 'a4'])\n",
    "df2"
   ]
  },
  {
   "cell_type": "code",
   "execution_count": 151,
   "id": "eda2e5c8",
   "metadata": {
    "ExecuteTime": {
     "end_time": "2022-03-09T05:46:06.325350Z",
     "start_time": "2022-03-09T05:46:06.311387Z"
    }
   },
   "outputs": [
    {
     "data": {
      "text/html": [
       "<div>\n",
       "<style scoped>\n",
       "    .dataframe tbody tr th:only-of-type {\n",
       "        vertical-align: middle;\n",
       "    }\n",
       "\n",
       "    .dataframe tbody tr th {\n",
       "        vertical-align: top;\n",
       "    }\n",
       "\n",
       "    .dataframe thead th {\n",
       "        text-align: right;\n",
       "    }\n",
       "</style>\n",
       "<table border=\"1\" class=\"dataframe\">\n",
       "  <thead>\n",
       "    <tr style=\"text-align: right;\">\n",
       "      <th></th>\n",
       "      <th>a</th>\n",
       "      <th>b</th>\n",
       "      <th>c</th>\n",
       "    </tr>\n",
       "  </thead>\n",
       "  <tbody>\n",
       "    <tr>\n",
       "      <th>a1</th>\n",
       "      <td>1.0</td>\n",
       "      <td>16.0</td>\n",
       "      <td>1.0</td>\n",
       "    </tr>\n",
       "    <tr>\n",
       "      <th>a2</th>\n",
       "      <td>4.0</td>\n",
       "      <td>25.0</td>\n",
       "      <td>4.0</td>\n",
       "    </tr>\n",
       "    <tr>\n",
       "      <th>a3</th>\n",
       "      <td>NaN</td>\n",
       "      <td>NaN</td>\n",
       "      <td>NaN</td>\n",
       "    </tr>\n",
       "    <tr>\n",
       "      <th>a4</th>\n",
       "      <td>NaN</td>\n",
       "      <td>NaN</td>\n",
       "      <td>NaN</td>\n",
       "    </tr>\n",
       "  </tbody>\n",
       "</table>\n",
       "</div>"
      ],
      "text/plain": [
       "      a     b    c\n",
       "a1  1.0  16.0  1.0\n",
       "a2  4.0  25.0  4.0\n",
       "a3  NaN   NaN  NaN\n",
       "a4  NaN   NaN  NaN"
      ]
     },
     "execution_count": 151,
     "metadata": {},
     "output_type": "execute_result"
    }
   ],
   "source": [
    "df1 * df2"
   ]
  },
  {
   "cell_type": "code",
   "execution_count": 152,
   "id": "b5596de0",
   "metadata": {
    "ExecuteTime": {
     "end_time": "2022-03-09T05:46:06.340310Z",
     "start_time": "2022-03-09T05:46:06.326349Z"
    }
   },
   "outputs": [
    {
     "data": {
      "text/html": [
       "<div>\n",
       "<style scoped>\n",
       "    .dataframe tbody tr th:only-of-type {\n",
       "        vertical-align: middle;\n",
       "    }\n",
       "\n",
       "    .dataframe tbody tr th {\n",
       "        vertical-align: top;\n",
       "    }\n",
       "\n",
       "    .dataframe thead th {\n",
       "        text-align: right;\n",
       "    }\n",
       "</style>\n",
       "<table border=\"1\" class=\"dataframe\">\n",
       "  <thead>\n",
       "    <tr style=\"text-align: right;\">\n",
       "      <th></th>\n",
       "      <th>a</th>\n",
       "      <th>b</th>\n",
       "      <th>c</th>\n",
       "    </tr>\n",
       "  </thead>\n",
       "  <tbody>\n",
       "    <tr>\n",
       "      <th>a1</th>\n",
       "      <td>1.0</td>\n",
       "      <td>16.0</td>\n",
       "      <td>1.0</td>\n",
       "    </tr>\n",
       "    <tr>\n",
       "      <th>a2</th>\n",
       "      <td>4.0</td>\n",
       "      <td>25.0</td>\n",
       "      <td>4.0</td>\n",
       "    </tr>\n",
       "    <tr>\n",
       "      <th>a3</th>\n",
       "      <td>NaN</td>\n",
       "      <td>NaN</td>\n",
       "      <td>NaN</td>\n",
       "    </tr>\n",
       "    <tr>\n",
       "      <th>a4</th>\n",
       "      <td>NaN</td>\n",
       "      <td>NaN</td>\n",
       "      <td>NaN</td>\n",
       "    </tr>\n",
       "  </tbody>\n",
       "</table>\n",
       "</div>"
      ],
      "text/plain": [
       "      a     b    c\n",
       "a1  1.0  16.0  1.0\n",
       "a2  4.0  25.0  4.0\n",
       "a3  NaN   NaN  NaN\n",
       "a4  NaN   NaN  NaN"
      ]
     },
     "execution_count": 152,
     "metadata": {},
     "output_type": "execute_result"
    }
   ],
   "source": [
    "df1.mul(df2)"
   ]
  },
  {
   "cell_type": "code",
   "execution_count": 153,
   "id": "e52a4811",
   "metadata": {
    "ExecuteTime": {
     "end_time": "2022-03-09T05:46:06.355270Z",
     "start_time": "2022-03-09T05:46:06.341306Z"
    }
   },
   "outputs": [
    {
     "data": {
      "text/html": [
       "<div>\n",
       "<style scoped>\n",
       "    .dataframe tbody tr th:only-of-type {\n",
       "        vertical-align: middle;\n",
       "    }\n",
       "\n",
       "    .dataframe tbody tr th {\n",
       "        vertical-align: top;\n",
       "    }\n",
       "\n",
       "    .dataframe thead th {\n",
       "        text-align: right;\n",
       "    }\n",
       "</style>\n",
       "<table border=\"1\" class=\"dataframe\">\n",
       "  <thead>\n",
       "    <tr style=\"text-align: right;\">\n",
       "      <th></th>\n",
       "      <th>a</th>\n",
       "      <th>b</th>\n",
       "      <th>c</th>\n",
       "    </tr>\n",
       "  </thead>\n",
       "  <tbody>\n",
       "    <tr>\n",
       "      <th>a1</th>\n",
       "      <td>1.0</td>\n",
       "      <td>16.0</td>\n",
       "      <td>1.0</td>\n",
       "    </tr>\n",
       "    <tr>\n",
       "      <th>a2</th>\n",
       "      <td>4.0</td>\n",
       "      <td>25.0</td>\n",
       "      <td>4.0</td>\n",
       "    </tr>\n",
       "    <tr>\n",
       "      <th>a3</th>\n",
       "      <td>9.0</td>\n",
       "      <td>18.0</td>\n",
       "      <td>9.0</td>\n",
       "    </tr>\n",
       "    <tr>\n",
       "      <th>a4</th>\n",
       "      <td>9.0</td>\n",
       "      <td>18.0</td>\n",
       "      <td>9.0</td>\n",
       "    </tr>\n",
       "  </tbody>\n",
       "</table>\n",
       "</div>"
      ],
      "text/plain": [
       "      a     b    c\n",
       "a1  1.0  16.0  1.0\n",
       "a2  4.0  25.0  4.0\n",
       "a3  9.0  18.0  9.0\n",
       "a4  9.0  18.0  9.0"
      ]
     },
     "execution_count": 153,
     "metadata": {},
     "output_type": "execute_result"
    }
   ],
   "source": [
    "df1.mul(df2, fill_value=3)"
   ]
  },
  {
   "cell_type": "code",
   "execution_count": 154,
   "id": "4800d684",
   "metadata": {
    "ExecuteTime": {
     "end_time": "2022-03-09T05:46:06.370230Z",
     "start_time": "2022-03-09T05:46:06.356268Z"
    }
   },
   "outputs": [
    {
     "data": {
      "text/html": [
       "<div>\n",
       "<style scoped>\n",
       "    .dataframe tbody tr th:only-of-type {\n",
       "        vertical-align: middle;\n",
       "    }\n",
       "\n",
       "    .dataframe tbody tr th {\n",
       "        vertical-align: top;\n",
       "    }\n",
       "\n",
       "    .dataframe thead th {\n",
       "        text-align: right;\n",
       "    }\n",
       "</style>\n",
       "<table border=\"1\" class=\"dataframe\">\n",
       "  <thead>\n",
       "    <tr style=\"text-align: right;\">\n",
       "      <th></th>\n",
       "      <th>a</th>\n",
       "      <th>a1</th>\n",
       "      <th>a2</th>\n",
       "      <th>a3</th>\n",
       "      <th>b</th>\n",
       "      <th>c</th>\n",
       "    </tr>\n",
       "  </thead>\n",
       "  <tbody>\n",
       "    <tr>\n",
       "      <th>a1</th>\n",
       "      <td>NaN</td>\n",
       "      <td>NaN</td>\n",
       "      <td>NaN</td>\n",
       "      <td>NaN</td>\n",
       "      <td>NaN</td>\n",
       "      <td>NaN</td>\n",
       "    </tr>\n",
       "    <tr>\n",
       "      <th>a2</th>\n",
       "      <td>NaN</td>\n",
       "      <td>NaN</td>\n",
       "      <td>NaN</td>\n",
       "      <td>NaN</td>\n",
       "      <td>NaN</td>\n",
       "      <td>NaN</td>\n",
       "    </tr>\n",
       "    <tr>\n",
       "      <th>a3</th>\n",
       "      <td>NaN</td>\n",
       "      <td>NaN</td>\n",
       "      <td>NaN</td>\n",
       "      <td>NaN</td>\n",
       "      <td>NaN</td>\n",
       "      <td>NaN</td>\n",
       "    </tr>\n",
       "  </tbody>\n",
       "</table>\n",
       "</div>"
      ],
      "text/plain": [
       "     a  a1  a2  a3   b   c\n",
       "a1 NaN NaN NaN NaN NaN NaN\n",
       "a2 NaN NaN NaN NaN NaN NaN\n",
       "a3 NaN NaN NaN NaN NaN NaN"
      ]
     },
     "execution_count": 154,
     "metadata": {},
     "output_type": "execute_result"
    }
   ],
   "source": [
    "df1.add(df1['a'])"
   ]
  },
  {
   "cell_type": "code",
   "execution_count": 155,
   "id": "82741f9b",
   "metadata": {
    "ExecuteTime": {
     "end_time": "2022-03-09T05:46:06.385698Z",
     "start_time": "2022-03-09T05:46:06.371226Z"
    }
   },
   "outputs": [
    {
     "data": {
      "text/html": [
       "<div>\n",
       "<style scoped>\n",
       "    .dataframe tbody tr th:only-of-type {\n",
       "        vertical-align: middle;\n",
       "    }\n",
       "\n",
       "    .dataframe tbody tr th {\n",
       "        vertical-align: top;\n",
       "    }\n",
       "\n",
       "    .dataframe thead th {\n",
       "        text-align: right;\n",
       "    }\n",
       "</style>\n",
       "<table border=\"1\" class=\"dataframe\">\n",
       "  <thead>\n",
       "    <tr style=\"text-align: right;\">\n",
       "      <th></th>\n",
       "      <th>a</th>\n",
       "      <th>b</th>\n",
       "      <th>c</th>\n",
       "    </tr>\n",
       "  </thead>\n",
       "  <tbody>\n",
       "    <tr>\n",
       "      <th>a1</th>\n",
       "      <td>2</td>\n",
       "      <td>5</td>\n",
       "      <td>2</td>\n",
       "    </tr>\n",
       "    <tr>\n",
       "      <th>a2</th>\n",
       "      <td>4</td>\n",
       "      <td>7</td>\n",
       "      <td>4</td>\n",
       "    </tr>\n",
       "    <tr>\n",
       "      <th>a3</th>\n",
       "      <td>6</td>\n",
       "      <td>9</td>\n",
       "      <td>6</td>\n",
       "    </tr>\n",
       "  </tbody>\n",
       "</table>\n",
       "</div>"
      ],
      "text/plain": [
       "    a  b  c\n",
       "a1  2  5  2\n",
       "a2  4  7  4\n",
       "a3  6  9  6"
      ]
     },
     "execution_count": 155,
     "metadata": {},
     "output_type": "execute_result"
    }
   ],
   "source": [
    "df1.add(df1['a'], axis=0)"
   ]
  },
  {
   "cell_type": "markdown",
   "id": "1e593acf",
   "metadata": {},
   "source": [
    "#### map"
   ]
  },
  {
   "cell_type": "code",
   "execution_count": 156,
   "id": "c9153bf8",
   "metadata": {
    "ExecuteTime": {
     "end_time": "2022-03-09T05:46:06.400658Z",
     "start_time": "2022-03-09T05:46:06.386696Z"
    }
   },
   "outputs": [
    {
     "data": {
      "text/html": [
       "<div>\n",
       "<style scoped>\n",
       "    .dataframe tbody tr th:only-of-type {\n",
       "        vertical-align: middle;\n",
       "    }\n",
       "\n",
       "    .dataframe tbody tr th {\n",
       "        vertical-align: top;\n",
       "    }\n",
       "\n",
       "    .dataframe thead th {\n",
       "        text-align: right;\n",
       "    }\n",
       "</style>\n",
       "<table border=\"1\" class=\"dataframe\">\n",
       "  <thead>\n",
       "    <tr style=\"text-align: right;\">\n",
       "      <th></th>\n",
       "      <th>성별</th>\n",
       "      <th>학년</th>\n",
       "      <th>출석</th>\n",
       "      <th>과제</th>\n",
       "      <th>중간</th>\n",
       "      <th>기말</th>\n",
       "    </tr>\n",
       "  </thead>\n",
       "  <tbody>\n",
       "    <tr>\n",
       "      <th>김혁주</th>\n",
       "      <td>남</td>\n",
       "      <td>4</td>\n",
       "      <td>85</td>\n",
       "      <td>75</td>\n",
       "      <td>90</td>\n",
       "      <td>95</td>\n",
       "    </tr>\n",
       "    <tr>\n",
       "      <th>홍길동</th>\n",
       "      <td>남</td>\n",
       "      <td>3</td>\n",
       "      <td>85</td>\n",
       "      <td>90</td>\n",
       "      <td>85</td>\n",
       "      <td>88</td>\n",
       "    </tr>\n",
       "    <tr>\n",
       "      <th>유재석</th>\n",
       "      <td>남</td>\n",
       "      <td>3</td>\n",
       "      <td>100</td>\n",
       "      <td>100</td>\n",
       "      <td>100</td>\n",
       "      <td>100</td>\n",
       "    </tr>\n",
       "    <tr>\n",
       "      <th>장미란</th>\n",
       "      <td>여</td>\n",
       "      <td>4</td>\n",
       "      <td>90</td>\n",
       "      <td>85</td>\n",
       "      <td>80</td>\n",
       "      <td>78</td>\n",
       "    </tr>\n",
       "    <tr>\n",
       "      <th>박명수</th>\n",
       "      <td>남</td>\n",
       "      <td>4</td>\n",
       "      <td>90</td>\n",
       "      <td>80</td>\n",
       "      <td>80</td>\n",
       "      <td>80</td>\n",
       "    </tr>\n",
       "    <tr>\n",
       "      <th>정형돈</th>\n",
       "      <td>남</td>\n",
       "      <td>2</td>\n",
       "      <td>80</td>\n",
       "      <td>99</td>\n",
       "      <td>88</td>\n",
       "      <td>90</td>\n",
       "    </tr>\n",
       "    <tr>\n",
       "      <th>김연아</th>\n",
       "      <td>여</td>\n",
       "      <td>1</td>\n",
       "      <td>75</td>\n",
       "      <td>80</td>\n",
       "      <td>100</td>\n",
       "      <td>100</td>\n",
       "    </tr>\n",
       "    <tr>\n",
       "      <th>조유리</th>\n",
       "      <td>여</td>\n",
       "      <td>2</td>\n",
       "      <td>85</td>\n",
       "      <td>90</td>\n",
       "      <td>90</td>\n",
       "      <td>89</td>\n",
       "    </tr>\n",
       "    <tr>\n",
       "      <th>하동훈</th>\n",
       "      <td>남</td>\n",
       "      <td>1</td>\n",
       "      <td>75</td>\n",
       "      <td>85</td>\n",
       "      <td>100</td>\n",
       "      <td>85</td>\n",
       "    </tr>\n",
       "  </tbody>\n",
       "</table>\n",
       "</div>"
      ],
      "text/plain": [
       "    성별  학년   출석   과제   중간   기말\n",
       "김혁주  남   4   85   75   90   95\n",
       "홍길동  남   3   85   90   85   88\n",
       "유재석  남   3  100  100  100  100\n",
       "장미란  여   4   90   85   80   78\n",
       "박명수  남   4   90   80   80   80\n",
       "정형돈  남   2   80   99   88   90\n",
       "김연아  여   1   75   80  100  100\n",
       "조유리  여   2   85   90   90   89\n",
       "하동훈  남   1   75   85  100   85"
      ]
     },
     "execution_count": 156,
     "metadata": {},
     "output_type": "execute_result"
    }
   ],
   "source": [
    "df = pd.read_table('table_data.txt', index_col='이름', sep='\\t')\n",
    "df.index.name = None\n",
    "df"
   ]
  },
  {
   "cell_type": "code",
   "execution_count": 157,
   "id": "5dd58f9b",
   "metadata": {
    "ExecuteTime": {
     "end_time": "2022-03-09T05:46:06.415618Z",
     "start_time": "2022-03-09T05:46:06.401656Z"
    }
   },
   "outputs": [],
   "source": [
    "def grade(x):\n",
    "    if x == 1:\n",
    "        return 'freshman'\n",
    "    elif x == 2:\n",
    "        return 'sophomore'\n",
    "    elif x == 3:\n",
    "        return 'junior'\n",
    "    else:\n",
    "        return 'senior'\n",
    "    \n",
    "def attend(x):\n",
    "    if x >= 80:\n",
    "        return 'pass'\n",
    "    else:\n",
    "        return 'fail'\n",
    "    \n",
    "def score(x):\n",
    "    if x >= 90:\n",
    "        return 'A'\n",
    "    elif x >= 80:\n",
    "        return 'B'\n",
    "    else:\n",
    "        return 'C'"
   ]
  },
  {
   "cell_type": "code",
   "execution_count": 158,
   "id": "f2446d24",
   "metadata": {
    "ExecuteTime": {
     "end_time": "2022-03-09T05:46:06.430578Z",
     "start_time": "2022-03-09T05:46:06.416616Z"
    },
    "scrolled": true
   },
   "outputs": [
    {
     "data": {
      "text/html": [
       "<div>\n",
       "<style scoped>\n",
       "    .dataframe tbody tr th:only-of-type {\n",
       "        vertical-align: middle;\n",
       "    }\n",
       "\n",
       "    .dataframe tbody tr th {\n",
       "        vertical-align: top;\n",
       "    }\n",
       "\n",
       "    .dataframe thead th {\n",
       "        text-align: right;\n",
       "    }\n",
       "</style>\n",
       "<table border=\"1\" class=\"dataframe\">\n",
       "  <thead>\n",
       "    <tr style=\"text-align: right;\">\n",
       "      <th></th>\n",
       "      <th>성별</th>\n",
       "      <th>학년</th>\n",
       "      <th>출석</th>\n",
       "      <th>과제</th>\n",
       "      <th>중간</th>\n",
       "      <th>기말</th>\n",
       "    </tr>\n",
       "  </thead>\n",
       "  <tbody>\n",
       "    <tr>\n",
       "      <th>김혁주</th>\n",
       "      <td>남</td>\n",
       "      <td>senior</td>\n",
       "      <td>pass</td>\n",
       "      <td>C</td>\n",
       "      <td>A</td>\n",
       "      <td>A</td>\n",
       "    </tr>\n",
       "    <tr>\n",
       "      <th>홍길동</th>\n",
       "      <td>남</td>\n",
       "      <td>junior</td>\n",
       "      <td>pass</td>\n",
       "      <td>A</td>\n",
       "      <td>B</td>\n",
       "      <td>B</td>\n",
       "    </tr>\n",
       "    <tr>\n",
       "      <th>유재석</th>\n",
       "      <td>남</td>\n",
       "      <td>junior</td>\n",
       "      <td>pass</td>\n",
       "      <td>A</td>\n",
       "      <td>A</td>\n",
       "      <td>A</td>\n",
       "    </tr>\n",
       "    <tr>\n",
       "      <th>장미란</th>\n",
       "      <td>여</td>\n",
       "      <td>senior</td>\n",
       "      <td>pass</td>\n",
       "      <td>B</td>\n",
       "      <td>B</td>\n",
       "      <td>C</td>\n",
       "    </tr>\n",
       "    <tr>\n",
       "      <th>박명수</th>\n",
       "      <td>남</td>\n",
       "      <td>senior</td>\n",
       "      <td>pass</td>\n",
       "      <td>B</td>\n",
       "      <td>B</td>\n",
       "      <td>B</td>\n",
       "    </tr>\n",
       "    <tr>\n",
       "      <th>정형돈</th>\n",
       "      <td>남</td>\n",
       "      <td>sophomore</td>\n",
       "      <td>pass</td>\n",
       "      <td>A</td>\n",
       "      <td>B</td>\n",
       "      <td>A</td>\n",
       "    </tr>\n",
       "    <tr>\n",
       "      <th>김연아</th>\n",
       "      <td>여</td>\n",
       "      <td>freshman</td>\n",
       "      <td>fail</td>\n",
       "      <td>B</td>\n",
       "      <td>A</td>\n",
       "      <td>A</td>\n",
       "    </tr>\n",
       "    <tr>\n",
       "      <th>조유리</th>\n",
       "      <td>여</td>\n",
       "      <td>sophomore</td>\n",
       "      <td>pass</td>\n",
       "      <td>A</td>\n",
       "      <td>A</td>\n",
       "      <td>B</td>\n",
       "    </tr>\n",
       "    <tr>\n",
       "      <th>하동훈</th>\n",
       "      <td>남</td>\n",
       "      <td>freshman</td>\n",
       "      <td>fail</td>\n",
       "      <td>B</td>\n",
       "      <td>A</td>\n",
       "      <td>B</td>\n",
       "    </tr>\n",
       "  </tbody>\n",
       "</table>\n",
       "</div>"
      ],
      "text/plain": [
       "    성별         학년    출석 과제 중간 기말\n",
       "김혁주  남     senior  pass  C  A  A\n",
       "홍길동  남     junior  pass  A  B  B\n",
       "유재석  남     junior  pass  A  A  A\n",
       "장미란  여     senior  pass  B  B  C\n",
       "박명수  남     senior  pass  B  B  B\n",
       "정형돈  남  sophomore  pass  A  B  A\n",
       "김연아  여   freshman  fail  B  A  A\n",
       "조유리  여  sophomore  pass  A  A  B\n",
       "하동훈  남   freshman  fail  B  A  B"
      ]
     },
     "execution_count": 158,
     "metadata": {},
     "output_type": "execute_result"
    }
   ],
   "source": [
    "df['학년'] = df['학년'].map(grade)\n",
    "df['출석'] = df['출석'].map(attend)\n",
    "df['과제'] = df['과제'].map(score)\n",
    "df['중간'] = df['중간'].map(score)\n",
    "df['기말'] = df['기말'].map(score)\n",
    "df"
   ]
  },
  {
   "cell_type": "markdown",
   "id": "a6637788",
   "metadata": {},
   "source": [
    "#### apply"
   ]
  },
  {
   "cell_type": "code",
   "execution_count": 159,
   "id": "e54e94d6",
   "metadata": {
    "ExecuteTime": {
     "end_time": "2022-03-09T05:46:06.445569Z",
     "start_time": "2022-03-09T05:46:06.431576Z"
    }
   },
   "outputs": [
    {
     "data": {
      "text/html": [
       "<div>\n",
       "<style scoped>\n",
       "    .dataframe tbody tr th:only-of-type {\n",
       "        vertical-align: middle;\n",
       "    }\n",
       "\n",
       "    .dataframe tbody tr th {\n",
       "        vertical-align: top;\n",
       "    }\n",
       "\n",
       "    .dataframe thead th {\n",
       "        text-align: right;\n",
       "    }\n",
       "</style>\n",
       "<table border=\"1\" class=\"dataframe\">\n",
       "  <thead>\n",
       "    <tr style=\"text-align: right;\">\n",
       "      <th></th>\n",
       "      <th>출석</th>\n",
       "      <th>과제</th>\n",
       "      <th>중간</th>\n",
       "      <th>기말</th>\n",
       "    </tr>\n",
       "  </thead>\n",
       "  <tbody>\n",
       "    <tr>\n",
       "      <th>김혁주</th>\n",
       "      <td>85</td>\n",
       "      <td>75</td>\n",
       "      <td>90</td>\n",
       "      <td>95</td>\n",
       "    </tr>\n",
       "    <tr>\n",
       "      <th>홍길동</th>\n",
       "      <td>85</td>\n",
       "      <td>90</td>\n",
       "      <td>85</td>\n",
       "      <td>88</td>\n",
       "    </tr>\n",
       "    <tr>\n",
       "      <th>유재석</th>\n",
       "      <td>100</td>\n",
       "      <td>100</td>\n",
       "      <td>100</td>\n",
       "      <td>100</td>\n",
       "    </tr>\n",
       "    <tr>\n",
       "      <th>장미란</th>\n",
       "      <td>90</td>\n",
       "      <td>85</td>\n",
       "      <td>80</td>\n",
       "      <td>78</td>\n",
       "    </tr>\n",
       "    <tr>\n",
       "      <th>박명수</th>\n",
       "      <td>90</td>\n",
       "      <td>80</td>\n",
       "      <td>80</td>\n",
       "      <td>80</td>\n",
       "    </tr>\n",
       "    <tr>\n",
       "      <th>정형돈</th>\n",
       "      <td>80</td>\n",
       "      <td>99</td>\n",
       "      <td>88</td>\n",
       "      <td>90</td>\n",
       "    </tr>\n",
       "    <tr>\n",
       "      <th>김연아</th>\n",
       "      <td>75</td>\n",
       "      <td>80</td>\n",
       "      <td>100</td>\n",
       "      <td>100</td>\n",
       "    </tr>\n",
       "    <tr>\n",
       "      <th>조유리</th>\n",
       "      <td>85</td>\n",
       "      <td>90</td>\n",
       "      <td>90</td>\n",
       "      <td>89</td>\n",
       "    </tr>\n",
       "    <tr>\n",
       "      <th>하동훈</th>\n",
       "      <td>75</td>\n",
       "      <td>85</td>\n",
       "      <td>100</td>\n",
       "      <td>85</td>\n",
       "    </tr>\n",
       "  </tbody>\n",
       "</table>\n",
       "</div>"
      ],
      "text/plain": [
       "      출석   과제   중간   기말\n",
       "김혁주   85   75   90   95\n",
       "홍길동   85   90   85   88\n",
       "유재석  100  100  100  100\n",
       "장미란   90   85   80   78\n",
       "박명수   90   80   80   80\n",
       "정형돈   80   99   88   90\n",
       "김연아   75   80  100  100\n",
       "조유리   85   90   90   89\n",
       "하동훈   75   85  100   85"
      ]
     },
     "execution_count": 159,
     "metadata": {},
     "output_type": "execute_result"
    }
   ],
   "source": [
    "df = pd.read_table('table_data.txt', index_col='이름', sep='\\t')\n",
    "df.drop(['성별', '학년'], axis=1, inplace=True)\n",
    "df.index.name = None\n",
    "df"
   ]
  },
  {
   "cell_type": "code",
   "execution_count": 160,
   "id": "4209a6eb",
   "metadata": {
    "ExecuteTime": {
     "end_time": "2022-03-09T05:46:06.460498Z",
     "start_time": "2022-03-09T05:46:06.446537Z"
    }
   },
   "outputs": [],
   "source": [
    "def over_mean(x):\n",
    "    m = x.mean()\n",
    "    over_mean = len(x[x > m])\n",
    "    return pd.Series([m, over_mean], index = ['mean', 'number of over mean'])"
   ]
  },
  {
   "cell_type": "code",
   "execution_count": 161,
   "id": "9f4a2d14",
   "metadata": {
    "ExecuteTime": {
     "end_time": "2022-03-09T05:46:06.475458Z",
     "start_time": "2022-03-09T05:46:06.461496Z"
    }
   },
   "outputs": [
    {
     "data": {
      "text/html": [
       "<div>\n",
       "<style scoped>\n",
       "    .dataframe tbody tr th:only-of-type {\n",
       "        vertical-align: middle;\n",
       "    }\n",
       "\n",
       "    .dataframe tbody tr th {\n",
       "        vertical-align: top;\n",
       "    }\n",
       "\n",
       "    .dataframe thead th {\n",
       "        text-align: right;\n",
       "    }\n",
       "</style>\n",
       "<table border=\"1\" class=\"dataframe\">\n",
       "  <thead>\n",
       "    <tr style=\"text-align: right;\">\n",
       "      <th></th>\n",
       "      <th>출석</th>\n",
       "      <th>과제</th>\n",
       "      <th>중간</th>\n",
       "      <th>기말</th>\n",
       "    </tr>\n",
       "  </thead>\n",
       "  <tbody>\n",
       "    <tr>\n",
       "      <th>mean</th>\n",
       "      <td>85.0</td>\n",
       "      <td>87.111111</td>\n",
       "      <td>90.333333</td>\n",
       "      <td>89.444444</td>\n",
       "    </tr>\n",
       "    <tr>\n",
       "      <th>number of over mean</th>\n",
       "      <td>3.0</td>\n",
       "      <td>4.000000</td>\n",
       "      <td>3.000000</td>\n",
       "      <td>4.000000</td>\n",
       "    </tr>\n",
       "  </tbody>\n",
       "</table>\n",
       "</div>"
      ],
      "text/plain": [
       "                       출석         과제         중간         기말\n",
       "mean                 85.0  87.111111  90.333333  89.444444\n",
       "number of over mean   3.0   4.000000   3.000000   4.000000"
      ]
     },
     "execution_count": 161,
     "metadata": {},
     "output_type": "execute_result"
    }
   ],
   "source": [
    "df.apply(over_mean)"
   ]
  },
  {
   "cell_type": "code",
   "execution_count": 162,
   "id": "85544263",
   "metadata": {
    "ExecuteTime": {
     "end_time": "2022-03-09T05:46:06.490423Z",
     "start_time": "2022-03-09T05:46:06.476456Z"
    }
   },
   "outputs": [
    {
     "data": {
      "text/html": [
       "<div>\n",
       "<style scoped>\n",
       "    .dataframe tbody tr th:only-of-type {\n",
       "        vertical-align: middle;\n",
       "    }\n",
       "\n",
       "    .dataframe tbody tr th {\n",
       "        vertical-align: top;\n",
       "    }\n",
       "\n",
       "    .dataframe thead th {\n",
       "        text-align: right;\n",
       "    }\n",
       "</style>\n",
       "<table border=\"1\" class=\"dataframe\">\n",
       "  <thead>\n",
       "    <tr style=\"text-align: right;\">\n",
       "      <th></th>\n",
       "      <th>mean</th>\n",
       "      <th>number of over mean</th>\n",
       "    </tr>\n",
       "  </thead>\n",
       "  <tbody>\n",
       "    <tr>\n",
       "      <th>김혁주</th>\n",
       "      <td>86.25</td>\n",
       "      <td>2.0</td>\n",
       "    </tr>\n",
       "    <tr>\n",
       "      <th>홍길동</th>\n",
       "      <td>87.00</td>\n",
       "      <td>2.0</td>\n",
       "    </tr>\n",
       "    <tr>\n",
       "      <th>유재석</th>\n",
       "      <td>100.00</td>\n",
       "      <td>0.0</td>\n",
       "    </tr>\n",
       "    <tr>\n",
       "      <th>장미란</th>\n",
       "      <td>83.25</td>\n",
       "      <td>2.0</td>\n",
       "    </tr>\n",
       "    <tr>\n",
       "      <th>박명수</th>\n",
       "      <td>82.50</td>\n",
       "      <td>1.0</td>\n",
       "    </tr>\n",
       "    <tr>\n",
       "      <th>정형돈</th>\n",
       "      <td>89.25</td>\n",
       "      <td>2.0</td>\n",
       "    </tr>\n",
       "    <tr>\n",
       "      <th>김연아</th>\n",
       "      <td>88.75</td>\n",
       "      <td>2.0</td>\n",
       "    </tr>\n",
       "    <tr>\n",
       "      <th>조유리</th>\n",
       "      <td>88.50</td>\n",
       "      <td>3.0</td>\n",
       "    </tr>\n",
       "    <tr>\n",
       "      <th>하동훈</th>\n",
       "      <td>86.25</td>\n",
       "      <td>1.0</td>\n",
       "    </tr>\n",
       "  </tbody>\n",
       "</table>\n",
       "</div>"
      ],
      "text/plain": [
       "       mean  number of over mean\n",
       "김혁주   86.25                  2.0\n",
       "홍길동   87.00                  2.0\n",
       "유재석  100.00                  0.0\n",
       "장미란   83.25                  2.0\n",
       "박명수   82.50                  1.0\n",
       "정형돈   89.25                  2.0\n",
       "김연아   88.75                  2.0\n",
       "조유리   88.50                  3.0\n",
       "하동훈   86.25                  1.0"
      ]
     },
     "execution_count": 162,
     "metadata": {},
     "output_type": "execute_result"
    }
   ],
   "source": [
    "df.apply(over_mean, axis = 1)"
   ]
  },
  {
   "cell_type": "markdown",
   "id": "5b5a2639",
   "metadata": {},
   "source": [
    "#### applymap"
   ]
  },
  {
   "cell_type": "code",
   "execution_count": 163,
   "id": "4ebbb0fd",
   "metadata": {
    "ExecuteTime": {
     "end_time": "2022-03-09T05:46:06.505384Z",
     "start_time": "2022-03-09T05:46:06.491420Z"
    },
    "scrolled": true
   },
   "outputs": [
    {
     "data": {
      "text/html": [
       "<div>\n",
       "<style scoped>\n",
       "    .dataframe tbody tr th:only-of-type {\n",
       "        vertical-align: middle;\n",
       "    }\n",
       "\n",
       "    .dataframe tbody tr th {\n",
       "        vertical-align: top;\n",
       "    }\n",
       "\n",
       "    .dataframe thead th {\n",
       "        text-align: right;\n",
       "    }\n",
       "</style>\n",
       "<table border=\"1\" class=\"dataframe\">\n",
       "  <thead>\n",
       "    <tr style=\"text-align: right;\">\n",
       "      <th></th>\n",
       "      <th>학년</th>\n",
       "      <th>출석</th>\n",
       "      <th>과제</th>\n",
       "      <th>중간</th>\n",
       "      <th>기말</th>\n",
       "    </tr>\n",
       "  </thead>\n",
       "  <tbody>\n",
       "    <tr>\n",
       "      <th>김혁주</th>\n",
       "      <td>4</td>\n",
       "      <td>85</td>\n",
       "      <td>75</td>\n",
       "      <td>90</td>\n",
       "      <td>95</td>\n",
       "    </tr>\n",
       "    <tr>\n",
       "      <th>홍길동</th>\n",
       "      <td>3</td>\n",
       "      <td>85</td>\n",
       "      <td>90</td>\n",
       "      <td>85</td>\n",
       "      <td>88</td>\n",
       "    </tr>\n",
       "    <tr>\n",
       "      <th>유재석</th>\n",
       "      <td>3</td>\n",
       "      <td>100</td>\n",
       "      <td>100</td>\n",
       "      <td>100</td>\n",
       "      <td>100</td>\n",
       "    </tr>\n",
       "    <tr>\n",
       "      <th>장미란</th>\n",
       "      <td>4</td>\n",
       "      <td>90</td>\n",
       "      <td>85</td>\n",
       "      <td>80</td>\n",
       "      <td>78</td>\n",
       "    </tr>\n",
       "    <tr>\n",
       "      <th>박명수</th>\n",
       "      <td>4</td>\n",
       "      <td>90</td>\n",
       "      <td>80</td>\n",
       "      <td>80</td>\n",
       "      <td>80</td>\n",
       "    </tr>\n",
       "    <tr>\n",
       "      <th>정형돈</th>\n",
       "      <td>2</td>\n",
       "      <td>80</td>\n",
       "      <td>99</td>\n",
       "      <td>88</td>\n",
       "      <td>90</td>\n",
       "    </tr>\n",
       "    <tr>\n",
       "      <th>김연아</th>\n",
       "      <td>1</td>\n",
       "      <td>75</td>\n",
       "      <td>80</td>\n",
       "      <td>100</td>\n",
       "      <td>100</td>\n",
       "    </tr>\n",
       "    <tr>\n",
       "      <th>조유리</th>\n",
       "      <td>2</td>\n",
       "      <td>85</td>\n",
       "      <td>90</td>\n",
       "      <td>90</td>\n",
       "      <td>89</td>\n",
       "    </tr>\n",
       "    <tr>\n",
       "      <th>하동훈</th>\n",
       "      <td>1</td>\n",
       "      <td>75</td>\n",
       "      <td>85</td>\n",
       "      <td>100</td>\n",
       "      <td>85</td>\n",
       "    </tr>\n",
       "  </tbody>\n",
       "</table>\n",
       "</div>"
      ],
      "text/plain": [
       "     학년   출석   과제   중간   기말\n",
       "김혁주   4   85   75   90   95\n",
       "홍길동   3   85   90   85   88\n",
       "유재석   3  100  100  100  100\n",
       "장미란   4   90   85   80   78\n",
       "박명수   4   90   80   80   80\n",
       "정형돈   2   80   99   88   90\n",
       "김연아   1   75   80  100  100\n",
       "조유리   2   85   90   90   89\n",
       "하동훈   1   75   85  100   85"
      ]
     },
     "execution_count": 163,
     "metadata": {},
     "output_type": "execute_result"
    }
   ],
   "source": [
    "df = pd.read_table('table_data.txt', index_col='이름', sep='\\t')\n",
    "df.drop(['성별'], axis=1, inplace=True)\n",
    "df.index.name = None\n",
    "df"
   ]
  },
  {
   "cell_type": "code",
   "execution_count": 164,
   "id": "7eacc495",
   "metadata": {
    "ExecuteTime": {
     "end_time": "2022-03-09T05:46:06.520343Z",
     "start_time": "2022-03-09T05:46:06.506381Z"
    }
   },
   "outputs": [
    {
     "data": {
      "text/html": [
       "<div>\n",
       "<style scoped>\n",
       "    .dataframe tbody tr th:only-of-type {\n",
       "        vertical-align: middle;\n",
       "    }\n",
       "\n",
       "    .dataframe tbody tr th {\n",
       "        vertical-align: top;\n",
       "    }\n",
       "\n",
       "    .dataframe thead th {\n",
       "        text-align: right;\n",
       "    }\n",
       "</style>\n",
       "<table border=\"1\" class=\"dataframe\">\n",
       "  <thead>\n",
       "    <tr style=\"text-align: right;\">\n",
       "      <th></th>\n",
       "      <th>학년</th>\n",
       "      <th>출석</th>\n",
       "      <th>과제</th>\n",
       "      <th>중간</th>\n",
       "      <th>기말</th>\n",
       "    </tr>\n",
       "  </thead>\n",
       "  <tbody>\n",
       "    <tr>\n",
       "      <th>김혁주</th>\n",
       "      <td>짝</td>\n",
       "      <td>홀</td>\n",
       "      <td>홀</td>\n",
       "      <td>짝</td>\n",
       "      <td>홀</td>\n",
       "    </tr>\n",
       "    <tr>\n",
       "      <th>홍길동</th>\n",
       "      <td>홀</td>\n",
       "      <td>홀</td>\n",
       "      <td>짝</td>\n",
       "      <td>홀</td>\n",
       "      <td>짝</td>\n",
       "    </tr>\n",
       "    <tr>\n",
       "      <th>유재석</th>\n",
       "      <td>홀</td>\n",
       "      <td>짝</td>\n",
       "      <td>짝</td>\n",
       "      <td>짝</td>\n",
       "      <td>짝</td>\n",
       "    </tr>\n",
       "    <tr>\n",
       "      <th>장미란</th>\n",
       "      <td>짝</td>\n",
       "      <td>짝</td>\n",
       "      <td>홀</td>\n",
       "      <td>짝</td>\n",
       "      <td>짝</td>\n",
       "    </tr>\n",
       "    <tr>\n",
       "      <th>박명수</th>\n",
       "      <td>짝</td>\n",
       "      <td>짝</td>\n",
       "      <td>짝</td>\n",
       "      <td>짝</td>\n",
       "      <td>짝</td>\n",
       "    </tr>\n",
       "    <tr>\n",
       "      <th>정형돈</th>\n",
       "      <td>짝</td>\n",
       "      <td>짝</td>\n",
       "      <td>홀</td>\n",
       "      <td>짝</td>\n",
       "      <td>짝</td>\n",
       "    </tr>\n",
       "    <tr>\n",
       "      <th>김연아</th>\n",
       "      <td>홀</td>\n",
       "      <td>홀</td>\n",
       "      <td>짝</td>\n",
       "      <td>짝</td>\n",
       "      <td>짝</td>\n",
       "    </tr>\n",
       "    <tr>\n",
       "      <th>조유리</th>\n",
       "      <td>짝</td>\n",
       "      <td>홀</td>\n",
       "      <td>짝</td>\n",
       "      <td>짝</td>\n",
       "      <td>홀</td>\n",
       "    </tr>\n",
       "    <tr>\n",
       "      <th>하동훈</th>\n",
       "      <td>홀</td>\n",
       "      <td>홀</td>\n",
       "      <td>홀</td>\n",
       "      <td>짝</td>\n",
       "      <td>홀</td>\n",
       "    </tr>\n",
       "  </tbody>\n",
       "</table>\n",
       "</div>"
      ],
      "text/plain": [
       "    학년 출석 과제 중간 기말\n",
       "김혁주  짝  홀  홀  짝  홀\n",
       "홍길동  홀  홀  짝  홀  짝\n",
       "유재석  홀  짝  짝  짝  짝\n",
       "장미란  짝  짝  홀  짝  짝\n",
       "박명수  짝  짝  짝  짝  짝\n",
       "정형돈  짝  짝  홀  짝  짝\n",
       "김연아  홀  홀  짝  짝  짝\n",
       "조유리  짝  홀  짝  짝  홀\n",
       "하동훈  홀  홀  홀  짝  홀"
      ]
     },
     "execution_count": 164,
     "metadata": {},
     "output_type": "execute_result"
    }
   ],
   "source": [
    "def f1(x):\n",
    "    if x%2 == 1:\n",
    "        return '홀'\n",
    "    else:\n",
    "        return '짝'\n",
    "    \n",
    "df.applymap(f1)"
   ]
  },
  {
   "cell_type": "markdown",
   "id": "e10518a6",
   "metadata": {},
   "source": [
    "#### groupby"
   ]
  },
  {
   "cell_type": "code",
   "execution_count": 165,
   "id": "cc64e509",
   "metadata": {
    "ExecuteTime": {
     "end_time": "2022-03-09T05:46:06.535303Z",
     "start_time": "2022-03-09T05:46:06.521342Z"
    }
   },
   "outputs": [
    {
     "data": {
      "text/html": [
       "<div>\n",
       "<style scoped>\n",
       "    .dataframe tbody tr th:only-of-type {\n",
       "        vertical-align: middle;\n",
       "    }\n",
       "\n",
       "    .dataframe tbody tr th {\n",
       "        vertical-align: top;\n",
       "    }\n",
       "\n",
       "    .dataframe thead th {\n",
       "        text-align: right;\n",
       "    }\n",
       "</style>\n",
       "<table border=\"1\" class=\"dataframe\">\n",
       "  <thead>\n",
       "    <tr style=\"text-align: right;\">\n",
       "      <th></th>\n",
       "      <th>성별</th>\n",
       "      <th>학년</th>\n",
       "      <th>출석</th>\n",
       "      <th>과제</th>\n",
       "      <th>중간</th>\n",
       "      <th>기말</th>\n",
       "    </tr>\n",
       "  </thead>\n",
       "  <tbody>\n",
       "    <tr>\n",
       "      <th>김혁주</th>\n",
       "      <td>남</td>\n",
       "      <td>4</td>\n",
       "      <td>85</td>\n",
       "      <td>75</td>\n",
       "      <td>90</td>\n",
       "      <td>95</td>\n",
       "    </tr>\n",
       "    <tr>\n",
       "      <th>홍길동</th>\n",
       "      <td>남</td>\n",
       "      <td>3</td>\n",
       "      <td>85</td>\n",
       "      <td>90</td>\n",
       "      <td>85</td>\n",
       "      <td>88</td>\n",
       "    </tr>\n",
       "    <tr>\n",
       "      <th>유재석</th>\n",
       "      <td>남</td>\n",
       "      <td>3</td>\n",
       "      <td>100</td>\n",
       "      <td>100</td>\n",
       "      <td>100</td>\n",
       "      <td>100</td>\n",
       "    </tr>\n",
       "    <tr>\n",
       "      <th>장미란</th>\n",
       "      <td>여</td>\n",
       "      <td>4</td>\n",
       "      <td>90</td>\n",
       "      <td>85</td>\n",
       "      <td>80</td>\n",
       "      <td>78</td>\n",
       "    </tr>\n",
       "    <tr>\n",
       "      <th>박명수</th>\n",
       "      <td>남</td>\n",
       "      <td>4</td>\n",
       "      <td>90</td>\n",
       "      <td>80</td>\n",
       "      <td>80</td>\n",
       "      <td>80</td>\n",
       "    </tr>\n",
       "    <tr>\n",
       "      <th>정형돈</th>\n",
       "      <td>남</td>\n",
       "      <td>2</td>\n",
       "      <td>80</td>\n",
       "      <td>99</td>\n",
       "      <td>88</td>\n",
       "      <td>90</td>\n",
       "    </tr>\n",
       "    <tr>\n",
       "      <th>김연아</th>\n",
       "      <td>여</td>\n",
       "      <td>1</td>\n",
       "      <td>75</td>\n",
       "      <td>80</td>\n",
       "      <td>100</td>\n",
       "      <td>100</td>\n",
       "    </tr>\n",
       "    <tr>\n",
       "      <th>조유리</th>\n",
       "      <td>여</td>\n",
       "      <td>2</td>\n",
       "      <td>85</td>\n",
       "      <td>90</td>\n",
       "      <td>90</td>\n",
       "      <td>89</td>\n",
       "    </tr>\n",
       "    <tr>\n",
       "      <th>하동훈</th>\n",
       "      <td>남</td>\n",
       "      <td>1</td>\n",
       "      <td>75</td>\n",
       "      <td>85</td>\n",
       "      <td>100</td>\n",
       "      <td>85</td>\n",
       "    </tr>\n",
       "  </tbody>\n",
       "</table>\n",
       "</div>"
      ],
      "text/plain": [
       "    성별  학년   출석   과제   중간   기말\n",
       "김혁주  남   4   85   75   90   95\n",
       "홍길동  남   3   85   90   85   88\n",
       "유재석  남   3  100  100  100  100\n",
       "장미란  여   4   90   85   80   78\n",
       "박명수  남   4   90   80   80   80\n",
       "정형돈  남   2   80   99   88   90\n",
       "김연아  여   1   75   80  100  100\n",
       "조유리  여   2   85   90   90   89\n",
       "하동훈  남   1   75   85  100   85"
      ]
     },
     "execution_count": 165,
     "metadata": {},
     "output_type": "execute_result"
    }
   ],
   "source": [
    "df = pd.read_table('table_data.txt', index_col='이름', sep='\\t')\n",
    "df.index.name = None\n",
    "df"
   ]
  },
  {
   "cell_type": "code",
   "execution_count": 166,
   "id": "2a4d174e",
   "metadata": {
    "ExecuteTime": {
     "end_time": "2022-03-09T05:46:06.550264Z",
     "start_time": "2022-03-09T05:46:06.536301Z"
    }
   },
   "outputs": [
    {
     "data": {
      "text/html": [
       "<div>\n",
       "<style scoped>\n",
       "    .dataframe tbody tr th:only-of-type {\n",
       "        vertical-align: middle;\n",
       "    }\n",
       "\n",
       "    .dataframe tbody tr th {\n",
       "        vertical-align: top;\n",
       "    }\n",
       "\n",
       "    .dataframe thead th {\n",
       "        text-align: right;\n",
       "    }\n",
       "</style>\n",
       "<table border=\"1\" class=\"dataframe\">\n",
       "  <thead>\n",
       "    <tr style=\"text-align: right;\">\n",
       "      <th></th>\n",
       "      <th>성별</th>\n",
       "      <th>학년</th>\n",
       "      <th>출석</th>\n",
       "      <th>과제</th>\n",
       "      <th>중간</th>\n",
       "      <th>기말</th>\n",
       "    </tr>\n",
       "  </thead>\n",
       "  <tbody>\n",
       "    <tr>\n",
       "      <th>김연아</th>\n",
       "      <td>여</td>\n",
       "      <td>1</td>\n",
       "      <td>75</td>\n",
       "      <td>80</td>\n",
       "      <td>100</td>\n",
       "      <td>100</td>\n",
       "    </tr>\n",
       "    <tr>\n",
       "      <th>하동훈</th>\n",
       "      <td>남</td>\n",
       "      <td>1</td>\n",
       "      <td>75</td>\n",
       "      <td>85</td>\n",
       "      <td>100</td>\n",
       "      <td>85</td>\n",
       "    </tr>\n",
       "  </tbody>\n",
       "</table>\n",
       "</div>"
      ],
      "text/plain": [
       "    성별  학년  출석  과제   중간   기말\n",
       "김연아  여   1  75  80  100  100\n",
       "하동훈  남   1  75  85  100   85"
      ]
     },
     "execution_count": 166,
     "metadata": {},
     "output_type": "execute_result"
    }
   ],
   "source": [
    "df.groupby('학년').get_group(1)"
   ]
  },
  {
   "cell_type": "code",
   "execution_count": 167,
   "id": "ade00465",
   "metadata": {
    "ExecuteTime": {
     "end_time": "2022-03-09T05:46:06.565223Z",
     "start_time": "2022-03-09T05:46:06.551260Z"
    }
   },
   "outputs": [
    {
     "data": {
      "text/html": [
       "<div>\n",
       "<style scoped>\n",
       "    .dataframe tbody tr th:only-of-type {\n",
       "        vertical-align: middle;\n",
       "    }\n",
       "\n",
       "    .dataframe tbody tr th {\n",
       "        vertical-align: top;\n",
       "    }\n",
       "\n",
       "    .dataframe thead th {\n",
       "        text-align: right;\n",
       "    }\n",
       "</style>\n",
       "<table border=\"1\" class=\"dataframe\">\n",
       "  <thead>\n",
       "    <tr style=\"text-align: right;\">\n",
       "      <th></th>\n",
       "      <th>성별</th>\n",
       "      <th>학년</th>\n",
       "      <th>출석</th>\n",
       "      <th>과제</th>\n",
       "      <th>중간</th>\n",
       "      <th>기말</th>\n",
       "    </tr>\n",
       "  </thead>\n",
       "  <tbody>\n",
       "    <tr>\n",
       "      <th>홍길동</th>\n",
       "      <td>남</td>\n",
       "      <td>3</td>\n",
       "      <td>85</td>\n",
       "      <td>90</td>\n",
       "      <td>85</td>\n",
       "      <td>88</td>\n",
       "    </tr>\n",
       "    <tr>\n",
       "      <th>유재석</th>\n",
       "      <td>남</td>\n",
       "      <td>3</td>\n",
       "      <td>100</td>\n",
       "      <td>100</td>\n",
       "      <td>100</td>\n",
       "      <td>100</td>\n",
       "    </tr>\n",
       "  </tbody>\n",
       "</table>\n",
       "</div>"
      ],
      "text/plain": [
       "    성별  학년   출석   과제   중간   기말\n",
       "홍길동  남   3   85   90   85   88\n",
       "유재석  남   3  100  100  100  100"
      ]
     },
     "execution_count": 167,
     "metadata": {},
     "output_type": "execute_result"
    }
   ],
   "source": [
    "df.groupby(['성별', '학년']).get_group(('남', 3))"
   ]
  },
  {
   "cell_type": "code",
   "execution_count": 168,
   "id": "beed837b",
   "metadata": {
    "ExecuteTime": {
     "end_time": "2022-03-09T05:46:06.580187Z",
     "start_time": "2022-03-09T05:46:06.566221Z"
    }
   },
   "outputs": [
    {
     "data": {
      "text/html": [
       "<div>\n",
       "<style scoped>\n",
       "    .dataframe tbody tr th:only-of-type {\n",
       "        vertical-align: middle;\n",
       "    }\n",
       "\n",
       "    .dataframe tbody tr th {\n",
       "        vertical-align: top;\n",
       "    }\n",
       "\n",
       "    .dataframe thead th {\n",
       "        text-align: right;\n",
       "    }\n",
       "</style>\n",
       "<table border=\"1\" class=\"dataframe\">\n",
       "  <thead>\n",
       "    <tr style=\"text-align: right;\">\n",
       "      <th></th>\n",
       "      <th>출석</th>\n",
       "      <th>과제</th>\n",
       "      <th>중간</th>\n",
       "      <th>기말</th>\n",
       "    </tr>\n",
       "    <tr>\n",
       "      <th>학년</th>\n",
       "      <th></th>\n",
       "      <th></th>\n",
       "      <th></th>\n",
       "      <th></th>\n",
       "    </tr>\n",
       "  </thead>\n",
       "  <tbody>\n",
       "    <tr>\n",
       "      <th>1</th>\n",
       "      <td>75.000000</td>\n",
       "      <td>82.5</td>\n",
       "      <td>100.000000</td>\n",
       "      <td>92.500000</td>\n",
       "    </tr>\n",
       "    <tr>\n",
       "      <th>2</th>\n",
       "      <td>82.500000</td>\n",
       "      <td>94.5</td>\n",
       "      <td>89.000000</td>\n",
       "      <td>89.500000</td>\n",
       "    </tr>\n",
       "    <tr>\n",
       "      <th>3</th>\n",
       "      <td>92.500000</td>\n",
       "      <td>95.0</td>\n",
       "      <td>92.500000</td>\n",
       "      <td>94.000000</td>\n",
       "    </tr>\n",
       "    <tr>\n",
       "      <th>4</th>\n",
       "      <td>88.333333</td>\n",
       "      <td>80.0</td>\n",
       "      <td>83.333333</td>\n",
       "      <td>84.333333</td>\n",
       "    </tr>\n",
       "  </tbody>\n",
       "</table>\n",
       "</div>"
      ],
      "text/plain": [
       "           출석    과제          중간         기말\n",
       "학년                                        \n",
       "1   75.000000  82.5  100.000000  92.500000\n",
       "2   82.500000  94.5   89.000000  89.500000\n",
       "3   92.500000  95.0   92.500000  94.000000\n",
       "4   88.333333  80.0   83.333333  84.333333"
      ]
     },
     "execution_count": 168,
     "metadata": {},
     "output_type": "execute_result"
    }
   ],
   "source": [
    "df.groupby('학년').apply(np.mean)[['출석', '과제', '중간', '기말']]"
   ]
  },
  {
   "cell_type": "code",
   "execution_count": 169,
   "id": "b1d69f66",
   "metadata": {
    "ExecuteTime": {
     "end_time": "2022-03-09T05:46:06.595146Z",
     "start_time": "2022-03-09T05:46:06.581184Z"
    }
   },
   "outputs": [
    {
     "data": {
      "text/html": [
       "<div>\n",
       "<style scoped>\n",
       "    .dataframe tbody tr th:only-of-type {\n",
       "        vertical-align: middle;\n",
       "    }\n",
       "\n",
       "    .dataframe tbody tr th {\n",
       "        vertical-align: top;\n",
       "    }\n",
       "\n",
       "    .dataframe thead th {\n",
       "        text-align: right;\n",
       "    }\n",
       "</style>\n",
       "<table border=\"1\" class=\"dataframe\">\n",
       "  <thead>\n",
       "    <tr style=\"text-align: right;\">\n",
       "      <th></th>\n",
       "      <th>출석</th>\n",
       "      <th>과제</th>\n",
       "      <th>중간</th>\n",
       "      <th>기말</th>\n",
       "    </tr>\n",
       "    <tr>\n",
       "      <th>성별</th>\n",
       "      <th></th>\n",
       "      <th></th>\n",
       "      <th></th>\n",
       "      <th></th>\n",
       "    </tr>\n",
       "  </thead>\n",
       "  <tbody>\n",
       "    <tr>\n",
       "      <th>남</th>\n",
       "      <td>85.833333</td>\n",
       "      <td>88.166667</td>\n",
       "      <td>90.5</td>\n",
       "      <td>89.666667</td>\n",
       "    </tr>\n",
       "    <tr>\n",
       "      <th>여</th>\n",
       "      <td>83.333333</td>\n",
       "      <td>85.000000</td>\n",
       "      <td>90.0</td>\n",
       "      <td>89.000000</td>\n",
       "    </tr>\n",
       "  </tbody>\n",
       "</table>\n",
       "</div>"
      ],
      "text/plain": [
       "           출석         과제    중간         기말\n",
       "성별                                       \n",
       "남   85.833333  88.166667  90.5  89.666667\n",
       "여   83.333333  85.000000  90.0  89.000000"
      ]
     },
     "execution_count": 169,
     "metadata": {},
     "output_type": "execute_result"
    }
   ],
   "source": [
    "df.groupby('성별').apply(np.mean)[['출석', '과제', '중간', '기말']]"
   ]
  },
  {
   "cell_type": "code",
   "execution_count": 170,
   "id": "0e9616ec",
   "metadata": {
    "ExecuteTime": {
     "end_time": "2022-03-09T05:46:06.625066Z",
     "start_time": "2022-03-09T05:46:06.596144Z"
    }
   },
   "outputs": [
    {
     "data": {
      "text/html": [
       "<div>\n",
       "<style scoped>\n",
       "    .dataframe tbody tr th:only-of-type {\n",
       "        vertical-align: middle;\n",
       "    }\n",
       "\n",
       "    .dataframe tbody tr th {\n",
       "        vertical-align: top;\n",
       "    }\n",
       "\n",
       "    .dataframe thead th {\n",
       "        text-align: right;\n",
       "    }\n",
       "</style>\n",
       "<table border=\"1\" class=\"dataframe\">\n",
       "  <thead>\n",
       "    <tr style=\"text-align: right;\">\n",
       "      <th></th>\n",
       "      <th></th>\n",
       "      <th>출석</th>\n",
       "      <th>과제</th>\n",
       "      <th>중간</th>\n",
       "      <th>기말</th>\n",
       "    </tr>\n",
       "    <tr>\n",
       "      <th>학년</th>\n",
       "      <th>성별</th>\n",
       "      <th></th>\n",
       "      <th></th>\n",
       "      <th></th>\n",
       "      <th></th>\n",
       "    </tr>\n",
       "  </thead>\n",
       "  <tbody>\n",
       "    <tr>\n",
       "      <th rowspan=\"2\" valign=\"top\">1</th>\n",
       "      <th>남</th>\n",
       "      <td>75.0</td>\n",
       "      <td>85.0</td>\n",
       "      <td>100.0</td>\n",
       "      <td>85.0</td>\n",
       "    </tr>\n",
       "    <tr>\n",
       "      <th>여</th>\n",
       "      <td>75.0</td>\n",
       "      <td>80.0</td>\n",
       "      <td>100.0</td>\n",
       "      <td>100.0</td>\n",
       "    </tr>\n",
       "    <tr>\n",
       "      <th rowspan=\"2\" valign=\"top\">2</th>\n",
       "      <th>남</th>\n",
       "      <td>80.0</td>\n",
       "      <td>99.0</td>\n",
       "      <td>88.0</td>\n",
       "      <td>90.0</td>\n",
       "    </tr>\n",
       "    <tr>\n",
       "      <th>여</th>\n",
       "      <td>85.0</td>\n",
       "      <td>90.0</td>\n",
       "      <td>90.0</td>\n",
       "      <td>89.0</td>\n",
       "    </tr>\n",
       "    <tr>\n",
       "      <th>3</th>\n",
       "      <th>남</th>\n",
       "      <td>92.5</td>\n",
       "      <td>95.0</td>\n",
       "      <td>92.5</td>\n",
       "      <td>94.0</td>\n",
       "    </tr>\n",
       "    <tr>\n",
       "      <th rowspan=\"2\" valign=\"top\">4</th>\n",
       "      <th>남</th>\n",
       "      <td>87.5</td>\n",
       "      <td>77.5</td>\n",
       "      <td>85.0</td>\n",
       "      <td>87.5</td>\n",
       "    </tr>\n",
       "    <tr>\n",
       "      <th>여</th>\n",
       "      <td>90.0</td>\n",
       "      <td>85.0</td>\n",
       "      <td>80.0</td>\n",
       "      <td>78.0</td>\n",
       "    </tr>\n",
       "  </tbody>\n",
       "</table>\n",
       "</div>"
      ],
      "text/plain": [
       "         출석    과제     중간     기말\n",
       "학년 성별                          \n",
       "1  남   75.0  85.0  100.0   85.0\n",
       "   여   75.0  80.0  100.0  100.0\n",
       "2  남   80.0  99.0   88.0   90.0\n",
       "   여   85.0  90.0   90.0   89.0\n",
       "3  남   92.5  95.0   92.5   94.0\n",
       "4  남   87.5  77.5   85.0   87.5\n",
       "   여   90.0  85.0   80.0   78.0"
      ]
     },
     "execution_count": 170,
     "metadata": {},
     "output_type": "execute_result"
    }
   ],
   "source": [
    "df.groupby(['학년', '성별']).apply(np.mean)[['출석', '과제', '중간', '기말']]"
   ]
  }
 ],
 "metadata": {
  "kernelspec": {
   "display_name": "Python 3",
   "language": "python",
   "name": "python3"
  },
  "language_info": {
   "codemirror_mode": {
    "name": "ipython",
    "version": 3
   },
   "file_extension": ".py",
   "mimetype": "text/x-python",
   "name": "python",
   "nbconvert_exporter": "python",
   "pygments_lexer": "ipython3",
   "version": "3.8.8"
  },
  "toc": {
   "base_numbering": 1,
   "nav_menu": {},
   "number_sections": true,
   "sideBar": true,
   "skip_h1_title": true,
   "title_cell": "Table of Contents",
   "title_sidebar": "Contents",
   "toc_cell": false,
   "toc_position": {
    "height": "calc(100% - 180px)",
    "left": "10px",
    "top": "150px",
    "width": "201.094px"
   },
   "toc_section_display": true,
   "toc_window_display": true
  },
  "varInspector": {
   "cols": {
    "lenName": 16,
    "lenType": 16,
    "lenVar": 40
   },
   "kernels_config": {
    "python": {
     "delete_cmd_postfix": "",
     "delete_cmd_prefix": "del ",
     "library": "var_list.py",
     "varRefreshCmd": "print(var_dic_list())"
    },
    "r": {
     "delete_cmd_postfix": ") ",
     "delete_cmd_prefix": "rm(",
     "library": "var_list.r",
     "varRefreshCmd": "cat(var_dic_list()) "
    }
   },
   "oldHeight": 122.84136400000001,
   "position": {
    "height": "40px",
    "left": "1475.45px",
    "right": "20px",
    "top": "120px",
    "width": "250px"
   },
   "types_to_exclude": [
    "module",
    "function",
    "builtin_function_or_method",
    "instance",
    "_Feature"
   ],
   "varInspector_section_display": "none",
   "window_display": false
  }
 },
 "nbformat": 4,
 "nbformat_minor": 5
}
