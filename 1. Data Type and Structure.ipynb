{
 "cells": [
  {
   "cell_type": "markdown",
   "id": "0d98c501",
   "metadata": {},
   "source": [
    "# Chapter 01 Data Type and Structure"
   ]
  },
  {
   "cell_type": "markdown",
   "id": "ff91fe17",
   "metadata": {
    "ExecuteTime": {
     "end_time": "2022-03-03T12:30:02.743455Z",
     "start_time": "2022-03-03T12:30:02.733482Z"
    }
   },
   "source": [
    "## Data Type"
   ]
  },
  {
   "cell_type": "markdown",
   "id": "87304b90",
   "metadata": {},
   "source": [
    "### Number"
   ]
  },
  {
   "cell_type": "markdown",
   "id": "a7d102ba",
   "metadata": {},
   "source": [
    "#### integer"
   ]
  },
  {
   "cell_type": "code",
   "execution_count": 1,
   "id": "8f8d147f",
   "metadata": {
    "ExecuteTime": {
     "end_time": "2022-03-04T08:55:14.065012Z",
     "start_time": "2022-03-04T08:55:14.060026Z"
    }
   },
   "outputs": [],
   "source": [
    "a1 = 123\n",
    "a2 = 0\n",
    "a3 = -123"
   ]
  },
  {
   "cell_type": "code",
   "execution_count": 2,
   "id": "24e61cf1",
   "metadata": {
    "ExecuteTime": {
     "end_time": "2022-03-04T08:55:14.079973Z",
     "start_time": "2022-03-04T08:55:14.066010Z"
    }
   },
   "outputs": [
    {
     "name": "stdout",
     "output_type": "stream",
     "text": [
      "123 <class 'int'>\n",
      "0 <class 'int'>\n",
      "-123 <class 'int'>\n"
     ]
    }
   ],
   "source": [
    "print(a1, type(a1))\n",
    "print(a2, type(a2))\n",
    "print(a3, type(a3))"
   ]
  },
  {
   "cell_type": "markdown",
   "id": "5b13e4be",
   "metadata": {},
   "source": [
    "#### radix"
   ]
  },
  {
   "cell_type": "markdown",
   "id": "9bf56919",
   "metadata": {},
   "source": [
    "2진수(binary) : 0b로 시작, (0, 1)로 표현  \n",
    "8진수(octet) : 0o로 시작, (0 ~ 8)로 표현  \n",
    "16진수(hexadecimal) : 0x로 시작, (0 ~ 10, a ~ f)로 표현 "
   ]
  },
  {
   "cell_type": "code",
   "execution_count": 3,
   "id": "b3a2d7d5",
   "metadata": {
    "ExecuteTime": {
     "end_time": "2022-03-04T08:55:14.094933Z",
     "start_time": "2022-03-04T08:55:14.080971Z"
    }
   },
   "outputs": [],
   "source": [
    "a1 = 0b010101\n",
    "a2 = 0o10\n",
    "a3 = 0x2a67f"
   ]
  },
  {
   "cell_type": "code",
   "execution_count": 4,
   "id": "3073eb05",
   "metadata": {
    "ExecuteTime": {
     "end_time": "2022-03-04T08:55:14.109893Z",
     "start_time": "2022-03-04T08:55:14.095931Z"
    }
   },
   "outputs": [
    {
     "name": "stdout",
     "output_type": "stream",
     "text": [
      "21 <class 'int'>\n",
      "8 <class 'int'>\n",
      "173695 <class 'int'>\n"
     ]
    }
   ],
   "source": [
    "print(a1, type(a1))\n",
    "print(a2, type(a2))\n",
    "print(a3, type(a3))"
   ]
  },
  {
   "cell_type": "code",
   "execution_count": 5,
   "id": "e4b874c1",
   "metadata": {
    "ExecuteTime": {
     "end_time": "2022-03-04T08:55:14.124853Z",
     "start_time": "2022-03-04T08:55:14.110890Z"
    }
   },
   "outputs": [
    {
     "name": "stdout",
     "output_type": "stream",
     "text": [
      "173695\n",
      "0b1000\n",
      "0o25\n",
      "0x8\n"
     ]
    }
   ],
   "source": [
    "print(int(a3)) # int: 정수(10진수)로 변환\n",
    "print(bin(a2)) # bin: 2진수로 변환\n",
    "print(oct(a1)) # oct: 8진수로 변환\n",
    "print(hex(a2)) # hex: 16진수로 변환"
   ]
  },
  {
   "cell_type": "markdown",
   "id": "67711260",
   "metadata": {},
   "source": [
    "#### float"
   ]
  },
  {
   "cell_type": "code",
   "execution_count": 6,
   "id": "8320309f",
   "metadata": {
    "ExecuteTime": {
     "end_time": "2022-03-04T08:55:14.139812Z",
     "start_time": "2022-03-04T08:55:14.125851Z"
    }
   },
   "outputs": [],
   "source": [
    "a1 = 20.64\n",
    "a2 = -0.1\n",
    "a3 = 16.2E-4"
   ]
  },
  {
   "cell_type": "code",
   "execution_count": 7,
   "id": "a928d040",
   "metadata": {
    "ExecuteTime": {
     "end_time": "2022-03-04T08:55:14.154772Z",
     "start_time": "2022-03-04T08:55:14.140811Z"
    }
   },
   "outputs": [
    {
     "name": "stdout",
     "output_type": "stream",
     "text": [
      "20.64 <class 'float'>\n",
      "-0.1 <class 'float'>\n",
      "0.00162 <class 'float'>\n",
      "10.0\n"
     ]
    }
   ],
   "source": [
    "print(a1, type(a1))\n",
    "print(a2, type(a2))\n",
    "print(a3, type(a3))\n",
    "print(float(10)) # float: 실수로 변환"
   ]
  },
  {
   "cell_type": "markdown",
   "id": "89e397f6",
   "metadata": {
    "ExecuteTime": {
     "end_time": "2022-03-03T12:32:38.790270Z",
     "start_time": "2022-03-03T12:32:38.773316Z"
    }
   },
   "source": [
    "#### calculation"
   ]
  },
  {
   "cell_type": "code",
   "execution_count": 8,
   "id": "fe7222c8",
   "metadata": {
    "ExecuteTime": {
     "end_time": "2022-03-04T08:55:14.169733Z",
     "start_time": "2022-03-04T08:55:14.156767Z"
    }
   },
   "outputs": [],
   "source": [
    "a1 = 2\n",
    "a2 = 9\n",
    "a3 = 100"
   ]
  },
  {
   "cell_type": "code",
   "execution_count": 9,
   "id": "c0b280b5",
   "metadata": {
    "ExecuteTime": {
     "end_time": "2022-03-04T08:55:14.184693Z",
     "start_time": "2022-03-04T08:55:14.170730Z"
    }
   },
   "outputs": [
    {
     "name": "stdout",
     "output_type": "stream",
     "text": [
      "11\n",
      "-98\n",
      "900\n",
      "512\n",
      "4.5\n",
      "4\n",
      "1\n"
     ]
    }
   ],
   "source": [
    "print(a1 + a2)\n",
    "print(a1 - a3)\n",
    "print(a2 * a3)\n",
    "print(a1 ** a2)\n",
    "print(a2 / a1)\n",
    "print(a2 // a1) # 몫 출력\n",
    "print(a2 % a1) # 나머지 출력"
   ]
  },
  {
   "cell_type": "markdown",
   "id": "04560853",
   "metadata": {},
   "source": [
    "### String"
   ]
  },
  {
   "cell_type": "markdown",
   "id": "8a38de1c",
   "metadata": {},
   "source": [
    "#### string"
   ]
  },
  {
   "cell_type": "code",
   "execution_count": 10,
   "id": "6776274f",
   "metadata": {
    "ExecuteTime": {
     "end_time": "2022-03-04T08:55:14.199652Z",
     "start_time": "2022-03-04T08:55:14.185691Z"
    }
   },
   "outputs": [],
   "source": [
    "a1 = 'Hello Python!'\n",
    "a2 = 'I\\'m OK!' # ' '으로 할당되는 문자열 안에서 '을 사용하려면 \\'라고 입력\n",
    "a3 = 1234\n",
    "a4 = str(a3) # str: 문자로 변환"
   ]
  },
  {
   "cell_type": "code",
   "execution_count": 11,
   "id": "4b47469f",
   "metadata": {
    "ExecuteTime": {
     "end_time": "2022-03-04T08:55:14.214613Z",
     "start_time": "2022-03-04T08:55:14.200650Z"
    }
   },
   "outputs": [
    {
     "name": "stdout",
     "output_type": "stream",
     "text": [
      "Hello Python! <class 'str'>\n",
      "I'm OK! <class 'str'>\n",
      "1234 <class 'int'>\n",
      "1234 <class 'str'>\n"
     ]
    }
   ],
   "source": [
    "print(a1, type(a1))\n",
    "print(a2, type(a2))\n",
    "print(a3, type(a3))\n",
    "print(a4, type(a4))"
   ]
  },
  {
   "cell_type": "code",
   "execution_count": 12,
   "id": "f7319072",
   "metadata": {
    "ExecuteTime": {
     "end_time": "2022-03-04T08:55:14.229573Z",
     "start_time": "2022-03-04T08:55:14.215610Z"
    }
   },
   "outputs": [
    {
     "name": "stdout",
     "output_type": "stream",
     "text": [
      "Hello Python!I'm OK!\n",
      "Hello Python!Hello Python!Hello Python!\n"
     ]
    }
   ],
   "source": [
    "print(a1 + a2)\n",
    "print(a1 * 3)"
   ]
  },
  {
   "cell_type": "markdown",
   "id": "513144d7",
   "metadata": {},
   "source": [
    "#### escape code\n",
    "\n",
    "\\n: 개행(줄바꿈)  \n",
    "\\r: 캐리지 리턴  \n",
    "\\t: 수평 tab  \n",
    "\\\\\": \"출력   \n",
    "\\\\': '출력  \n",
    "\\\\\\: \\출력  \n",
    "\\000: NULL값  "
   ]
  },
  {
   "cell_type": "code",
   "execution_count": 13,
   "id": "833b148b",
   "metadata": {
    "ExecuteTime": {
     "end_time": "2022-03-04T08:55:14.244532Z",
     "start_time": "2022-03-04T08:55:14.230571Z"
    }
   },
   "outputs": [
    {
     "name": "stdout",
     "output_type": "stream",
     "text": [
      "Hello Everyone! \n",
      "I'm HyukJu Kim\t26 years old\n"
     ]
    }
   ],
   "source": [
    "print(\"Hello Everyone! \\nI'm HyukJu Kim\\t26 years old\")"
   ]
  },
  {
   "cell_type": "markdown",
   "id": "d7b9e5e7",
   "metadata": {},
   "source": [
    "#### indexing, slicing"
   ]
  },
  {
   "cell_type": "code",
   "execution_count": 14,
   "id": "421fb0c9",
   "metadata": {
    "ExecuteTime": {
     "end_time": "2022-03-04T08:55:14.259493Z",
     "start_time": "2022-03-04T08:55:14.245531Z"
    }
   },
   "outputs": [],
   "source": [
    "a = 'You\\'ve got a friend'"
   ]
  },
  {
   "cell_type": "code",
   "execution_count": 15,
   "id": "fdc14c5c",
   "metadata": {
    "ExecuteTime": {
     "end_time": "2022-03-04T08:55:14.274453Z",
     "start_time": "2022-03-04T08:55:14.260491Z"
    }
   },
   "outputs": [
    {
     "name": "stdout",
     "output_type": "stream",
     "text": [
      "v\n",
      "Y\n",
      "19\n"
     ]
    }
   ],
   "source": [
    "print(a[4])\n",
    "print(a[0])\n",
    "print(len(a))"
   ]
  },
  {
   "cell_type": "code",
   "execution_count": 16,
   "id": "2c5d32a6",
   "metadata": {
    "ExecuteTime": {
     "end_time": "2022-03-04T08:55:14.289413Z",
     "start_time": "2022-03-04T08:55:14.275451Z"
    }
   },
   "outputs": [
    {
     "name": "stdout",
     "output_type": "stream",
     "text": [
      "d\n",
      "Y\n"
     ]
    }
   ],
   "source": [
    "print(a[len(a)-1]) # = a[18] = a[-1]\n",
    "print(a[-len(a)]) # = a[0]"
   ]
  },
  {
   "cell_type": "code",
   "execution_count": 17,
   "id": "9638dafd",
   "metadata": {
    "ExecuteTime": {
     "end_time": "2022-03-04T08:55:14.304374Z",
     "start_time": "2022-03-04T08:55:14.290411Z"
    }
   },
   "outputs": [
    {
     "name": "stdout",
     "output_type": "stream",
     "text": [
      "You\n",
      "You'\n"
     ]
    }
   ],
   "source": [
    "print(a[0:3]) # [(시작: default = 0):(끝: default = 자료의 길이 - 1):(몇 칸씩: default = 1)]\n",
    "print(a[:4])"
   ]
  },
  {
   "cell_type": "code",
   "execution_count": 18,
   "id": "6864f2b7",
   "metadata": {
    "ExecuteTime": {
     "end_time": "2022-03-04T08:55:14.319333Z",
     "start_time": "2022-03-04T08:55:14.305371Z"
    }
   },
   "outputs": [
    {
     "name": "stdout",
     "output_type": "stream",
     "text": [
      "Yuv o  red\n",
      "frien\n",
      "friend\n",
      "  red\n",
      "You've got a friend\n"
     ]
    }
   ],
   "source": [
    "print(a[::2])\n",
    "print(a[-6:-1])\n",
    "print(a[-6:])\n",
    "print(a[-9::2])\n",
    "print(a[:])"
   ]
  },
  {
   "cell_type": "markdown",
   "id": "6fa04f30",
   "metadata": {},
   "source": [
    "#### format\n",
    "\n",
    "%d: 정수형(digit = integer)  \n",
    "%f: 실수형(float)  \n",
    "%b: 2진수  \n",
    "%o: 8진수  \n",
    "%x: 16진수  \n",
    "%s: 문자(string)  \n",
    "%c: 한 자리 문자(character)  \n",
    "%%: %  "
   ]
  },
  {
   "cell_type": "code",
   "execution_count": 19,
   "id": "a7412d28",
   "metadata": {
    "ExecuteTime": {
     "end_time": "2022-03-04T08:55:14.334293Z",
     "start_time": "2022-03-04T08:55:14.320330Z"
    }
   },
   "outputs": [
    {
     "name": "stdout",
     "output_type": "stream",
     "text": [
      "I'am 26 years old\n",
      "1.45597\n",
      "My name is HyukJu Kim\n",
      "My name is HyukJu Kim, 26 years old\n",
      "     Hello\n",
      "Hello     \n",
      "          HelloPython\n",
      "Hello          Python\n",
      "My grade is a!\n",
      "Chance of winning is 80%\n"
     ]
    }
   ],
   "source": [
    "print(\"I'am %d years old\" % 26) \n",
    "print(\"%0.5f\" % 1.45596544) # 0.n : n = 소숫점 자리\n",
    "print(\"My name is %s\" % 'HyukJu Kim')\n",
    "print(\"My name is %s, %d years old\" % ('HyukJu Kim', 26))\n",
    "print(\"%10s\" % 'Hello') # 10은 10자릿수를 의미\n",
    "print(\"%-10s\" % 'Hello') # +는 오른쪽 정렬, -는 왼쪽 정렬을 의미 \n",
    "print(\"%15sPython\" % 'Hello')\n",
    "print(\"%-15sPython\" % 'Hello')\n",
    "print(\"My grade is %c!\" % 'a')\n",
    "print(\"Chance of winning is %d%%\" % 80)"
   ]
  },
  {
   "cell_type": "markdown",
   "id": "31e5498a",
   "metadata": {
    "ExecuteTime": {
     "end_time": "2022-03-03T12:54:39.016982Z",
     "start_time": "2022-03-03T12:54:39.013989Z"
    }
   },
   "source": [
    "#### fucntion"
   ]
  },
  {
   "cell_type": "markdown",
   "id": "5ccccc04",
   "metadata": {},
   "source": [
    "format"
   ]
  },
  {
   "cell_type": "code",
   "execution_count": 20,
   "id": "bde278b3",
   "metadata": {
    "ExecuteTime": {
     "end_time": "2022-03-04T08:55:14.349253Z",
     "start_time": "2022-03-04T08:55:14.335291Z"
    }
   },
   "outputs": [
    {
     "name": "stdout",
     "output_type": "stream",
     "text": [
      "You've got a friend\n"
     ]
    }
   ],
   "source": [
    "print(\"You've {0} a friend\".format('got'))"
   ]
  },
  {
   "cell_type": "code",
   "execution_count": 21,
   "id": "f919f642",
   "metadata": {
    "ExecuteTime": {
     "end_time": "2022-03-04T08:55:14.364213Z",
     "start_time": "2022-03-04T08:55:14.350251Z"
    }
   },
   "outputs": [
    {
     "name": "stdout",
     "output_type": "stream",
     "text": [
      "c a b\n"
     ]
    }
   ],
   "source": [
    "print(\"{2} {0} {1}\".format('a', 'b', 'c')) # {n}: format 함수의 index"
   ]
  },
  {
   "cell_type": "code",
   "execution_count": 22,
   "id": "36269613",
   "metadata": {
    "ExecuteTime": {
     "end_time": "2022-03-04T08:55:14.379172Z",
     "start_time": "2022-03-04T08:55:14.365211Z"
    }
   },
   "outputs": [
    {
     "name": "stdout",
     "output_type": "stream",
     "text": [
      "D+100\n"
     ]
    }
   ],
   "source": [
    "a = 100\n",
    "print(\"{0}+{ex}\".format('D', ex = a))"
   ]
  },
  {
   "cell_type": "code",
   "execution_count": 23,
   "id": "86e52e59",
   "metadata": {
    "ExecuteTime": {
     "end_time": "2022-03-04T08:55:14.394132Z",
     "start_time": "2022-03-04T08:55:14.382164Z"
    }
   },
   "outputs": [
    {
     "name": "stdout",
     "output_type": "stream",
     "text": [
      "Art:   453, Price per unit:    59.06\n"
     ]
    }
   ],
   "source": [
    "print(\"Art: {0:5d}, Price per unit: {1:8.2f}\".format(453, 59.058))"
   ]
  },
  {
   "cell_type": "code",
   "execution_count": 24,
   "id": "d918645d",
   "metadata": {
    "ExecuteTime": {
     "end_time": "2022-03-04T08:55:14.409092Z",
     "start_time": "2022-03-04T08:55:14.396127Z"
    }
   },
   "outputs": [
    {
     "name": "stdout",
     "output_type": "stream",
     "text": [
      "My name is 35, I am hong years old\n",
      "My name is 35, I am 35 years old\n",
      "My name is 35, I am hong years old\n"
     ]
    }
   ],
   "source": [
    "age = 35\n",
    "name = 'hong'\n",
    "print(\"My name is {0}, I am {1} years old\".format(age, name))\n",
    "print(\"My name is {0}, I am {0} years old\".format(age, name))\n",
    "print(\"My name is {}, I am {} years old\".format(age, name))"
   ]
  },
  {
   "cell_type": "code",
   "execution_count": 25,
   "id": "1ef85dd8",
   "metadata": {
    "ExecuteTime": {
     "end_time": "2022-03-04T08:55:14.424053Z",
     "start_time": "2022-03-04T08:55:14.410090Z"
    }
   },
   "outputs": [],
   "source": [
    "name = 'James'\n",
    "age = 35\n",
    "tall = 178.231424"
   ]
  },
  {
   "cell_type": "code",
   "execution_count": 26,
   "id": "69eab954",
   "metadata": {
    "ExecuteTime": {
     "end_time": "2022-03-04T08:55:14.439013Z",
     "start_time": "2022-03-04T08:55:14.425051Z"
    }
   },
   "outputs": [
    {
     "name": "stdout",
     "output_type": "stream",
     "text": [
      "James     \n",
      "     James\n",
      "  James   \n",
      "-------James--------\n"
     ]
    }
   ],
   "source": [
    "print(\"{:<10s}\".format(name)) # 왼쪽 정렬\n",
    "print(\"{:>10s}\".format(name)) # 오른쪽 정렬\n",
    "print(\"{:^10s}\".format(name)) # 가운데 정렬\n",
    "print(\"{:-^20s}\".format(name))"
   ]
  },
  {
   "cell_type": "code",
   "execution_count": 27,
   "id": "573de566",
   "metadata": {
    "ExecuteTime": {
     "end_time": "2022-03-04T08:55:14.453973Z",
     "start_time": "2022-03-04T08:55:14.440010Z"
    }
   },
   "outputs": [
    {
     "name": "stdout",
     "output_type": "stream",
     "text": [
      "name: James, age: 35, tall: 178.231424)\n",
      "name: James     , age:         35, tall: 178.2314)\n",
      "name:      James, age: 35        , tall:    178.231)\n",
      "name:   James   , age: ----35----, tall:           178.2)\n"
     ]
    }
   ],
   "source": [
    "print(\"name: {}, age: {}, tall: {})\".format(name, age, tall))\n",
    "print(\"name: {:10s}, age: {:10d}, tall: {:1.4f})\".format(name, age, tall))\n",
    "print(\"name: {:>10s}, age: {:<10d}, tall: {:10.3f})\".format(name, age, tall))\n",
    "print(\"name: {:^10s}, age: {:-^10d}, tall: {:15.1f})\".format(name, age, tall))"
   ]
  },
  {
   "cell_type": "markdown",
   "id": "c388e2b9",
   "metadata": {},
   "source": [
    "upper & lower"
   ]
  },
  {
   "cell_type": "code",
   "execution_count": 28,
   "id": "960fa09c",
   "metadata": {
    "ExecuteTime": {
     "end_time": "2022-03-04T08:55:14.468933Z",
     "start_time": "2022-03-04T08:55:14.454971Z"
    }
   },
   "outputs": [
    {
     "name": "stdout",
     "output_type": "stream",
     "text": [
      "hello\n",
      "HELLO\n",
      "hello\n"
     ]
    }
   ],
   "source": [
    "a1 = 'hello'\n",
    "a2 = a1.upper()\n",
    "print(a1)\n",
    "print(a2)\n",
    "print(a2.lower())"
   ]
  },
  {
   "cell_type": "markdown",
   "id": "a2a6152c",
   "metadata": {},
   "source": [
    "count"
   ]
  },
  {
   "cell_type": "code",
   "execution_count": 29,
   "id": "bb9bedd0",
   "metadata": {
    "ExecuteTime": {
     "end_time": "2022-03-04T08:55:14.483893Z",
     "start_time": "2022-03-04T08:55:14.469932Z"
    }
   },
   "outputs": [
    {
     "name": "stdout",
     "output_type": "stream",
     "text": [
      "1\n",
      "2\n",
      "2\n"
     ]
    }
   ],
   "source": [
    "a = 'address'\n",
    "print(a.count('a'))\n",
    "print(a.count('d'))\n",
    "print(a.count('s'))"
   ]
  },
  {
   "cell_type": "markdown",
   "id": "ba01bcfc",
   "metadata": {},
   "source": [
    "find & index"
   ]
  },
  {
   "cell_type": "code",
   "execution_count": 30,
   "id": "45123aed",
   "metadata": {
    "ExecuteTime": {
     "end_time": "2022-03-04T08:55:14.498852Z",
     "start_time": "2022-03-04T08:55:14.484890Z"
    }
   },
   "outputs": [
    {
     "name": "stdout",
     "output_type": "stream",
     "text": [
      "3\n",
      "1\n",
      "-1\n",
      "3\n",
      "1\n"
     ]
    }
   ],
   "source": [
    "a = 'apple'\n",
    "print(a.find('l'))\n",
    "print(a.find('p')) # 문자의 첫 번째 index 출력\n",
    "print(a.find('z')) # 문자가 존재하지 않다면 -1 출력\n",
    "print(a.index('l'))\n",
    "print(a.index('p'))\n",
    "# print(a.index('z')) # 문자가 존재하지 않다면 에러 발생"
   ]
  },
  {
   "cell_type": "markdown",
   "id": "6749db61",
   "metadata": {},
   "source": [
    "strip"
   ]
  },
  {
   "cell_type": "code",
   "execution_count": 31,
   "id": "c35a5730",
   "metadata": {
    "ExecuteTime": {
     "end_time": "2022-03-04T08:55:14.513813Z",
     "start_time": "2022-03-04T08:55:14.499851Z"
    }
   },
   "outputs": [
    {
     "name": "stdout",
     "output_type": "stream",
     "text": [
      "Hi!   Hong\n",
      "   Hi!Hong\n",
      "Hi!Hong\n"
     ]
    }
   ],
   "source": [
    "a = '   Hi!   '\n",
    "print(a.lstrip() + 'Hong')\n",
    "print(a.rstrip() + 'Hong')\n",
    "print(a.strip() + 'Hong')"
   ]
  },
  {
   "cell_type": "markdown",
   "id": "bba6b313",
   "metadata": {},
   "source": [
    "replace"
   ]
  },
  {
   "cell_type": "code",
   "execution_count": 32,
   "id": "8941b636",
   "metadata": {
    "ExecuteTime": {
     "end_time": "2022-03-04T08:55:14.528773Z",
     "start_time": "2022-03-04T08:55:14.514811Z"
    }
   },
   "outputs": [
    {
     "name": "stdout",
     "output_type": "stream",
     "text": [
      "good morning Jane!\n",
      "good night Jane!\n"
     ]
    }
   ],
   "source": [
    "a = 'good morning Jane!'\n",
    "print(a)\n",
    "print(a.replace('morning', 'night'))"
   ]
  },
  {
   "cell_type": "markdown",
   "id": "c81b2c06",
   "metadata": {},
   "source": [
    "spilt"
   ]
  },
  {
   "cell_type": "code",
   "execution_count": 33,
   "id": "b744eaee",
   "metadata": {
    "ExecuteTime": {
     "end_time": "2022-03-04T08:55:14.543734Z",
     "start_time": "2022-03-04T08:55:14.529772Z"
    }
   },
   "outputs": [
    {
     "name": "stdout",
     "output_type": "stream",
     "text": [
      "I'm_your_friend!\n",
      "[\"I'm_your_friend!\"]\n",
      "[\"I'm\", 'your', 'friend!']\n"
     ]
    }
   ],
   "source": [
    "a = 'I\\'m_your_friend!'\n",
    "print(a)\n",
    "print(a.split())\n",
    "print(a.split('_'))"
   ]
  },
  {
   "cell_type": "markdown",
   "id": "e78b6eb3",
   "metadata": {},
   "source": [
    "join"
   ]
  },
  {
   "cell_type": "code",
   "execution_count": 34,
   "id": "1969b9f4",
   "metadata": {
    "ExecuteTime": {
     "end_time": "2022-03-04T08:55:14.558693Z",
     "start_time": "2022-03-04T08:55:14.544731Z"
    }
   },
   "outputs": [
    {
     "name": "stdout",
     "output_type": "stream",
     "text": [
      "a,b,c,d\n"
     ]
    }
   ],
   "source": [
    "a = 'abcd'\n",
    "print(','.join(a))"
   ]
  },
  {
   "cell_type": "code",
   "execution_count": 35,
   "id": "31d8bdd7",
   "metadata": {
    "ExecuteTime": {
     "end_time": "2022-03-04T08:55:14.573653Z",
     "start_time": "2022-03-04T08:55:14.559691Z"
    }
   },
   "outputs": [
    {
     "name": "stdout",
     "output_type": "stream",
     "text": [
      "a_b_c_d\n"
     ]
    }
   ],
   "source": [
    "a = ['a', 'b', 'c', 'd']\n",
    "print('_'.join(a))"
   ]
  },
  {
   "cell_type": "markdown",
   "id": "a33271b2",
   "metadata": {},
   "source": [
    "### Boolean"
   ]
  },
  {
   "cell_type": "markdown",
   "id": "e0779a39",
   "metadata": {},
   "source": [
    "True or False"
   ]
  },
  {
   "cell_type": "markdown",
   "id": "1bd4515e",
   "metadata": {},
   "source": [
    "#### boolean\n",
    "\n",
    "number : `1` 참, `0` 거짓  \n",
    "string : `'a'` 참, `''` 거짓  \n",
    "list: `['a']` 참, `[]` 거짓  \n",
    "tuple: `('a')` 참, `()` 거짓  \n",
    "dictionary : `{'key': 'value'}` 참, `{}` 거짓  \n",
    "None 거짓  "
   ]
  },
  {
   "cell_type": "code",
   "execution_count": 36,
   "id": "f5e354ed",
   "metadata": {
    "ExecuteTime": {
     "end_time": "2022-03-04T08:55:14.588613Z",
     "start_time": "2022-03-04T08:55:14.574651Z"
    }
   },
   "outputs": [
    {
     "name": "stdout",
     "output_type": "stream",
     "text": [
      "True\n",
      "False\n"
     ]
    }
   ],
   "source": [
    "print(1 > 0)\n",
    "print(3 > 10)"
   ]
  },
  {
   "cell_type": "code",
   "execution_count": 37,
   "id": "9d3333fc",
   "metadata": {
    "ExecuteTime": {
     "end_time": "2022-03-04T08:55:14.603573Z",
     "start_time": "2022-03-04T08:55:14.589611Z"
    }
   },
   "outputs": [
    {
     "name": "stdout",
     "output_type": "stream",
     "text": [
      "True\n",
      "False\n"
     ]
    }
   ],
   "source": [
    "n1 = 10\n",
    "n2 = 0\n",
    "print(bool(n1))\n",
    "print(bool(n2))"
   ]
  },
  {
   "cell_type": "code",
   "execution_count": 38,
   "id": "17baf1c5",
   "metadata": {
    "ExecuteTime": {
     "end_time": "2022-03-04T08:55:14.618533Z",
     "start_time": "2022-03-04T08:55:14.604570Z"
    }
   },
   "outputs": [
    {
     "name": "stdout",
     "output_type": "stream",
     "text": [
      "True\n",
      "False\n"
     ]
    }
   ],
   "source": [
    "s1 = 'abc'\n",
    "s2 = ''\n",
    "print(bool(s1))\n",
    "print(bool(s2))"
   ]
  },
  {
   "cell_type": "markdown",
   "id": "4822cfc8",
   "metadata": {},
   "source": [
    "## Data Structure"
   ]
  },
  {
   "cell_type": "markdown",
   "id": "b35062ab",
   "metadata": {},
   "source": [
    "### List"
   ]
  },
  {
   "cell_type": "markdown",
   "id": "6f4c78b8",
   "metadata": {},
   "source": [
    "#### list"
   ]
  },
  {
   "cell_type": "code",
   "execution_count": 39,
   "id": "bc05cb2b",
   "metadata": {
    "ExecuteTime": {
     "end_time": "2022-03-04T08:55:14.633493Z",
     "start_time": "2022-03-04T08:55:14.619530Z"
    }
   },
   "outputs": [],
   "source": [
    "a1 = [1, 2, 'a', 'b']\n",
    "a2 = [1, 2, ['a', 'b']]\n",
    "a3 = []\n",
    "a4 = 'abcd'\n",
    "a5 = list(a4)"
   ]
  },
  {
   "cell_type": "code",
   "execution_count": 40,
   "id": "7843b9fd",
   "metadata": {
    "ExecuteTime": {
     "end_time": "2022-03-04T08:55:14.648453Z",
     "start_time": "2022-03-04T08:55:14.634491Z"
    }
   },
   "outputs": [
    {
     "name": "stdout",
     "output_type": "stream",
     "text": [
      "[1, 2, 'a', 'b'] <class 'list'>\n",
      "[1, 2, ['a', 'b']] <class 'list'>\n",
      "[] <class 'list'>\n",
      "abcd <class 'str'>\n",
      "['a', 'b', 'c', 'd'] <class 'list'>\n"
     ]
    }
   ],
   "source": [
    "print(a1, type(a1))\n",
    "print(a2, type(a2))\n",
    "print(a3, type(a3))\n",
    "print(a4, type(a4))\n",
    "print(a5, type(a5))"
   ]
  },
  {
   "cell_type": "code",
   "execution_count": 41,
   "id": "9654e6e6",
   "metadata": {
    "ExecuteTime": {
     "end_time": "2022-03-04T08:55:14.663413Z",
     "start_time": "2022-03-04T08:55:14.649451Z"
    }
   },
   "outputs": [
    {
     "name": "stdout",
     "output_type": "stream",
     "text": [
      "[1, 2, 'a', 'b', 1, 2, ['a', 'b']]\n",
      "[1, 2, 'a', 'b', 1, 2, 'a', 'b', 1, 2, 'a', 'b']\n"
     ]
    }
   ],
   "source": [
    "print(a1 + a2)\n",
    "print(a1 * 3)"
   ]
  },
  {
   "cell_type": "markdown",
   "id": "949e8c3e",
   "metadata": {},
   "source": [
    "#### indexing, slicing"
   ]
  },
  {
   "cell_type": "code",
   "execution_count": 42,
   "id": "6bcbcb98",
   "metadata": {
    "ExecuteTime": {
     "end_time": "2022-03-04T08:55:14.678373Z",
     "start_time": "2022-03-04T08:55:14.664411Z"
    }
   },
   "outputs": [],
   "source": [
    "a = [10, 20, ['a', 'b', 'c', ['apple', 'banana', 'melon']], ['abcd', 'egfh']]"
   ]
  },
  {
   "cell_type": "code",
   "execution_count": 43,
   "id": "c1a05de1",
   "metadata": {
    "ExecuteTime": {
     "end_time": "2022-03-04T08:55:14.693333Z",
     "start_time": "2022-03-04T08:55:14.679371Z"
    }
   },
   "outputs": [
    {
     "name": "stdout",
     "output_type": "stream",
     "text": [
      "[10, 20, ['a', 'b', 'c', ['apple', 'banana', 'melon']], ['abcd', 'egfh']]\n",
      "4\n"
     ]
    }
   ],
   "source": [
    "print(a)\n",
    "print(len(a))"
   ]
  },
  {
   "cell_type": "code",
   "execution_count": 44,
   "id": "0910f30f",
   "metadata": {
    "ExecuteTime": {
     "end_time": "2022-03-04T08:55:14.708293Z",
     "start_time": "2022-03-04T08:55:14.694331Z"
    }
   },
   "outputs": [
    {
     "name": "stdout",
     "output_type": "stream",
     "text": [
      "['a', 'b', 'c', ['apple', 'banana', 'melon']]\n",
      "['apple', 'banana', 'melon']\n",
      "apple\n"
     ]
    }
   ],
   "source": [
    "print(a[2])\n",
    "print(a[2][3])\n",
    "print(a[2][3][0])"
   ]
  },
  {
   "cell_type": "code",
   "execution_count": 45,
   "id": "df50ea16",
   "metadata": {
    "ExecuteTime": {
     "end_time": "2022-03-04T08:55:14.723253Z",
     "start_time": "2022-03-04T08:55:14.709291Z"
    }
   },
   "outputs": [
    {
     "name": "stdout",
     "output_type": "stream",
     "text": [
      "a\n",
      "[20, ['a', 'b', 'c', ['apple', 'banana', 'melon']]]\n"
     ]
    }
   ],
   "source": [
    "print(a[:3][-1][0])\n",
    "print(a[-3:-1])"
   ]
  },
  {
   "cell_type": "markdown",
   "id": "9e556336",
   "metadata": {},
   "source": [
    "#### replacement, delete"
   ]
  },
  {
   "cell_type": "code",
   "execution_count": 46,
   "id": "ed885b2c",
   "metadata": {
    "ExecuteTime": {
     "end_time": "2022-03-04T08:55:14.738213Z",
     "start_time": "2022-03-04T08:55:14.724251Z"
    }
   },
   "outputs": [
    {
     "name": "stdout",
     "output_type": "stream",
     "text": [
      "[10, 20, 'a', 'b']\n"
     ]
    }
   ],
   "source": [
    "a = [10, 20, 'a', 'b']\n",
    "print(a)"
   ]
  },
  {
   "cell_type": "code",
   "execution_count": 47,
   "id": "c2bd3cd0",
   "metadata": {
    "ExecuteTime": {
     "end_time": "2022-03-04T08:55:14.753174Z",
     "start_time": "2022-03-04T08:55:14.739211Z"
    }
   },
   "outputs": [
    {
     "name": "stdout",
     "output_type": "stream",
     "text": [
      "[10, 100, 'a', 'b']\n"
     ]
    }
   ],
   "source": [
    "a[1] = 100\n",
    "print(a)"
   ]
  },
  {
   "cell_type": "code",
   "execution_count": 48,
   "id": "c00fcd75",
   "metadata": {
    "ExecuteTime": {
     "end_time": "2022-03-04T08:55:14.768133Z",
     "start_time": "2022-03-04T08:55:14.754170Z"
    }
   },
   "outputs": [
    {
     "name": "stdout",
     "output_type": "stream",
     "text": [
      "[10, 100, 40, 50, 60]\n"
     ]
    }
   ],
   "source": [
    "a[2:] = [40, 50, 60]\n",
    "print(a)"
   ]
  },
  {
   "cell_type": "code",
   "execution_count": 49,
   "id": "5c4798ca",
   "metadata": {
    "ExecuteTime": {
     "end_time": "2022-03-04T08:55:14.783093Z",
     "start_time": "2022-03-04T08:55:14.769132Z"
    }
   },
   "outputs": [
    {
     "name": "stdout",
     "output_type": "stream",
     "text": [
      "[10, 100, ['a', 'b', 'c'], 50, 60]\n"
     ]
    }
   ],
   "source": [
    "a[2] = ['a', 'b', 'c']\n",
    "print(a)"
   ]
  },
  {
   "cell_type": "code",
   "execution_count": 50,
   "id": "2c4a2a90",
   "metadata": {
    "ExecuteTime": {
     "end_time": "2022-03-04T08:55:14.798053Z",
     "start_time": "2022-03-04T08:55:14.784092Z"
    }
   },
   "outputs": [
    {
     "name": "stdout",
     "output_type": "stream",
     "text": [
      "[10, 20, 30, 40, 50, 60]\n"
     ]
    }
   ],
   "source": [
    "a[1:3] = [20, 30, 40]\n",
    "print(a)"
   ]
  },
  {
   "cell_type": "code",
   "execution_count": 51,
   "id": "2a557438",
   "metadata": {
    "ExecuteTime": {
     "end_time": "2022-03-04T08:55:14.813013Z",
     "start_time": "2022-03-04T08:55:14.799052Z"
    }
   },
   "outputs": [
    {
     "name": "stdout",
     "output_type": "stream",
     "text": [
      "[10, [], 30, 40, 50, 60]\n"
     ]
    }
   ],
   "source": [
    "a[1] = []\n",
    "print(a)"
   ]
  },
  {
   "cell_type": "code",
   "execution_count": 52,
   "id": "473b9833",
   "metadata": {
    "ExecuteTime": {
     "end_time": "2022-03-04T08:55:14.827973Z",
     "start_time": "2022-03-04T08:55:14.814011Z"
    }
   },
   "outputs": [
    {
     "name": "stdout",
     "output_type": "stream",
     "text": [
      "[10, 30, 40, 50, 60]\n"
     ]
    }
   ],
   "source": [
    "a[1:2] = []\n",
    "print(a)"
   ]
  },
  {
   "cell_type": "code",
   "execution_count": 53,
   "id": "ffbf38e6",
   "metadata": {
    "ExecuteTime": {
     "end_time": "2022-03-04T08:55:14.842933Z",
     "start_time": "2022-03-04T08:55:14.828971Z"
    }
   },
   "outputs": [
    {
     "name": "stdout",
     "output_type": "stream",
     "text": [
      "[10, 30, 40, 50]\n"
     ]
    }
   ],
   "source": [
    "del a[4]\n",
    "print(a)"
   ]
  },
  {
   "cell_type": "markdown",
   "id": "019c4ae5",
   "metadata": {},
   "source": [
    "#### function"
   ]
  },
  {
   "cell_type": "markdown",
   "id": "cf262f78",
   "metadata": {},
   "source": [
    "append"
   ]
  },
  {
   "cell_type": "code",
   "execution_count": 54,
   "id": "ffc252ad",
   "metadata": {
    "ExecuteTime": {
     "end_time": "2022-03-04T08:55:14.857893Z",
     "start_time": "2022-03-04T08:55:14.843931Z"
    }
   },
   "outputs": [
    {
     "name": "stdout",
     "output_type": "stream",
     "text": [
      "[1, 2, 3, 4]\n"
     ]
    }
   ],
   "source": [
    "a = [1, 2, 3]\n",
    "a.append(4)\n",
    "print(a)"
   ]
  },
  {
   "cell_type": "code",
   "execution_count": 55,
   "id": "389554e3",
   "metadata": {
    "ExecuteTime": {
     "end_time": "2022-03-04T08:55:14.872853Z",
     "start_time": "2022-03-04T08:55:14.858891Z"
    }
   },
   "outputs": [
    {
     "name": "stdout",
     "output_type": "stream",
     "text": [
      "[1, 2, 3, 4, 'a']\n"
     ]
    }
   ],
   "source": [
    "a.append('a')\n",
    "print(a)"
   ]
  },
  {
   "cell_type": "code",
   "execution_count": 56,
   "id": "39e0f308",
   "metadata": {
    "ExecuteTime": {
     "end_time": "2022-03-04T08:55:14.887813Z",
     "start_time": "2022-03-04T08:55:14.873850Z"
    }
   },
   "outputs": [
    {
     "name": "stdout",
     "output_type": "stream",
     "text": [
      "[1, 2, 3, 4, 'a', ['a', 'b']]\n"
     ]
    }
   ],
   "source": [
    "a.append(['a', 'b'])\n",
    "print(a)"
   ]
  },
  {
   "cell_type": "markdown",
   "id": "e5ab960c",
   "metadata": {
    "ExecuteTime": {
     "end_time": "2022-03-04T06:13:53.998385Z",
     "start_time": "2022-03-04T06:13:53.988413Z"
    }
   },
   "source": [
    "sort"
   ]
  },
  {
   "cell_type": "code",
   "execution_count": 57,
   "id": "7faf73e8",
   "metadata": {
    "ExecuteTime": {
     "end_time": "2022-03-04T08:55:14.902773Z",
     "start_time": "2022-03-04T08:55:14.888811Z"
    }
   },
   "outputs": [
    {
     "name": "stdout",
     "output_type": "stream",
     "text": [
      "[1, 2, 5, 7, 10]\n",
      "['a', 'b', 'c', 'f']\n"
     ]
    }
   ],
   "source": [
    "a = [1, 5, 10, 2, 7]\n",
    "a.sort()\n",
    "print(a)\n",
    "a = ['b', 'a', 'f', 'c']\n",
    "a.sort()\n",
    "print(a)"
   ]
  },
  {
   "cell_type": "markdown",
   "id": "75c67cd2",
   "metadata": {},
   "source": [
    "reverse"
   ]
  },
  {
   "cell_type": "code",
   "execution_count": 58,
   "id": "8eabe082",
   "metadata": {
    "ExecuteTime": {
     "end_time": "2022-03-04T08:55:14.917733Z",
     "start_time": "2022-03-04T08:55:14.903770Z"
    }
   },
   "outputs": [
    {
     "name": "stdout",
     "output_type": "stream",
     "text": [
      "[2, 'b', 1, 'a']\n"
     ]
    }
   ],
   "source": [
    "a = ['a', 1, 'b', 2]\n",
    "a.reverse()\n",
    "print(a)"
   ]
  },
  {
   "cell_type": "markdown",
   "id": "8b10b4d3",
   "metadata": {},
   "source": [
    "index"
   ]
  },
  {
   "cell_type": "code",
   "execution_count": 59,
   "id": "3ed77586",
   "metadata": {
    "ExecuteTime": {
     "end_time": "2022-03-04T08:55:14.932693Z",
     "start_time": "2022-03-04T08:55:14.918731Z"
    }
   },
   "outputs": [
    {
     "name": "stdout",
     "output_type": "stream",
     "text": [
      "2\n"
     ]
    }
   ],
   "source": [
    "a = ['c', 'b', 'a', 'a']\n",
    "print(a.index('a'))"
   ]
  },
  {
   "cell_type": "markdown",
   "id": "f233a8d8",
   "metadata": {},
   "source": [
    "insert"
   ]
  },
  {
   "cell_type": "code",
   "execution_count": 60,
   "id": "3ac11ded",
   "metadata": {
    "ExecuteTime": {
     "end_time": "2022-03-04T08:55:14.947652Z",
     "start_time": "2022-03-04T08:55:14.933691Z"
    }
   },
   "outputs": [
    {
     "name": "stdout",
     "output_type": "stream",
     "text": [
      "[1, 2, 10, 3, 4]\n"
     ]
    }
   ],
   "source": [
    "a = [1, 2, 3, 4]\n",
    "a.insert(2, 10) # insert(index, value)\n",
    "print(a)"
   ]
  },
  {
   "cell_type": "markdown",
   "id": "8be79434",
   "metadata": {},
   "source": [
    "remove"
   ]
  },
  {
   "cell_type": "code",
   "execution_count": 61,
   "id": "f8627825",
   "metadata": {
    "ExecuteTime": {
     "end_time": "2022-03-04T08:55:14.962612Z",
     "start_time": "2022-03-04T08:55:14.948650Z"
    }
   },
   "outputs": [
    {
     "name": "stdout",
     "output_type": "stream",
     "text": [
      "[23, 12, 6, 1, 3]\n"
     ]
    }
   ],
   "source": [
    "a = [23, 12, 3, 6, 1, 3]\n",
    "a.remove(3)\n",
    "print(a)"
   ]
  },
  {
   "cell_type": "markdown",
   "id": "f5eb3f60",
   "metadata": {},
   "source": [
    "pop"
   ]
  },
  {
   "cell_type": "code",
   "execution_count": 62,
   "id": "98b49102",
   "metadata": {
    "ExecuteTime": {
     "end_time": "2022-03-04T08:55:14.977573Z",
     "start_time": "2022-03-04T08:55:14.963611Z"
    }
   },
   "outputs": [
    {
     "name": "stdout",
     "output_type": "stream",
     "text": [
      "[23, 12, 6, 1, 3]\n",
      "12\n",
      "[23, 6, 1, 3]\n",
      "3\n",
      "[23, 6, 1]\n"
     ]
    }
   ],
   "source": [
    "print(a)\n",
    "print(a.pop(1))\n",
    "print(a)\n",
    "print(a.pop())\n",
    "print(a)"
   ]
  },
  {
   "cell_type": "markdown",
   "id": "884ac34d",
   "metadata": {},
   "source": [
    "count"
   ]
  },
  {
   "cell_type": "code",
   "execution_count": 63,
   "id": "694db91c",
   "metadata": {
    "ExecuteTime": {
     "end_time": "2022-03-04T08:55:14.992534Z",
     "start_time": "2022-03-04T08:55:14.978570Z"
    }
   },
   "outputs": [
    {
     "name": "stdout",
     "output_type": "stream",
     "text": [
      "[23, 6, 1]\n",
      "0\n",
      "0\n",
      "0\n"
     ]
    }
   ],
   "source": [
    "print(a)\n",
    "print(a.count(3))\n",
    "print(a.count(7))\n",
    "print(a.count('a'))"
   ]
  },
  {
   "cell_type": "markdown",
   "id": "c48214f7",
   "metadata": {},
   "source": [
    "extend"
   ]
  },
  {
   "cell_type": "code",
   "execution_count": 64,
   "id": "7729f019",
   "metadata": {
    "ExecuteTime": {
     "end_time": "2022-03-04T08:55:15.007493Z",
     "start_time": "2022-03-04T08:55:14.993531Z"
    }
   },
   "outputs": [
    {
     "name": "stdout",
     "output_type": "stream",
     "text": [
      "[0, 1, 2, 3]\n",
      "[0, 1, 2, 3, 4, 5, 6]\n",
      "[0, 1, 2, 3, 4, 5, 6, 0, 1, 2, 3, 4, 5, 6]\n"
     ]
    }
   ],
   "source": [
    "a = [0]\n",
    "a.extend([1, 2, 3])\n",
    "print(a)\n",
    "a += [4, 5, 6]\n",
    "print(a)\n",
    "a *= 2\n",
    "print(a)"
   ]
  },
  {
   "cell_type": "markdown",
   "id": "cbaded1f",
   "metadata": {},
   "source": [
    "### Tuple"
   ]
  },
  {
   "cell_type": "markdown",
   "id": "04884b05",
   "metadata": {},
   "source": [
    "리스트와 비슷하지만 요소값 변경 및 추가 불가능 (주로 고유번호와 같은 고정자료 저장시 유용)"
   ]
  },
  {
   "cell_type": "markdown",
   "id": "fc9714a5",
   "metadata": {},
   "source": [
    "#### tuple"
   ]
  },
  {
   "cell_type": "code",
   "execution_count": 65,
   "id": "8e2906b1",
   "metadata": {
    "ExecuteTime": {
     "end_time": "2022-03-04T08:55:15.022453Z",
     "start_time": "2022-03-04T08:55:15.008491Z"
    }
   },
   "outputs": [
    {
     "name": "stdout",
     "output_type": "stream",
     "text": [
      "() <class 'tuple'>\n",
      "(1,) <class 'tuple'>\n",
      "(10, 20, 30) <class 'tuple'>\n",
      "('a', 'b', ('apple', 'banana')) <class 'tuple'>\n",
      "(10, 20, 30, 40) <class 'tuple'>\n",
      "(10, 20, 30, 10, 20, 30, 40)\n",
      "(10, 20, 30, 40, 10, 20, 30, 40, 10, 20, 30, 40)\n"
     ]
    }
   ],
   "source": [
    "a1 = ()\n",
    "a2 = (1,)\n",
    "a3 = 10, 20, 30\n",
    "a4 = ('a', 'b', ('apple', 'banana'))\n",
    "a5 = (10, 20, 30, 40)\n",
    "print(a1, type(a1))\n",
    "print(a2, type(a2))\n",
    "print(a3, type(a3))\n",
    "print(a4, type(a4))\n",
    "print(a5, type(a5))\n",
    "print(a3 + a5)\n",
    "print(a5 * 3)"
   ]
  },
  {
   "cell_type": "markdown",
   "id": "e3627ead",
   "metadata": {},
   "source": [
    "#### indexing, slicing"
   ]
  },
  {
   "cell_type": "code",
   "execution_count": 66,
   "id": "94ed7937",
   "metadata": {
    "ExecuteTime": {
     "end_time": "2022-03-04T08:55:15.037413Z",
     "start_time": "2022-03-04T08:55:15.023451Z"
    }
   },
   "outputs": [
    {
     "name": "stdout",
     "output_type": "stream",
     "text": [
      "(10, 20, (30, 40))\n",
      "10\n",
      "40\n",
      "(20, (30, 40))\n"
     ]
    }
   ],
   "source": [
    "a = (10, 20, (30, 40))\n",
    "print(a)\n",
    "print(a[0])\n",
    "print(a[2][1])\n",
    "print(a[1:])"
   ]
  },
  {
   "cell_type": "markdown",
   "id": "57069bb8",
   "metadata": {},
   "source": [
    "### Dictionary"
   ]
  },
  {
   "cell_type": "markdown",
   "id": "25be6a40",
   "metadata": {
    "ExecuteTime": {
     "end_time": "2022-03-04T06:11:03.860583Z",
     "start_time": "2022-03-04T06:11:03.852604Z"
    }
   },
   "source": [
    "순서가 없어 slicing 불가능 (indexing은 key를 이용하여 가능)"
   ]
  },
  {
   "cell_type": "markdown",
   "id": "54ea5f37",
   "metadata": {},
   "source": [
    "#### dictionary"
   ]
  },
  {
   "cell_type": "code",
   "execution_count": 67,
   "id": "018c761f",
   "metadata": {
    "ExecuteTime": {
     "end_time": "2022-03-04T08:55:15.052373Z",
     "start_time": "2022-03-04T08:55:15.038411Z"
    }
   },
   "outputs": [
    {
     "name": "stdout",
     "output_type": "stream",
     "text": [
      "{1: 'Hello!!'}\n"
     ]
    }
   ],
   "source": [
    "a = {1: 'Hello!!'}\n",
    "print(a)"
   ]
  },
  {
   "cell_type": "code",
   "execution_count": 68,
   "id": "c0f1bc5d",
   "metadata": {
    "ExecuteTime": {
     "end_time": "2022-03-04T08:55:15.067333Z",
     "start_time": "2022-03-04T08:55:15.059354Z"
    }
   },
   "outputs": [
    {
     "name": "stdout",
     "output_type": "stream",
     "text": [
      "{'first': [1, 2, 3]}\n"
     ]
    }
   ],
   "source": [
    "a = {'first': ['a', 'b', 'c'], 'first': [1, 2, 3]}\n",
    "print(a)"
   ]
  },
  {
   "cell_type": "code",
   "execution_count": 69,
   "id": "66a4875c",
   "metadata": {
    "ExecuteTime": {
     "end_time": "2022-03-04T08:55:15.082293Z",
     "start_time": "2022-03-04T08:55:15.071323Z"
    }
   },
   "outputs": [
    {
     "name": "stdout",
     "output_type": "stream",
     "text": [
      "{'soccer': 'Park', 'baseball': 'Lee', 'basketball': 'Seo'}\n"
     ]
    }
   ],
   "source": [
    "a = {'soccer': 'Park', 'baseball': 'Lee', 'basketball': 'Seo'}\n",
    "print(a)"
   ]
  },
  {
   "cell_type": "markdown",
   "id": "bb4348a1",
   "metadata": {},
   "source": [
    "#### indexing, replacement, delete"
   ]
  },
  {
   "cell_type": "code",
   "execution_count": 70,
   "id": "33ec72bb",
   "metadata": {
    "ExecuteTime": {
     "end_time": "2022-03-04T08:55:15.097253Z",
     "start_time": "2022-03-04T08:55:15.083291Z"
    }
   },
   "outputs": [
    {
     "name": "stdout",
     "output_type": "stream",
     "text": [
      "2\n",
      "Hi\n"
     ]
    }
   ],
   "source": [
    "a = {1: 'Hi', (0, 1): 100}\n",
    "print(len(a))\n",
    "print(a[1])"
   ]
  },
  {
   "cell_type": "code",
   "execution_count": 71,
   "id": "9fd06660",
   "metadata": {
    "ExecuteTime": {
     "end_time": "2022-03-04T08:55:15.112213Z",
     "start_time": "2022-03-04T08:55:15.098250Z"
    }
   },
   "outputs": [
    {
     "name": "stdout",
     "output_type": "stream",
     "text": [
      "{1: 'Hi', (0, 1): 100, 'a': 'Hello'}\n"
     ]
    }
   ],
   "source": [
    "a['a'] = 'Hello'\n",
    "print(a)"
   ]
  },
  {
   "cell_type": "code",
   "execution_count": 72,
   "id": "863c2556",
   "metadata": {
    "ExecuteTime": {
     "end_time": "2022-03-04T08:55:15.127173Z",
     "start_time": "2022-03-04T08:55:15.113211Z"
    }
   },
   "outputs": [
    {
     "name": "stdout",
     "output_type": "stream",
     "text": [
      "{1: 'Bye', (0, 1): 100, 'a': 'Hello'}\n"
     ]
    }
   ],
   "source": [
    "a[1] = 'Bye'\n",
    "print(a)"
   ]
  },
  {
   "cell_type": "code",
   "execution_count": 73,
   "id": "299b26d3",
   "metadata": {
    "ExecuteTime": {
     "end_time": "2022-03-04T08:55:15.142133Z",
     "start_time": "2022-03-04T08:55:15.128171Z"
    }
   },
   "outputs": [
    {
     "name": "stdout",
     "output_type": "stream",
     "text": [
      "{1: 'Bye', (0, 1): 100, 'a': 'Hello', 0: 'a'}\n"
     ]
    }
   ],
   "source": [
    "a[0] = 'a'\n",
    "print(a)"
   ]
  },
  {
   "cell_type": "code",
   "execution_count": 74,
   "id": "747620f2",
   "metadata": {
    "ExecuteTime": {
     "end_time": "2022-03-04T08:55:15.157093Z",
     "start_time": "2022-03-04T08:55:15.143131Z"
    }
   },
   "outputs": [
    {
     "name": "stdout",
     "output_type": "stream",
     "text": [
      "{1: 'Bye', (0, 1): 100, 'a': 'Hello', 0: 'a', (1, 2): 'b'}\n"
     ]
    }
   ],
   "source": [
    "a[(1, 2)] = 'b'\n",
    "print(a)"
   ]
  },
  {
   "cell_type": "code",
   "execution_count": 75,
   "id": "0656159a",
   "metadata": {
    "ExecuteTime": {
     "end_time": "2022-03-04T08:55:15.172053Z",
     "start_time": "2022-03-04T08:55:15.158091Z"
    }
   },
   "outputs": [
    {
     "name": "stdout",
     "output_type": "stream",
     "text": [
      "{1: 'Bye', (0, 1): 100, 'a': 'Hello', 0: 'a', (1, 2): 'b', 3: ['c', 'd']}\n"
     ]
    }
   ],
   "source": [
    "a[3] = ['c', 'd'] # value값에는 numeric, string, boolean과 list, tuple 입력 가능\n",
    "print(a)"
   ]
  },
  {
   "cell_type": "code",
   "execution_count": 76,
   "id": "579f929c",
   "metadata": {
    "ExecuteTime": {
     "end_time": "2022-03-04T08:55:15.187013Z",
     "start_time": "2022-03-04T08:55:15.173050Z"
    }
   },
   "outputs": [
    {
     "name": "stdout",
     "output_type": "stream",
     "text": [
      "{1: 'Bye', (0, 1): 100, 'a': 'Hello', 0: 'a', (1, 2): 'b', 3: [1, 'd']}\n"
     ]
    }
   ],
   "source": [
    "a[3][0] = 1\n",
    "print(a)"
   ]
  },
  {
   "cell_type": "code",
   "execution_count": 77,
   "id": "7f8da655",
   "metadata": {
    "ExecuteTime": {
     "end_time": "2022-03-04T08:55:15.201973Z",
     "start_time": "2022-03-04T08:55:15.188011Z"
    }
   },
   "outputs": [
    {
     "name": "stdout",
     "output_type": "stream",
     "text": [
      "{1: 'Bye', (0, 1): 100, 'a': 'Hello', 0: 'a', (1, 2): 'b', 3: [1, 'd'], (4, 5): ('e', 'f', 'g', 'h')}\n",
      "('g', 'h')\n"
     ]
    }
   ],
   "source": [
    "a[(4, 5)] = ('e', 'f', 'g', 'h') # key값에는 numeric, string, boolean과 tuple만 입력 가능\n",
    "print(a)\n",
    "print(a[(4, 5)][2:])"
   ]
  },
  {
   "cell_type": "code",
   "execution_count": 78,
   "id": "cbbed1fc",
   "metadata": {
    "ExecuteTime": {
     "end_time": "2022-03-04T08:55:15.216933Z",
     "start_time": "2022-03-04T08:55:15.202971Z"
    }
   },
   "outputs": [
    {
     "name": "stdout",
     "output_type": "stream",
     "text": [
      "{1: 'Bye', (0, 1): 200, 'a': 'Hello', 0: 'a', (1, 2): 'b', 3: [1, 'd'], (4, 5): ('e', 'f', 'g', 'h')}\n"
     ]
    }
   ],
   "source": [
    "a[(0, 1)] += 100\n",
    "print(a)"
   ]
  },
  {
   "cell_type": "code",
   "execution_count": 79,
   "id": "a5ac782d",
   "metadata": {
    "ExecuteTime": {
     "end_time": "2022-03-04T08:55:15.231893Z",
     "start_time": "2022-03-04T08:55:15.217930Z"
    }
   },
   "outputs": [
    {
     "name": "stdout",
     "output_type": "stream",
     "text": [
      "{(0, 1): 200, 'a': 'Hello', 0: 'a', (1, 2): 'b', 3: [1, 'd'], (4, 5): ('e', 'f', 'g', 'h')}\n"
     ]
    }
   ],
   "source": [
    "del a[1]\n",
    "print(a)"
   ]
  },
  {
   "cell_type": "code",
   "execution_count": 80,
   "id": "4ebace48",
   "metadata": {
    "ExecuteTime": {
     "end_time": "2022-03-04T08:55:15.246853Z",
     "start_time": "2022-03-04T08:55:15.232890Z"
    }
   },
   "outputs": [
    {
     "name": "stdout",
     "output_type": "stream",
     "text": [
      "{}\n"
     ]
    }
   ],
   "source": [
    "a.clear()\n",
    "print(a)"
   ]
  },
  {
   "cell_type": "markdown",
   "id": "ac8a0fd9",
   "metadata": {},
   "source": [
    "#### function"
   ]
  },
  {
   "cell_type": "markdown",
   "id": "8c45521c",
   "metadata": {},
   "source": [
    "keys, values, items"
   ]
  },
  {
   "cell_type": "code",
   "execution_count": 81,
   "id": "e6d1281a",
   "metadata": {
    "ExecuteTime": {
     "end_time": "2022-03-04T08:55:15.261813Z",
     "start_time": "2022-03-04T08:55:15.247852Z"
    }
   },
   "outputs": [
    {
     "name": "stdout",
     "output_type": "stream",
     "text": [
      "dict_keys(['name', 'HP', 'age']) <class 'dict_keys'>\n",
      "dict_values(['HyukJu Kim', '010-1234-1234', 26]) <class 'dict_values'>\n",
      "dict_items([('name', 'HyukJu Kim'), ('HP', '010-1234-1234'), ('age', 26)]) <class 'dict_items'>\n"
     ]
    }
   ],
   "source": [
    "a = {'name': 'HyukJu Kim', 'HP': '010-1234-1234', 'age': 26}\n",
    "key_list = a.keys()\n",
    "value_list = a.values()\n",
    "item_list = a.items()\n",
    "print(key_list, type(key_list))\n",
    "print(value_list, type(value_list))\n",
    "print(item_list, type(item_list))"
   ]
  },
  {
   "cell_type": "code",
   "execution_count": 82,
   "id": "ddd67573",
   "metadata": {
    "ExecuteTime": {
     "end_time": "2022-03-04T08:55:15.276773Z",
     "start_time": "2022-03-04T08:55:15.262810Z"
    }
   },
   "outputs": [
    {
     "name": "stdout",
     "output_type": "stream",
     "text": [
      "name\n",
      "HP\n",
      "age\n"
     ]
    }
   ],
   "source": [
    "for key in a.keys():\n",
    "    print(key)"
   ]
  },
  {
   "cell_type": "code",
   "execution_count": 83,
   "id": "a4864756",
   "metadata": {
    "ExecuteTime": {
     "end_time": "2022-03-04T08:55:15.291734Z",
     "start_time": "2022-03-04T08:55:15.277772Z"
    }
   },
   "outputs": [
    {
     "name": "stdout",
     "output_type": "stream",
     "text": [
      "False\n",
      "True\n",
      "True\n",
      "False\n",
      "False\n",
      "True\n"
     ]
    }
   ],
   "source": [
    "print('gender' in a)\n",
    "print('HP' in a)\n",
    "print('name' in a.keys())\n",
    "print(23 in a)\n",
    "print(23 in a.values())\n",
    "print('HyukJu Kim' in value_list)"
   ]
  },
  {
   "cell_type": "markdown",
   "id": "22f1c5ee",
   "metadata": {},
   "source": [
    "get"
   ]
  },
  {
   "cell_type": "code",
   "execution_count": 84,
   "id": "f7449b5a",
   "metadata": {
    "ExecuteTime": {
     "end_time": "2022-03-04T08:55:15.306693Z",
     "start_time": "2022-03-04T08:55:15.292731Z"
    }
   },
   "outputs": [
    {
     "name": "stdout",
     "output_type": "stream",
     "text": [
      "26\n"
     ]
    }
   ],
   "source": [
    "a = {'name': 'HyukJu Kim', 'HP': '010-1234-1234', 'age': 26}\n",
    "age = a.get('age')\n",
    "print(age)"
   ]
  },
  {
   "cell_type": "code",
   "execution_count": 85,
   "id": "cfa7dd50",
   "metadata": {
    "ExecuteTime": {
     "end_time": "2022-03-04T08:55:15.321653Z",
     "start_time": "2022-03-04T08:55:15.307691Z"
    }
   },
   "outputs": [
    {
     "name": "stdout",
     "output_type": "stream",
     "text": [
      "26\n"
     ]
    }
   ],
   "source": [
    "age = a['age']\n",
    "print(age)"
   ]
  },
  {
   "cell_type": "code",
   "execution_count": 86,
   "id": "70bda6da",
   "metadata": {
    "ExecuteTime": {
     "end_time": "2022-03-04T08:55:15.336613Z",
     "start_time": "2022-03-04T08:55:15.322651Z"
    }
   },
   "outputs": [
    {
     "name": "stdout",
     "output_type": "stream",
     "text": [
      "None\n"
     ]
    }
   ],
   "source": [
    "gender = a.get('gender')\n",
    "print(gender)"
   ]
  },
  {
   "cell_type": "code",
   "execution_count": 87,
   "id": "af5c9862",
   "metadata": {
    "ExecuteTime": {
     "end_time": "2022-03-04T08:55:15.351574Z",
     "start_time": "2022-03-04T08:55:15.337611Z"
    }
   },
   "outputs": [
    {
     "name": "stdout",
     "output_type": "stream",
     "text": [
      "default\n"
     ]
    }
   ],
   "source": [
    "gender = a.get('gender', 'default')\n",
    "print(gender)"
   ]
  },
  {
   "cell_type": "markdown",
   "id": "2a95190d",
   "metadata": {},
   "source": [
    "pop"
   ]
  },
  {
   "cell_type": "code",
   "execution_count": 88,
   "id": "c3312cee",
   "metadata": {
    "ExecuteTime": {
     "end_time": "2022-03-04T08:55:15.366533Z",
     "start_time": "2022-03-04T08:55:15.352571Z"
    }
   },
   "outputs": [
    {
     "name": "stdout",
     "output_type": "stream",
     "text": [
      "HyukJu Kim\n",
      "{'HP': '010-1234-1234', 'age': 26}\n"
     ]
    }
   ],
   "source": [
    "a = {'name': 'HyukJu Kim', 'HP': '010-1234-1234', 'age': 26}\n",
    "pop1 = a.pop('name') # 'a' dictionary의 'name' key 삭제\n",
    "print(pop1)\n",
    "print(a)"
   ]
  },
  {
   "cell_type": "code",
   "execution_count": 89,
   "id": "bbe3463f",
   "metadata": {
    "ExecuteTime": {
     "end_time": "2022-03-04T08:55:15.381493Z",
     "start_time": "2022-03-04T08:55:15.367532Z"
    }
   },
   "outputs": [
    {
     "name": "stdout",
     "output_type": "stream",
     "text": [
      "{'HP': '010-1234-1234', 'age': 26, 'name': 'HyukJu Kim'}\n"
     ]
    }
   ],
   "source": [
    "a['name'] = 'HyukJu Kim'\n",
    "print(a)"
   ]
  },
  {
   "cell_type": "code",
   "execution_count": 90,
   "id": "de37201d",
   "metadata": {
    "ExecuteTime": {
     "end_time": "2022-03-04T08:55:15.396453Z",
     "start_time": "2022-03-04T08:55:15.382490Z"
    }
   },
   "outputs": [
    {
     "name": "stdout",
     "output_type": "stream",
     "text": [
      "default\n"
     ]
    }
   ],
   "source": [
    "pop2 = a.pop('gender', 'default')\n",
    "print(pop2)"
   ]
  },
  {
   "cell_type": "markdown",
   "id": "d451df94",
   "metadata": {
    "ExecuteTime": {
     "end_time": "2022-03-04T05:17:04.556445Z",
     "start_time": "2022-03-04T05:17:04.546472Z"
    }
   },
   "source": [
    "### Set"
   ]
  },
  {
   "cell_type": "markdown",
   "id": "c459ff49",
   "metadata": {},
   "source": [
    "순서가 없어 indexing, slicing 불가능"
   ]
  },
  {
   "cell_type": "markdown",
   "id": "973cdd8a",
   "metadata": {
    "ExecuteTime": {
     "end_time": "2022-03-04T05:17:04.781174Z",
     "start_time": "2022-03-04T05:17:04.766213Z"
    }
   },
   "source": [
    "#### set"
   ]
  },
  {
   "cell_type": "code",
   "execution_count": 91,
   "id": "d2c41866",
   "metadata": {
    "ExecuteTime": {
     "end_time": "2022-03-04T08:55:15.411413Z",
     "start_time": "2022-03-04T08:55:15.397451Z"
    }
   },
   "outputs": [
    {
     "name": "stdout",
     "output_type": "stream",
     "text": [
      "{'c', 'b', 'a'}\n"
     ]
    }
   ],
   "source": [
    "a = set(['a', 'b', 'c'])\n",
    "print(a)"
   ]
  },
  {
   "cell_type": "code",
   "execution_count": 92,
   "id": "0c512f59",
   "metadata": {
    "ExecuteTime": {
     "end_time": "2022-03-04T08:55:15.426373Z",
     "start_time": "2022-03-04T08:55:15.412410Z"
    }
   },
   "outputs": [
    {
     "name": "stdout",
     "output_type": "stream",
     "text": [
      "{'M', 'n', 'G', 'g', ' ', 'd', 'o', 'r', 'i'}\n"
     ]
    }
   ],
   "source": [
    "a = set('Good Morning')\n",
    "print(a)"
   ]
  },
  {
   "cell_type": "code",
   "execution_count": 93,
   "id": "92bddfa0",
   "metadata": {
    "ExecuteTime": {
     "end_time": "2022-03-04T08:55:15.441333Z",
     "start_time": "2022-03-04T08:55:15.427371Z"
    }
   },
   "outputs": [
    {
     "name": "stdout",
     "output_type": "stream",
     "text": [
      "set()\n"
     ]
    }
   ],
   "source": [
    "a.clear()\n",
    "print(a)"
   ]
  },
  {
   "cell_type": "markdown",
   "id": "6251d938",
   "metadata": {},
   "source": [
    "#### union, intersection, difference"
   ]
  },
  {
   "cell_type": "code",
   "execution_count": 94,
   "id": "06d7b32c",
   "metadata": {
    "ExecuteTime": {
     "end_time": "2022-03-04T08:55:15.456293Z",
     "start_time": "2022-03-04T08:55:15.442331Z"
    }
   },
   "outputs": [],
   "source": [
    "a1 = set([1, 2, 3, 4, 5, 6, 7])\n",
    "a2 = set([3, 5, 6, 8, 9])"
   ]
  },
  {
   "cell_type": "code",
   "execution_count": 95,
   "id": "a5ca35fa",
   "metadata": {
    "ExecuteTime": {
     "end_time": "2022-03-04T08:55:15.471253Z",
     "start_time": "2022-03-04T08:55:15.457312Z"
    }
   },
   "outputs": [
    {
     "name": "stdout",
     "output_type": "stream",
     "text": [
      "{1, 2, 3, 4, 5, 6, 7, 8, 9}\n",
      "{1, 2, 3, 4, 5, 6, 7, 8, 9}\n"
     ]
    }
   ],
   "source": [
    "print(a1 | a2)\n",
    "print(a1.union(a2))"
   ]
  },
  {
   "cell_type": "code",
   "execution_count": 96,
   "id": "0ec70743",
   "metadata": {
    "ExecuteTime": {
     "end_time": "2022-03-04T08:55:15.486213Z",
     "start_time": "2022-03-04T08:55:15.472252Z"
    }
   },
   "outputs": [
    {
     "name": "stdout",
     "output_type": "stream",
     "text": [
      "{3, 5, 6}\n",
      "{3, 5, 6}\n"
     ]
    }
   ],
   "source": [
    "print(a1 & a2)\n",
    "print(a1.intersection(a2))"
   ]
  },
  {
   "cell_type": "code",
   "execution_count": 97,
   "id": "08ab9dd7",
   "metadata": {
    "ExecuteTime": {
     "end_time": "2022-03-04T08:55:15.501201Z",
     "start_time": "2022-03-04T08:55:15.487210Z"
    }
   },
   "outputs": [
    {
     "name": "stdout",
     "output_type": "stream",
     "text": [
      "{1, 2, 4, 7}\n",
      "{1, 2, 4, 7}\n",
      "{8, 9}\n",
      "{8, 9}\n"
     ]
    }
   ],
   "source": [
    "print(a1 - a2)\n",
    "print(a1.difference(a2))\n",
    "print(a2 - a1)\n",
    "print(a2.difference(a1))"
   ]
  },
  {
   "cell_type": "markdown",
   "id": "9e765fb3",
   "metadata": {},
   "source": [
    "#### A ∪ B - A ∩ B"
   ]
  },
  {
   "cell_type": "code",
   "execution_count": 98,
   "id": "27f13331",
   "metadata": {
    "ExecuteTime": {
     "end_time": "2022-03-04T08:55:15.516133Z",
     "start_time": "2022-03-04T08:55:15.502170Z"
    }
   },
   "outputs": [
    {
     "name": "stdout",
     "output_type": "stream",
     "text": [
      "{'M', 'N', 'n', 't', 'r', 'h'}\n"
     ]
    }
   ],
   "source": [
    "a1 = set('Good Morning')\n",
    "a2 = set('Good Night')\n",
    "print(a1 ^ a2)"
   ]
  },
  {
   "cell_type": "code",
   "execution_count": 99,
   "id": "c75b5509",
   "metadata": {
    "ExecuteTime": {
     "end_time": "2022-03-04T08:55:15.531093Z",
     "start_time": "2022-03-04T08:55:15.517131Z"
    }
   },
   "outputs": [
    {
     "name": "stdout",
     "output_type": "stream",
     "text": [
      "{'M', 'N', 'n', 't', 'r', 'h'}\n"
     ]
    }
   ],
   "source": [
    "union = a1 | a2\n",
    "inter = a1 & a2\n",
    "print(union - inter)"
   ]
  },
  {
   "cell_type": "markdown",
   "id": "1b8d87fe",
   "metadata": {},
   "source": [
    "#### add"
   ]
  },
  {
   "cell_type": "code",
   "execution_count": 100,
   "id": "cbc928ab",
   "metadata": {
    "ExecuteTime": {
     "end_time": "2022-03-04T08:55:15.546053Z",
     "start_time": "2022-03-04T08:55:15.532091Z"
    }
   },
   "outputs": [
    {
     "name": "stdout",
     "output_type": "stream",
     "text": [
      "{1, 2, 3, 100}\n"
     ]
    }
   ],
   "source": [
    "a = set([1, 2, 3])\n",
    "a.add(100) # add 함수는 값을 한 개만 추가 가능\n",
    "print(a)"
   ]
  },
  {
   "cell_type": "markdown",
   "id": "032322e1",
   "metadata": {},
   "source": [
    "#### update"
   ]
  },
  {
   "cell_type": "code",
   "execution_count": 101,
   "id": "8baa5ee8",
   "metadata": {
    "ExecuteTime": {
     "end_time": "2022-03-04T08:55:15.561012Z",
     "start_time": "2022-03-04T08:55:15.547051Z"
    }
   },
   "outputs": [
    {
     "name": "stdout",
     "output_type": "stream",
     "text": [
      "{1, 2, 3, 100, 1000, 10}\n"
     ]
    }
   ],
   "source": [
    "a.update([10, 100, 1000]) # update 함수는 값을 여러 개 추가 가능\n",
    "print(a)"
   ]
  },
  {
   "cell_type": "markdown",
   "id": "f1e0d115",
   "metadata": {},
   "source": [
    "#### remove"
   ]
  },
  {
   "cell_type": "code",
   "execution_count": 102,
   "id": "d12d0e56",
   "metadata": {
    "ExecuteTime": {
     "end_time": "2022-03-04T08:55:15.576001Z",
     "start_time": "2022-03-04T08:55:15.562012Z"
    }
   },
   "outputs": [
    {
     "name": "stdout",
     "output_type": "stream",
     "text": [
      "['b', 'c', 'd']\n"
     ]
    }
   ],
   "source": [
    "a = ['a', 'b', 'c', 'd']\n",
    "a.remove('a') # set 안에 값이 없다면 에러 발생\n",
    "print(a)"
   ]
  }
 ],
 "metadata": {
  "kernelspec": {
   "display_name": "Python 3",
   "language": "python",
   "name": "python3"
  },
  "language_info": {
   "codemirror_mode": {
    "name": "ipython",
    "version": 3
   },
   "file_extension": ".py",
   "mimetype": "text/x-python",
   "name": "python",
   "nbconvert_exporter": "python",
   "pygments_lexer": "ipython3",
   "version": "3.8.8"
  },
  "toc": {
   "base_numbering": 1,
   "nav_menu": {},
   "number_sections": true,
   "sideBar": true,
   "skip_h1_title": true,
   "title_cell": "Table of Contents",
   "title_sidebar": "Contents",
   "toc_cell": false,
   "toc_position": {
    "height": "calc(100% - 180px)",
    "left": "10px",
    "top": "150px",
    "width": "216.009px"
   },
   "toc_section_display": true,
   "toc_window_display": true
  },
  "varInspector": {
   "cols": {
    "lenName": 16,
    "lenType": 16,
    "lenVar": 40
   },
   "kernels_config": {
    "python": {
     "delete_cmd_postfix": "",
     "delete_cmd_prefix": "del ",
     "library": "var_list.py",
     "varRefreshCmd": "print(var_dic_list())"
    },
    "r": {
     "delete_cmd_postfix": ") ",
     "delete_cmd_prefix": "rm(",
     "library": "var_list.r",
     "varRefreshCmd": "cat(var_dic_list()) "
    }
   },
   "types_to_exclude": [
    "module",
    "function",
    "builtin_function_or_method",
    "instance",
    "_Feature"
   ],
   "window_display": false
  }
 },
 "nbformat": 4,
 "nbformat_minor": 5
}
