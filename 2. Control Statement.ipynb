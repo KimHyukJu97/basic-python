{
 "cells": [
  {
   "cell_type": "markdown",
   "id": "ce75d1d9",
   "metadata": {},
   "source": [
    "# Chapter 02 Control Statement"
   ]
  },
  {
   "cell_type": "markdown",
   "id": "36165fb3",
   "metadata": {
    "ExecuteTime": {
     "end_time": "2022-03-04T09:01:41.644071Z",
     "start_time": "2022-03-04T09:01:41.635095Z"
    }
   },
   "source": [
    "## Basic Operator"
   ]
  },
  {
   "cell_type": "markdown",
   "id": "e2326853",
   "metadata": {
    "ExecuteTime": {
     "end_time": "2022-03-04T09:01:44.165230Z",
     "start_time": "2022-03-04T09:01:44.148276Z"
    }
   },
   "source": [
    "### comparison operator"
   ]
  },
  {
   "cell_type": "code",
   "execution_count": 1,
   "id": "a1c105f1",
   "metadata": {
    "ExecuteTime": {
     "end_time": "2022-03-04T10:26:15.390922Z",
     "start_time": "2022-03-04T10:26:15.383968Z"
    }
   },
   "outputs": [],
   "source": [
    "x = 100\n",
    "y = 1000\n",
    "z = 100"
   ]
  },
  {
   "cell_type": "code",
   "execution_count": 2,
   "id": "44353647",
   "metadata": {
    "ExecuteTime": {
     "end_time": "2022-03-04T10:26:15.405882Z",
     "start_time": "2022-03-04T10:26:15.391919Z"
    }
   },
   "outputs": [
    {
     "name": "stdout",
     "output_type": "stream",
     "text": [
      "False\n",
      "True\n",
      "True\n",
      "True\n",
      "False\n",
      "True\n",
      "True\n",
      "False\n"
     ]
    }
   ],
   "source": [
    "print(x > y)\n",
    "print(x < y)\n",
    "print(x >= z)\n",
    "print(x <= z)\n",
    "print(x == y)\n",
    "print(x == z)\n",
    "print(x != y)\n",
    "print(x != z)"
   ]
  },
  {
   "cell_type": "markdown",
   "id": "7aed5ac7",
   "metadata": {},
   "source": [
    "### in"
   ]
  },
  {
   "cell_type": "markdown",
   "id": "c4028dd2",
   "metadata": {},
   "source": [
    "string"
   ]
  },
  {
   "cell_type": "code",
   "execution_count": 3,
   "id": "956fd841",
   "metadata": {
    "ExecuteTime": {
     "end_time": "2022-03-04T10:26:15.420842Z",
     "start_time": "2022-03-04T10:26:15.406879Z"
    }
   },
   "outputs": [
    {
     "name": "stdout",
     "output_type": "stream",
     "text": [
      "True\n",
      "False\n",
      "False\n"
     ]
    }
   ],
   "source": [
    "s = 'abcd'\n",
    "print('a' in s)\n",
    "print('bc' not in s)\n",
    "print('ac' in s)"
   ]
  },
  {
   "cell_type": "markdown",
   "id": "3e2bb412",
   "metadata": {},
   "source": [
    "list"
   ]
  },
  {
   "cell_type": "code",
   "execution_count": 4,
   "id": "22ba4da0",
   "metadata": {
    "ExecuteTime": {
     "end_time": "2022-03-04T10:26:15.435802Z",
     "start_time": "2022-03-04T10:26:15.421841Z"
    }
   },
   "outputs": [
    {
     "name": "stdout",
     "output_type": "stream",
     "text": [
      "True\n",
      "False\n",
      "False\n"
     ]
    }
   ],
   "source": [
    "li = ['a', 'b', 'cc']\n",
    "print('a' in li)\n",
    "print('b' not in li)\n",
    "print('c' in li)"
   ]
  },
  {
   "cell_type": "markdown",
   "id": "8b42750a",
   "metadata": {},
   "source": [
    "tuple"
   ]
  },
  {
   "cell_type": "code",
   "execution_count": 5,
   "id": "309876fd",
   "metadata": {
    "ExecuteTime": {
     "end_time": "2022-03-04T10:26:15.450763Z",
     "start_time": "2022-03-04T10:26:15.436800Z"
    }
   },
   "outputs": [
    {
     "name": "stdout",
     "output_type": "stream",
     "text": [
      "True\n",
      "False\n",
      "False\n"
     ]
    }
   ],
   "source": [
    "tup = ('a', 'b', 'cc')\n",
    "print('a' in tup)\n",
    "print('b' not in tup)\n",
    "print('c' in tup)"
   ]
  },
  {
   "cell_type": "markdown",
   "id": "24ebec7e",
   "metadata": {},
   "source": [
    "dictionary"
   ]
  },
  {
   "cell_type": "code",
   "execution_count": 6,
   "id": "a2cae385",
   "metadata": {
    "ExecuteTime": {
     "end_time": "2022-03-04T10:26:15.465721Z",
     "start_time": "2022-03-04T10:26:15.451759Z"
    }
   },
   "outputs": [
    {
     "name": "stdout",
     "output_type": "stream",
     "text": [
      "True\n",
      "False\n",
      "True\n"
     ]
    }
   ],
   "source": [
    "dic = {1: 'a', 2: 'b'}\n",
    "print(1 in dic)\n",
    "print('a' in dic)\n",
    "print('b' not in dic)"
   ]
  },
  {
   "cell_type": "markdown",
   "id": "1721aaeb",
   "metadata": {},
   "source": [
    "## if"
   ]
  },
  {
   "cell_type": "markdown",
   "id": "2b595d0a",
   "metadata": {},
   "source": [
    "### structure"
   ]
  },
  {
   "cell_type": "markdown",
   "id": "673e58ce",
   "metadata": {},
   "source": [
    "if <조건문>:  \n",
    "\n",
    "    <실행할 명령문 1>  \n",
    "    <실행할 명령문 2>  \n",
    "    ......  \n",
    "    \n",
    "else:  \n",
    "\n",
    "    <실행할 명령문 1>  \n",
    "    <실행할 명령문 2>  \n",
    "    ......  "
   ]
  },
  {
   "cell_type": "markdown",
   "id": "5c178519",
   "metadata": {
    "ExecuteTime": {
     "end_time": "2022-03-04T09:35:15.418383Z",
     "start_time": "2022-03-04T09:35:15.408409Z"
    }
   },
   "source": [
    "### example"
   ]
  },
  {
   "cell_type": "code",
   "execution_count": 7,
   "id": "767a070d",
   "metadata": {
    "ExecuteTime": {
     "end_time": "2022-03-04T10:26:15.480681Z",
     "start_time": "2022-03-04T10:26:15.466719Z"
    }
   },
   "outputs": [
    {
     "name": "stdout",
     "output_type": "stream",
     "text": [
      "10\n"
     ]
    }
   ],
   "source": [
    "a = 10\n",
    "b = 21\n",
    "if (a + b) % 3 == 0:\n",
    "    print(a + b)\n",
    "else:\n",
    "    print((a + b) // 3)"
   ]
  },
  {
   "cell_type": "markdown",
   "id": "76d67c3d",
   "metadata": {
    "ExecuteTime": {
     "end_time": "2022-03-04T09:37:20.087519Z",
     "start_time": "2022-03-04T09:37:20.075551Z"
    }
   },
   "source": [
    "### multiple if & elif"
   ]
  },
  {
   "cell_type": "code",
   "execution_count": 8,
   "id": "f7249ec5",
   "metadata": {
    "ExecuteTime": {
     "end_time": "2022-03-04T10:26:15.495642Z",
     "start_time": "2022-03-04T10:26:15.482676Z"
    }
   },
   "outputs": [],
   "source": [
    "a = ['a', 'b']\n",
    "flag = 0"
   ]
  },
  {
   "cell_type": "code",
   "execution_count": 9,
   "id": "e342e6bf",
   "metadata": {
    "ExecuteTime": {
     "end_time": "2022-03-04T10:26:15.510602Z",
     "start_time": "2022-03-04T10:26:15.496640Z"
    }
   },
   "outputs": [
    {
     "name": "stdout",
     "output_type": "stream",
     "text": [
      "I don't have a\n"
     ]
    }
   ],
   "source": [
    "if 'c' in a:\n",
    "    print('I have a')\n",
    "else:\n",
    "    if flag:\n",
    "        print('I have a')\n",
    "    else:\n",
    "        print('I don\\'t have a')\n",
    "        "
   ]
  },
  {
   "cell_type": "code",
   "execution_count": 10,
   "id": "05158e6c",
   "metadata": {
    "ExecuteTime": {
     "end_time": "2022-03-04T10:26:15.525561Z",
     "start_time": "2022-03-04T10:26:15.511600Z"
    }
   },
   "outputs": [
    {
     "name": "stdout",
     "output_type": "stream",
     "text": [
      "I don't have a\n"
     ]
    }
   ],
   "source": [
    "if 'c' in a:\n",
    "    print('I have a')\n",
    "elif flag:\n",
    "    print('I have a')\n",
    "else:\n",
    "    print('I don\\'t have a')"
   ]
  },
  {
   "cell_type": "markdown",
   "id": "213aaf71",
   "metadata": {},
   "source": [
    "### pass"
   ]
  },
  {
   "cell_type": "code",
   "execution_count": 11,
   "id": "c19e36cb",
   "metadata": {
    "ExecuteTime": {
     "end_time": "2022-03-04T10:26:15.540522Z",
     "start_time": "2022-03-04T10:26:15.526560Z"
    }
   },
   "outputs": [],
   "source": [
    "a = ['a', 'b', 'c']\n",
    "if 'a' in a:\n",
    "    pass\n",
    "else:\n",
    "    print('I don\\'t have a')"
   ]
  },
  {
   "cell_type": "markdown",
   "id": "1276ad74",
   "metadata": {},
   "source": [
    "## while"
   ]
  },
  {
   "cell_type": "markdown",
   "id": "70be6064",
   "metadata": {},
   "source": [
    "### structure"
   ]
  },
  {
   "cell_type": "markdown",
   "id": "7fb78390",
   "metadata": {},
   "source": [
    "while <조건문>:  \n",
    "\n",
    "    <실행할 명령문 1>  \n",
    "    <실행할 명령문 2>  \n",
    "    <실행할 명령문 3>  \n",
    "    ......  "
   ]
  },
  {
   "cell_type": "markdown",
   "id": "99516372",
   "metadata": {},
   "source": [
    "### example"
   ]
  },
  {
   "cell_type": "code",
   "execution_count": 12,
   "id": "c1f8ef9f",
   "metadata": {
    "ExecuteTime": {
     "end_time": "2022-03-04T10:26:15.555481Z",
     "start_time": "2022-03-04T10:26:15.541518Z"
    }
   },
   "outputs": [
    {
     "name": "stdout",
     "output_type": "stream",
     "text": [
      "a is 1\n",
      "a is 2\n",
      "a is 3\n",
      "a is 4\n",
      "a is 5\n",
      "a is 6\n",
      "a is 7\n",
      "a is 8\n",
      "a is 9\n",
      "a is 10\n",
      "Quit!\n"
     ]
    }
   ],
   "source": [
    "a = 0\n",
    "while a < 10:\n",
    "    a = a + 1\n",
    "    print('a is %d' % a)\n",
    "    if a == 10:\n",
    "        print('Quit!')"
   ]
  },
  {
   "cell_type": "markdown",
   "id": "3c5fbae6",
   "metadata": {},
   "source": [
    "### break"
   ]
  },
  {
   "cell_type": "code",
   "execution_count": 13,
   "id": "af495b96",
   "metadata": {
    "ExecuteTime": {
     "end_time": "2022-03-04T10:26:15.570441Z",
     "start_time": "2022-03-04T10:26:15.556478Z"
    }
   },
   "outputs": [
    {
     "name": "stdout",
     "output_type": "stream",
     "text": [
      "Now, n is 9\n",
      "Now, n is 8\n",
      "Now, n is 7\n",
      "Now, n is 6\n",
      "Now, n is 5\n",
      "Now, n is 4\n",
      "Now, n is 3\n",
      "Now, n is 2\n",
      "Now, n is 1\n",
      "Now, n is 0\n",
      "n is 0\n"
     ]
    }
   ],
   "source": [
    "m = 100\n",
    "n = 10\n",
    "while m:\n",
    "    n = n - 1\n",
    "    print('Now, n is %d' % n)\n",
    "    if not n:\n",
    "        print('n is 0')\n",
    "        break"
   ]
  },
  {
   "cell_type": "markdown",
   "id": "c469f533",
   "metadata": {},
   "source": [
    "### continue"
   ]
  },
  {
   "cell_type": "code",
   "execution_count": 14,
   "id": "abaf8dd0",
   "metadata": {
    "ExecuteTime": {
     "end_time": "2022-03-04T10:26:15.585401Z",
     "start_time": "2022-03-04T10:26:15.571439Z"
    }
   },
   "outputs": [
    {
     "name": "stdout",
     "output_type": "stream",
     "text": [
      "2\n",
      "4\n",
      "6\n",
      "8\n",
      "10\n"
     ]
    }
   ],
   "source": [
    "i = 0\n",
    "while i < 10:\n",
    "    i = i + 1\n",
    "    if i % 2 == 1:\n",
    "        continue\n",
    "    print(i)"
   ]
  },
  {
   "cell_type": "markdown",
   "id": "08498268",
   "metadata": {},
   "source": [
    "## for"
   ]
  },
  {
   "cell_type": "markdown",
   "id": "5f9f8c2e",
   "metadata": {},
   "source": [
    "### structure"
   ]
  },
  {
   "cell_type": "markdown",
   "id": "9ca2be14",
   "metadata": {},
   "source": [
    "for 변수 in (문자, 튜플, 리스트(dic.keys, dic.values, dic.items), 집합(looper 순서는 알 수 없음)):  \n",
    "\n",
    "    <실행할 명령문 1>  \n",
    "    <실행할 명령문 2>  \n",
    "    <실행할 명령문 3>  \n",
    "    ......"
   ]
  },
  {
   "cell_type": "markdown",
   "id": "54d02abd",
   "metadata": {},
   "source": [
    "### example"
   ]
  },
  {
   "cell_type": "code",
   "execution_count": 15,
   "id": "de511981",
   "metadata": {
    "ExecuteTime": {
     "end_time": "2022-03-04T10:26:15.600361Z",
     "start_time": "2022-03-04T10:26:15.586400Z"
    }
   },
   "outputs": [
    {
     "name": "stdout",
     "output_type": "stream",
     "text": [
      "a\n",
      "b\n",
      "c\n"
     ]
    }
   ],
   "source": [
    "li = ['a', 'b', 'c']\n",
    "for i in li:\n",
    "    print(i)"
   ]
  },
  {
   "cell_type": "code",
   "execution_count": 16,
   "id": "0e2ff9c6",
   "metadata": {
    "ExecuteTime": {
     "end_time": "2022-03-04T10:26:15.615322Z",
     "start_time": "2022-03-04T10:26:15.601359Z"
    }
   },
   "outputs": [
    {
     "name": "stdout",
     "output_type": "stream",
     "text": [
      "1 sutdent has 90 score, is pass score!\n",
      "2 sutdent has 50 score, is not pass score...\n",
      "3 sutdent has 60 score, is pass score!\n",
      "4 sutdent has 40 score, is not pass score...\n",
      "5 sutdent has 80 score, is pass score!\n"
     ]
    }
   ],
   "source": [
    "score = [90, 50, 60, 40, 80]\n",
    "number = 0\n",
    "for i in score:\n",
    "    number = number + 1\n",
    "    if i >= 60:\n",
    "        print(\"%d sutdent has %d score, is pass score!\" % (number, i))\n",
    "    else:\n",
    "        print(\"%d sutdent has %d score, is not pass score...\" % (number, i))"
   ]
  },
  {
   "cell_type": "markdown",
   "id": "97db587f",
   "metadata": {},
   "source": [
    "### multi variables"
   ]
  },
  {
   "cell_type": "code",
   "execution_count": 17,
   "id": "5103dcdb",
   "metadata": {
    "ExecuteTime": {
     "end_time": "2022-03-04T10:26:15.630282Z",
     "start_time": "2022-03-04T10:26:15.616319Z"
    }
   },
   "outputs": [
    {
     "name": "stdout",
     "output_type": "stream",
     "text": [
      "ab\n",
      "cd\n",
      "ef\n"
     ]
    }
   ],
   "source": [
    "li = [('a', 'b'), ('c', 'd'), ('e', 'f')]\n",
    "for (i, j) in li:\n",
    "    print(i + j)"
   ]
  },
  {
   "cell_type": "code",
   "execution_count": 18,
   "id": "1ce04728",
   "metadata": {
    "ExecuteTime": {
     "end_time": "2022-03-04T10:26:15.645241Z",
     "start_time": "2022-03-04T10:26:15.631279Z"
    }
   },
   "outputs": [
    {
     "name": "stdout",
     "output_type": "stream",
     "text": [
      "6\n",
      "120\n",
      "504\n"
     ]
    }
   ],
   "source": [
    "li = [(1, 2, 3), (4, 5, 6), (7, 8, 9)]\n",
    "for (i, j, k) in li:\n",
    "    print(i * j * k)"
   ]
  },
  {
   "cell_type": "code",
   "execution_count": 19,
   "id": "ac4c6fc4",
   "metadata": {
    "ExecuteTime": {
     "end_time": "2022-03-04T10:26:15.660202Z",
     "start_time": "2022-03-04T10:26:15.646240Z"
    }
   },
   "outputs": [
    {
     "name": "stdout",
     "output_type": "stream",
     "text": [
      "dict_items([('a', 1), ('b', 2), ('c', 3), ('d', 4)])\n"
     ]
    }
   ],
   "source": [
    "dic = {'a': 1, 'b': 2, 'c': 3, 'd': 4}\n",
    "print(dic.items())"
   ]
  },
  {
   "cell_type": "code",
   "execution_count": 20,
   "id": "d23c48f5",
   "metadata": {
    "ExecuteTime": {
     "end_time": "2022-03-04T10:26:15.675162Z",
     "start_time": "2022-03-04T10:26:15.661201Z"
    }
   },
   "outputs": [
    {
     "name": "stdout",
     "output_type": "stream",
     "text": [
      "{'a': 1, 'b': 2, 'c': 3, 'd': 4}\n"
     ]
    }
   ],
   "source": [
    "dic_copy = {}\n",
    "for (i, j) in dic.items():\n",
    "    dic_copy[i] = j\n",
    "print(dic_copy)"
   ]
  },
  {
   "cell_type": "markdown",
   "id": "557bded1",
   "metadata": {},
   "source": [
    "### range"
   ]
  },
  {
   "cell_type": "code",
   "execution_count": 21,
   "id": "aa803dba",
   "metadata": {
    "ExecuteTime": {
     "end_time": "2022-03-04T10:26:15.690122Z",
     "start_time": "2022-03-04T10:26:15.676160Z"
    }
   },
   "outputs": [
    {
     "name": "stdout",
     "output_type": "stream",
     "text": [
      "1\n",
      "2\n",
      "3\n",
      "4\n"
     ]
    }
   ],
   "source": [
    "for i in range(1, 5):\n",
    "    print(i)    "
   ]
  },
  {
   "cell_type": "code",
   "execution_count": 22,
   "id": "a7f2b67d",
   "metadata": {
    "ExecuteTime": {
     "end_time": "2022-03-04T10:26:15.705082Z",
     "start_time": "2022-03-04T10:26:15.691118Z"
    }
   },
   "outputs": [
    {
     "name": "stdout",
     "output_type": "stream",
     "text": [
      "1\n",
      "3\n",
      "5\n"
     ]
    }
   ],
   "source": [
    "for i in range(1, 6, 2):\n",
    "    print(i)"
   ]
  },
  {
   "cell_type": "code",
   "execution_count": 23,
   "id": "10cbdb4c",
   "metadata": {
    "ExecuteTime": {
     "end_time": "2022-03-04T10:26:15.720041Z",
     "start_time": "2022-03-04T10:26:15.708074Z"
    }
   },
   "outputs": [
    {
     "name": "stdout",
     "output_type": "stream",
     "text": [
      "10\n",
      "8\n",
      "6\n",
      "4\n",
      "2\n"
     ]
    }
   ],
   "source": [
    "for i in range(10, 1, -2):\n",
    "    print(i)"
   ]
  },
  {
   "cell_type": "code",
   "execution_count": 24,
   "id": "0619f6fd",
   "metadata": {
    "ExecuteTime": {
     "end_time": "2022-03-04T10:26:15.735003Z",
     "start_time": "2022-03-04T10:26:15.722037Z"
    }
   },
   "outputs": [
    {
     "name": "stdout",
     "output_type": "stream",
     "text": [
      "2 * 1 = 22 * 2 = 42 * 3 = 62 * 4 = 82 * 5 = 102 * 6 = 122 * 7 = 142 * 8 = 162 * 9 = 18 \n",
      "3 * 1 = 33 * 2 = 63 * 3 = 93 * 4 = 123 * 5 = 153 * 6 = 183 * 7 = 213 * 8 = 243 * 9 = 27 \n",
      "4 * 1 = 44 * 2 = 84 * 3 = 124 * 4 = 164 * 5 = 204 * 6 = 244 * 7 = 284 * 8 = 324 * 9 = 36 \n",
      "5 * 1 = 55 * 2 = 105 * 3 = 155 * 4 = 205 * 5 = 255 * 6 = 305 * 7 = 355 * 8 = 405 * 9 = 45 \n",
      "6 * 1 = 66 * 2 = 126 * 3 = 186 * 4 = 246 * 5 = 306 * 6 = 366 * 7 = 426 * 8 = 486 * 9 = 54 \n",
      "7 * 1 = 77 * 2 = 147 * 3 = 217 * 4 = 287 * 5 = 357 * 6 = 427 * 7 = 497 * 8 = 567 * 9 = 63 \n",
      "8 * 1 = 88 * 2 = 168 * 3 = 248 * 4 = 328 * 5 = 408 * 6 = 488 * 7 = 568 * 8 = 648 * 9 = 72 \n",
      "9 * 1 = 99 * 2 = 189 * 3 = 279 * 4 = 369 * 5 = 459 * 6 = 549 * 7 = 639 * 8 = 729 * 9 = 81 \n"
     ]
    }
   ],
   "source": [
    "for i in range(2, 10):\n",
    "    for j in range(1, 10):\n",
    "        print(\"%d * %d = %d\" % (i, j, i * j), end = '')\n",
    "    print(\" \")"
   ]
  },
  {
   "cell_type": "markdown",
   "id": "fc4a4844",
   "metadata": {},
   "source": [
    "### list comprehension"
   ]
  },
  {
   "cell_type": "code",
   "execution_count": 25,
   "id": "65eba8b1",
   "metadata": {
    "ExecuteTime": {
     "end_time": "2022-03-04T10:26:15.749961Z",
     "start_time": "2022-03-04T10:26:15.736000Z"
    }
   },
   "outputs": [
    {
     "name": "stdout",
     "output_type": "stream",
     "text": [
      "[10, 20, 30, 40]\n"
     ]
    }
   ],
   "source": [
    "list99 = [1, 2, 3, 4, 5, 6, 7, 8, 9]\n",
    "dan5 = [i * 5 for i in list99 if i % 2 == 0]\n",
    "print(dan5)"
   ]
  },
  {
   "cell_type": "code",
   "execution_count": 26,
   "id": "82e01413",
   "metadata": {
    "ExecuteTime": {
     "end_time": "2022-03-04T10:26:15.764921Z",
     "start_time": "2022-03-04T10:26:15.750960Z"
    }
   },
   "outputs": [
    {
     "name": "stdout",
     "output_type": "stream",
     "text": [
      "[2, 4, 6, 8, 10, 12, 14, 16, 18, 3, 6, 9, 12, 15, 18, 21, 24, 27, 4, 8, 12, 16, 20, 24, 28, 32, 36, 5, 10, 15, 20, 25, 30, 35, 40, 45, 6, 12, 18, 24, 30, 36, 42, 48, 54, 7, 14, 21, 28, 35, 42, 49, 56, 63, 8, 16, 24, 32, 40, 48, 56, 64, 72, 9, 18, 27, 36, 45, 54, 63, 72, 81]\n"
     ]
    }
   ],
   "source": [
    "gugudan = [i * j for i in range(2, 10) for j in range(1, 10)]\n",
    "print(gugudan)"
   ]
  },
  {
   "cell_type": "code",
   "execution_count": 27,
   "id": "9aad1253",
   "metadata": {
    "ExecuteTime": {
     "end_time": "2022-03-04T10:26:15.779881Z",
     "start_time": "2022-03-04T10:26:15.765920Z"
    }
   },
   "outputs": [
    {
     "name": "stdout",
     "output_type": "stream",
     "text": [
      "[{'a': 1}, {'b': 2}, {'c': 3}, {'d': 4}]\n"
     ]
    }
   ],
   "source": [
    "dic = {'a': 1, 'b': 2, 'c': 3, 'd': 4}\n",
    "dic_copy = {}\n",
    "dic_copy = [{i: j} for (i, j) in dic.items()]\n",
    "print(dic_copy)"
   ]
  }
 ],
 "metadata": {
  "kernelspec": {
   "display_name": "Python 3",
   "language": "python",
   "name": "python3"
  },
  "language_info": {
   "codemirror_mode": {
    "name": "ipython",
    "version": 3
   },
   "file_extension": ".py",
   "mimetype": "text/x-python",
   "name": "python",
   "nbconvert_exporter": "python",
   "pygments_lexer": "ipython3",
   "version": "3.8.8"
  },
  "toc": {
   "base_numbering": 1,
   "nav_menu": {},
   "number_sections": true,
   "sideBar": true,
   "skip_h1_title": true,
   "title_cell": "Table of Contents",
   "title_sidebar": "Contents",
   "toc_cell": false,
   "toc_position": {
    "height": "calc(100% - 180px)",
    "left": "10px",
    "top": "150px",
    "width": "212.997px"
   },
   "toc_section_display": true,
   "toc_window_display": true
  },
  "varInspector": {
   "cols": {
    "lenName": 16,
    "lenType": 16,
    "lenVar": 40
   },
   "kernels_config": {
    "python": {
     "delete_cmd_postfix": "",
     "delete_cmd_prefix": "del ",
     "library": "var_list.py",
     "varRefreshCmd": "print(var_dic_list())"
    },
    "r": {
     "delete_cmd_postfix": ") ",
     "delete_cmd_prefix": "rm(",
     "library": "var_list.r",
     "varRefreshCmd": "cat(var_dic_list()) "
    }
   },
   "types_to_exclude": [
    "module",
    "function",
    "builtin_function_or_method",
    "instance",
    "_Feature"
   ],
   "window_display": false
  }
 },
 "nbformat": 4,
 "nbformat_minor": 5
}
