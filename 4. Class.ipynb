{
 "cells": [
  {
   "cell_type": "markdown",
   "id": "0e7d0753",
   "metadata": {},
   "source": [
    "# Chapter 04 Class "
   ]
  },
  {
   "cell_type": "markdown",
   "id": "c5af15ef",
   "metadata": {},
   "source": [
    "## Class 용어"
   ]
  },
  {
   "cell_type": "markdown",
   "id": "e2a2b669",
   "metadata": {},
   "source": [
    "### 객체 지향 프로그래밍 (Object Oriented Programming)"
   ]
  },
  {
   "cell_type": "markdown",
   "id": "35e66942",
   "metadata": {},
   "source": [
    "- 함수들을 묶어 단일 프로그램을 객체라고 하는 코드에 넣어 재사용 가능하게 한 프로그래밍 기법\n",
    "    - 함수: 미리 어떤 기능을 코드로 묶어서 필요할 때마다 호출하여 사용\n",
    "- 클래스는 속성(멤버변수: attribute)과 행위(method)를 가지도록 설계\n",
    "    - 객체(object)는 클래스에서 정의한 속성과 행위를 수행\n",
    "    - 소프트웨어 상에서 객체의 속성 또는 상태는 인스턴스로 표현\n",
    "    - 잘 설계된 클래스를 이용하여 객체를 생성\n",
    "    - method: 행위 혹은 동작"
   ]
  },
  {
   "cell_type": "markdown",
   "id": "72990ad4",
   "metadata": {},
   "source": [
    "### class"
   ]
  },
  {
   "cell_type": "markdown",
   "id": "860a99c0",
   "metadata": {
    "ExecuteTime": {
     "end_time": "2022-03-07T09:54:03.660842Z",
     "start_time": "2022-03-07T09:54:03.643920Z"
    }
   },
   "source": [
    "- 추상화된 현실의 개념을 구체적인 코드로 표현하기 위해 사용\n",
    "- 속성과 행위들을 모아 놓은 집합체로 객체의 설계도(혹은 템플릿)\n",
    "- ex) 강아지 클래스는 강아지의 형태"
   ]
  },
  {
   "cell_type": "markdown",
   "id": "c7dfd9e6",
   "metadata": {},
   "source": [
    "### instance"
   ]
  },
  {
   "cell_type": "markdown",
   "id": "c892a168",
   "metadata": {},
   "source": [
    "- 클래스로부터 만들어지는 각각의 '객체'를 그 클래스의 인스턴스라고 지칭\n",
    "- 서로 다른 인스턴스는 서로 다른 속성 값을 가질 수 있음\n",
    "- ex) 하얀색 말티즈인 아리라는 강아지는 강아지 클래스에 의해 생성된 인스턴스"
   ]
  },
  {
   "cell_type": "markdown",
   "id": "1912edae",
   "metadata": {},
   "source": [
    "### method"
   ]
  },
  {
   "cell_type": "markdown",
   "id": "0355d9b8",
   "metadata": {
    "ExecuteTime": {
     "end_time": "2022-03-07T09:54:40.289994Z",
     "start_time": "2022-03-07T09:54:40.287000Z"
    }
   },
   "source": [
    "- 클래스가 가진 `함수`로 클래스에 묶여서 인스턴스와 관계되는 일을 실행\n",
    "- `.` 연산을 이용하여 실행"
   ]
  },
  {
   "cell_type": "markdown",
   "id": "8ef7e136",
   "metadata": {},
   "source": [
    "### self"
   ]
  },
  {
   "cell_type": "markdown",
   "id": "48acd9cb",
   "metadata": {},
   "source": [
    "- 클래스의 인스턴스를 지칭하는 키워드\n",
    "- self를 통해 클래스의 메소드와 속성에 접근 가능\n",
    "- 모든 메소드의 첫 번째 매개변수는 자기 자신을 가리키는 self 변수\n",
    "- 이 메소드를 호출한 현재 객체를 의미"
   ]
  },
  {
   "cell_type": "markdown",
   "id": "653c8b35",
   "metadata": {},
   "source": [
    "### public interface"
   ]
  },
  {
   "cell_type": "markdown",
   "id": "b2016cc9",
   "metadata": {
    "ExecuteTime": {
     "end_time": "2022-03-07T09:56:06.194222Z",
     "start_time": "2022-03-07T09:56:06.184249Z"
    }
   },
   "source": [
    "- 리스트, 튜플, 딕셔러니, 집합도 클래스의 일부\n",
    "- 예를 들어, animal이라는 리스트에 `lion`, `tiger`, `cat` 등의 값이 존재\n",
    "- 객체(instance)는 aniaml\n",
    "- 행위(method)는 sort(), reverse(), append() 등등...\n",
    "- 요소는 `lion`, `tiger`, `cat` 등등..."
   ]
  },
  {
   "cell_type": "markdown",
   "id": "4b67f504",
   "metadata": {},
   "source": [
    "## Example"
   ]
  },
  {
   "cell_type": "markdown",
   "id": "4ddd9a7d",
   "metadata": {
    "ExecuteTime": {
     "end_time": "2022-03-07T10:21:05.074478Z",
     "start_time": "2022-03-07T10:21:05.068494Z"
    }
   },
   "source": [
    "### class 생성"
   ]
  },
  {
   "cell_type": "code",
   "execution_count": 1,
   "id": "d8de6f63",
   "metadata": {
    "ExecuteTime": {
     "end_time": "2022-03-07T10:42:43.114899Z",
     "start_time": "2022-03-07T10:42:43.104954Z"
    }
   },
   "outputs": [],
   "source": [
    "class Dog: # 통상적으로 대문자 영문으로 시작하고 '_' 없이 작문\n",
    "    def bow(self): # bow() 메소드 정의\n",
    "        print(\"멍~ 멍~\")"
   ]
  },
  {
   "cell_type": "code",
   "execution_count": 2,
   "id": "5b4eb039",
   "metadata": {
    "ExecuteTime": {
     "end_time": "2022-03-07T10:42:43.129859Z",
     "start_time": "2022-03-07T10:42:43.115898Z"
    },
    "scrolled": false
   },
   "outputs": [
    {
     "name": "stdout",
     "output_type": "stream",
     "text": [
      "멍~ 멍~\n"
     ]
    }
   ],
   "source": [
    "dog = Dog() # dog이라는 객체는 Dog 클래스의 인스턴스\n",
    "dog.bow() # 클래스의 메소드 호출"
   ]
  },
  {
   "cell_type": "markdown",
   "id": "14641a99",
   "metadata": {},
   "source": [
    "### `__init__` 생성자 "
   ]
  },
  {
   "cell_type": "markdown",
   "id": "486b1f2e",
   "metadata": {},
   "source": [
    "인스턴스를 만들 때 자동으로 실행되는 메소드"
   ]
  },
  {
   "cell_type": "code",
   "execution_count": 3,
   "id": "bca50d9b",
   "metadata": {
    "ExecuteTime": {
     "end_time": "2022-03-07T10:42:43.144818Z",
     "start_time": "2022-03-07T10:42:43.130856Z"
    }
   },
   "outputs": [],
   "source": [
    "class Dog:\n",
    "    # 초기화 메소드\n",
    "    def __init__(self):\n",
    "        print(\"Dog class 실행\")\n",
    "    def bow(self):\n",
    "        print(\"멍~ 멍~\")"
   ]
  },
  {
   "cell_type": "code",
   "execution_count": 4,
   "id": "3770f41e",
   "metadata": {
    "ExecuteTime": {
     "end_time": "2022-03-07T10:42:43.159788Z",
     "start_time": "2022-03-07T10:42:43.145816Z"
    }
   },
   "outputs": [
    {
     "name": "stdout",
     "output_type": "stream",
     "text": [
      "Dog class 실행\n",
      "멍~ 멍~\n"
     ]
    }
   ],
   "source": [
    "dog = Dog()\n",
    "dog.bow()"
   ]
  },
  {
   "cell_type": "markdown",
   "id": "661f650c",
   "metadata": {},
   "source": [
    "### 인스턴스 변수 생성"
   ]
  },
  {
   "cell_type": "code",
   "execution_count": 5,
   "id": "110eda2e",
   "metadata": {
    "ExecuteTime": {
     "end_time": "2022-03-07T10:42:43.174750Z",
     "start_time": "2022-03-07T10:42:43.160782Z"
    }
   },
   "outputs": [],
   "source": [
    "class Dog:\n",
    "    # 초기화 메소드\n",
    "    def __init__(self, name, color='하얀색'):\n",
    "        self.name = name\n",
    "        self.color = color\n",
    "    # 강아지 클래스의 정보를 출력하는 메소드\n",
    "    def info(self):\n",
    "        print(\"강아지 이름은\", self.name, \"색깔은\", self.color)"
   ]
  },
  {
   "cell_type": "code",
   "execution_count": 6,
   "id": "60572141",
   "metadata": {
    "ExecuteTime": {
     "end_time": "2022-03-07T10:42:43.189705Z",
     "start_time": "2022-03-07T10:42:43.175742Z"
    }
   },
   "outputs": [
    {
     "name": "stdout",
     "output_type": "stream",
     "text": [
      "강아지 이름은 초당 색깔은 황토색\n",
      "강아지 이름은 아리 색깔은 하얀색\n"
     ]
    }
   ],
   "source": [
    "dog1 = Dog('초당', '황토색')\n",
    "dog2 = Dog('아리') # color값을 지정하지 않으면 default값 출력\n",
    "dog1.info()\n",
    "dog2.info()"
   ]
  },
  {
   "cell_type": "markdown",
   "id": "0937364f",
   "metadata": {},
   "source": [
    "### 다중 메소드 사용"
   ]
  },
  {
   "cell_type": "code",
   "execution_count": 7,
   "id": "851a2575",
   "metadata": {
    "ExecuteTime": {
     "end_time": "2022-03-07T10:42:43.204672Z",
     "start_time": "2022-03-07T10:42:43.190702Z"
    }
   },
   "outputs": [],
   "source": [
    "class Human:\n",
    "    def __init__(self, name, age):\n",
    "        self.name = name\n",
    "        self.age = age\n",
    "    def info(self):\n",
    "        print(\"이름:\", self.name, \"\\t나이:\", self.age)\n",
    "    def call(self):\n",
    "        print(\"{}을(를) 호출합니다.\".format(self.name))"
   ]
  },
  {
   "cell_type": "code",
   "execution_count": 8,
   "id": "06cb1ab3",
   "metadata": {
    "ExecuteTime": {
     "end_time": "2022-03-07T10:42:43.219633Z",
     "start_time": "2022-03-07T10:42:43.206664Z"
    }
   },
   "outputs": [
    {
     "name": "stdout",
     "output_type": "stream",
     "text": [
      "이름: 혁주 \t나이: 26\n",
      "혁주을(를) 호출합니다.\n"
     ]
    }
   ],
   "source": [
    "person = Human('혁주', 26)\n",
    "person.info()\n",
    "person.call()"
   ]
  },
  {
   "cell_type": "markdown",
   "id": "2ecd6821",
   "metadata": {},
   "source": [
    "### class 변수"
   ]
  },
  {
   "cell_type": "code",
   "execution_count": 9,
   "id": "e1ef5825",
   "metadata": {
    "ExecuteTime": {
     "end_time": "2022-03-07T10:42:43.234711Z",
     "start_time": "2022-03-07T10:42:43.220626Z"
    }
   },
   "outputs": [],
   "source": [
    "class Circle:\n",
    "    PI = 3.14 # 클래스 변수 선언, 인스턴스들이 공유\n",
    "    def __init__(self, name, radius):\n",
    "        self.name = name\n",
    "        self.radius = radius\n",
    "    def area(self):\n",
    "        return self.PI * self.radius ** 2"
   ]
  },
  {
   "cell_type": "code",
   "execution_count": 10,
   "id": "d93597e4",
   "metadata": {
    "ExecuteTime": {
     "end_time": "2022-03-07T10:42:43.249677Z",
     "start_time": "2022-03-07T10:42:43.235709Z"
    }
   },
   "outputs": [
    {
     "name": "stdout",
     "output_type": "stream",
     "text": [
      "c1의 면적: 50.24\n",
      "c2의 면적: 113.04\n",
      "c3의 면적: 78.5\n"
     ]
    }
   ],
   "source": [
    "c1 = Circle('C1', 4)\n",
    "print(\"c1의 면적:\", c1.area())\n",
    "c2 = Circle('C2', 6)\n",
    "print(\"c2의 면적:\", c2.area())\n",
    "c3 = Circle('C3', 5)\n",
    "print(\"c3의 면적:\", c3.area())"
   ]
  },
  {
   "cell_type": "markdown",
   "id": "03d4a805",
   "metadata": {},
   "source": [
    "## Inheritance"
   ]
  },
  {
   "cell_type": "markdown",
   "id": "cc19ed47",
   "metadata": {},
   "source": [
    "- 상속이란 재사용의 한 가지 방법으로써 말 그대로 무엇인가를 내려받는 것을 의미\n",
    "- 객체지향의 가장 큰 장점은 코드의 재사용이 가능하다는 점\n",
    "- Person 클래스를 상속받는 Student 클래스를 만들때 표현방법은 Student(Person)\n",
    "    - Person 클래스: 슈퍼 클래스, 부모 클래스\n",
    "    - Student 클래스: 서브 클래스, 하위 클래스, 자식 클래스"
   ]
  },
  {
   "cell_type": "code",
   "execution_count": 11,
   "id": "b469fcee",
   "metadata": {
    "ExecuteTime": {
     "end_time": "2022-03-07T10:42:43.264662Z",
     "start_time": "2022-03-07T10:42:43.250674Z"
    }
   },
   "outputs": [],
   "source": [
    "class Person:\n",
    "    def __init__(self, name, age):\n",
    "        self.name = name\n",
    "        self.age = age\n",
    "        print (\"{} 객체를 만드는 중...\".format(self.name))\n",
    "    def speak(self):\n",
    "        print(\"제 이름은 {}이고 나이는 {}입니다.\".format(self.name, self.age))"
   ]
  },
  {
   "cell_type": "code",
   "execution_count": 12,
   "id": "cf3a46a1",
   "metadata": {
    "ExecuteTime": {
     "end_time": "2022-03-07T10:42:43.279653Z",
     "start_time": "2022-03-07T10:42:43.265659Z"
    }
   },
   "outputs": [],
   "source": [
    "class Student(Person):\n",
    "    def __init__(self, name, age, hakbun):\n",
    "        Person.__init__(self,name,age)\n",
    "        self.hakbun = hakbun\n",
    "        print (\"{} 학생 객체를 만드는 중...\".format(self.name))\n",
    "    def speak(self):\n",
    "        Person.speak(self)\n",
    "        print (\"저는 {:d}학번 입니다\".format(self.hakbun))\n",
    "\n",
    "class Professor(Person):\n",
    "    def __init__(self, name, age, pay):\n",
    "        Person.__init__(self, name, age)\n",
    "        self.pay = pay\n",
    "        print(\"{} 교수 객체를 만드는 중...\".format(self.name))\n",
    "    def speak(self):\n",
    "        Person.speak(self)\n",
    "        print (\"저는 연봉이 {:d}만원인 교수입니다.\".format(self.pay))"
   ]
  },
  {
   "cell_type": "code",
   "execution_count": 13,
   "id": "1bd7deb3",
   "metadata": {
    "ExecuteTime": {
     "end_time": "2022-03-07T10:42:43.294609Z",
     "start_time": "2022-03-07T10:42:43.280647Z"
    }
   },
   "outputs": [
    {
     "name": "stdout",
     "output_type": "stream",
     "text": [
      "김혁주 객체를 만드는 중...\n",
      "김혁주 학생 객체를 만드는 중...\n",
      "제 이름은 김혁주이고 나이는 26입니다.\n",
      "저는 16017009학번 입니다\n"
     ]
    }
   ],
   "source": [
    "s = Student('김혁주', 26, 16017009)\n",
    "s.speak()"
   ]
  },
  {
   "cell_type": "code",
   "execution_count": 14,
   "id": "07e34506",
   "metadata": {
    "ExecuteTime": {
     "end_time": "2022-03-07T10:42:43.309595Z",
     "start_time": "2022-03-07T10:42:43.295607Z"
    }
   },
   "outputs": [
    {
     "name": "stdout",
     "output_type": "stream",
     "text": [
      "홍길동 객체를 만드는 중...\n",
      "홍길동 교수 객체를 만드는 중...\n",
      "제 이름은 홍길동이고 나이는 60입니다.\n",
      "저는 연봉이 8000만원인 교수입니다.\n"
     ]
    }
   ],
   "source": [
    "p = Professor('홍길동', 60, 8000)\n",
    "p.speak()"
   ]
  }
 ],
 "metadata": {
  "kernelspec": {
   "display_name": "Python 3",
   "language": "python",
   "name": "python3"
  },
  "language_info": {
   "codemirror_mode": {
    "name": "ipython",
    "version": 3
   },
   "file_extension": ".py",
   "mimetype": "text/x-python",
   "name": "python",
   "nbconvert_exporter": "python",
   "pygments_lexer": "ipython3",
   "version": "3.8.8"
  },
  "toc": {
   "base_numbering": 1,
   "nav_menu": {},
   "number_sections": true,
   "sideBar": true,
   "skip_h1_title": true,
   "title_cell": "Table of Contents",
   "title_sidebar": "Contents",
   "toc_cell": false,
   "toc_position": {
    "height": "calc(100% - 180px)",
    "left": "10px",
    "top": "150px",
    "width": "349.091px"
   },
   "toc_section_display": true,
   "toc_window_display": true
  },
  "varInspector": {
   "cols": {
    "lenName": 16,
    "lenType": 16,
    "lenVar": 40
   },
   "kernels_config": {
    "python": {
     "delete_cmd_postfix": "",
     "delete_cmd_prefix": "del ",
     "library": "var_list.py",
     "varRefreshCmd": "print(var_dic_list())"
    },
    "r": {
     "delete_cmd_postfix": ") ",
     "delete_cmd_prefix": "rm(",
     "library": "var_list.r",
     "varRefreshCmd": "cat(var_dic_list()) "
    }
   },
   "oldHeight": 122.84136400000001,
   "position": {
    "height": "40px",
    "left": "1475.45px",
    "right": "20px",
    "top": "120px",
    "width": "250px"
   },
   "types_to_exclude": [
    "module",
    "function",
    "builtin_function_or_method",
    "instance",
    "_Feature"
   ],
   "varInspector_section_display": "none",
   "window_display": false
  }
 },
 "nbformat": 4,
 "nbformat_minor": 5
}
