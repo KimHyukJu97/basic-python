{
 "cells": [
  {
   "cell_type": "markdown",
   "id": "0e7d0753",
   "metadata": {},
   "source": [
    "# Chapter 03 Function "
   ]
  },
  {
   "cell_type": "markdown",
   "id": "e992041a",
   "metadata": {},
   "source": [
    "재사용 가능한 프로그램, 프로그램을 작성을 위한 중요한 단위"
   ]
  },
  {
   "cell_type": "markdown",
   "id": "c5af15ef",
   "metadata": {},
   "source": [
    "## User-Defined Function"
   ]
  },
  {
   "cell_type": "markdown",
   "id": "e2a2b669",
   "metadata": {},
   "source": [
    "### structure"
   ]
  },
  {
   "cell_type": "markdown",
   "id": "4ae0e46f",
   "metadata": {},
   "source": [
    "def 함수명(parameter1, parameter2, ...):\n",
    "    \n",
    "    <실행할 명령문 1>\n",
    "    <실행할 명령문 2>\n",
    "    ...\n",
    "    return <반환값>"
   ]
  },
  {
   "cell_type": "markdown",
   "id": "72990ad4",
   "metadata": {},
   "source": [
    "### example"
   ]
  },
  {
   "cell_type": "code",
   "execution_count": 1,
   "id": "a92d63ab",
   "metadata": {
    "ExecuteTime": {
     "end_time": "2022-03-04T12:06:59.098545Z",
     "start_time": "2022-03-04T12:06:59.081592Z"
    }
   },
   "outputs": [
    {
     "name": "stdout",
     "output_type": "stream",
     "text": [
      "a is b\n",
      "5 is maximum\n"
     ]
    }
   ],
   "source": [
    "def show_max(a, b):\n",
    "    if a > b:\n",
    "        print(a, \"is maximum\")\n",
    "    elif a == b:\n",
    "        print(\"a is b\")\n",
    "    else:\n",
    "        print(b, \"is maximum\")\n",
    "\n",
    "show_max(1, 1)\n",
    "show_max(2, 5)"
   ]
  },
  {
   "cell_type": "code",
   "execution_count": 2,
   "id": "45b823ea",
   "metadata": {
    "ExecuteTime": {
     "end_time": "2022-03-04T12:06:59.113505Z",
     "start_time": "2022-03-04T12:06:59.099543Z"
    }
   },
   "outputs": [
    {
     "name": "stdout",
     "output_type": "stream",
     "text": [
      "70\n"
     ]
    }
   ],
   "source": [
    "def sum(a, b):\n",
    "    return a + b\n",
    "\n",
    "a = 40\n",
    "b = 30\n",
    "print((sum(a, b)))"
   ]
  },
  {
   "cell_type": "code",
   "execution_count": 3,
   "id": "10d1feca",
   "metadata": {
    "ExecuteTime": {
     "end_time": "2022-03-04T12:06:59.128465Z",
     "start_time": "2022-03-04T12:06:59.114502Z"
    }
   },
   "outputs": [
    {
     "name": "stdout",
     "output_type": "stream",
     "text": [
      "Hello!\n"
     ]
    }
   ],
   "source": [
    "def show():\n",
    "    return \"Hello!\"\n",
    "\n",
    "print((show()))"
   ]
  },
  {
   "cell_type": "code",
   "execution_count": 4,
   "id": "242b045f",
   "metadata": {
    "ExecuteTime": {
     "end_time": "2022-03-04T12:06:59.143425Z",
     "start_time": "2022-03-04T12:06:59.129464Z"
    }
   },
   "outputs": [
    {
     "name": "stdout",
     "output_type": "stream",
     "text": [
      "Hello!\n"
     ]
    }
   ],
   "source": [
    "def show():\n",
    "    print(\"Hello!\")\n",
    "\n",
    "show()"
   ]
  },
  {
   "cell_type": "markdown",
   "id": "fa565c45",
   "metadata": {},
   "source": [
    "### application"
   ]
  },
  {
   "cell_type": "markdown",
   "id": "17cd0e20",
   "metadata": {},
   "source": [
    "#### using of *"
   ]
  },
  {
   "cell_type": "code",
   "execution_count": 5,
   "id": "02b00d66",
   "metadata": {
    "ExecuteTime": {
     "end_time": "2022-03-04T12:06:59.158385Z",
     "start_time": "2022-03-04T12:06:59.144423Z"
    }
   },
   "outputs": [
    {
     "name": "stdout",
     "output_type": "stream",
     "text": [
      "60\n"
     ]
    }
   ],
   "source": [
    "def sum(*a):\n",
    "    total = 0\n",
    "    for i in a:\n",
    "        total += i\n",
    "    return total\n",
    "\n",
    "print((sum(10, 20, 30)))"
   ]
  },
  {
   "cell_type": "code",
   "execution_count": 6,
   "id": "c935fd27",
   "metadata": {
    "ExecuteTime": {
     "end_time": "2022-03-04T12:06:59.173345Z",
     "start_time": "2022-03-04T12:06:59.159383Z"
    }
   },
   "outputs": [
    {
     "name": "stdout",
     "output_type": "stream",
     "text": [
      "60\n",
      "100\n"
     ]
    }
   ],
   "source": [
    "def cal(b, *a):\n",
    "    if b == 'sum':\n",
    "        total = 0\n",
    "        for i in a:\n",
    "            total += i\n",
    "    elif b == 'mul':\n",
    "        total = 1\n",
    "        for i in a:\n",
    "            total *= i\n",
    "    return total\n",
    "\n",
    "print((cal('sum', 10, 20, 30)))\n",
    "print((cal('mul', 5, 10, 2)))"
   ]
  },
  {
   "cell_type": "code",
   "execution_count": 7,
   "id": "b8675c1b",
   "metadata": {
    "ExecuteTime": {
     "end_time": "2022-03-04T12:06:59.188306Z",
     "start_time": "2022-03-04T12:06:59.174342Z"
    }
   },
   "outputs": [
    {
     "data": {
      "text/plain": [
       "(30, -10)"
      ]
     },
     "execution_count": 7,
     "metadata": {},
     "output_type": "execute_result"
    }
   ],
   "source": [
    "def return_value(a, b):\n",
    "    return a + b, a - b\n",
    "\n",
    "return_value(10, 20)"
   ]
  },
  {
   "cell_type": "code",
   "execution_count": 8,
   "id": "99c48253",
   "metadata": {
    "ExecuteTime": {
     "end_time": "2022-03-04T12:06:59.203266Z",
     "start_time": "2022-03-04T12:06:59.190300Z"
    }
   },
   "outputs": [
    {
     "name": "stdout",
     "output_type": "stream",
     "text": [
      "not Zero!\n"
     ]
    }
   ],
   "source": [
    "def show(a):\n",
    "    if a == 0:\n",
    "        return\n",
    "    print(\"not Zero!\")\n",
    "\n",
    "show(0)\n",
    "show(1)"
   ]
  },
  {
   "cell_type": "markdown",
   "id": "21005d7f",
   "metadata": {},
   "source": [
    "#### dafault value"
   ]
  },
  {
   "cell_type": "code",
   "execution_count": 9,
   "id": "123a38e5",
   "metadata": {
    "ExecuteTime": {
     "end_time": "2022-03-04T12:06:59.218225Z",
     "start_time": "2022-03-04T12:06:59.204263Z"
    }
   },
   "outputs": [
    {
     "name": "stdout",
     "output_type": "stream",
     "text": [
      "name: Mark, age: 26, gender: M\n",
      "name: Suzy, age: 29, gender: F\n"
     ]
    }
   ],
   "source": [
    "def show(name, age, gender='M'):\n",
    "    print(f\"name: {name}, age: {age}, gender: {gender}\")\n",
    "\n",
    "show('Mark', 26)\n",
    "show('Suzy', 29, 'F')"
   ]
  },
  {
   "cell_type": "markdown",
   "id": "ae2c7c5d",
   "metadata": {},
   "source": [
    "#### scope of variable"
   ]
  },
  {
   "cell_type": "markdown",
   "id": "cb3c4d3b",
   "metadata": {},
   "source": [
    "사용자가 정의한 함수 안에서 선언된 변수는 그 함수 밖에서는 사용될 수 없다.  \n",
    "즉, 그 변수의 범위는 함수 안에서만 유효하다.  \n",
    "이 경우 그 함수의 지역(local)을 변수의 범위(scope)라고 한다.  \n",
    "함수 내에서 선언된 변수는 지역변수(local variable)라고 한다."
   ]
  },
  {
   "cell_type": "code",
   "execution_count": 10,
   "id": "a4bed1ef",
   "metadata": {
    "ExecuteTime": {
     "end_time": "2022-03-04T12:06:59.233185Z",
     "start_time": "2022-03-04T12:06:59.219224Z"
    }
   },
   "outputs": [
    {
     "name": "stdout",
     "output_type": "stream",
     "text": [
      "global variable x is 20\n",
      "local variable x is 30\n"
     ]
    }
   ],
   "source": [
    "x = 20 # x is a global variable\n",
    "print(\"global variable x is\", x)\n",
    "\n",
    "def func(x): # x is a local variable in ()\n",
    "    print(\"local variable x is\", x)\n",
    "\n",
    "func(30)"
   ]
  },
  {
   "cell_type": "code",
   "execution_count": 11,
   "id": "5fd6a1fc",
   "metadata": {
    "ExecuteTime": {
     "end_time": "2022-03-04T12:06:59.248145Z",
     "start_time": "2022-03-04T12:06:59.234183Z"
    }
   },
   "outputs": [
    {
     "name": "stdout",
     "output_type": "stream",
     "text": [
      "31\n"
     ]
    }
   ],
   "source": [
    "def func(y):\n",
    "    y = y + 1\n",
    "    print(y) \n",
    "\n",
    "func(30)\n",
    "# func(y)"
   ]
  },
  {
   "cell_type": "code",
   "execution_count": 12,
   "id": "6d9c7f7d",
   "metadata": {
    "ExecuteTime": {
     "end_time": "2022-03-04T12:06:59.263105Z",
     "start_time": "2022-03-04T12:06:59.249143Z"
    }
   },
   "outputs": [
    {
     "name": "stdout",
     "output_type": "stream",
     "text": [
      "11\n"
     ]
    }
   ],
   "source": [
    "a = 10\n",
    "def func(a):\n",
    "    a = a + 1\n",
    "    return a\n",
    "\n",
    "print(func(a))"
   ]
  },
  {
   "cell_type": "code",
   "execution_count": 13,
   "id": "a2171436",
   "metadata": {
    "ExecuteTime": {
     "end_time": "2022-03-04T12:06:59.278065Z",
     "start_time": "2022-03-04T12:06:59.264103Z"
    }
   },
   "outputs": [
    {
     "name": "stdout",
     "output_type": "stream",
     "text": [
      "101\n"
     ]
    }
   ],
   "source": [
    "a = 100\n",
    "def func():\n",
    "    global a\n",
    "    a = a + 1\n",
    "    print(a)\n",
    "\n",
    "func()"
   ]
  }
 ],
 "metadata": {
  "kernelspec": {
   "display_name": "Python 3",
   "language": "python",
   "name": "python3"
  },
  "language_info": {
   "codemirror_mode": {
    "name": "ipython",
    "version": 3
   },
   "file_extension": ".py",
   "mimetype": "text/x-python",
   "name": "python",
   "nbconvert_exporter": "python",
   "pygments_lexer": "ipython3",
   "version": "3.8.8"
  },
  "toc": {
   "base_numbering": 1,
   "nav_menu": {},
   "number_sections": true,
   "sideBar": true,
   "skip_h1_title": true,
   "title_cell": "Table of Contents",
   "title_sidebar": "Contents",
   "toc_cell": false,
   "toc_position": {},
   "toc_section_display": true,
   "toc_window_display": true
  },
  "varInspector": {
   "cols": {
    "lenName": 16,
    "lenType": 16,
    "lenVar": 40
   },
   "kernels_config": {
    "python": {
     "delete_cmd_postfix": "",
     "delete_cmd_prefix": "del ",
     "library": "var_list.py",
     "varRefreshCmd": "print(var_dic_list())"
    },
    "r": {
     "delete_cmd_postfix": ") ",
     "delete_cmd_prefix": "rm(",
     "library": "var_list.r",
     "varRefreshCmd": "cat(var_dic_list()) "
    }
   },
   "oldHeight": 122.84136400000001,
   "position": {
    "height": "40px",
    "left": "1475.45px",
    "right": "20px",
    "top": "120px",
    "width": "250px"
   },
   "types_to_exclude": [
    "module",
    "function",
    "builtin_function_or_method",
    "instance",
    "_Feature"
   ],
   "varInspector_section_display": "none",
   "window_display": false
  }
 },
 "nbformat": 4,
 "nbformat_minor": 5
}
