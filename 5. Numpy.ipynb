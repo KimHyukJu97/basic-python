{
 "cells": [
  {
   "cell_type": "markdown",
   "id": "0e7d0753",
   "metadata": {},
   "source": [
    "# Chapter 05 Numpy"
   ]
  },
  {
   "cell_type": "code",
   "execution_count": 1,
   "id": "22436704",
   "metadata": {
    "ExecuteTime": {
     "end_time": "2022-03-08T11:47:15.137087Z",
     "start_time": "2022-03-08T11:47:15.124121Z"
    }
   },
   "outputs": [],
   "source": [
    "import numpy as np # 가장 대중적인 numpy 치환 호출"
   ]
  },
  {
   "cell_type": "markdown",
   "id": "44b80bb6",
   "metadata": {},
   "source": [
    "## Array creation"
   ]
  },
  {
   "cell_type": "markdown",
   "id": "5c2c23ba",
   "metadata": {},
   "source": [
    "n dimension array object : 다차원 배열 객체"
   ]
  },
  {
   "cell_type": "markdown",
   "id": "368f9bc0",
   "metadata": {},
   "source": [
    "### array"
   ]
  },
  {
   "cell_type": "code",
   "execution_count": 2,
   "id": "9e62ddae",
   "metadata": {
    "ExecuteTime": {
     "end_time": "2022-03-08T11:47:15.152047Z",
     "start_time": "2022-03-08T11:47:15.138083Z"
    }
   },
   "outputs": [
    {
     "name": "stdout",
     "output_type": "stream",
     "text": [
      "[1 4 5 8]\n"
     ]
    }
   ],
   "source": [
    "data = [1, 4, 5, 8]\n",
    "ar = np.array(data)\n",
    "print(ar)"
   ]
  },
  {
   "cell_type": "code",
   "execution_count": 3,
   "id": "e4430ca8",
   "metadata": {
    "ExecuteTime": {
     "end_time": "2022-03-08T11:47:15.167006Z",
     "start_time": "2022-03-08T11:47:15.153045Z"
    }
   },
   "outputs": [
    {
     "name": "stdout",
     "output_type": "stream",
     "text": [
      "[[1 4 5 8]\n",
      " [2 7 6 3]]\n"
     ]
    }
   ],
   "source": [
    "data = [[1, 4, 5, 8], [2, 7, 6, 3]]\n",
    "ar = np.array(data)\n",
    "print(ar)"
   ]
  },
  {
   "cell_type": "markdown",
   "id": "c961d04b",
   "metadata": {},
   "source": [
    "### arange"
   ]
  },
  {
   "cell_type": "markdown",
   "id": "9f8fe488",
   "metadata": {},
   "source": [
    "range와 같은 개념의 ndarrary 객체 생성"
   ]
  },
  {
   "cell_type": "code",
   "execution_count": 4,
   "id": "9df92cd9",
   "metadata": {
    "ExecuteTime": {
     "end_time": "2022-03-08T11:47:15.181966Z",
     "start_time": "2022-03-08T11:47:15.168004Z"
    }
   },
   "outputs": [
    {
     "name": "stdout",
     "output_type": "stream",
     "text": [
      "[0 1 2 3 4 5 6 7 8 9]\n"
     ]
    }
   ],
   "source": [
    "print(np.arange(10))"
   ]
  },
  {
   "cell_type": "code",
   "execution_count": 5,
   "id": "c6e6f242",
   "metadata": {
    "ExecuteTime": {
     "end_time": "2022-03-08T11:47:15.196927Z",
     "start_time": "2022-03-08T11:47:15.182965Z"
    }
   },
   "outputs": [
    {
     "name": "stdout",
     "output_type": "stream",
     "text": [
      "[1.  1.5 2.  2.5 3.  3.5 4.  4.5 5.  5.5 6.  6.5 7.  7.5 8.  8.5 9.  9.5]\n"
     ]
    }
   ],
   "source": [
    "print(np.arange(1, 10, 0.5))"
   ]
  },
  {
   "cell_type": "markdown",
   "id": "f63e6e0f",
   "metadata": {
    "ExecuteTime": {
     "end_time": "2022-03-07T10:59:49.250855Z",
     "start_time": "2022-03-07T10:59:49.239884Z"
    }
   },
   "source": [
    "### ones"
   ]
  },
  {
   "cell_type": "markdown",
   "id": "bfd85c14",
   "metadata": {
    "ExecuteTime": {
     "end_time": "2022-03-07T10:59:51.644028Z",
     "start_time": "2022-03-07T10:59:51.631087Z"
    }
   },
   "source": [
    "모든 값이 1인 ndarrary 객체 생성"
   ]
  },
  {
   "cell_type": "code",
   "execution_count": 6,
   "id": "ec56c922",
   "metadata": {
    "ExecuteTime": {
     "end_time": "2022-03-08T11:47:15.211888Z",
     "start_time": "2022-03-08T11:47:15.197925Z"
    }
   },
   "outputs": [
    {
     "name": "stdout",
     "output_type": "stream",
     "text": [
      "[[[1. 1. 1.]\n",
      "  [1. 1. 1.]]\n",
      "\n",
      " [[1. 1. 1.]\n",
      "  [1. 1. 1.]]]\n"
     ]
    }
   ],
   "source": [
    "print(np.ones(shape=(2, 2, 3)))"
   ]
  },
  {
   "cell_type": "code",
   "execution_count": 7,
   "id": "c7010b60",
   "metadata": {
    "ExecuteTime": {
     "end_time": "2022-03-08T11:47:15.226847Z",
     "start_time": "2022-03-08T11:47:15.212884Z"
    }
   },
   "outputs": [
    {
     "name": "stdout",
     "output_type": "stream",
     "text": [
      "[[1. 1.]\n",
      " [1. 1.]\n",
      " [1. 1.]]\n"
     ]
    }
   ],
   "source": [
    "print(np.ones((3, 2)))"
   ]
  },
  {
   "cell_type": "markdown",
   "id": "e7e61ab1",
   "metadata": {
    "ExecuteTime": {
     "end_time": "2022-03-07T11:01:11.372489Z",
     "start_time": "2022-03-07T11:01:11.367502Z"
    }
   },
   "source": [
    "### zeros"
   ]
  },
  {
   "cell_type": "markdown",
   "id": "c2260aa7",
   "metadata": {},
   "source": [
    "모든 값이 0인 ndarrary 객체 생성"
   ]
  },
  {
   "cell_type": "code",
   "execution_count": 8,
   "id": "ff172dc4",
   "metadata": {
    "ExecuteTime": {
     "end_time": "2022-03-08T11:47:15.241807Z",
     "start_time": "2022-03-08T11:47:15.228841Z"
    }
   },
   "outputs": [
    {
     "name": "stdout",
     "output_type": "stream",
     "text": [
      "[[0 0]\n",
      " [0 0]\n",
      " [0 0]\n",
      " [0 0]]\n"
     ]
    }
   ],
   "source": [
    "print(np.zeros(shape=(4, 2), dtype=int))"
   ]
  },
  {
   "cell_type": "code",
   "execution_count": 9,
   "id": "93bee77f",
   "metadata": {
    "ExecuteTime": {
     "end_time": "2022-03-08T11:47:15.256767Z",
     "start_time": "2022-03-08T11:47:15.242805Z"
    },
    "scrolled": true
   },
   "outputs": [
    {
     "name": "stdout",
     "output_type": "stream",
     "text": [
      "[0. 0. 0. 0. 0. 0. 0. 0. 0. 0.]\n"
     ]
    }
   ],
   "source": [
    "print(np.zeros((10)))"
   ]
  },
  {
   "cell_type": "markdown",
   "id": "d92ea3d4",
   "metadata": {
    "ExecuteTime": {
     "end_time": "2022-03-07T11:01:58.778431Z",
     "start_time": "2022-03-07T11:01:58.766463Z"
    }
   },
   "source": [
    "### identity & eye"
   ]
  },
  {
   "cell_type": "markdown",
   "id": "c12dae05",
   "metadata": {},
   "source": [
    "단위 행렬 ndarrary 객체 생성"
   ]
  },
  {
   "cell_type": "code",
   "execution_count": 10,
   "id": "5be03950",
   "metadata": {
    "ExecuteTime": {
     "end_time": "2022-03-08T11:47:15.271728Z",
     "start_time": "2022-03-08T11:47:15.257764Z"
    }
   },
   "outputs": [
    {
     "name": "stdout",
     "output_type": "stream",
     "text": [
      "[[1. 0. 0. 0.]\n",
      " [0. 1. 0. 0.]\n",
      " [0. 0. 1. 0.]\n",
      " [0. 0. 0. 1.]]\n"
     ]
    }
   ],
   "source": [
    "print(np.identity(n=4, dtype=np.float32))"
   ]
  },
  {
   "cell_type": "code",
   "execution_count": 11,
   "id": "d98804a9",
   "metadata": {
    "ExecuteTime": {
     "end_time": "2022-03-08T11:47:15.286687Z",
     "start_time": "2022-03-08T11:47:15.272725Z"
    }
   },
   "outputs": [
    {
     "name": "stdout",
     "output_type": "stream",
     "text": [
      "[[1. 0. 0.]\n",
      " [0. 1. 0.]\n",
      " [0. 0. 1.]]\n"
     ]
    }
   ],
   "source": [
    "print(np.eye(3))"
   ]
  },
  {
   "cell_type": "markdown",
   "id": "c8b0f112",
   "metadata": {},
   "source": [
    "### random"
   ]
  },
  {
   "cell_type": "markdown",
   "id": "b176454b",
   "metadata": {},
   "source": [
    "다양한 랜덤 추출법을 통한 ndarrary 객체 생성"
   ]
  },
  {
   "cell_type": "code",
   "execution_count": 12,
   "id": "51a0a905",
   "metadata": {
    "ExecuteTime": {
     "end_time": "2022-03-08T11:47:15.301647Z",
     "start_time": "2022-03-08T11:47:15.287684Z"
    }
   },
   "outputs": [
    {
     "name": "stdout",
     "output_type": "stream",
     "text": [
      "[[0.14215984 0.31271515 0.00664356 0.54131957 0.05878566]\n",
      " [0.51844207 0.15243602 0.34763242 0.43520575 0.9708526 ]]\n"
     ]
    }
   ],
   "source": [
    "print(np.random.uniform(low=0.0, high=1.0, size=10).reshape(2, 5))"
   ]
  },
  {
   "cell_type": "code",
   "execution_count": 13,
   "id": "65984546",
   "metadata": {
    "ExecuteTime": {
     "end_time": "2022-03-08T11:47:15.316606Z",
     "start_time": "2022-03-08T11:47:15.302645Z"
    }
   },
   "outputs": [
    {
     "name": "stdout",
     "output_type": "stream",
     "text": [
      "[[ 0.78698429  0.69787164  1.55607565  0.94205567 -0.52648655]\n",
      " [ 0.63478244  0.43598536 -0.48261052 -0.04752414 -0.26729315]]\n"
     ]
    }
   ],
   "source": [
    "print(np.random.normal(loc=0.0, scale=1.0, size=10).reshape(2, 5))"
   ]
  },
  {
   "cell_type": "markdown",
   "id": "a655ac3e",
   "metadata": {},
   "source": [
    "## Array structure"
   ]
  },
  {
   "cell_type": "markdown",
   "id": "b56d497b",
   "metadata": {},
   "source": [
    "### information"
   ]
  },
  {
   "cell_type": "code",
   "execution_count": 14,
   "id": "ab3c847a",
   "metadata": {
    "ExecuteTime": {
     "end_time": "2022-03-08T11:47:15.331566Z",
     "start_time": "2022-03-08T11:47:15.317604Z"
    }
   },
   "outputs": [
    {
     "name": "stdout",
     "output_type": "stream",
     "text": [
      "(2, 3)\n",
      "2\n",
      "6\n",
      "int32\n",
      "<class 'numpy.ndarray'>\n"
     ]
    }
   ],
   "source": [
    "ar = np.array([[1, 3, 6], [2, 5, 4]])\n",
    "print(ar.shape)\n",
    "print(ar.ndim)\n",
    "print(ar.size)\n",
    "print(ar.dtype)\n",
    "print(type(ar))"
   ]
  },
  {
   "cell_type": "markdown",
   "id": "513b1e77",
   "metadata": {},
   "source": [
    "### data type"
   ]
  },
  {
   "cell_type": "code",
   "execution_count": 15,
   "id": "e92eae63",
   "metadata": {
    "ExecuteTime": {
     "end_time": "2022-03-08T11:47:15.346526Z",
     "start_time": "2022-03-08T11:47:15.332564Z"
    }
   },
   "outputs": [
    {
     "name": "stdout",
     "output_type": "stream",
     "text": [
      "[[1 2 3]\n",
      " [4 5 6]]\n",
      "int32\n"
     ]
    }
   ],
   "source": [
    "ar = np.array([[1, 2, 3], [4, 5.1, 6]], int)\n",
    "print(ar) # 5.1이 5로 변환되며 정보 손실\n",
    "print(ar.dtype)"
   ]
  },
  {
   "cell_type": "code",
   "execution_count": 16,
   "id": "07429352",
   "metadata": {
    "ExecuteTime": {
     "end_time": "2022-03-08T11:47:15.361486Z",
     "start_time": "2022-03-08T11:47:15.347524Z"
    }
   },
   "outputs": [
    {
     "name": "stdout",
     "output_type": "stream",
     "text": [
      "[[1.  2.  3.1]\n",
      " [4.  5.1 6. ]]\n",
      "float32\n"
     ]
    }
   ],
   "source": [
    "ar = np.array([['1', 2, 3.1], [4, 5.1, 6]], np.float32)\n",
    "print(ar) # '1'(문자열)이 1.0(실수)로 변환\n",
    "print(ar.dtype)"
   ]
  },
  {
   "cell_type": "code",
   "execution_count": 17,
   "id": "0c3ed576",
   "metadata": {
    "ExecuteTime": {
     "end_time": "2022-03-08T11:47:15.376446Z",
     "start_time": "2022-03-08T11:47:15.362484Z"
    }
   },
   "outputs": [
    {
     "name": "stdout",
     "output_type": "stream",
     "text": [
      "[['1' '2' '3']\n",
      " ['4' '5' '6']]\n",
      "<U11\n"
     ]
    }
   ],
   "source": [
    "ar = np.array([['1', 2, 3], [4, 5, 6]])\n",
    "print(ar) # '1'(문자열)이 존재하므로 str로 변환\n",
    "print(ar.dtype)"
   ]
  },
  {
   "cell_type": "code",
   "execution_count": 18,
   "id": "a35b52dc",
   "metadata": {
    "ExecuteTime": {
     "end_time": "2022-03-08T11:47:15.391406Z",
     "start_time": "2022-03-08T11:47:15.377443Z"
    },
    "scrolled": true
   },
   "outputs": [
    {
     "name": "stdout",
     "output_type": "stream",
     "text": [
      "[[  1   2   3]\n",
      " [  4   5 112]]\n",
      "[[   1    2    3]\n",
      " [   4    5 6000]]\n"
     ]
    }
   ],
   "source": [
    "print(np.array([[1, 2, 3], [4, 5, 6000]], np.int8)) # 자료의 크기에 따라 dtype 설정이 중요\n",
    "print(np.array([[1, 2, 3], [4, 5, 6000]], np.int32))"
   ]
  },
  {
   "cell_type": "markdown",
   "id": "03da53d0",
   "metadata": {
    "ExecuteTime": {
     "end_time": "2022-03-08T10:14:09.237342Z",
     "start_time": "2022-03-08T10:14:09.222383Z"
    }
   },
   "source": [
    "### data size"
   ]
  },
  {
   "cell_type": "markdown",
   "id": "99960add",
   "metadata": {},
   "source": [
    "데이터의 크기가 같아도 dtype에 따라 다름"
   ]
  },
  {
   "cell_type": "code",
   "execution_count": 19,
   "id": "46274cea",
   "metadata": {
    "ExecuteTime": {
     "end_time": "2022-03-08T11:47:15.406367Z",
     "start_time": "2022-03-08T11:47:15.392403Z"
    }
   },
   "outputs": [
    {
     "name": "stdout",
     "output_type": "stream",
     "text": [
      "48\n",
      "24\n"
     ]
    }
   ],
   "source": [
    "data = [[1, 2, 3], [4, 5, 6]]\n",
    "ar_1 = np.array(data, float) # float64 = 8bytes(64bits)\n",
    "ar_2 = np.array(data, int) # int32 = 4bytes(32bits)\n",
    "print(ar_1.nbytes)\n",
    "print(ar_2.nbytes)"
   ]
  },
  {
   "cell_type": "code",
   "execution_count": 20,
   "id": "5bb246a2",
   "metadata": {
    "ExecuteTime": {
     "end_time": "2022-03-08T11:47:17.701346Z",
     "start_time": "2022-03-08T11:47:15.407363Z"
    }
   },
   "outputs": [
    {
     "name": "stdout",
     "output_type": "stream",
     "text": [
      "14\n",
      "[[ 1  2  3]\n",
      " [ 4  5 14]]\n",
      "[[ 1  2  3]\n",
      " [ 4  5 14]]\n"
     ]
    }
   ],
   "source": [
    "data = [[1, 2, 3], [4, 5, input()]]\n",
    "ar_1 = np.array(data, np.int8) # 총 2의 8승(256개), -128부터 127까지 출력 가능\n",
    "ar_2 = np.array(data, np.int16) # 총 2의 16승(65,536개), -32,768부터 32,767까지 출력 가능\n",
    "print(ar_1)\n",
    "print(ar_2)"
   ]
  },
  {
   "cell_type": "code",
   "execution_count": 21,
   "id": "863375a6",
   "metadata": {
    "ExecuteTime": {
     "end_time": "2022-03-08T11:47:17.716306Z",
     "start_time": "2022-03-08T11:47:17.702343Z"
    }
   },
   "outputs": [
    {
     "name": "stdout",
     "output_type": "stream",
     "text": [
      "[1 2 3 4 5 6]\n",
      "[1. 2. 3. 4. 5. 6.]\n"
     ]
    }
   ],
   "source": [
    "ar = np.array([1, 2, 3, 4, 5, 6], int)\n",
    "print(ar)\n",
    "print(ar.astype(np.float64))"
   ]
  },
  {
   "cell_type": "markdown",
   "id": "2dae90d2",
   "metadata": {},
   "source": [
    "## Array transform"
   ]
  },
  {
   "cell_type": "markdown",
   "id": "f90df4ac",
   "metadata": {},
   "source": [
    "### reshape"
   ]
  },
  {
   "cell_type": "markdown",
   "id": "2aa9b1f8",
   "metadata": {},
   "source": [
    "shape와 ndim 변경 가능 (size 동일해야 가능)"
   ]
  },
  {
   "cell_type": "code",
   "execution_count": 22,
   "id": "7f1c5400",
   "metadata": {
    "ExecuteTime": {
     "end_time": "2022-03-08T11:47:17.731266Z",
     "start_time": "2022-03-08T11:47:17.717303Z"
    }
   },
   "outputs": [
    {
     "name": "stdout",
     "output_type": "stream",
     "text": [
      "(2, 2, 3)\n"
     ]
    }
   ],
   "source": [
    "ar_1 = np.arange(12).reshape((2, 2, 3))\n",
    "print(ar_1.shape)"
   ]
  },
  {
   "cell_type": "code",
   "execution_count": 23,
   "id": "66c95b43",
   "metadata": {
    "ExecuteTime": {
     "end_time": "2022-03-08T11:47:17.746226Z",
     "start_time": "2022-03-08T11:47:17.734258Z"
    }
   },
   "outputs": [
    {
     "name": "stdout",
     "output_type": "stream",
     "text": [
      "(6, 2)\n"
     ]
    }
   ],
   "source": [
    "ar_2 = ar_1.reshape(6, -1) # = ar.reshape(6, 2)\n",
    "print(ar_2.shape)"
   ]
  },
  {
   "cell_type": "code",
   "execution_count": 24,
   "id": "b6e3c24b",
   "metadata": {
    "ExecuteTime": {
     "end_time": "2022-03-08T11:47:17.761186Z",
     "start_time": "2022-03-08T11:47:17.748221Z"
    }
   },
   "outputs": [
    {
     "name": "stdout",
     "output_type": "stream",
     "text": [
      "(3, 2, 2)\n"
     ]
    }
   ],
   "source": [
    "ar_3 = ar_1.reshape(-1, 2, 2) # = ar.reshape(3, 2, 2)\n",
    "print(ar_3.shape)"
   ]
  },
  {
   "cell_type": "markdown",
   "id": "6351e69b",
   "metadata": {},
   "source": [
    "### resize"
   ]
  },
  {
   "cell_type": "markdown",
   "id": "9a11149d",
   "metadata": {},
   "source": [
    "shape, ndim과 size도 변경 가능"
   ]
  },
  {
   "cell_type": "code",
   "execution_count": 25,
   "id": "f19be9de",
   "metadata": {
    "ExecuteTime": {
     "end_time": "2022-03-08T11:47:17.776146Z",
     "start_time": "2022-03-08T11:47:17.762184Z"
    }
   },
   "outputs": [
    {
     "name": "stdout",
     "output_type": "stream",
     "text": [
      "[[ 4  8 16 10 19 12]\n",
      " [19 18  1 19 11  4]]\n"
     ]
    }
   ],
   "source": [
    "ar = np.random.randint(1, 20, (2, 6))\n",
    "print(ar)"
   ]
  },
  {
   "cell_type": "code",
   "execution_count": 26,
   "id": "3386a237",
   "metadata": {
    "ExecuteTime": {
     "end_time": "2022-03-08T11:47:17.791106Z",
     "start_time": "2022-03-08T11:47:17.777143Z"
    }
   },
   "outputs": [
    {
     "name": "stdout",
     "output_type": "stream",
     "text": [
      "[[ 4  8 16 10]\n",
      " [19 12 19 18]\n",
      " [ 1 19 11  4]]\n"
     ]
    }
   ],
   "source": [
    "ar.resize((3, 4))\n",
    "print(ar)"
   ]
  },
  {
   "cell_type": "code",
   "execution_count": 27,
   "id": "5433b6af",
   "metadata": {
    "ExecuteTime": {
     "end_time": "2022-03-08T11:47:17.806078Z",
     "start_time": "2022-03-08T11:47:17.792104Z"
    },
    "scrolled": true
   },
   "outputs": [
    {
     "name": "stdout",
     "output_type": "stream",
     "text": [
      "[[ 4  8 16 10 19 12]\n",
      " [19 18  1 19 11  4]\n",
      " [ 0  0  0  0  0  0]\n",
      " [ 0  0  0  0  0  0]]\n"
     ]
    }
   ],
   "source": [
    "ar.resize((4, 6))\n",
    "print(ar) # 나머지 값들은 0으로 할당"
   ]
  },
  {
   "cell_type": "markdown",
   "id": "df882621",
   "metadata": {},
   "source": [
    "### flatten"
   ]
  },
  {
   "cell_type": "markdown",
   "id": "15f33dfe",
   "metadata": {},
   "source": [
    "다차원 array를 1차원 array로 반환"
   ]
  },
  {
   "cell_type": "code",
   "execution_count": 28,
   "id": "8da7f3c1",
   "metadata": {
    "ExecuteTime": {
     "end_time": "2022-03-08T11:47:17.821026Z",
     "start_time": "2022-03-08T11:47:17.807063Z"
    }
   },
   "outputs": [
    {
     "name": "stdout",
     "output_type": "stream",
     "text": [
      "[0 1 2 3 4 5 6 7 8 9]\n"
     ]
    }
   ],
   "source": [
    "ar = np.arange(10).reshape(2, 5)\n",
    "print(ar.flatten())"
   ]
  },
  {
   "cell_type": "markdown",
   "id": "89289195",
   "metadata": {},
   "source": [
    "## Array indexing & slicing"
   ]
  },
  {
   "cell_type": "markdown",
   "id": "60ebbdcf",
   "metadata": {},
   "source": [
    "### indexing"
   ]
  },
  {
   "cell_type": "code",
   "execution_count": 29,
   "id": "67f3c2be",
   "metadata": {
    "ExecuteTime": {
     "end_time": "2022-03-08T11:47:17.835986Z",
     "start_time": "2022-03-08T11:47:17.822025Z"
    }
   },
   "outputs": [
    {
     "name": "stdout",
     "output_type": "stream",
     "text": [
      "[[[ 0  1  2  3  4]\n",
      "  [ 5  6  7  8  9]\n",
      "  [10 11 12 13 14]]\n",
      "\n",
      " [[15 16 17 18 19]\n",
      "  [20 21 22 23 24]\n",
      "  [25 26 27 28 29]]]\n"
     ]
    }
   ],
   "source": [
    "ar = np.arange(30).reshape((2, 3, 5))\n",
    "print(ar)"
   ]
  },
  {
   "cell_type": "code",
   "execution_count": 30,
   "id": "28be1dfc",
   "metadata": {
    "ExecuteTime": {
     "end_time": "2022-03-08T11:47:17.850946Z",
     "start_time": "2022-03-08T11:47:17.836983Z"
    }
   },
   "outputs": [
    {
     "name": "stdout",
     "output_type": "stream",
     "text": [
      "[[15 16 17 18 19]\n",
      " [20 21 22 23 24]\n",
      " [25 26 27 28 29]]\n"
     ]
    }
   ],
   "source": [
    "print(ar[1])"
   ]
  },
  {
   "cell_type": "code",
   "execution_count": 31,
   "id": "90ad16b8",
   "metadata": {
    "ExecuteTime": {
     "end_time": "2022-03-08T11:47:17.865906Z",
     "start_time": "2022-03-08T11:47:17.851943Z"
    }
   },
   "outputs": [
    {
     "name": "stdout",
     "output_type": "stream",
     "text": [
      "[25 26 27 28 29]\n"
     ]
    }
   ],
   "source": [
    "print(ar[1][2]) # = ar10[1, 2]"
   ]
  },
  {
   "cell_type": "code",
   "execution_count": 32,
   "id": "dd3e2700",
   "metadata": {
    "ExecuteTime": {
     "end_time": "2022-03-08T11:47:17.880866Z",
     "start_time": "2022-03-08T11:47:17.866903Z"
    }
   },
   "outputs": [
    {
     "name": "stdout",
     "output_type": "stream",
     "text": [
      "[ 1 16]\n"
     ]
    }
   ],
   "source": [
    "print(ar[:, 0, 1])"
   ]
  },
  {
   "cell_type": "code",
   "execution_count": 33,
   "id": "a4582d7b",
   "metadata": {
    "ExecuteTime": {
     "end_time": "2022-03-08T11:47:17.895826Z",
     "start_time": "2022-03-08T11:47:17.881863Z"
    }
   },
   "outputs": [
    {
     "name": "stdout",
     "output_type": "stream",
     "text": [
      "[[[  0   1   2   3   4]\n",
      "  [  5   6   7   8   9]\n",
      "  [ 10  11  12  13  14]]\n",
      "\n",
      " [[ 15  16  17  18  19]\n",
      "  [ 20  21 100  23  24]\n",
      "  [ 25  26  27  28  29]]]\n"
     ]
    }
   ],
   "source": [
    "ar[1, 1, 2] = 100\n",
    "print(ar)"
   ]
  },
  {
   "cell_type": "code",
   "execution_count": 34,
   "id": "e45dd3b3",
   "metadata": {
    "ExecuteTime": {
     "end_time": "2022-03-08T11:47:17.910786Z",
     "start_time": "2022-03-08T11:47:17.896823Z"
    }
   },
   "outputs": [
    {
     "name": "stdout",
     "output_type": "stream",
     "text": [
      "[[[  0   1   2   3   4]\n",
      "  [  5   6   7   8   9]\n",
      "  [ 10  11  12  13  14]]\n",
      "\n",
      " [[ 15  16  17  18  19]\n",
      "  [100 100 100 100 100]\n",
      "  [ 25  26  27  28  29]]]\n"
     ]
    }
   ],
   "source": [
    "ar[1, 1] = 100\n",
    "print(ar)"
   ]
  },
  {
   "cell_type": "markdown",
   "id": "9f74d79f",
   "metadata": {
    "ExecuteTime": {
     "end_time": "2022-03-08T11:02:54.987975Z",
     "start_time": "2022-03-08T11:02:54.983986Z"
    }
   },
   "source": [
    "### boolean indexing"
   ]
  },
  {
   "cell_type": "markdown",
   "id": "58f9b30e",
   "metadata": {},
   "source": [
    "조건문에 의한 True, False를 활용한 indexing 기법"
   ]
  },
  {
   "cell_type": "code",
   "execution_count": 35,
   "id": "ca19b373",
   "metadata": {
    "ExecuteTime": {
     "end_time": "2022-03-08T11:47:17.925745Z",
     "start_time": "2022-03-08T11:47:17.911783Z"
    }
   },
   "outputs": [],
   "source": [
    "ar = np.arange(25).reshape(5, 5)\n",
    "data = np.array(['a', 'a', 'b', 'c', 'c'])\n",
    "where_a = data == 'a'"
   ]
  },
  {
   "cell_type": "code",
   "execution_count": 36,
   "id": "3c5bf5c9",
   "metadata": {
    "ExecuteTime": {
     "end_time": "2022-03-08T11:47:17.940705Z",
     "start_time": "2022-03-08T11:47:17.926743Z"
    }
   },
   "outputs": [
    {
     "name": "stdout",
     "output_type": "stream",
     "text": [
      "[ True  True False False False]\n",
      "True\n",
      "False\n"
     ]
    }
   ],
   "source": [
    "print(where_a)\n",
    "print(where_a.any()) # 하나라도 True면 True\n",
    "print(where_a.all()) # 모든값이 True면 True"
   ]
  },
  {
   "cell_type": "code",
   "execution_count": 37,
   "id": "60f6902d",
   "metadata": {
    "ExecuteTime": {
     "end_time": "2022-03-08T11:47:17.955665Z",
     "start_time": "2022-03-08T11:47:17.941703Z"
    }
   },
   "outputs": [
    {
     "name": "stdout",
     "output_type": "stream",
     "text": [
      "[[ 0  1  2  3  4]\n",
      " [ 5  6  7  8  9]\n",
      " [10 11 12 13 14]\n",
      " [15 16 17 18 19]\n",
      " [20 21 22 23 24]]\n"
     ]
    }
   ],
   "source": [
    "print(ar)"
   ]
  },
  {
   "cell_type": "code",
   "execution_count": 38,
   "id": "978317b3",
   "metadata": {
    "ExecuteTime": {
     "end_time": "2022-03-08T11:47:17.970625Z",
     "start_time": "2022-03-08T11:47:17.956663Z"
    }
   },
   "outputs": [
    {
     "name": "stdout",
     "output_type": "stream",
     "text": [
      "[[0 1 2 3 4]\n",
      " [5 6 7 8 9]]\n"
     ]
    }
   ],
   "source": [
    "print(ar[data == 'a'])"
   ]
  },
  {
   "cell_type": "code",
   "execution_count": 39,
   "id": "1836a15c",
   "metadata": {
    "ExecuteTime": {
     "end_time": "2022-03-08T11:47:17.985586Z",
     "start_time": "2022-03-08T11:47:17.971624Z"
    }
   },
   "outputs": [
    {
     "name": "stdout",
     "output_type": "stream",
     "text": [
      "[[ 0  1]\n",
      " [ 5  6]\n",
      " [10 11]]\n"
     ]
    }
   ],
   "source": [
    "print(ar[:3, data == 'a'])"
   ]
  },
  {
   "cell_type": "code",
   "execution_count": 40,
   "id": "14cebc83",
   "metadata": {
    "ExecuteTime": {
     "end_time": "2022-03-08T11:47:18.000545Z",
     "start_time": "2022-03-08T11:47:17.986583Z"
    }
   },
   "outputs": [
    {
     "name": "stdout",
     "output_type": "stream",
     "text": [
      "[[ 0  1  2]\n",
      " [ 5  6  7]\n",
      " [10 11 12]\n",
      " [15 16 17]\n",
      " [20 21 22]]\n"
     ]
    }
   ],
   "source": [
    "print(ar[:, data != 'c'])"
   ]
  },
  {
   "cell_type": "code",
   "execution_count": 41,
   "id": "943e4916",
   "metadata": {
    "ExecuteTime": {
     "end_time": "2022-03-08T11:47:18.015506Z",
     "start_time": "2022-03-08T11:47:18.001544Z"
    }
   },
   "outputs": [
    {
     "name": "stdout",
     "output_type": "stream",
     "text": [
      "[[ 0  2]\n",
      " [ 5  7]\n",
      " [10 12]]\n"
     ]
    }
   ],
   "source": [
    "print(ar[~(data == 'c'), :4:2])"
   ]
  },
  {
   "cell_type": "code",
   "execution_count": 42,
   "id": "223d81d5",
   "metadata": {
    "ExecuteTime": {
     "end_time": "2022-03-08T11:47:18.030465Z",
     "start_time": "2022-03-08T11:47:18.016504Z"
    }
   },
   "outputs": [
    {
     "name": "stdout",
     "output_type": "stream",
     "text": [
      "[[10 12 14]\n",
      " [15 17 19]\n",
      " [20 22 24]]\n"
     ]
    }
   ],
   "source": [
    "print(ar[(data == 'b') | (data == 'c'), ::2])"
   ]
  },
  {
   "cell_type": "code",
   "execution_count": 43,
   "id": "f2755db7",
   "metadata": {
    "ExecuteTime": {
     "end_time": "2022-03-08T11:47:18.045425Z",
     "start_time": "2022-03-08T11:47:18.031463Z"
    }
   },
   "outputs": [
    {
     "name": "stdout",
     "output_type": "stream",
     "text": [
      "[[ 0  1]\n",
      " [ 5  6]\n",
      " [10 11]\n",
      " [15 16]\n",
      " [20 21]]\n"
     ]
    }
   ],
   "source": [
    "print(ar[:, (data != 'b') & (data != 'c')])"
   ]
  },
  {
   "cell_type": "code",
   "execution_count": 44,
   "id": "a107fe08",
   "metadata": {
    "ExecuteTime": {
     "end_time": "2022-03-08T11:47:18.060386Z",
     "start_time": "2022-03-08T11:47:18.046423Z"
    }
   },
   "outputs": [
    {
     "name": "stdout",
     "output_type": "stream",
     "text": [
      "[[100 100 100 100 100]\n",
      " [100 100 100 100 100]\n",
      " [ 10  11  12  13  14]\n",
      " [ 15  16  17  18  19]\n",
      " [ 20  21  22  23  24]]\n"
     ]
    }
   ],
   "source": [
    "ar[data == 'a'] = 100\n",
    "print(ar)"
   ]
  },
  {
   "cell_type": "code",
   "execution_count": 45,
   "id": "997df7f6",
   "metadata": {
    "ExecuteTime": {
     "end_time": "2022-03-08T11:47:18.075345Z",
     "start_time": "2022-03-08T11:47:18.061383Z"
    }
   },
   "outputs": [
    {
     "name": "stdout",
     "output_type": "stream",
     "text": [
      "[[ 0  0  0  0  0]\n",
      " [ 0  0  0  0  0]\n",
      " [10 11 12 13 14]\n",
      " [15 16 17 18 19]\n",
      " [20 21 22 23 24]]\n"
     ]
    }
   ],
   "source": [
    "ar[ar >= 100] = 0\n",
    "print(ar)"
   ]
  },
  {
   "cell_type": "code",
   "execution_count": 46,
   "id": "0198d305",
   "metadata": {
    "ExecuteTime": {
     "end_time": "2022-03-08T11:47:18.090305Z",
     "start_time": "2022-03-08T11:47:18.076343Z"
    }
   },
   "outputs": [
    {
     "name": "stdout",
     "output_type": "stream",
     "text": [
      "[[ 0  0  0  0  0]\n",
      " [ 0  0  0  0  0]\n",
      " [10 10 10 10 10]\n",
      " [10 16 17 18 19]\n",
      " [20 21 22 23 24]]\n"
     ]
    }
   ],
   "source": [
    "ar[(ar >= 8) & (ar <= 15)] = 10\n",
    "print(ar)"
   ]
  },
  {
   "cell_type": "code",
   "execution_count": 47,
   "id": "ef5a9c36",
   "metadata": {
    "ExecuteTime": {
     "end_time": "2022-03-08T11:47:18.105293Z",
     "start_time": "2022-03-08T11:47:18.091303Z"
    }
   },
   "outputs": [
    {
     "name": "stdout",
     "output_type": "stream",
     "text": [
      "[[-1 -1 -1 -1 -1]\n",
      " [-1 -1 -1 -1 -1]\n",
      " [10 10 10 10 10]\n",
      " [10 16 17 18 19]\n",
      " [20 21 22 23 24]]\n"
     ]
    }
   ],
   "source": [
    "print(np.where(ar == 0, -1, ar))"
   ]
  },
  {
   "cell_type": "markdown",
   "id": "5a2d3121",
   "metadata": {},
   "source": [
    "### fancy indexing"
   ]
  },
  {
   "cell_type": "markdown",
   "id": "c6d02616",
   "metadata": {},
   "source": [
    "특정 순서로 행과 열을 선택하는 indexing 기법"
   ]
  },
  {
   "cell_type": "code",
   "execution_count": 48,
   "id": "44d7bce1",
   "metadata": {
    "ExecuteTime": {
     "end_time": "2022-03-08T11:47:18.120225Z",
     "start_time": "2022-03-08T11:47:18.106263Z"
    }
   },
   "outputs": [
    {
     "name": "stdout",
     "output_type": "stream",
     "text": [
      "[[ 0  1  2  3]\n",
      " [ 4  5  6  7]\n",
      " [ 8  9 10 11]\n",
      " [12 13 14 15]\n",
      " [16 17 18 19]\n",
      " [20 21 22 23]\n",
      " [24 25 26 27]\n",
      " [28 29 30 31]]\n"
     ]
    }
   ],
   "source": [
    "ar = np.arange(32).reshape(8, 4)\n",
    "print(ar)"
   ]
  },
  {
   "cell_type": "code",
   "execution_count": 49,
   "id": "f27dc748",
   "metadata": {
    "ExecuteTime": {
     "end_time": "2022-03-08T11:47:18.135185Z",
     "start_time": "2022-03-08T11:47:18.121223Z"
    }
   },
   "outputs": [
    {
     "name": "stdout",
     "output_type": "stream",
     "text": [
      "[[16 17 18 19]\n",
      " [12 13 14 15]\n",
      " [ 8  9 10 11]\n",
      " [24 25 26 27]]\n"
     ]
    }
   ],
   "source": [
    "print(ar[[4, 3, 2, 6]])"
   ]
  },
  {
   "cell_type": "code",
   "execution_count": 50,
   "id": "19c6e983",
   "metadata": {
    "ExecuteTime": {
     "end_time": "2022-03-08T11:47:18.150145Z",
     "start_time": "2022-03-08T11:47:18.136183Z"
    }
   },
   "outputs": [
    {
     "name": "stdout",
     "output_type": "stream",
     "text": [
      "[[20 21 22 23]\n",
      " [12 13 14 15]\n",
      " [ 4  5  6  7]]\n"
     ]
    }
   ],
   "source": [
    "print(ar[[-3, -5, -7]])"
   ]
  },
  {
   "cell_type": "code",
   "execution_count": 51,
   "id": "bb6a2683",
   "metadata": {
    "ExecuteTime": {
     "end_time": "2022-03-08T11:47:18.165105Z",
     "start_time": "2022-03-08T11:47:18.151143Z"
    }
   },
   "outputs": [
    {
     "name": "stdout",
     "output_type": "stream",
     "text": [
      "[ 4 23 29 10]\n"
     ]
    }
   ],
   "source": [
    "print(ar[[1, 5, 7, 2], [0, 3, 1, 2]])"
   ]
  },
  {
   "cell_type": "code",
   "execution_count": 52,
   "id": "ce9381dc",
   "metadata": {
    "ExecuteTime": {
     "end_time": "2022-03-08T11:47:18.180065Z",
     "start_time": "2022-03-08T11:47:18.166103Z"
    }
   },
   "outputs": [
    {
     "name": "stdout",
     "output_type": "stream",
     "text": [
      "[[ 4  7  5  6]\n",
      " [20 23 21 22]\n",
      " [28 31 29 30]\n",
      " [ 8 11  9 10]]\n"
     ]
    }
   ],
   "source": [
    "print(ar[[1, 5, 7, 2]][:, [0, 3, 1, 2]])"
   ]
  },
  {
   "cell_type": "code",
   "execution_count": 53,
   "id": "f2689b7b",
   "metadata": {
    "ExecuteTime": {
     "end_time": "2022-03-08T11:47:18.195025Z",
     "start_time": "2022-03-08T11:47:18.181063Z"
    }
   },
   "outputs": [
    {
     "name": "stdout",
     "output_type": "stream",
     "text": [
      "[[ 4  7  5  6]\n",
      " [20 23 21 22]\n",
      " [28 31 29 30]\n",
      " [ 8 11  9 10]]\n"
     ]
    }
   ],
   "source": [
    "print(ar[np.ix_([1, 5, 7, 2], [0, 3, 1, 2])])"
   ]
  },
  {
   "cell_type": "markdown",
   "id": "d2eb7161",
   "metadata": {},
   "source": [
    "### slicing"
   ]
  },
  {
   "cell_type": "code",
   "execution_count": 54,
   "id": "1c405efa",
   "metadata": {
    "ExecuteTime": {
     "end_time": "2022-03-08T11:47:18.209985Z",
     "start_time": "2022-03-08T11:47:18.196023Z"
    }
   },
   "outputs": [
    {
     "name": "stdout",
     "output_type": "stream",
     "text": [
      "[0 1 2 3 4 5 6 7 8 9]\n"
     ]
    }
   ],
   "source": [
    "ar = np.arange(10)\n",
    "print(ar[:])"
   ]
  },
  {
   "cell_type": "code",
   "execution_count": 55,
   "id": "d7141e8e",
   "metadata": {
    "ExecuteTime": {
     "end_time": "2022-03-08T11:47:18.224945Z",
     "start_time": "2022-03-08T11:47:18.210983Z"
    }
   },
   "outputs": [
    {
     "name": "stdout",
     "output_type": "stream",
     "text": [
      "[0 1 2 3]\n"
     ]
    }
   ],
   "source": [
    "print(ar[:4])"
   ]
  },
  {
   "cell_type": "code",
   "execution_count": 56,
   "id": "afa356f6",
   "metadata": {
    "ExecuteTime": {
     "end_time": "2022-03-08T11:47:18.239905Z",
     "start_time": "2022-03-08T11:47:18.225943Z"
    }
   },
   "outputs": [
    {
     "name": "stdout",
     "output_type": "stream",
     "text": [
      "[0 2 4 6 8]\n"
     ]
    }
   ],
   "source": [
    "print(ar[::2]) # index 처음부터 끝까지 2칸씩"
   ]
  },
  {
   "cell_type": "code",
   "execution_count": 57,
   "id": "a4e95db9",
   "metadata": {
    "ExecuteTime": {
     "end_time": "2022-03-08T11:47:18.254865Z",
     "start_time": "2022-03-08T11:47:18.240904Z"
    }
   },
   "outputs": [
    {
     "name": "stdout",
     "output_type": "stream",
     "text": [
      "[2 5 8]\n"
     ]
    }
   ],
   "source": [
    "print(ar[2:9:3]) # index 2부터 9전까지 3칸씩"
   ]
  },
  {
   "cell_type": "code",
   "execution_count": 58,
   "id": "97fc40d9",
   "metadata": {
    "ExecuteTime": {
     "end_time": "2022-03-08T11:47:18.269826Z",
     "start_time": "2022-03-08T11:47:18.255864Z"
    }
   },
   "outputs": [
    {
     "name": "stdout",
     "output_type": "stream",
     "text": [
      "[[ 0  1  2  3  4  5]\n",
      " [ 6  7  8  9 10 11]\n",
      " [12 13 14 15 16 17]\n",
      " [18 19 20 21 22 23]]\n"
     ]
    }
   ],
   "source": [
    "ar = np.arange(24).reshape(4, 6)\n",
    "print(ar)"
   ]
  },
  {
   "cell_type": "code",
   "execution_count": 59,
   "id": "a545ab94",
   "metadata": {
    "ExecuteTime": {
     "end_time": "2022-03-08T11:47:18.284815Z",
     "start_time": "2022-03-08T11:47:18.270823Z"
    }
   },
   "outputs": [
    {
     "name": "stdout",
     "output_type": "stream",
     "text": [
      "[[ 2  3  4  5]\n",
      " [ 8  9 10 11]\n",
      " [14 15 16 17]\n",
      " [20 21 22 23]]\n"
     ]
    }
   ],
   "source": [
    "print(ar[:, 2:]) # row는 전체, column은 index 2부터"
   ]
  },
  {
   "cell_type": "code",
   "execution_count": 60,
   "id": "3b806b29",
   "metadata": {
    "ExecuteTime": {
     "end_time": "2022-03-08T11:47:18.299746Z",
     "start_time": "2022-03-08T11:47:18.285783Z"
    }
   },
   "outputs": [
    {
     "name": "stdout",
     "output_type": "stream",
     "text": [
      "[[ 6  7  8  9 10 11]\n",
      " [12 13 14 15 16 17]]\n"
     ]
    }
   ],
   "source": [
    "print(ar[1:3]) # row는 index 1부터 3전까지, column은 전체"
   ]
  },
  {
   "cell_type": "code",
   "execution_count": 61,
   "id": "ddd8a3b3",
   "metadata": {
    "ExecuteTime": {
     "end_time": "2022-03-08T11:47:18.314705Z",
     "start_time": "2022-03-08T11:47:18.300743Z"
    }
   },
   "outputs": [
    {
     "name": "stdout",
     "output_type": "stream",
     "text": [
      "[7 8]\n"
     ]
    }
   ],
   "source": [
    "print(ar[1, 1:3]) # row는 index 1, column은 index 1부터 3전까지"
   ]
  },
  {
   "cell_type": "code",
   "execution_count": 62,
   "id": "c7a05f44",
   "metadata": {
    "ExecuteTime": {
     "end_time": "2022-03-08T11:47:18.329666Z",
     "start_time": "2022-03-08T11:47:18.315703Z"
    }
   },
   "outputs": [
    {
     "name": "stdout",
     "output_type": "stream",
     "text": [
      "[[ 1  3  5]\n",
      " [13 15 17]]\n"
     ]
    }
   ],
   "source": [
    "print(ar[::2, 1:6:2]) # row는 index 2칸씩, column은 index 1부터 6전까지 2칸씩"
   ]
  },
  {
   "cell_type": "code",
   "execution_count": 63,
   "id": "820e8c41",
   "metadata": {
    "ExecuteTime": {
     "end_time": "2022-03-08T11:47:18.344625Z",
     "start_time": "2022-03-08T11:47:18.330664Z"
    }
   },
   "outputs": [
    {
     "name": "stdout",
     "output_type": "stream",
     "text": [
      "[[ 0  1  2  3  4  5]\n",
      " [ 6 10 10 10 10 11]\n",
      " [12 10 10 10 16 17]\n",
      " [18 19 20 21 22 23]]\n"
     ]
    }
   ],
   "source": [
    "ar[1:3, 1:4] = np.ones(6).reshape(2, 3) * 10\n",
    "print(ar)"
   ]
  },
  {
   "cell_type": "code",
   "execution_count": 64,
   "id": "91da871a",
   "metadata": {
    "ExecuteTime": {
     "end_time": "2022-03-08T11:47:18.359585Z",
     "start_time": "2022-03-08T11:47:18.345623Z"
    }
   },
   "outputs": [
    {
     "name": "stdout",
     "output_type": "stream",
     "text": [
      "[[ 0  1  2  3  4  5]\n",
      " [ 6 10 10 10 10 11]\n",
      " [12 -1 -2 -3 16 17]\n",
      " [18 -4 -5 -6 22 23]]\n"
     ]
    }
   ],
   "source": [
    "ar[2:, 1:4] = np.arange(1, 7).reshape(2, 3) * -1\n",
    "print(ar)"
   ]
  },
  {
   "cell_type": "markdown",
   "id": "1ec5d039",
   "metadata": {},
   "source": [
    "## Operation Function"
   ]
  },
  {
   "cell_type": "markdown",
   "id": "f709149f",
   "metadata": {},
   "source": [
    "array 내부에 있는 각 원소들 간의 연산을 수행하는 함수"
   ]
  },
  {
   "cell_type": "markdown",
   "id": "f8834a52",
   "metadata": {},
   "source": [
    "### unary universal function (단항 유니버셜 함수)"
   ]
  },
  {
   "cell_type": "code",
   "execution_count": 65,
   "id": "1218f8bc",
   "metadata": {
    "ExecuteTime": {
     "end_time": "2022-03-08T11:47:18.374546Z",
     "start_time": "2022-03-08T11:47:18.360584Z"
    }
   },
   "outputs": [
    {
     "name": "stdout",
     "output_type": "stream",
     "text": [
      "[-8.93452208 -0.40127474  7.72435034 -7.58766299  0.54222551  0.77623141\n",
      "  5.01878679  3.38579587  1.77466074 -0.09710117]\n"
     ]
    }
   ],
   "source": [
    "x = np.random.uniform(-10, 10, 10)\n",
    "print(x)"
   ]
  },
  {
   "cell_type": "code",
   "execution_count": 66,
   "id": "96c56df9",
   "metadata": {
    "ExecuteTime": {
     "end_time": "2022-03-08T11:47:18.389507Z",
     "start_time": "2022-03-08T11:47:18.375544Z"
    }
   },
   "outputs": [
    {
     "name": "stdout",
     "output_type": "stream",
     "text": [
      "0.22014896872392278\n"
     ]
    }
   ],
   "source": [
    "print(np.mean(x)) # 평균값"
   ]
  },
  {
   "cell_type": "code",
   "execution_count": 67,
   "id": "927acff3",
   "metadata": {
    "ExecuteTime": {
     "end_time": "2022-03-08T11:47:18.404465Z",
     "start_time": "2022-03-08T11:47:18.390504Z"
    }
   },
   "outputs": [
    {
     "name": "stdout",
     "output_type": "stream",
     "text": [
      "2.2014896872392278\n"
     ]
    }
   ],
   "source": [
    "print(np.sum(x)) # 합"
   ]
  },
  {
   "cell_type": "code",
   "execution_count": 68,
   "id": "4eaf71ba",
   "metadata": {
    "ExecuteTime": {
     "end_time": "2022-03-08T11:47:18.419425Z",
     "start_time": "2022-03-08T11:47:18.411446Z"
    }
   },
   "outputs": [
    {
     "name": "stdout",
     "output_type": "stream",
     "text": [
      "4.872858463138949\n"
     ]
    }
   ],
   "source": [
    "print(np.std(x)) # 표준편차"
   ]
  },
  {
   "cell_type": "code",
   "execution_count": 69,
   "id": "603b0a72",
   "metadata": {
    "ExecuteTime": {
     "end_time": "2022-03-08T11:47:18.434385Z",
     "start_time": "2022-03-08T11:47:18.422417Z"
    }
   },
   "outputs": [
    {
     "name": "stdout",
     "output_type": "stream",
     "text": [
      "23.744749601784882\n"
     ]
    }
   ],
   "source": [
    "print(np.var(x)) # 분산값"
   ]
  },
  {
   "cell_type": "code",
   "execution_count": 70,
   "id": "b2978557",
   "metadata": {
    "ExecuteTime": {
     "end_time": "2022-03-08T11:47:18.449345Z",
     "start_time": "2022-03-08T11:47:18.435383Z"
    }
   },
   "outputs": [
    {
     "name": "stdout",
     "output_type": "stream",
     "text": [
      "-8.934522084334446\n"
     ]
    }
   ],
   "source": [
    "print(np.min(x)) # 최솟값"
   ]
  },
  {
   "cell_type": "code",
   "execution_count": 71,
   "id": "915ab407",
   "metadata": {
    "ExecuteTime": {
     "end_time": "2022-03-08T11:47:18.464305Z",
     "start_time": "2022-03-08T11:47:18.450342Z"
    }
   },
   "outputs": [
    {
     "name": "stdout",
     "output_type": "stream",
     "text": [
      "7.724350335585324\n"
     ]
    }
   ],
   "source": [
    "print(np.max(x)) # 최댓값"
   ]
  },
  {
   "cell_type": "code",
   "execution_count": 72,
   "id": "e0a04361",
   "metadata": {
    "ExecuteTime": {
     "end_time": "2022-03-08T11:47:18.479265Z",
     "start_time": "2022-03-08T11:47:18.465303Z"
    }
   },
   "outputs": [
    {
     "name": "stdout",
     "output_type": "stream",
     "text": [
      "[-8.93452208 -9.33579682 -1.61144649 -9.19910948 -8.65688397 -7.88065256\n",
      " -2.86186576  0.52393011  2.29859085  2.20148969]\n"
     ]
    }
   ],
   "source": [
    "print(np.cumsum(x)) # 누적합"
   ]
  },
  {
   "cell_type": "code",
   "execution_count": 73,
   "id": "107808a3",
   "metadata": {
    "ExecuteTime": {
     "end_time": "2022-03-08T11:47:18.494225Z",
     "start_time": "2022-03-08T11:47:18.480262Z"
    }
   },
   "outputs": [
    {
     "name": "stdout",
     "output_type": "stream",
     "text": [
      "[   -8.93452208     3.58519802    27.69332555  -210.12762132\n",
      "  -113.93655597   -88.44113387  -443.86719472 -1502.84371571\n",
      " -2667.03774693   258.97247576]\n"
     ]
    }
   ],
   "source": [
    "print(np.cumprod(x)) # 누적곱"
   ]
  },
  {
   "cell_type": "code",
   "execution_count": 74,
   "id": "567b0f6b",
   "metadata": {
    "ExecuteTime": {
     "end_time": "2022-03-08T11:47:18.509185Z",
     "start_time": "2022-03-08T11:47:18.495223Z"
    }
   },
   "outputs": [
    {
     "name": "stdout",
     "output_type": "stream",
     "text": [
      "[8.93452208 0.40127474 7.72435034 7.58766299 0.54222551 0.77623141\n",
      " 5.01878679 3.38579587 1.77466074 0.09710117]\n"
     ]
    }
   ],
   "source": [
    "print(np.abs(x)) # 절댓값"
   ]
  },
  {
   "cell_type": "code",
   "execution_count": 75,
   "id": "dfdf9dad",
   "metadata": {
    "ExecuteTime": {
     "end_time": "2022-03-08T11:47:18.524145Z",
     "start_time": "2022-03-08T11:47:18.510183Z"
    }
   },
   "outputs": [
    {
     "name": "stdout",
     "output_type": "stream",
     "text": [
      "[       nan        nan 2.77927155        nan 0.73635963 0.88103996\n",
      " 2.24026489 1.84005323 1.33216393        nan]\n"
     ]
    },
    {
     "name": "stderr",
     "output_type": "stream",
     "text": [
      "<ipython-input-75-74278b963fe1>:1: RuntimeWarning: invalid value encountered in sqrt\n",
      "  print(np.sqrt(x)) # 제곱근값\n"
     ]
    }
   ],
   "source": [
    "print(np.sqrt(x)) # 제곱근값"
   ]
  },
  {
   "cell_type": "code",
   "execution_count": 76,
   "id": "92e18edc",
   "metadata": {
    "ExecuteTime": {
     "end_time": "2022-03-08T11:47:18.539105Z",
     "start_time": "2022-03-08T11:47:18.525144Z"
    }
   },
   "outputs": [
    {
     "name": "stdout",
     "output_type": "stream",
     "text": [
      "[7.98256849e+01 1.61021417e-01 5.96655881e+01 5.75726296e+01\n",
      " 2.94008500e-01 6.02535207e-01 2.51882209e+01 1.14636137e+01\n",
      " 3.14942076e+00 9.42863649e-03]\n"
     ]
    }
   ],
   "source": [
    "print(np.square(x)) # 제곱값"
   ]
  },
  {
   "cell_type": "code",
   "execution_count": 77,
   "id": "1cd6f9d8",
   "metadata": {
    "ExecuteTime": {
     "end_time": "2022-03-08T11:47:18.554066Z",
     "start_time": "2022-03-08T11:47:18.540104Z"
    }
   },
   "outputs": [
    {
     "name": "stdout",
     "output_type": "stream",
     "text": [
      "[1.31760842e-04 6.69466107e-01 2.26278206e+03 5.06663750e-04\n",
      " 1.71983010e+00 2.17326667e+00 1.51227722e+02 2.95414946e+01\n",
      " 5.89827977e+00 9.07464197e-01]\n"
     ]
    }
   ],
   "source": [
    "print(np.exp(x)) # 지수값"
   ]
  },
  {
   "cell_type": "code",
   "execution_count": 78,
   "id": "6d054269",
   "metadata": {
    "ExecuteTime": {
     "end_time": "2022-03-08T11:47:18.569025Z",
     "start_time": "2022-03-08T11:47:18.555062Z"
    },
    "scrolled": true
   },
   "outputs": [
    {
     "name": "stdout",
     "output_type": "stream",
     "text": [
      "[        nan         nan  2.04437772         nan -0.6120733  -0.25330459\n",
      "  1.61318823  1.219589    0.57360927         nan]\n"
     ]
    },
    {
     "name": "stderr",
     "output_type": "stream",
     "text": [
      "<ipython-input-78-0392eb69e11f>:1: RuntimeWarning: invalid value encountered in log\n",
      "  print(np.log(x)) # 로그값\n"
     ]
    }
   ],
   "source": [
    "print(np.log(x)) # 로그값"
   ]
  },
  {
   "cell_type": "code",
   "execution_count": 79,
   "id": "9559bc88",
   "metadata": {
    "ExecuteTime": {
     "end_time": "2022-03-08T11:47:18.583985Z",
     "start_time": "2022-03-08T11:47:18.570022Z"
    }
   },
   "outputs": [
    {
     "name": "stdout",
     "output_type": "stream",
     "text": [
      "[-1. -1.  1. -1.  1.  1.  1.  1.  1. -1.]\n"
     ]
    }
   ],
   "source": [
    "print(np.sign(x)) # 부호 (1: 양수, -1: 음수)"
   ]
  },
  {
   "cell_type": "markdown",
   "id": "c718a240",
   "metadata": {
    "ExecuteTime": {
     "end_time": "2022-03-08T11:34:55.079164Z",
     "start_time": "2022-03-08T11:34:55.069219Z"
    }
   },
   "source": [
    "### binomial universal function (이항 유니버셜 함수)"
   ]
  },
  {
   "cell_type": "code",
   "execution_count": 80,
   "id": "37a25b99",
   "metadata": {
    "ExecuteTime": {
     "end_time": "2022-03-08T11:47:18.598945Z",
     "start_time": "2022-03-08T11:47:18.584983Z"
    }
   },
   "outputs": [
    {
     "name": "stdout",
     "output_type": "stream",
     "text": [
      "[ 8.29070607  3.17969093  9.43220641 -7.74544618  5.80451231 -1.10422785\n",
      "  0.02236428  0.89838054 -8.70644069 -9.55193349]\n"
     ]
    }
   ],
   "source": [
    "y = np.random.uniform(-10, 10, 10)\n",
    "print(y)"
   ]
  },
  {
   "cell_type": "code",
   "execution_count": 81,
   "id": "79114e36",
   "metadata": {
    "ExecuteTime": {
     "end_time": "2022-03-08T11:47:18.613905Z",
     "start_time": "2022-03-08T11:47:18.599943Z"
    }
   },
   "outputs": [
    {
     "name": "stdout",
     "output_type": "stream",
     "text": [
      "[ -0.64381602   2.77841619  17.15655675 -15.33310917   6.34673782\n",
      "  -0.32799643   5.04115108   4.28417641  -6.93177995  -9.64903465]\n"
     ]
    }
   ],
   "source": [
    "print(np.add(x, y)) # x + y"
   ]
  },
  {
   "cell_type": "code",
   "execution_count": 82,
   "id": "807bd6bc",
   "metadata": {
    "ExecuteTime": {
     "end_time": "2022-03-08T11:47:18.628866Z",
     "start_time": "2022-03-08T11:47:18.614902Z"
    }
   },
   "outputs": [
    {
     "name": "stdout",
     "output_type": "stream",
     "text": [
      "[-17.22522815  -3.58096567  -1.70785608   0.15778319  -5.26228681\n",
      "   1.88045926   4.99642251   2.48741533  10.48110144   9.45483232]\n"
     ]
    }
   ],
   "source": [
    "print(np.subtract(x, y)) # x - y"
   ]
  },
  {
   "cell_type": "code",
   "execution_count": 83,
   "id": "e5d0535d",
   "metadata": {
    "ExecuteTime": {
     "end_time": "2022-03-08T11:47:18.643825Z",
     "start_time": "2022-03-08T11:47:18.629862Z"
    }
   },
   "outputs": [
    {
     "name": "stdout",
     "output_type": "stream",
     "text": [
      "[-74.07349644  -1.27592965  72.85766677  58.76983529   3.14735463\n",
      "  -0.85713634   0.11224157   3.04173312 -15.45097852   0.92750388]\n"
     ]
    }
   ],
   "source": [
    "print(np.multiply(x, y)) # x * y"
   ]
  },
  {
   "cell_type": "code",
   "execution_count": 84,
   "id": "3801a1a7",
   "metadata": {
    "ExecuteTime": {
     "end_time": "2022-03-08T11:47:18.658785Z",
     "start_time": "2022-03-08T11:47:18.644822Z"
    }
   },
   "outputs": [
    {
     "name": "stdout",
     "output_type": "stream",
     "text": [
      "[-1.07765515e+00 -1.26199291e-01  8.18933556e-01  9.79628909e-01\n",
      "  9.34144813e-02 -7.02963084e-01  2.24410809e+02  3.76877696e+00\n",
      " -2.03833094e-01  1.01656033e-02]\n"
     ]
    }
   ],
   "source": [
    "print(np.divide(x, y)) # x / y"
   ]
  },
  {
   "cell_type": "code",
   "execution_count": 85,
   "id": "58b90aa0",
   "metadata": {
    "ExecuteTime": {
     "end_time": "2022-03-08T11:47:18.673744Z",
     "start_time": "2022-03-08T11:47:18.659783Z"
    }
   },
   "outputs": [
    {
     "name": "stdout",
     "output_type": "stream",
     "text": [
      "[ 8.29070607  3.17969093  9.43220641 -7.58766299  5.80451231  0.77623141\n",
      "  5.01878679  3.38579587  1.77466074 -0.09710117]\n"
     ]
    }
   ],
   "source": [
    "print(np.maximum(x, y)) # 두 배열의 원소 중 큰 원소값"
   ]
  },
  {
   "cell_type": "code",
   "execution_count": 86,
   "id": "39720bc5",
   "metadata": {
    "ExecuteTime": {
     "end_time": "2022-03-08T11:47:18.688704Z",
     "start_time": "2022-03-08T11:47:18.674742Z"
    }
   },
   "outputs": [
    {
     "name": "stdout",
     "output_type": "stream",
     "text": [
      "[-8.93452208 -0.40127474  7.72435034 -7.74544618  0.54222551 -1.10422785\n",
      "  0.02236428  0.89838054 -8.70644069 -9.55193349]\n"
     ]
    }
   ],
   "source": [
    "print(np.minimum(x, y)) # 두 배열의 원소 중 작은 원소값"
   ]
  },
  {
   "cell_type": "markdown",
   "id": "642d2766",
   "metadata": {},
   "source": [
    "## Axis"
   ]
  },
  {
   "cell_type": "markdown",
   "id": "da9eee0b",
   "metadata": {},
   "source": [
    "array에서 기준이 되는 dimension의 축"
   ]
  },
  {
   "cell_type": "markdown",
   "id": "faac5791",
   "metadata": {},
   "source": [
    "### operation"
   ]
  },
  {
   "cell_type": "code",
   "execution_count": 87,
   "id": "c42f8f47",
   "metadata": {
    "ExecuteTime": {
     "end_time": "2022-03-08T11:47:18.703664Z",
     "start_time": "2022-03-08T11:47:18.689702Z"
    }
   },
   "outputs": [
    {
     "name": "stdout",
     "output_type": "stream",
     "text": [
      "[[ 0  1  2  3  4]\n",
      " [ 5  6  7  8  9]\n",
      " [10 11 12 13 14]\n",
      " [15 16 17 18 19]]\n"
     ]
    }
   ],
   "source": [
    "ar = np.arange(20).reshape(4, 5)\n",
    "print(ar)"
   ]
  },
  {
   "cell_type": "code",
   "execution_count": 88,
   "id": "12f57702",
   "metadata": {
    "ExecuteTime": {
     "end_time": "2022-03-08T11:47:18.718625Z",
     "start_time": "2022-03-08T11:47:18.704662Z"
    }
   },
   "outputs": [
    {
     "name": "stdout",
     "output_type": "stream",
     "text": [
      "190\n"
     ]
    }
   ],
   "source": [
    "print(ar.sum())"
   ]
  },
  {
   "cell_type": "code",
   "execution_count": 89,
   "id": "83dc3d87",
   "metadata": {
    "ExecuteTime": {
     "end_time": "2022-03-08T11:47:18.733585Z",
     "start_time": "2022-03-08T11:47:18.719622Z"
    }
   },
   "outputs": [
    {
     "name": "stdout",
     "output_type": "stream",
     "text": [
      "[30 34 38 42 46]\n"
     ]
    }
   ],
   "source": [
    "print(ar.sum(axis=0))"
   ]
  },
  {
   "cell_type": "code",
   "execution_count": 90,
   "id": "5486fa2b",
   "metadata": {
    "ExecuteTime": {
     "end_time": "2022-03-08T11:47:18.748545Z",
     "start_time": "2022-03-08T11:47:18.734582Z"
    }
   },
   "outputs": [
    {
     "name": "stdout",
     "output_type": "stream",
     "text": [
      "[10 35 60 85]\n"
     ]
    }
   ],
   "source": [
    "print(ar.sum(axis=1))"
   ]
  },
  {
   "cell_type": "code",
   "execution_count": 91,
   "id": "0ce5d906",
   "metadata": {
    "ExecuteTime": {
     "end_time": "2022-03-08T11:47:18.763505Z",
     "start_time": "2022-03-08T11:47:18.749542Z"
    }
   },
   "outputs": [
    {
     "name": "stdout",
     "output_type": "stream",
     "text": [
      "[[[ 0  1  2  3  4]\n",
      "  [ 5  6  7  8  9]\n",
      "  [10 11 12 13 14]]\n",
      "\n",
      " [[15 16 17 18 19]\n",
      "  [20 21 22 23 24]\n",
      "  [25 26 27 28 29]]]\n"
     ]
    }
   ],
   "source": [
    "ar = np.arange(30).reshape(2, 3, 5)\n",
    "print(ar)"
   ]
  },
  {
   "cell_type": "code",
   "execution_count": 92,
   "id": "5a2a1ddd",
   "metadata": {
    "ExecuteTime": {
     "end_time": "2022-03-08T11:47:18.778464Z",
     "start_time": "2022-03-08T11:47:18.764502Z"
    }
   },
   "outputs": [
    {
     "name": "stdout",
     "output_type": "stream",
     "text": [
      "[[15 17 19 21 23]\n",
      " [25 27 29 31 33]\n",
      " [35 37 39 41 43]]\n"
     ]
    }
   ],
   "source": [
    "print(ar.sum(axis=0))"
   ]
  },
  {
   "cell_type": "code",
   "execution_count": 93,
   "id": "f2f0ddc1",
   "metadata": {
    "ExecuteTime": {
     "end_time": "2022-03-08T11:47:18.793425Z",
     "start_time": "2022-03-08T11:47:18.779462Z"
    }
   },
   "outputs": [
    {
     "name": "stdout",
     "output_type": "stream",
     "text": [
      "[[15 18 21 24 27]\n",
      " [60 63 66 69 72]]\n"
     ]
    }
   ],
   "source": [
    "print(ar.sum(axis=1))"
   ]
  },
  {
   "cell_type": "code",
   "execution_count": 94,
   "id": "31aa1753",
   "metadata": {
    "ExecuteTime": {
     "end_time": "2022-03-08T11:47:18.808385Z",
     "start_time": "2022-03-08T11:47:18.794424Z"
    },
    "scrolled": true
   },
   "outputs": [
    {
     "name": "stdout",
     "output_type": "stream",
     "text": [
      "[[ 10  35  60]\n",
      " [ 85 110 135]]\n"
     ]
    }
   ],
   "source": [
    "print(ar.sum(axis=2))"
   ]
  },
  {
   "cell_type": "markdown",
   "id": "ec090b6f",
   "metadata": {},
   "source": [
    "### transpose"
   ]
  },
  {
   "cell_type": "code",
   "execution_count": 95,
   "id": "060b3946",
   "metadata": {
    "ExecuteTime": {
     "end_time": "2022-03-08T11:47:18.823344Z",
     "start_time": "2022-03-08T11:47:18.809383Z"
    },
    "scrolled": true
   },
   "outputs": [
    {
     "name": "stdout",
     "output_type": "stream",
     "text": [
      "[[ 0  1  2  3  4]\n",
      " [ 5  6  7  8  9]\n",
      " [10 11 12 13 14]\n",
      " [15 16 17 18 19]]\n"
     ]
    }
   ],
   "source": [
    "ar = np.arange(20).reshape(4, 5)\n",
    "print(ar)"
   ]
  },
  {
   "cell_type": "code",
   "execution_count": 96,
   "id": "fe85f861",
   "metadata": {
    "ExecuteTime": {
     "end_time": "2022-03-08T11:47:18.838305Z",
     "start_time": "2022-03-08T11:47:18.824344Z"
    }
   },
   "outputs": [
    {
     "name": "stdout",
     "output_type": "stream",
     "text": [
      "[[ 0  5 10 15]\n",
      " [ 1  6 11 16]\n",
      " [ 2  7 12 17]\n",
      " [ 3  8 13 18]\n",
      " [ 4  9 14 19]]\n"
     ]
    }
   ],
   "source": [
    "print(ar.T)"
   ]
  },
  {
   "cell_type": "code",
   "execution_count": 97,
   "id": "dc07468a",
   "metadata": {
    "ExecuteTime": {
     "end_time": "2022-03-08T11:47:18.853265Z",
     "start_time": "2022-03-08T11:47:18.839303Z"
    }
   },
   "outputs": [
    {
     "name": "stdout",
     "output_type": "stream",
     "text": [
      "[[[ 0  1  2  3  4]\n",
      "  [ 5  6  7  8  9]\n",
      "  [10 11 12 13 14]]\n",
      "\n",
      " [[15 16 17 18 19]\n",
      "  [20 21 22 23 24]\n",
      "  [25 26 27 28 29]]]\n",
      "(2, 3, 5)\n"
     ]
    }
   ],
   "source": [
    "ar = np.arange(30).reshape(2, 3, 5)\n",
    "print(ar)\n",
    "print(ar.shape)"
   ]
  },
  {
   "cell_type": "code",
   "execution_count": 98,
   "id": "eb7e7eb9",
   "metadata": {
    "ExecuteTime": {
     "end_time": "2022-03-08T11:47:18.868225Z",
     "start_time": "2022-03-08T11:47:18.854262Z"
    }
   },
   "outputs": [
    {
     "name": "stdout",
     "output_type": "stream",
     "text": [
      "[[[ 0 15]\n",
      "  [ 5 20]\n",
      "  [10 25]]\n",
      "\n",
      " [[ 1 16]\n",
      "  [ 6 21]\n",
      "  [11 26]]\n",
      "\n",
      " [[ 2 17]\n",
      "  [ 7 22]\n",
      "  [12 27]]\n",
      "\n",
      " [[ 3 18]\n",
      "  [ 8 23]\n",
      "  [13 28]]\n",
      "\n",
      " [[ 4 19]\n",
      "  [ 9 24]\n",
      "  [14 29]]]\n",
      "(5, 3, 2)\n"
     ]
    }
   ],
   "source": [
    "trans1 = ar.T # 축의 순서를 반대로 바꾸어 변환\n",
    "print(trans1)\n",
    "print(trans1.shape)"
   ]
  },
  {
   "cell_type": "code",
   "execution_count": 99,
   "id": "fcd15bf3",
   "metadata": {
    "ExecuteTime": {
     "end_time": "2022-03-08T11:47:18.883184Z",
     "start_time": "2022-03-08T11:47:18.869222Z"
    }
   },
   "outputs": [
    {
     "name": "stdout",
     "output_type": "stream",
     "text": [
      "[[[ 0  1  2  3  4]\n",
      "  [15 16 17 18 19]]\n",
      "\n",
      " [[ 5  6  7  8  9]\n",
      "  [20 21 22 23 24]]\n",
      "\n",
      " [[10 11 12 13 14]\n",
      "  [25 26 27 28 29]]]\n",
      "(3, 2, 5)\n"
     ]
    }
   ],
   "source": [
    "trans2 = ar.transpose(1, 0, 2) # n차원의 배열 객체의 n개의 축 번호를 받아 순서를 지정해서 배열을 변환\n",
    "print(trans2)\n",
    "print(trans2.shape)"
   ]
  },
  {
   "cell_type": "code",
   "execution_count": 100,
   "id": "0864f5d0",
   "metadata": {
    "ExecuteTime": {
     "end_time": "2022-03-08T11:47:18.898146Z",
     "start_time": "2022-03-08T11:47:18.884184Z"
    }
   },
   "outputs": [
    {
     "name": "stdout",
     "output_type": "stream",
     "text": [
      "[[[ 0  5 10]\n",
      "  [ 1  6 11]\n",
      "  [ 2  7 12]\n",
      "  [ 3  8 13]\n",
      "  [ 4  9 14]]\n",
      "\n",
      " [[15 20 25]\n",
      "  [16 21 26]\n",
      "  [17 22 27]\n",
      "  [18 23 28]\n",
      "  [19 24 29]]]\n",
      "(2, 5, 3)\n"
     ]
    }
   ],
   "source": [
    "trans3 = ar.swapaxes(1, 2) # 2개의 축 번호를 받아 배열을 변환\n",
    "print(trans3)\n",
    "print(trans3.shape)"
   ]
  },
  {
   "cell_type": "code",
   "execution_count": 101,
   "id": "a253bed1",
   "metadata": {
    "ExecuteTime": {
     "end_time": "2022-03-08T11:47:18.913105Z",
     "start_time": "2022-03-08T11:47:18.899142Z"
    }
   },
   "outputs": [],
   "source": [
    "ar_1 = np.array([[1, 2, 3]])\n",
    "ar_2 = np.array([[2, 3, 4]])"
   ]
  },
  {
   "cell_type": "code",
   "execution_count": 102,
   "id": "7f7ccb6d",
   "metadata": {
    "ExecuteTime": {
     "end_time": "2022-03-08T11:47:18.928065Z",
     "start_time": "2022-03-08T11:47:18.914103Z"
    }
   },
   "outputs": [
    {
     "name": "stdout",
     "output_type": "stream",
     "text": [
      "[[1 2 3]\n",
      " [2 3 4]]\n"
     ]
    }
   ],
   "source": [
    "print(np.concatenate((ar_1, ar_2), axis = 0))"
   ]
  },
  {
   "cell_type": "code",
   "execution_count": 103,
   "id": "8f84886a",
   "metadata": {
    "ExecuteTime": {
     "end_time": "2022-03-08T11:47:18.943026Z",
     "start_time": "2022-03-08T11:47:18.929062Z"
    }
   },
   "outputs": [
    {
     "name": "stdout",
     "output_type": "stream",
     "text": [
      "[[1 2 3 2 3 4]]\n"
     ]
    }
   ],
   "source": [
    "print(np.concatenate((ar_1, ar_2), axis = 1))"
   ]
  },
  {
   "cell_type": "code",
   "execution_count": 104,
   "id": "ddabfb28",
   "metadata": {
    "ExecuteTime": {
     "end_time": "2022-03-08T11:47:18.957985Z",
     "start_time": "2022-03-08T11:47:18.944023Z"
    }
   },
   "outputs": [
    {
     "name": "stdout",
     "output_type": "stream",
     "text": [
      "[[1 2 3]\n",
      " [2 3 4]]\n"
     ]
    }
   ],
   "source": [
    "print(np.vstack((ar_1, ar_2))) # vertical stack"
   ]
  },
  {
   "cell_type": "code",
   "execution_count": 105,
   "id": "c1604c5a",
   "metadata": {
    "ExecuteTime": {
     "end_time": "2022-03-08T11:47:18.972945Z",
     "start_time": "2022-03-08T11:47:18.958982Z"
    }
   },
   "outputs": [
    {
     "name": "stdout",
     "output_type": "stream",
     "text": [
      "[[1 2]\n",
      " [2 3]\n",
      " [3 4]]\n"
     ]
    }
   ],
   "source": [
    "print(np.hstack((ar_1.T, ar_2.T))) # horizontal stack"
   ]
  },
  {
   "cell_type": "code",
   "execution_count": 106,
   "id": "557daa00",
   "metadata": {
    "ExecuteTime": {
     "end_time": "2022-03-08T11:47:18.987904Z",
     "start_time": "2022-03-08T11:47:18.973942Z"
    }
   },
   "outputs": [],
   "source": [
    "ar_1 = np.array([[1, 2], [3, 4]])\n",
    "ar_2 = np.array([[5, 6]])"
   ]
  },
  {
   "cell_type": "code",
   "execution_count": 107,
   "id": "05f42a91",
   "metadata": {
    "ExecuteTime": {
     "end_time": "2022-03-08T11:47:19.002865Z",
     "start_time": "2022-03-08T11:47:18.988902Z"
    }
   },
   "outputs": [
    {
     "name": "stdout",
     "output_type": "stream",
     "text": [
      "[[1 2]\n",
      " [3 4]\n",
      " [5 6]]\n"
     ]
    }
   ],
   "source": [
    "print(np.concatenate((ar_1, ar_2), axis = 0))"
   ]
  },
  {
   "cell_type": "code",
   "execution_count": 108,
   "id": "05636c92",
   "metadata": {
    "ExecuteTime": {
     "end_time": "2022-03-08T11:47:19.017825Z",
     "start_time": "2022-03-08T11:47:19.003862Z"
    }
   },
   "outputs": [
    {
     "name": "stdout",
     "output_type": "stream",
     "text": [
      "[[1 2 5]\n",
      " [3 4 6]]\n"
     ]
    }
   ],
   "source": [
    "print(np.concatenate((ar_1, ar_2.T), axis = 1))"
   ]
  }
 ],
 "metadata": {
  "kernelspec": {
   "display_name": "Python 3",
   "language": "python",
   "name": "python3"
  },
  "language_info": {
   "codemirror_mode": {
    "name": "ipython",
    "version": 3
   },
   "file_extension": ".py",
   "mimetype": "text/x-python",
   "name": "python",
   "nbconvert_exporter": "python",
   "pygments_lexer": "ipython3",
   "version": "3.8.8"
  },
  "toc": {
   "base_numbering": 1,
   "nav_menu": {},
   "number_sections": true,
   "sideBar": true,
   "skip_h1_title": true,
   "title_cell": "Table of Contents",
   "title_sidebar": "Contents",
   "toc_cell": false,
   "toc_position": {
    "height": "calc(100% - 180px)",
    "left": "10px",
    "top": "150px",
    "width": "175.085px"
   },
   "toc_section_display": true,
   "toc_window_display": true
  },
  "varInspector": {
   "cols": {
    "lenName": 16,
    "lenType": 16,
    "lenVar": 40
   },
   "kernels_config": {
    "python": {
     "delete_cmd_postfix": "",
     "delete_cmd_prefix": "del ",
     "library": "var_list.py",
     "varRefreshCmd": "print(var_dic_list())"
    },
    "r": {
     "delete_cmd_postfix": ") ",
     "delete_cmd_prefix": "rm(",
     "library": "var_list.r",
     "varRefreshCmd": "cat(var_dic_list()) "
    }
   },
   "oldHeight": 122.84136400000001,
   "position": {
    "height": "40px",
    "left": "1475.45px",
    "right": "20px",
    "top": "120px",
    "width": "250px"
   },
   "types_to_exclude": [
    "module",
    "function",
    "builtin_function_or_method",
    "instance",
    "_Feature"
   ],
   "varInspector_section_display": "none",
   "window_display": false
  }
 },
 "nbformat": 4,
 "nbformat_minor": 5
}
